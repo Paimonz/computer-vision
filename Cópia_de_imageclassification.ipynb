{
  "nbformat": 4,
  "nbformat_minor": 0,
  "metadata": {
    "colab": {
      "provenance": [],
      "authorship_tag": "ABX9TyNZiqchqQdCuKHeUdSv0GIC",
      "include_colab_link": true
    },
    "kernelspec": {
      "name": "python3",
      "display_name": "Python 3"
    },
    "language_info": {
      "name": "python"
    }
  },
  "cells": [
    {
      "cell_type": "markdown",
      "metadata": {
        "id": "view-in-github",
        "colab_type": "text"
      },
      "source": [
        "<a href=\"https://colab.research.google.com/github/Paimonz/computer-vision/blob/main/C%C3%B3pia_de_imageclassification.ipynb\" target=\"_parent\"><img src=\"https://colab.research.google.com/assets/colab-badge.svg\" alt=\"Open In Colab\"/></a>"
      ]
    },
    {
      "cell_type": "code",
      "execution_count": null,
      "metadata": {
        "colab": {
          "base_uri": "https://localhost:8080/"
        },
        "id": "oacAu5x0TNXX",
        "outputId": "1b69b178-e6d7-4598-945e-d0336acada15"
      },
      "outputs": [
        {
          "output_type": "stream",
          "name": "stdout",
          "text": [
            "TensorFlow version: 2.12.0\n",
            "TensorFlow Hub version: 0.14.0\n"
          ]
        }
      ],
      "source": [
        "import pathlib\n",
        "import matplotlib.pyplot as plt\n",
        "import numpy as np\n",
        "import tensorflow as tf\n",
        "import tensorflow_hub as hub\n",
        "print('TensorFlow version:', tf.__version__)\n",
        "print('TensorFlow Hub version:', hub.__version__)"
      ]
    },
    {
      "cell_type": "code",
      "source": [
        "model_name = 'efficientnetv2-b2-21k'"
      ],
      "metadata": {
        "id": "b9Wyt3T9WTL-"
      },
      "execution_count": null,
      "outputs": []
    },
    {
      "cell_type": "code",
      "source": [
        "models_path = {\n",
        "    \"efficientnetv2-b2-21k\": \"https://tfhub.dev/google/imagenet/efficientnet_v2_imagenet21k_b2/feature_vector/2\",\n",
        "}"
      ],
      "metadata": {
        "id": "rrx5IQ5tWicE"
      },
      "execution_count": null,
      "outputs": []
    },
    {
      "cell_type": "code",
      "source": [
        "models_pixels = {\n",
        "    \"efficientnetv2-b2-21k\": 260\n",
        "}"
      ],
      "metadata": {
        "id": "GS2YK1ZBYZUW"
      },
      "execution_count": null,
      "outputs": []
    },
    {
      "cell_type": "code",
      "source": [
        "model_path = models_path.get(model_name)\n",
        "model_path\n"
      ],
      "metadata": {
        "colab": {
          "base_uri": "https://localhost:8080/",
          "height": 36
        },
        "id": "JkLdZBgWZG_d",
        "outputId": "d78d459e-93fe-40bc-dfc1-c349b0c8b65e"
      },
      "execution_count": null,
      "outputs": [
        {
          "output_type": "execute_result",
          "data": {
            "text/plain": [
              "'https://tfhub.dev/google/imagenet/efficientnet_v2_imagenet21k_b2/feature_vector/2'"
            ],
            "application/vnd.google.colaboratory.intrinsic+json": {
              "type": "string"
            }
          },
          "metadata": {},
          "execution_count": 5
        }
      ]
    },
    {
      "cell_type": "code",
      "source": [
        "pixels = models_pixels.get(model_name)\n",
        "pixels"
      ],
      "metadata": {
        "colab": {
          "base_uri": "https://localhost:8080/"
        },
        "id": "tn_U-L3-aFqc",
        "outputId": "1aa9a5b6-1473-43e2-e638-caf86e111fdc"
      },
      "execution_count": null,
      "outputs": [
        {
          "output_type": "execute_result",
          "data": {
            "text/plain": [
              "260"
            ]
          },
          "metadata": {},
          "execution_count": 6
        }
      ]
    },
    {
      "cell_type": "code",
      "source": [
        "image_size = (pixels, pixels)\n",
        "image_size"
      ],
      "metadata": {
        "colab": {
          "base_uri": "https://localhost:8080/"
        },
        "id": "CfLw9ro5aAOd",
        "outputId": "51a8f518-d9d3-4c82-f019-8b90297adaa1"
      },
      "execution_count": null,
      "outputs": [
        {
          "output_type": "execute_result",
          "data": {
            "text/plain": [
              "(260, 260)"
            ]
          },
          "metadata": {},
          "execution_count": 7
        }
      ]
    },
    {
      "cell_type": "code",
      "source": [
        "print('Model: ', model_name)\n",
        "print('Path: ', model_path)\n",
        "print('Imagem size: ', image_size)"
      ],
      "metadata": {
        "colab": {
          "base_uri": "https://localhost:8080/"
        },
        "id": "9H5a9r2nbwTE",
        "outputId": "f914563c-521b-4dce-afaa-b3de2ac5a484"
      },
      "execution_count": null,
      "outputs": [
        {
          "output_type": "stream",
          "name": "stdout",
          "text": [
            "Model:  efficientnetv2-b2-21k\n",
            "Path:  https://tfhub.dev/google/imagenet/efficientnet_v2_imagenet21k_b2/feature_vector/2\n",
            "Imagem size:  (260, 260)\n"
          ]
        }
      ]
    },
    {
      "cell_type": "code",
      "source": [
        "data_directory = tf.keras.utils.get_file('dataset','https://github.com/Paimonz/computer-vision/tree/main/dataset')\n",
        "print(data_directory)\n",
        "\n"
      ],
      "metadata": {
        "id": "w41GpqUvaP6k",
        "colab": {
          "base_uri": "https://localhost:8080/"
        },
        "outputId": "66830f5d-f117-409c-d1f8-977444947cee"
      },
      "execution_count": null,
      "outputs": [
        {
          "output_type": "stream",
          "name": "stdout",
          "text": [
            "Downloading data from https://github.com/Paimonz/computer-vision/tree/main/dataset\n",
            "   8192/Unknown - 0s 0us/step/root/.keras/datasets/dataset\n"
          ]
        }
      ]
    },
    {
      "cell_type": "code",
      "source": [
        "train_dataset = tf.keras.preprocessing.image_dataset_from_directory(data_directory,\n",
        "                                                                    validation_split= .20,\n",
        "                                                                    subset = 'training',\n",
        "                                                                    label_mode='categorical',\n",
        "                                                                    seed = 123,\n",
        "                                                                    image_size=image_size,\n",
        "                                                                    batch_size=1)"
      ],
      "metadata": {
        "id": "H5oRGcMFokwy"
      },
      "execution_count": null,
      "outputs": []
    },
    {
      "cell_type": "code",
      "source": [
        "from keras.preprocessing.image import ImageDataGenerator"
      ],
      "metadata": {
        "id": "xpGy9_6RCB_D"
      },
      "execution_count": null,
      "outputs": []
    },
    {
      "cell_type": "code",
      "source": [
        "flow_from_directory = \"/content/drive/MyDrive/Colab Notebooks/dataset\"\n",
        "data_directory = flow_from_directory\n",
        "print(data_directory)"
      ],
      "metadata": {
        "colab": {
          "base_uri": "https://localhost:8080/"
        },
        "id": "CjJbAW3o_lFT",
        "outputId": "e46b157f-9495-418e-bc52-7b3008aa1287"
      },
      "execution_count": null,
      "outputs": [
        {
          "output_type": "stream",
          "name": "stdout",
          "text": [
            "/content/drive/MyDrive/Colab Notebooks/dataset\n"
          ]
        }
      ]
    },
    {
      "cell_type": "code",
      "source": [
        "train_dataset = tf.keras.preprocessing.image_dataset_from_directory(data_directory,\n",
        "                                                                    validation_split= .20,\n",
        "                                                                    subset = 'training',\n",
        "                                                                    label_mode='categorical',\n",
        "                                                                    seed = 123,\n",
        "                                                                    image_size=image_size,\n",
        "                                                                    batch_size=1)"
      ],
      "metadata": {
        "colab": {
          "base_uri": "https://localhost:8080/"
        },
        "id": "BHIDozoxCqki",
        "outputId": "22da32f6-da86-46b5-8610-b065931ae48d"
      },
      "execution_count": null,
      "outputs": [
        {
          "output_type": "stream",
          "name": "stdout",
          "text": [
            "Found 1050 files belonging to 3 classes.\n",
            "Using 840 files for training.\n"
          ]
        }
      ]
    }
  ]
}