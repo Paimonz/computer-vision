{
  "nbformat": 4,
  "nbformat_minor": 0,
  "metadata": {
    "colab": {
      "provenance": [],
      "name": "ImageClassification.ipynb",
      "mount_file_id": "https://github.com/Paimonz/computer-vision/blob/main/ImageClassification.ipynb",
      "authorship_tag": "ABX9TyMK2ATOziKakC5H9HmlvcMA",
      "include_colab_link": true
    },
    "kernelspec": {
      "name": "python3",
      "display_name": "Python 3"
    },
    "language_info": {
      "name": "python"
    }
  },
  "cells": [
    {
      "cell_type": "markdown",
      "metadata": {
        "id": "view-in-github",
        "colab_type": "text"
      },
      "source": [
        "<a href=\"https://colab.research.google.com/github/Paimonz/computer-vision/blob/main/ImageClassification.ipynb\" target=\"_parent\"><img src=\"https://colab.research.google.com/assets/colab-badge.svg\" alt=\"Open In Colab\"/></a>"
      ]
    },
    {
      "cell_type": "code",
      "execution_count": 33,
      "metadata": {
        "colab": {
          "base_uri": "https://localhost:8080/"
        },
        "id": "oacAu5x0TNXX",
        "outputId": "1989751b-65be-4dfa-ca0b-98b10cf19805"
      },
      "outputs": [
        {
          "output_type": "stream",
          "name": "stdout",
          "text": [
            "TensorFlow version: 2.12.0\n",
            "TensorFlow Hub version: 0.14.0\n"
          ]
        }
      ],
      "source": [
        "                                                           #Saiba mais em:\n",
        "\n",
        "import matplotlib.pyplot as plt                            #https://matplotlib.org/3.5.3/api/_as_gen/matplotlib.pyplot.html\n",
        "import numpy as np                                         #https://numpy.org/doc/\n",
        "import tensorflow as tf                                    #https://www.tensorflow.org/api_docs/python/tf\n",
        "import tensorflow_hub as hub                               #https://www.tensorflow.org/hub?hl=pt-br\n",
        "from keras.preprocessing.image import ImageDataGenerator   #https://www.tensorflow.org/api_docs/python/tf/keras/preprocessing/image/ImageDataGenerator\n",
        "\n",
        "print('TensorFlow version:', tf.__version__)\n",
        "print('TensorFlow Hub version:', hub.__version__)"
      ]
    },
    {
      "cell_type": "code",
      "source": [
        "model_name = 'efficientnetv2-b2-21k'"
      ],
      "metadata": {
        "id": "b9Wyt3T9WTL-"
      },
      "execution_count": 2,
      "outputs": []
    },
    {
      "cell_type": "code",
      "source": [
        "models_path = {\n",
        "    \"efficientnetv2-b2-21k\": \"https://tfhub.dev/google/imagenet/efficientnet_v2_imagenet21k_b2/feature_vector/2\",\n",
        "}"
      ],
      "metadata": {
        "id": "rrx5IQ5tWicE"
      },
      "execution_count": 3,
      "outputs": []
    },
    {
      "cell_type": "code",
      "source": [
        "models_pixels = {\n",
        "    \"efficientnetv2-b2-21k\": 260\n",
        "}"
      ],
      "metadata": {
        "id": "GS2YK1ZBYZUW"
      },
      "execution_count": 4,
      "outputs": []
    },
    {
      "cell_type": "code",
      "source": [
        "model_path = models_path.get(model_name)\n",
        "model_path\n"
      ],
      "metadata": {
        "colab": {
          "base_uri": "https://localhost:8080/",
          "height": 36
        },
        "id": "JkLdZBgWZG_d",
        "outputId": "28089f81-69b5-4c27-b98d-ccdc58054b17"
      },
      "execution_count": 5,
      "outputs": [
        {
          "output_type": "execute_result",
          "data": {
            "text/plain": [
              "'https://tfhub.dev/google/imagenet/efficientnet_v2_imagenet21k_b2/feature_vector/2'"
            ],
            "application/vnd.google.colaboratory.intrinsic+json": {
              "type": "string"
            }
          },
          "metadata": {},
          "execution_count": 5
        }
      ]
    },
    {
      "cell_type": "code",
      "source": [
        "pixels = models_pixels.get(model_name)\n",
        "pixels"
      ],
      "metadata": {
        "colab": {
          "base_uri": "https://localhost:8080/"
        },
        "id": "tn_U-L3-aFqc",
        "outputId": "52a975b6-6db0-4d30-b106-663b3b48ed3d"
      },
      "execution_count": 6,
      "outputs": [
        {
          "output_type": "execute_result",
          "data": {
            "text/plain": [
              "260"
            ]
          },
          "metadata": {},
          "execution_count": 6
        }
      ]
    },
    {
      "cell_type": "code",
      "source": [
        "image_size = (pixels, pixels)\n",
        "image_size"
      ],
      "metadata": {
        "colab": {
          "base_uri": "https://localhost:8080/"
        },
        "id": "CfLw9ro5aAOd",
        "outputId": "dc6e6149-d8da-475c-ff28-8ea2afbb090b"
      },
      "execution_count": 7,
      "outputs": [
        {
          "output_type": "execute_result",
          "data": {
            "text/plain": [
              "(260, 260)"
            ]
          },
          "metadata": {},
          "execution_count": 7
        }
      ]
    },
    {
      "cell_type": "code",
      "source": [
        "print('Model: ', model_name)\n",
        "print('Path: ', model_path)\n",
        "print('Imagem size: ', image_size)"
      ],
      "metadata": {
        "colab": {
          "base_uri": "https://localhost:8080/"
        },
        "id": "9H5a9r2nbwTE",
        "outputId": "9f2b2e20-d5e5-461e-d764-6206905ef0a4"
      },
      "execution_count": 8,
      "outputs": [
        {
          "output_type": "stream",
          "name": "stdout",
          "text": [
            "Model:  efficientnetv2-b2-21k\n",
            "Path:  https://tfhub.dev/google/imagenet/efficientnet_v2_imagenet21k_b2/feature_vector/2\n",
            "Imagem size:  (260, 260)\n"
          ]
        }
      ]
    },
    {
      "cell_type": "code",
      "source": [
        "from keras.preprocessing.image import ImageDataGenerator"
      ],
      "metadata": {
        "id": "xpGy9_6RCB_D"
      },
      "execution_count": 9,
      "outputs": []
    },
    {
      "cell_type": "code",
      "source": [
        "flow_from_directory = \"/content/drive/MyDrive/Colab Notebooks/dataset\"\n",
        "data_directory = flow_from_directory\n",
        "print(data_directory)"
      ],
      "metadata": {
        "colab": {
          "base_uri": "https://localhost:8080/"
        },
        "id": "CjJbAW3o_lFT",
        "outputId": "7c87c2df-ea96-477c-d0b5-2326ff46e23a"
      },
      "execution_count": 12,
      "outputs": [
        {
          "output_type": "stream",
          "name": "stdout",
          "text": [
            "/content/drive/MyDrive/Colab Notebooks/dataset\n"
          ]
        }
      ]
    },
    {
      "cell_type": "code",
      "source": [
        "train_dataset = tf.keras.preprocessing.image_dataset_from_directory(data_directory,\n",
        "                                                                    validation_split= .20,\n",
        "                                                                    subset = 'training',\n",
        "                                                                    label_mode='categorical',\n",
        "                                                                    seed = 123,\n",
        "                                                                    image_size=image_size,\n",
        "                                                                    batch_size=1)"
      ],
      "metadata": {
        "colab": {
          "base_uri": "https://localhost:8080/"
        },
        "id": "BHIDozoxCqki",
        "outputId": "fc3bedda-38ca-4316-f114-8a94137cc651"
      },
      "execution_count": 13,
      "outputs": [
        {
          "output_type": "stream",
          "name": "stdout",
          "text": [
            "Found 1050 files belonging to 2 classes.\n",
            "Using 840 files for training.\n"
          ]
        }
      ]
    },
    {
      "cell_type": "code",
      "source": [
        "train_dataset.class_names"
      ],
      "metadata": {
        "colab": {
          "base_uri": "https://localhost:8080/"
        },
        "id": "XmmCwjL1FWm1",
        "outputId": "6e4857f0-67cc-46c6-9f48-0f0d78181b78"
      },
      "execution_count": 14,
      "outputs": [
        {
          "output_type": "execute_result",
          "data": {
            "text/plain": [
              "['cataract', 'normal']"
            ]
          },
          "metadata": {},
          "execution_count": 14
        }
      ]
    },
    {
      "cell_type": "code",
      "source": [
        "classes = train_dataset.class_names\n",
        "classes"
      ],
      "metadata": {
        "colab": {
          "base_uri": "https://localhost:8080/"
        },
        "id": "hBSJ21aSFr7K",
        "outputId": "c214e453-0ed2-4530-83f0-ca19755003a3"
      },
      "execution_count": 15,
      "outputs": [
        {
          "output_type": "execute_result",
          "data": {
            "text/plain": [
              "['cataract', 'normal']"
            ]
          },
          "metadata": {},
          "execution_count": 15
        }
      ]
    },
    {
      "cell_type": "code",
      "source": [
        "training_size = train_dataset.cardinality().numpy()\n",
        "training_size"
      ],
      "metadata": {
        "colab": {
          "base_uri": "https://localhost:8080/"
        },
        "id": "ftzcCd8FGAZc",
        "outputId": "c95d075a-90d4-47a4-a230-d96b704c5aa3"
      },
      "execution_count": 16,
      "outputs": [
        {
          "output_type": "execute_result",
          "data": {
            "text/plain": [
              "840"
            ]
          },
          "metadata": {},
          "execution_count": 16
        }
      ]
    },
    {
      "cell_type": "code",
      "source": [
        "BATCH_SIZE = 16\n"
      ],
      "metadata": {
        "id": "h_gLIlALGbNL"
      },
      "execution_count": 17,
      "outputs": []
    },
    {
      "cell_type": "code",
      "source": [
        "train_dataset = train_dataset.unbatch().batch(BATCH_SIZE)\n",
        "train_dataset"
      ],
      "metadata": {
        "colab": {
          "base_uri": "https://localhost:8080/"
        },
        "id": "Ki3giSx0GlYz",
        "outputId": "ebf16f73-d736-49f4-fe49-026f20a62fdc"
      },
      "execution_count": 18,
      "outputs": [
        {
          "output_type": "execute_result",
          "data": {
            "text/plain": [
              "<_BatchDataset element_spec=(TensorSpec(shape=(None, 260, 260, 3), dtype=tf.float32, name=None), TensorSpec(shape=(None, 2), dtype=tf.float32, name=None))>"
            ]
          },
          "metadata": {},
          "execution_count": 18
        }
      ]
    },
    {
      "cell_type": "code",
      "source": [
        "840/16\n"
      ],
      "metadata": {
        "colab": {
          "base_uri": "https://localhost:8080/"
        },
        "id": "uUzbRQoCHjD7",
        "outputId": "59949f34-3e3d-4d37-a1ff-07378870f77c"
      },
      "execution_count": 21,
      "outputs": [
        {
          "output_type": "execute_result",
          "data": {
            "text/plain": [
              "52.5"
            ]
          },
          "metadata": {},
          "execution_count": 21
        }
      ]
    },
    {
      "cell_type": "code",
      "source": [
        "train_dataset = train_dataset.repeat()"
      ],
      "metadata": {
        "id": "SNIDsQJlH5yy"
      },
      "execution_count": 20,
      "outputs": []
    },
    {
      "cell_type": "code",
      "source": [
        "from multiprocessing.process import parent_process\n",
        "normalization_layer = tf.keras.layers.Rescaling(1. /255)\n",
        "pre_processing = tf.keras.Sequential([normalization_layer])\n",
        "pre_processing.add(tf.keras.layers.RandomRotation(40))\n",
        "pre_processing.add(tf.keras.layers.RandomTranslation(0, 0.2))\n",
        "pre_processing.add(tf.keras.layers.RandomTranslation(0.2, 0))\n",
        "pre_processing.add(tf.keras.layers.RandomZoom(0.2, 0.2))\n",
        "pre_processing.add(tf.keras.layers.RandomFlip(mode = 'horizontal'))"
      ],
      "metadata": {
        "id": "RNOszHEMITTK"
      },
      "execution_count": 22,
      "outputs": []
    },
    {
      "cell_type": "code",
      "source": [
        "train_dataset = train_dataset.map(lambda images, labels: (pre_processing(images), labels))\n",
        "train_dataset"
      ],
      "metadata": {
        "colab": {
          "base_uri": "https://localhost:8080/"
        },
        "id": "b08JoMZwKQ-4",
        "outputId": "d9acb4b6-9092-43e8-e47d-90e3cd15ab00"
      },
      "execution_count": 23,
      "outputs": [
        {
          "output_type": "execute_result",
          "data": {
            "text/plain": [
              "<_MapDataset element_spec=(TensorSpec(shape=(None, 260, 260, 3), dtype=tf.float32, name=None), TensorSpec(shape=(None, 2), dtype=tf.float32, name=None))>"
            ]
          },
          "metadata": {},
          "execution_count": 23
        }
      ]
    },
    {
      "cell_type": "code",
      "source": [
        "test_dataset = tf.keras.preprocessing.image_dataset_from_directory(data_directory,\n",
        "                                                                   validation_split= .20,\n",
        "                                                                   subset ='validation',\n",
        "                                                                   label_mode ='categorical',\n",
        "                                                                   seed = 123,\n",
        "                                                                   image_size = image_size,\n",
        "                                                                   batch_size = 1)"
      ],
      "metadata": {
        "id": "KzoWG6q2LnLh"
      },
      "execution_count": null,
      "outputs": []
    },
    {
      "cell_type": "code",
      "source": [
        "test_size = test_dataset.cardinality().numpy()\n",
        "test_size"
      ],
      "metadata": {
        "colab": {
          "base_uri": "https://localhost:8080/"
        },
        "id": "X0lPQpzVMxMx",
        "outputId": "6ee652f2-c5a5-4a3c-8fcb-d559a4b82038"
      },
      "execution_count": 25,
      "outputs": [
        {
          "output_type": "execute_result",
          "data": {
            "text/plain": [
              "210"
            ]
          },
          "metadata": {},
          "execution_count": 25
        }
      ]
    },
    {
      "cell_type": "code",
      "source": [
        "test_dataset = test_dataset.unbatch().batch(BATCH_SIZE)\n",
        "test_dataset = test_dataset.map(lambda images, labels: (pre_processing(images), labels))"
      ],
      "metadata": {
        "id": "V-advWyENUxD"
      },
      "execution_count": 26,
      "outputs": []
    },
    {
      "cell_type": "code",
      "source": [
        "model = tf.keras.Sequential([\n",
        "                              tf.keras.layers.InputLayer(input_shape= image_size + (3,)),\n",
        "                              hub.KerasLayer(model_path, trainable = False),\n",
        "                              tf.keras.layers.Dropout(rate = 0.2),\n",
        "                              tf.keras.layers.Dense(len(classes))\n",
        "])"
      ],
      "metadata": {
        "id": "UwnRGQnHaE1W"
      },
      "execution_count": 27,
      "outputs": []
    },
    {
      "cell_type": "code",
      "source": [
        "(None, ) + image_size + (3, )"
      ],
      "metadata": {
        "colab": {
          "base_uri": "https://localhost:8080/"
        },
        "id": "NH7WmQ-Hc8Yb",
        "outputId": "bea74bc7-cf73-4e35-d472-39350589dd32"
      },
      "execution_count": 28,
      "outputs": [
        {
          "output_type": "execute_result",
          "data": {
            "text/plain": [
              "(None, 260, 260, 3)"
            ]
          },
          "metadata": {},
          "execution_count": 28
        }
      ]
    },
    {
      "cell_type": "code",
      "source": [
        "model.build((None, )+ image_size + (3,))\n",
        "model.summary()"
      ],
      "metadata": {
        "colab": {
          "base_uri": "https://localhost:8080/"
        },
        "id": "jHclCDWIbQpj",
        "outputId": "018d3e25-5475-4377-b138-4db57d798d60"
      },
      "execution_count": 29,
      "outputs": [
        {
          "output_type": "stream",
          "name": "stdout",
          "text": [
            "Model: \"sequential_1\"\n",
            "_________________________________________________________________\n",
            " Layer (type)                Output Shape              Param #   \n",
            "=================================================================\n",
            " keras_layer (KerasLayer)    (None, 1408)              8769374   \n",
            "                                                                 \n",
            " dropout (Dropout)           (None, 1408)              0         \n",
            "                                                                 \n",
            " dense (Dense)               (None, 2)                 2818      \n",
            "                                                                 \n",
            "=================================================================\n",
            "Total params: 8,772,192\n",
            "Trainable params: 2,818\n",
            "Non-trainable params: 8,769,374\n",
            "_________________________________________________________________\n"
          ]
        }
      ]
    },
    {
      "cell_type": "code",
      "source": [
        "model.compile(optimizer='adam', loss=tf.keras.losses.CategoricalCrossentropy(from_logits=True), metrics = 'accuracy')"
      ],
      "metadata": {
        "id": "UslZiLBhcQJz"
      },
      "execution_count": 30,
      "outputs": []
    },
    {
      "cell_type": "code",
      "source": [
        "steps_per_epoch = training_size // BATCH_SIZE\n",
        "validation_steps = test_size // BATCH_SIZE\n",
        "print(steps_per_epoch, validation_steps)"
      ],
      "metadata": {
        "colab": {
          "base_uri": "https://localhost:8080/"
        },
        "id": "bOaUfPmMfszz",
        "outputId": "ebb12627-f65f-454d-9566-3bdb1d266aff"
      },
      "execution_count": 31,
      "outputs": [
        {
          "output_type": "stream",
          "name": "stdout",
          "text": [
            "52 13\n"
          ]
        }
      ]
    },
    {
      "cell_type": "code",
      "source": [
        "hist = model.fit(train_dataset, epochs= 15, steps_per_epoch = steps_per_epoch,\n",
        "                 validation_data = test_dataset, validation_steps = validation_steps).history"
      ],
      "metadata": {
        "colab": {
          "base_uri": "https://localhost:8080/"
        },
        "id": "Dz19yiGQgcLF",
        "outputId": "728b2392-f101-41aa-8b71-7dca12b9996d"
      },
      "execution_count": 32,
      "outputs": [
        {
          "output_type": "stream",
          "name": "stdout",
          "text": [
            "Epoch 1/15\n",
            "52/52 [==============================] - 198s 3s/step - loss: 0.5342 - accuracy: 0.8161 - val_loss: 0.1304 - val_accuracy: 0.9423\n",
            "Epoch 2/15\n",
            "52/52 [==============================] - 158s 3s/step - loss: 0.2289 - accuracy: 0.9017 - val_loss: 0.1239 - val_accuracy: 0.9712\n",
            "Epoch 3/15\n",
            "52/52 [==============================] - 154s 3s/step - loss: 0.1830 - accuracy: 0.9381 - val_loss: 0.1593 - val_accuracy: 0.9423\n",
            "Epoch 4/15\n",
            "52/52 [==============================] - 145s 3s/step - loss: 0.1673 - accuracy: 0.9308 - val_loss: 0.1108 - val_accuracy: 0.9423\n",
            "Epoch 5/15\n",
            "52/52 [==============================] - 156s 3s/step - loss: 0.1381 - accuracy: 0.9551 - val_loss: 0.1275 - val_accuracy: 0.9471\n",
            "Epoch 6/15\n",
            "52/52 [==============================] - 144s 3s/step - loss: 0.1401 - accuracy: 0.9417 - val_loss: 0.0857 - val_accuracy: 0.9712\n",
            "Epoch 7/15\n",
            "52/52 [==============================] - 157s 3s/step - loss: 0.1505 - accuracy: 0.9393 - val_loss: 0.0922 - val_accuracy: 0.9615\n",
            "Epoch 8/15\n",
            "52/52 [==============================] - 142s 3s/step - loss: 0.1326 - accuracy: 0.9490 - val_loss: 0.0900 - val_accuracy: 0.9808\n",
            "Epoch 9/15\n",
            "52/52 [==============================] - 171s 3s/step - loss: 0.0926 - accuracy: 0.9648 - val_loss: 0.0850 - val_accuracy: 0.9712\n",
            "Epoch 10/15\n",
            "52/52 [==============================] - 145s 3s/step - loss: 0.1602 - accuracy: 0.9490 - val_loss: 0.0599 - val_accuracy: 0.9712\n",
            "Epoch 11/15\n",
            "52/52 [==============================] - 157s 3s/step - loss: 0.1306 - accuracy: 0.9466 - val_loss: 0.0752 - val_accuracy: 0.9712\n",
            "Epoch 12/15\n",
            "52/52 [==============================] - 152s 3s/step - loss: 0.0976 - accuracy: 0.9721 - val_loss: 0.0923 - val_accuracy: 0.9663\n",
            "Epoch 13/15\n",
            "52/52 [==============================] - 157s 3s/step - loss: 0.1092 - accuracy: 0.9624 - val_loss: 0.0996 - val_accuracy: 0.9712\n",
            "Epoch 14/15\n",
            "52/52 [==============================] - 155s 3s/step - loss: 0.0917 - accuracy: 0.9648 - val_loss: 0.0805 - val_accuracy: 0.9615\n",
            "Epoch 15/15\n",
            "52/52 [==============================] - 144s 3s/step - loss: 0.0959 - accuracy: 0.9551 - val_loss: 0.1304 - val_accuracy: 0.9615\n"
          ]
        }
      ]
    },
    {
      "cell_type": "code",
      "source": [
        "plt.figure()\n",
        "plt.ylabel('Loss (training and validation)')\n",
        "plt.xlabel('Steps')\n",
        "plt.plot(hist['loss'], label = 'training')\n",
        "plt.plot(hist['val_loss'], label = 'testing')\n",
        "plt.legend();"
      ],
      "metadata": {
        "colab": {
          "base_uri": "https://localhost:8080/",
          "height": 449
        },
        "id": "RHyK4C7vllt-",
        "outputId": "b66b9724-e1ef-4351-afee-02ac68da2fcc"
      },
      "execution_count": 34,
      "outputs": [
        {
          "output_type": "display_data",
          "data": {
            "text/plain": [
              "<Figure size 640x480 with 1 Axes>"
            ],
            "image/png": "[encoded data removed]"
          },
          "metadata": {}
        }
      ]
    },
    {
      "cell_type": "code",
      "source": [
        "plt.figure()\n",
        "plt.ylabel('Accuracy (training and validation)')\n",
        "plt.xlabel('Steps')\n",
        "plt.plot(hist['accuracy'], label = 'training')\n",
        "plt.plot(hist['val_accuracy'], label = 'testing')\n",
        "plt.legend();"
      ],
      "metadata": {
        "colab": {
          "base_uri": "https://localhost:8080/",
          "height": 449
        },
        "id": "I3I4V3ipnj5N",
        "outputId": "b2e2875c-5f9e-498e-c30e-9d0405bc790f"
      },
      "execution_count": 35,
      "outputs": [
        {
          "output_type": "display_data",
          "data": {
            "text/plain": [
              "<Figure size 640x480 with 1 Axes>"
            ],
            "image/png": "[encoded data removed]"
          },
          "metadata": {}
        }
      ]
    },
    {
      "cell_type": "code",
      "source": [
        "x, y = next(iter(test_dataset))\n"
      ],
      "metadata": {
        "id": "I4t4QJB4xpH2"
      },
      "execution_count": 36,
      "outputs": []
    },
    {
      "cell_type": "code",
      "source": [
        "x"
      ],
      "metadata": {
        "id": "FDrL2oegyJ0k",
        "outputId": "2119575c-c10c-4a6d-8132-10ed0dacc081",
        "colab": {
          "base_uri": "https://localhost:8080/"
        }
      },
      "execution_count": 37,
      "outputs": [
        {
          "output_type": "execute_result",
          "data": {
            "text/plain": [
              "<tf.Tensor: shape=(16, 260, 260, 3), dtype=float32, numpy=\n",
              "array([[[[5.55368721e-01, 3.74398410e-01, 2.43082821e-01],\n",
              "         [5.53983271e-01, 3.73687565e-01, 2.41442323e-01],\n",
              "         [5.48973560e-01, 3.71700019e-01, 2.37506032e-01],\n",
              "         ...,\n",
              "         [5.09032190e-01, 3.72799724e-01, 2.64125228e-01],\n",
              "         [5.02618074e-01, 3.67168307e-01, 2.60055006e-01],\n",
              "         [5.06353140e-01, 3.70740891e-01, 2.64353514e-01]],\n",
              "\n",
              "        [[5.48089683e-01, 3.70696604e-01, 2.40318686e-01],\n",
              "         [5.48379481e-01, 3.72092545e-01, 2.40577042e-01],\n",
              "         [5.44457197e-01, 3.71529758e-01, 2.37682611e-01],\n",
              "         ...,\n",
              "         [5.12992382e-01, 3.75155836e-01, 2.68975675e-01],\n",
              "         [5.04573405e-01, 3.66770804e-01, 2.62134075e-01],\n",
              "         [5.03046095e-01, 3.64920378e-01, 2.60775328e-01]],\n",
              "\n",
              "        [[5.45076787e-01, 3.67722392e-01, 2.40077466e-01],\n",
              "         [5.45540750e-01, 3.71932358e-01, 2.41405800e-01],\n",
              "         [5.43599486e-01, 3.73543859e-01, 2.40326390e-01],\n",
              "         ...,\n",
              "         [5.12622952e-01, 3.72708589e-01, 2.69075066e-01],\n",
              "         [5.05690277e-01, 3.65724146e-01, 2.62832701e-01],\n",
              "         [5.02700269e-01, 3.63278121e-01, 2.60200977e-01]],\n",
              "\n",
              "        ...,\n",
              "\n",
              "        [[1.81603912e-06, 1.27808133e-03, 1.35530514e-04],\n",
              "         [0.00000000e+00, 1.87726156e-03, 5.12387371e-04],\n",
              "         [1.90898263e-07, 1.13953394e-03, 4.45259648e-04],\n",
              "         ...,\n",
              "         [0.00000000e+00, 0.00000000e+00, 0.00000000e+00],\n",
              "         [0.00000000e+00, 0.00000000e+00, 0.00000000e+00],\n",
              "         [0.00000000e+00, 0.00000000e+00, 0.00000000e+00]],\n",
              "\n",
              "        [[7.84938456e-05, 1.62104890e-03, 4.92208055e-04],\n",
              "         [3.19741375e-05, 2.81298975e-03, 6.35426026e-04],\n",
              "         [1.05382946e-06, 2.39936425e-03, 3.93215538e-04],\n",
              "         ...,\n",
              "         [0.00000000e+00, 0.00000000e+00, 0.00000000e+00],\n",
              "         [0.00000000e+00, 0.00000000e+00, 0.00000000e+00],\n",
              "         [0.00000000e+00, 0.00000000e+00, 0.00000000e+00]],\n",
              "\n",
              "        [[1.79773953e-03, 3.71312560e-03, 2.72921938e-03],\n",
              "         [8.21633614e-04, 4.18311451e-03, 1.63563038e-03],\n",
              "         [4.02741216e-06, 3.63394991e-03, 7.23212579e-05],\n",
              "         ...,\n",
              "         [0.00000000e+00, 0.00000000e+00, 0.00000000e+00],\n",
              "         [0.00000000e+00, 0.00000000e+00, 0.00000000e+00],\n",
              "         [0.00000000e+00, 0.00000000e+00, 0.00000000e+00]]],\n",
              "\n",
              "\n",
              "       [[[1.87061913e-03, 9.96471848e-04, 4.67599928e-03],\n",
              "         [1.04984576e-02, 5.65511920e-03, 8.66825972e-03],\n",
              "         [3.88382636e-02, 2.36179996e-02, 2.09366437e-02],\n",
              "         ...,\n",
              "         [0.00000000e+00, 0.00000000e+00, 0.00000000e+00],\n",
              "         [0.00000000e+00, 0.00000000e+00, 0.00000000e+00],\n",
              "         [0.00000000e+00, 0.00000000e+00, 0.00000000e+00]],\n",
              "\n",
              "        [[7.97122426e-04, 5.32035774e-04, 3.78107582e-03],\n",
              "         [1.60373480e-03, 9.63395927e-04, 4.69909795e-03],\n",
              "         [4.54427255e-03, 1.87168759e-03, 3.49091203e-03],\n",
              "         ...,\n",
              "         [0.00000000e+00, 0.00000000e+00, 0.00000000e+00],\n",
              "         [0.00000000e+00, 0.00000000e+00, 0.00000000e+00],\n",
              "         [0.00000000e+00, 0.00000000e+00, 0.00000000e+00]],\n",
              "\n",
              "        [[5.34650113e-04, 1.20753935e-03, 9.75591422e-04],\n",
              "         [2.60091183e-04, 1.67353312e-03, 1.12735701e-03],\n",
              "         [4.88192047e-04, 2.43762298e-03, 6.05505833e-04],\n",
              "         ...,\n",
              "         [0.00000000e+00, 0.00000000e+00, 0.00000000e+00],\n",
              "         [0.00000000e+00, 0.00000000e+00, 0.00000000e+00],\n",
              "         [0.00000000e+00, 0.00000000e+00, 0.00000000e+00]],\n",
              "\n",
              "        ...,\n",
              "\n",
              "        [[4.41388756e-01, 3.24237615e-01, 2.15066552e-01],\n",
              "         [4.38637555e-01, 3.18788052e-01, 2.04274356e-01],\n",
              "         [4.46156800e-01, 3.18493128e-01, 2.06106931e-01],\n",
              "         ...,\n",
              "         [0.00000000e+00, 0.00000000e+00, 0.00000000e+00],\n",
              "         [0.00000000e+00, 0.00000000e+00, 0.00000000e+00],\n",
              "         [0.00000000e+00, 0.00000000e+00, 0.00000000e+00]],\n",
              "\n",
              "        [[4.40792561e-01, 3.17743063e-01, 2.19497800e-01],\n",
              "         [4.40403789e-01, 3.16160858e-01, 2.06815287e-01],\n",
              "         [4.47562605e-01, 3.19421023e-01, 2.07403123e-01],\n",
              "         ...,\n",
              "         [0.00000000e+00, 0.00000000e+00, 0.00000000e+00],\n",
              "         [0.00000000e+00, 0.00000000e+00, 0.00000000e+00],\n",
              "         [0.00000000e+00, 0.00000000e+00, 0.00000000e+00]],\n",
              "\n",
              "        [[4.39007938e-01, 3.14997256e-01, 2.20338732e-01],\n",
              "         [4.43545133e-01, 3.20286274e-01, 2.12267965e-01],\n",
              "         [4.51169699e-01, 3.26843560e-01, 2.15431154e-01],\n",
              "         ...,\n",
              "         [0.00000000e+00, 0.00000000e+00, 0.00000000e+00],\n",
              "         [0.00000000e+00, 0.00000000e+00, 0.00000000e+00],\n",
              "         [0.00000000e+00, 0.00000000e+00, 0.00000000e+00]]],\n",
              "\n",
              "\n",
              "       [[[3.04072678e-01, 1.77675709e-01, 1.29196411e-02],\n",
              "         [3.00852954e-01, 1.72744021e-01, 6.87897345e-03],\n",
              "         [2.96449304e-01, 1.67433813e-01, 4.41403966e-03],\n",
              "         ...,\n",
              "         [2.23814532e-01, 1.78413138e-01, 1.99784711e-02],\n",
              "         [2.20284060e-01, 1.68799132e-01, 1.27378199e-02],\n",
              "         [2.14944869e-01, 1.62043676e-01, 1.39236264e-02]],\n",
              "\n",
              "        [[3.12843502e-01, 1.76065192e-01, 1.13336649e-02],\n",
              "         [3.08283478e-01, 1.73635304e-01, 6.09389506e-03],\n",
              "         [3.01694095e-01, 1.70841604e-01, 3.86117934e-03],\n",
              "         ...,\n",
              "         [2.30247334e-01, 1.78776100e-01, 3.13980319e-02],\n",
              "         [2.26711601e-01, 1.76660642e-01, 2.65286639e-02],\n",
              "         [2.16702998e-01, 1.74602404e-01, 2.51690689e-02]],\n",
              "\n",
              "        [[3.04551244e-01, 1.65974811e-01, 5.30076819e-03],\n",
              "         [3.07203710e-01, 1.69307396e-01, 5.88612258e-03],\n",
              "         [3.05798113e-01, 1.73168302e-01, 6.57858094e-03],\n",
              "         ...,\n",
              "         [2.24491477e-01, 1.79419801e-01, 2.41155345e-02],\n",
              "         [2.12806597e-01, 1.78048760e-01, 2.15993077e-02],\n",
              "         [1.88406140e-01, 1.64114445e-01, 2.54357997e-02]],\n",
              "\n",
              "        ...,\n",
              "\n",
              "        [[7.58871734e-02, 6.21822774e-02, 2.61518620e-02],\n",
              "         [9.45496187e-02, 5.25541455e-02, 2.78028529e-02],\n",
              "         [7.68470019e-02, 4.45020795e-02, 1.59818400e-02],\n",
              "         ...,\n",
              "         [1.97817698e-01, 1.36248320e-01, 9.75803472e-03],\n",
              "         [1.91892549e-01, 1.31019652e-01, 4.83886898e-03],\n",
              "         [1.93905458e-01, 1.30177766e-01, 4.02220013e-03]],\n",
              "\n",
              "        [[7.78131410e-02, 5.16305827e-02, 2.14426555e-02],\n",
              "         [8.55781436e-02, 4.53917347e-02, 2.00487431e-02],\n",
              "         [7.07286224e-02, 4.28868271e-02, 1.50869349e-02],\n",
              "         ...,\n",
              "         [1.95069209e-01, 1.31055191e-01, 5.63737098e-03],\n",
              "         [1.91484481e-01, 1.30752981e-01, 4.75757755e-03],\n",
              "         [1.96239725e-01, 1.35251701e-01, 8.07409082e-03]],\n",
              "\n",
              "        [[7.00256675e-02, 3.47539037e-02, 1.21189170e-02],\n",
              "         [8.17803368e-02, 4.55495939e-02, 2.16653757e-02],\n",
              "         [7.51625001e-02, 5.01839519e-02, 2.47423630e-02],\n",
              "         ...,\n",
              "         [1.97837561e-01, 1.28419146e-01, 5.51642245e-03],\n",
              "         [1.91995993e-01, 1.31226331e-01, 6.99757040e-03],\n",
              "         [1.95357949e-01, 1.38013989e-01, 1.07012047e-02]]],\n",
              "\n",
              "\n",
              "       ...,\n",
              "\n",
              "\n",
              "       [[[4.82146859e-01, 2.93640286e-01, 1.99184433e-01],\n",
              "         [4.79850352e-01, 2.96660691e-01, 1.96660146e-01],\n",
              "         [4.76448059e-01, 2.96128064e-01, 1.95517913e-01],\n",
              "         ...,\n",
              "         [5.56873307e-02, 4.98053953e-02, 4.00258489e-02],\n",
              "         [2.87904311e-03, 1.96319656e-03, 1.28454191e-03],\n",
              "         [7.70855258e-05, 6.38447746e-05, 3.92257934e-05]],\n",
              "\n",
              "        [[4.90063787e-01, 3.10562789e-01, 1.97200581e-01],\n",
              "         [4.88602877e-01, 3.13180834e-01, 2.00636759e-01],\n",
              "         [4.84781235e-01, 3.12539190e-01, 2.04181105e-01],\n",
              "         ...,\n",
              "         [1.38312981e-01, 1.23283744e-01, 9.47475135e-02],\n",
              "         [2.52296198e-02, 2.15364061e-02, 1.56349987e-02],\n",
              "         [7.72956992e-04, 6.06785237e-04, 2.97816383e-04]],\n",
              "\n",
              "        [[4.87581253e-01, 3.18220496e-01, 1.91287205e-01],\n",
              "         [4.84040588e-01, 3.14215511e-01, 1.94150478e-01],\n",
              "         [4.81586754e-01, 3.13771218e-01, 1.99947000e-01],\n",
              "         ...,\n",
              "         [2.55681276e-01, 2.29287148e-01, 1.70940280e-01],\n",
              "         [8.59656483e-02, 7.60251358e-02, 5.40459678e-02],\n",
              "         [7.29526160e-03, 6.52440684e-03, 3.50023061e-03]],\n",
              "\n",
              "        ...,\n",
              "\n",
              "        [[0.00000000e+00, 0.00000000e+00, 0.00000000e+00],\n",
              "         [0.00000000e+00, 0.00000000e+00, 0.00000000e+00],\n",
              "         [0.00000000e+00, 0.00000000e+00, 0.00000000e+00],\n",
              "         ...,\n",
              "         [0.00000000e+00, 0.00000000e+00, 0.00000000e+00],\n",
              "         [0.00000000e+00, 0.00000000e+00, 0.00000000e+00],\n",
              "         [0.00000000e+00, 0.00000000e+00, 0.00000000e+00]],\n",
              "\n",
              "        [[0.00000000e+00, 0.00000000e+00, 0.00000000e+00],\n",
              "         [0.00000000e+00, 0.00000000e+00, 0.00000000e+00],\n",
              "         [0.00000000e+00, 0.00000000e+00, 0.00000000e+00],\n",
              "         ...,\n",
              "         [0.00000000e+00, 0.00000000e+00, 0.00000000e+00],\n",
              "         [0.00000000e+00, 0.00000000e+00, 0.00000000e+00],\n",
              "         [0.00000000e+00, 0.00000000e+00, 0.00000000e+00]],\n",
              "\n",
              "        [[0.00000000e+00, 0.00000000e+00, 0.00000000e+00],\n",
              "         [0.00000000e+00, 0.00000000e+00, 0.00000000e+00],\n",
              "         [0.00000000e+00, 0.00000000e+00, 0.00000000e+00],\n",
              "         ...,\n",
              "         [0.00000000e+00, 0.00000000e+00, 0.00000000e+00],\n",
              "         [0.00000000e+00, 0.00000000e+00, 0.00000000e+00],\n",
              "         [0.00000000e+00, 0.00000000e+00, 0.00000000e+00]]],\n",
              "\n",
              "\n",
              "       [[[4.60850656e-01, 2.87089467e-01, 1.23365067e-01],\n",
              "         [4.66867626e-01, 2.89719939e-01, 1.40389472e-01],\n",
              "         [4.74758208e-01, 2.96145737e-01, 1.46993041e-01],\n",
              "         ...,\n",
              "         [2.18079454e-04, 1.28482498e-05, 4.78187940e-06],\n",
              "         [1.01295082e-05, 9.89672230e-07, 1.14228456e-07],\n",
              "         [1.25963155e-07, 3.57754999e-08, 0.00000000e+00]],\n",
              "\n",
              "        [[4.79572505e-01, 2.90754467e-01, 1.40110880e-01],\n",
              "         [5.04111707e-01, 3.14090401e-01, 1.57339022e-01],\n",
              "         [5.09022713e-01, 3.20096284e-01, 1.52750552e-01],\n",
              "         ...,\n",
              "         [5.29283017e-04, 1.48948922e-04, 1.44437668e-04],\n",
              "         [3.25934379e-05, 3.03739289e-05, 5.21903239e-05],\n",
              "         [7.78221249e-07, 2.78082553e-06, 5.90097125e-06]],\n",
              "\n",
              "        [[5.25594294e-01, 3.27212244e-01, 1.54487029e-01],\n",
              "         [5.38950384e-01, 3.38854551e-01, 1.55348971e-01],\n",
              "         [5.31710386e-01, 3.32769126e-01, 1.45508558e-01],\n",
              "         ...,\n",
              "         [4.80730116e-04, 9.78254713e-04, 1.60299859e-03],\n",
              "         [3.31459305e-05, 2.56338739e-04, 6.00133906e-04],\n",
              "         [9.17041689e-07, 2.62064441e-05, 7.94414445e-05]],\n",
              "\n",
              "        ...,\n",
              "\n",
              "        [[2.81119734e-01, 1.91731155e-01, 1.18909471e-01],\n",
              "         [5.72335005e-01, 4.06494677e-01, 2.37607569e-01],\n",
              "         [6.10378742e-01, 3.98714006e-01, 2.01026410e-01],\n",
              "         ...,\n",
              "         [1.53537537e-03, 1.59318885e-03, 2.91904526e-05],\n",
              "         [1.13110791e-03, 2.39346758e-03, 9.90311605e-07],\n",
              "         [1.46595718e-04, 2.42121518e-03, 1.88078483e-10]],\n",
              "\n",
              "        [[7.68169165e-02, 5.25046252e-02, 3.70068103e-02],\n",
              "         [3.03220361e-01, 2.17462599e-01, 1.37302771e-01],\n",
              "         [4.24154729e-01, 2.76222527e-01, 1.47058368e-01],\n",
              "         ...,\n",
              "         [2.81383214e-03, 8.55298014e-04, 1.14525019e-05],\n",
              "         [4.09937138e-03, 1.48800551e-03, 3.59299861e-07],\n",
              "         [2.10796949e-03, 2.03064014e-03, 0.00000000e+00]],\n",
              "\n",
              "        [[1.41109768e-02, 1.05809616e-02, 9.41381231e-03],\n",
              "         [7.85351694e-02, 5.38937673e-02, 3.74896377e-02],\n",
              "         [1.79785937e-01, 1.13137424e-01, 6.40544370e-02],\n",
              "         ...,\n",
              "         [5.78885386e-03, 9.45396721e-04, 6.72548253e-04],\n",
              "         [7.84831308e-03, 3.13944183e-04, 8.90401207e-05],\n",
              "         [5.08342450e-03, 7.71112507e-04, 6.09245308e-06]]],\n",
              "\n",
              "\n",
              "       [[[2.59316117e-02, 2.31207311e-02, 1.68704912e-02],\n",
              "         [1.48576554e-02, 1.25254169e-02, 1.00619402e-02],\n",
              "         [1.19286692e-02, 8.61716922e-03, 1.03255622e-02],\n",
              "         ...,\n",
              "         [8.60691145e-02, 4.50248271e-02, 3.11395247e-02],\n",
              "         [4.03382033e-02, 2.27656905e-02, 1.53273800e-02],\n",
              "         [1.41338818e-02, 1.12874601e-02, 5.90410503e-03]],\n",
              "\n",
              "        [[2.32630249e-04, 3.83420661e-03, 1.42812554e-04],\n",
              "         [4.61940508e-05, 3.49995308e-03, 3.96284391e-04],\n",
              "         [2.81248849e-05, 2.10411241e-03, 1.59745128e-03],\n",
              "         ...,\n",
              "         [3.30633074e-01, 1.85436755e-01, 1.29240841e-01],\n",
              "         [2.19777584e-01, 1.21398114e-01, 8.62368643e-02],\n",
              "         [1.16620958e-01, 6.04760572e-02, 4.34223786e-02]],\n",
              "\n",
              "        [[0.00000000e+00, 2.01798626e-03, 1.16153318e-03],\n",
              "         [0.00000000e+00, 1.47472986e-03, 1.98597641e-04],\n",
              "         [0.00000000e+00, 7.24004582e-04, 0.00000000e+00],\n",
              "         ...,\n",
              "         [5.15410423e-01, 2.95954019e-01, 1.94981083e-01],\n",
              "         [4.81892198e-01, 2.77343810e-01, 1.87680483e-01],\n",
              "         [4.09365952e-01, 2.33135104e-01, 1.63574606e-01]],\n",
              "\n",
              "        ...,\n",
              "\n",
              "        [[4.28387076e-01, 3.57798874e-01, 3.17172647e-01],\n",
              "         [4.31202739e-01, 3.60561311e-01, 3.17003697e-01],\n",
              "         [4.31821555e-01, 3.58729541e-01, 3.14148337e-01],\n",
              "         ...,\n",
              "         [6.78966582e-01, 4.39462155e-01, 3.34877670e-01],\n",
              "         [6.71105444e-01, 4.33620811e-01, 3.29100043e-01],\n",
              "         [6.58532202e-01, 4.22373950e-01, 3.15590799e-01]],\n",
              "\n",
              "        [[4.24399406e-01, 3.53784472e-01, 3.08789223e-01],\n",
              "         [4.26519066e-01, 3.55912060e-01, 3.11865240e-01],\n",
              "         [4.26981777e-01, 3.55946034e-01, 3.12572986e-01],\n",
              "         ...,\n",
              "         [6.85010672e-01, 4.49607849e-01, 3.39862704e-01],\n",
              "         [6.87661469e-01, 4.57139462e-01, 3.46717596e-01],\n",
              "         [6.85147107e-01, 4.55975622e-01, 3.44827235e-01]],\n",
              "\n",
              "        [[4.24294382e-01, 3.52875322e-01, 3.15395415e-01],\n",
              "         [4.22711283e-01, 3.51587027e-01, 3.13596219e-01],\n",
              "         [4.21640843e-01, 3.50084245e-01, 3.11058581e-01],\n",
              "         ...,\n",
              "         [6.79169595e-01, 4.49284494e-01, 3.31369430e-01],\n",
              "         [6.78805590e-01, 4.54807132e-01, 3.35857034e-01],\n",
              "         [6.84463680e-01, 4.60141927e-01, 3.42505455e-01]]]],\n",
              "      dtype=float32)>"
            ]
          },
          "metadata": {},
          "execution_count": 37
        }
      ]
    },
    {
      "cell_type": "code",
      "source": [
        "x.shape"
      ],
      "metadata": {
        "id": "jDlT6hPMx4jv",
        "outputId": "702fac71-fa42-4ac7-ce65-551eb64daed6",
        "colab": {
          "base_uri": "https://localhost:8080/"
        }
      },
      "execution_count": 38,
      "outputs": [
        {
          "output_type": "execute_result",
          "data": {
            "text/plain": [
              "TensorShape([16, 260, 260, 3])"
            ]
          },
          "metadata": {},
          "execution_count": 38
        }
      ]
    },
    {
      "cell_type": "code",
      "source": [
        "y"
      ],
      "metadata": {
        "id": "OZdnCjnvyNIu",
        "outputId": "e53eda06-40e4-4dd2-f351-554175a7aade",
        "colab": {
          "base_uri": "https://localhost:8080/"
        }
      },
      "execution_count": 39,
      "outputs": [
        {
          "output_type": "execute_result",
          "data": {
            "text/plain": [
              "<tf.Tensor: shape=(16, 2), dtype=float32, numpy=\n",
              "array([[0., 1.],\n",
              "       [0., 1.],\n",
              "       [0., 1.],\n",
              "       [0., 1.],\n",
              "       [0., 1.],\n",
              "       [0., 1.],\n",
              "       [0., 1.],\n",
              "       [0., 1.],\n",
              "       [0., 1.],\n",
              "       [1., 0.],\n",
              "       [0., 1.],\n",
              "       [0., 1.],\n",
              "       [0., 1.],\n",
              "       [0., 1.],\n",
              "       [0., 1.],\n",
              "       [0., 1.]], dtype=float32)>"
            ]
          },
          "metadata": {},
          "execution_count": 39
        }
      ]
    },
    {
      "cell_type": "code",
      "source": [
        "y.shape"
      ],
      "metadata": {
        "id": "lw3HTGfpyBKr",
        "outputId": "d16781a8-ea0d-4578-f279-274f760e5829",
        "colab": {
          "base_uri": "https://localhost:8080/"
        }
      },
      "execution_count": 40,
      "outputs": [
        {
          "output_type": "execute_result",
          "data": {
            "text/plain": [
              "TensorShape([16, 2])"
            ]
          },
          "metadata": {},
          "execution_count": 40
        }
      ]
    },
    {
      "cell_type": "code",
      "source": [
        "image = x[0, :, :, :]\n",
        "image"
      ],
      "metadata": {
        "id": "_56kvDTuySeZ",
        "outputId": "40d3885a-1098-4b2f-e16c-7d5befc14e56",
        "colab": {
          "base_uri": "https://localhost:8080/"
        }
      },
      "execution_count": 48,
      "outputs": [
        {
          "output_type": "execute_result",
          "data": {
            "text/plain": [
              "<tf.Tensor: shape=(260, 260, 3), dtype=float32, numpy=\n",
              "array([[[5.5536872e-01, 3.7439841e-01, 2.4308282e-01],\n",
              "        [5.5398327e-01, 3.7368757e-01, 2.4144232e-01],\n",
              "        [5.4897356e-01, 3.7170002e-01, 2.3750603e-01],\n",
              "        ...,\n",
              "        [5.0903219e-01, 3.7279972e-01, 2.6412523e-01],\n",
              "        [5.0261807e-01, 3.6716831e-01, 2.6005501e-01],\n",
              "        [5.0635314e-01, 3.7074089e-01, 2.6435351e-01]],\n",
              "\n",
              "       [[5.4808968e-01, 3.7069660e-01, 2.4031869e-01],\n",
              "        [5.4837948e-01, 3.7209255e-01, 2.4057704e-01],\n",
              "        [5.4445720e-01, 3.7152976e-01, 2.3768261e-01],\n",
              "        ...,\n",
              "        [5.1299238e-01, 3.7515584e-01, 2.6897568e-01],\n",
              "        [5.0457340e-01, 3.6677080e-01, 2.6213408e-01],\n",
              "        [5.0304610e-01, 3.6492038e-01, 2.6077533e-01]],\n",
              "\n",
              "       [[5.4507679e-01, 3.6772239e-01, 2.4007747e-01],\n",
              "        [5.4554075e-01, 3.7193236e-01, 2.4140580e-01],\n",
              "        [5.4359949e-01, 3.7354386e-01, 2.4032639e-01],\n",
              "        ...,\n",
              "        [5.1262295e-01, 3.7270859e-01, 2.6907507e-01],\n",
              "        [5.0569028e-01, 3.6572415e-01, 2.6283270e-01],\n",
              "        [5.0270027e-01, 3.6327812e-01, 2.6020098e-01]],\n",
              "\n",
              "       ...,\n",
              "\n",
              "       [[1.8160391e-06, 1.2780813e-03, 1.3553051e-04],\n",
              "        [0.0000000e+00, 1.8772616e-03, 5.1238737e-04],\n",
              "        [1.9089826e-07, 1.1395339e-03, 4.4525965e-04],\n",
              "        ...,\n",
              "        [0.0000000e+00, 0.0000000e+00, 0.0000000e+00],\n",
              "        [0.0000000e+00, 0.0000000e+00, 0.0000000e+00],\n",
              "        [0.0000000e+00, 0.0000000e+00, 0.0000000e+00]],\n",
              "\n",
              "       [[7.8493846e-05, 1.6210489e-03, 4.9220806e-04],\n",
              "        [3.1974138e-05, 2.8129898e-03, 6.3542603e-04],\n",
              "        [1.0538295e-06, 2.3993643e-03, 3.9321554e-04],\n",
              "        ...,\n",
              "        [0.0000000e+00, 0.0000000e+00, 0.0000000e+00],\n",
              "        [0.0000000e+00, 0.0000000e+00, 0.0000000e+00],\n",
              "        [0.0000000e+00, 0.0000000e+00, 0.0000000e+00]],\n",
              "\n",
              "       [[1.7977395e-03, 3.7131256e-03, 2.7292194e-03],\n",
              "        [8.2163361e-04, 4.1831145e-03, 1.6356304e-03],\n",
              "        [4.0274122e-06, 3.6339499e-03, 7.2321258e-05],\n",
              "        ...,\n",
              "        [0.0000000e+00, 0.0000000e+00, 0.0000000e+00],\n",
              "        [0.0000000e+00, 0.0000000e+00, 0.0000000e+00],\n",
              "        [0.0000000e+00, 0.0000000e+00, 0.0000000e+00]]], dtype=float32)>"
            ]
          },
          "metadata": {},
          "execution_count": 48
        }
      ]
    },
    {
      "cell_type": "code",
      "source": [
        "y_true = np.argmax(y[0])\n",
        "y_true"
      ],
      "metadata": {
        "id": "C6Ph6aIby1fM",
        "outputId": "767571d7-70a5-4386-97b9-4e1fadc20b26",
        "colab": {
          "base_uri": "https://localhost:8080/"
        }
      },
      "execution_count": 49,
      "outputs": [
        {
          "output_type": "execute_result",
          "data": {
            "text/plain": [
              "1"
            ]
          },
          "metadata": {},
          "execution_count": 49
        }
      ]
    },
    {
      "cell_type": "code",
      "source": [
        "classes[1]"
      ],
      "metadata": {
        "id": "lkZZmS-7y9Xk",
        "outputId": "b4b209f4-6336-47ea-9d1a-b3999f7fd74c",
        "colab": {
          "base_uri": "https://localhost:8080/",
          "height": 36
        }
      },
      "execution_count": 50,
      "outputs": [
        {
          "output_type": "execute_result",
          "data": {
            "text/plain": [
              "'normal'"
            ],
            "application/vnd.google.colaboratory.intrinsic+json": {
              "type": "string"
            }
          },
          "metadata": {},
          "execution_count": 50
        }
      ]
    },
    {
      "cell_type": "code",
      "source": [
        "plt.imshow(image)\n",
        "plt.axis('off');"
      ],
      "metadata": {
        "id": "WHjoB4D6zA_N",
        "outputId": "0a027056-a440-4324-d4d5-4047f215c37a",
        "colab": {
          "base_uri": "https://localhost:8080/",
          "height": 406
        }
      },
      "execution_count": 51,
      "outputs": [
        {
          "output_type": "display_data",
          "data": {
            "text/plain": [
              "<Figure size 640x480 with 1 Axes>"
            ],
            "image/png": "[encoded data removed]"
          },
          "metadata": {}
        }
      ]
    },
    {
      "cell_type": "code",
      "source": [
        "image.shape"
      ],
      "metadata": {
        "id": "NLJKNhMpzP68",
        "outputId": "c020f2d8-216b-4d12-eab6-748fffa2e9ad",
        "colab": {
          "base_uri": "https://localhost:8080/"
        }
      },
      "execution_count": 52,
      "outputs": [
        {
          "output_type": "execute_result",
          "data": {
            "text/plain": [
              "TensorShape([260, 260, 3])"
            ]
          },
          "metadata": {},
          "execution_count": 52
        }
      ]
    },
    {
      "cell_type": "code",
      "source": [
        "image = np.expand_dims(image, axis = 0)\n",
        "image.shape"
      ],
      "metadata": {
        "id": "SHzI37nIzUXF",
        "outputId": "2c69db06-a820-4db6-bb80-c68f48822bce",
        "colab": {
          "base_uri": "https://localhost:8080/"
        }
      },
      "execution_count": 53,
      "outputs": [
        {
          "output_type": "execute_result",
          "data": {
            "text/plain": [
              "(1, 260, 260, 3)"
            ]
          },
          "metadata": {},
          "execution_count": 53
        }
      ]
    },
    {
      "cell_type": "code",
      "source": [
        "prediction = model.predict(image)\n",
        "prediction"
      ],
      "metadata": {
        "id": "3poymBoxziQ8",
        "outputId": "2929a468-8375-437f-da12-e570eb6274dd",
        "colab": {
          "base_uri": "https://localhost:8080/"
        }
      },
      "execution_count": 55,
      "outputs": [
        {
          "output_type": "stream",
          "name": "stdout",
          "text": [
            "1/1 [==============================] - 0s 217ms/step\n"
          ]
        },
        {
          "output_type": "execute_result",
          "data": {
            "text/plain": [
              "array([[-4.2770033,  2.5927846]], dtype=float32)"
            ]
          },
          "metadata": {},
          "execution_count": 55
        }
      ]
    },
    {
      "cell_type": "code",
      "source": [
        "prediction = np.argmax(prediction)\n",
        "prediction"
      ],
      "metadata": {
        "id": "hNHEbWqqzres",
        "outputId": "fa373214-4287-4917-cd28-7e499aa8a482",
        "colab": {
          "base_uri": "https://localhost:8080/"
        }
      },
      "execution_count": null,
      "outputs": [
        {
          "output_type": "execute_result",
          "data": {
            "text/plain": [
              "1"
            ]
          },
          "metadata": {},
          "execution_count": 55
        }
      ]
    },
    {
      "cell_type": "code",
      "source": [],
      "metadata": {
        "id": "mjsEPr-n0NcE"
      },
      "execution_count": null,
      "outputs": []
    },
    {
      "cell_type": "code",
      "source": [],
      "metadata": {
        "id": "7kAzh2zGz8MV"
      },
      "execution_count": null,
      "outputs": []
    },
    {
      "cell_type": "markdown",
      "source": [],
      "metadata": {
        "id": "P9vhCU7DzPRd"
      }
    },
    {
      "cell_type": "markdown",
      "source": [],
      "metadata": {
        "id": "KqvYuQ_gx4bD"
      }
    }
  ]
}