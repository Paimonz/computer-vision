{
  "nbformat": 4,
  "nbformat_minor": 0,
  "metadata": {
    "colab": {
      "provenance": [],
      "name": "ImageClassification.ipynb",
      "mount_file_id": "https://github.com/Paimonz/computer-vision/blob/main/ImageClassification.ipynb",
      "authorship_tag": "ABX9TyMkYQ0fLjXWi1OPUjB2VNSS",
      "include_colab_link": true
    },
    "kernelspec": {
      "name": "python3",
      "display_name": "Python 3"
    },
    "language_info": {
      "name": "python"
    }
  },
  "cells": [
    {
      "cell_type": "markdown",
      "metadata": {
        "id": "view-in-github",
        "colab_type": "text"
      },
      "source": [
        "<a href=\"https://colab.research.google.com/github/Paimonz/computer-vision/blob/main/ImageClassification.ipynb\" target=\"_parent\"><img src=\"https://colab.research.google.com/assets/colab-badge.svg\" alt=\"Open In Colab\"/></a>"
      ]
    },
    {
      "cell_type": "code",
      "execution_count": 49,
      "metadata": {
        "colab": {
          "base_uri": "https://localhost:8080/"
        },
        "id": "oacAu5x0TNXX",
        "outputId": "7f28e126-5c3f-4d1f-d1f9-0c39d8ae3385"
      },
      "outputs": [
        {
          "output_type": "stream",
          "name": "stdout",
          "text": [
            "TensorFlow version: 2.13.0\n",
            "TensorFlow Hub version: 0.14.0\n"
          ]
        }
      ],
      "source": [
        "                                                           #Saiba mais em:\n",
        "\n",
        "import matplotlib.pyplot as plt                            #https://matplotlib.org/3.5.3/api/_as_gen/matplotlib.pyplot.html\n",
        "import numpy as np                                         #https://numpy.org/doc/\n",
        "import tensorflow as tf                                    #https://www.tensorflow.org/api_docs/python/tf\n",
        "import tensorflow_hub as hub                               #https://www.tensorflow.org/hub?hl=pt-br\n",
        "from keras.preprocessing.image import ImageDataGenerator   #https://www.tensorflow.org/api_docs/python/tf/keras/preprocessing/image/ImageDataGenerator\n",
        "\n",
        "print('TensorFlow version:', tf.__version__)               #Verifica a versão do TensorFlow.\n",
        "print('TensorFlow Hub version:', hub.__version__)          #Verifica a versão do TensorFlow Hub."
      ]
    },
    {
      "cell_type": "code",
      "source": [
        "#O TensorFlow Hub tem vários modelos de classificação, você pode verificar outros modelos em:\n",
        "#https://tfhub.dev/s?module-type=image-feature-vector&tf-version=tf2&q=efficientnet\n",
        "#Usei o modelo efficientnetv2-b2-21k pois acredito ser mais adequato para os tipos de imagens que tenho.\n",
        "\n",
        "model_name = 'efficientnetv2-b2-21k'"
      ],
      "metadata": {
        "id": "b9Wyt3T9WTL-"
      },
      "execution_count": 50,
      "outputs": []
    },
    {
      "cell_type": "code",
      "source": [
        "#Criando uma nova variavel, armazenado o caminho do modelo.\n",
        "#O primeiro parametro é o nome do modelo e o segundo é o link para donwload do modelo.\n",
        "\n",
        "models_path = {\n",
        "    \"efficientnetv2-b2-21k\": \"https://tfhub.dev/google/imagenet/efficientnet_v2_imagenet21k_b2/feature_vector/2\",\n",
        "}"
      ],
      "metadata": {
        "id": "rrx5IQ5tWicE"
      },
      "execution_count": 51,
      "outputs": []
    },
    {
      "cell_type": "code",
      "source": [
        "#Criando nova variavel para a dimensões das imagens, pois cada modelo trabalha com uma dimensão expecifica.\n",
        "#Para trabalhar com o modelo escolhido as imagens tem que ser igual ou inferior as dimensões 260x260.\n",
        "\n",
        "models_pixels = {\n",
        "    \"efficientnetv2-b2-21k\": 260\n",
        "}"
      ],
      "metadata": {
        "id": "GS2YK1ZBYZUW"
      },
      "execution_count": 52,
      "outputs": []
    },
    {
      "cell_type": "code",
      "source": [
        "#Armezenando o caminho do modelo através do nome do nomdelo.\n",
        "\n",
        "model_path = models_path.get(model_name)\n",
        "model_path"
      ],
      "metadata": {
        "colab": {
          "base_uri": "https://localhost:8080/",
          "height": 36
        },
        "id": "JkLdZBgWZG_d",
        "outputId": "e7b76146-a5f4-4130-8c83-cd58dacdaa4b"
      },
      "execution_count": 53,
      "outputs": [
        {
          "output_type": "execute_result",
          "data": {
            "text/plain": [
              "'https://tfhub.dev/google/imagenet/efficientnet_v2_imagenet21k_b2/feature_vector/2'"
            ],
            "application/vnd.google.colaboratory.intrinsic+json": {
              "type": "string"
            }
          },
          "metadata": {},
          "execution_count": 53
        }
      ]
    },
    {
      "cell_type": "code",
      "source": [
        "#Armazenando as dimensões/pixels do modelo atravéz do nome do modelo.\n",
        "\n",
        "pixels = models_pixels.get(model_name)\n",
        "pixels"
      ],
      "metadata": {
        "colab": {
          "base_uri": "https://localhost:8080/"
        },
        "id": "tn_U-L3-aFqc",
        "outputId": "39ca157b-d44f-4271-8309-f2c321e3f52a"
      },
      "execution_count": 54,
      "outputs": [
        {
          "output_type": "execute_result",
          "data": {
            "text/plain": [
              "260"
            ]
          },
          "metadata": {},
          "execution_count": 54
        }
      ]
    },
    {
      "cell_type": "code",
      "source": [
        "#Criando o formato das imagens.\n",
        "\n",
        "image_size = (pixels, pixels)\n",
        "image_size"
      ],
      "metadata": {
        "colab": {
          "base_uri": "https://localhost:8080/"
        },
        "id": "CfLw9ro5aAOd",
        "outputId": "570bc46d-c205-44eb-ae38-6ec838f4d10c"
      },
      "execution_count": 55,
      "outputs": [
        {
          "output_type": "execute_result",
          "data": {
            "text/plain": [
              "(260, 260)"
            ]
          },
          "metadata": {},
          "execution_count": 55
        }
      ]
    },
    {
      "cell_type": "code",
      "source": [
        "print('Model: ', model_name)          #Para mostrar com qual modelo estamos trabalhando.\n",
        "print('Path: ', model_path)           #Mostrando o caminho/link onde é possível encontrar o modelo.\n",
        "print('Imagem size: ', image_size)    #Revelando o formato das imagens que serão trabalhadas no projeto."
      ],
      "metadata": {
        "colab": {
          "base_uri": "https://localhost:8080/"
        },
        "id": "9H5a9r2nbwTE",
        "outputId": "e9c0f3be-1e97-47cd-fbeb-ea3f645befd3"
      },
      "execution_count": 56,
      "outputs": [
        {
          "output_type": "stream",
          "name": "stdout",
          "text": [
            "Model:  efficientnetv2-b2-21k\n",
            "Path:  https://tfhub.dev/google/imagenet/efficientnet_v2_imagenet21k_b2/feature_vector/2\n",
            "Imagem size:  (260, 260)\n"
          ]
        }
      ]
    },
    {
      "cell_type": "code",
      "source": [
        "#O dataset foi criado/configurado e armazenado no google driver, para seguir esse modelo vc precisará criar o seu próprio dataset e montar o seu driver.\n",
        "#Saiba mais em: https://saturncloud.io/blog/how-to-import-files-from-google-drive-to-colab/\n",
        "#Você pode encontrar as imagens utilizadas nesse projeto em: https://www.kaggle.com/datasets/gunavenkatdoddi/eye-diseases-classification\n",
        "\n",
        "flow_from_directory = \"/content/drive/MyDrive/dataset1\" #método da classe ImageDataGenerator que permite ler imagens de um grande array numpy e pastas contendo imagens.\n",
        "data_directory = flow_from_directory                                   #Armazena o caminho do flow_from_directory em data_directory.\n",
        "print(data_directory)                                                  #Mostra o caminho do data_directory."
      ],
      "metadata": {
        "colab": {
          "base_uri": "https://localhost:8080/"
        },
        "id": "CjJbAW3o_lFT",
        "outputId": "f7606781-d563-4498-dceb-fc6f38b131f3"
      },
      "execution_count": 57,
      "outputs": [
        {
          "output_type": "stream",
          "name": "stdout",
          "text": [
            "/content/drive/MyDrive/dataset1\n"
          ]
        }
      ]
    },
    {
      "cell_type": "code",
      "source": [
        "train_dataset = tf.keras.preprocessing.image_dataset_from_directory(data_directory,            #Pegando as imagens que estão no data_directory para o treino\n",
        "                                                                    validation_split= .20,     #Usaremos 20% do dataset para validação.\n",
        "                                                                    subset = 'training',       #Significa que essa parte do conjunto de dados é o treinamento.\n",
        "                                                                    label_mode='categorical',  #Etiqueta do nosso modelo será por categoria, Catarata ou Normal.\n",
        "                                                                    seed = 123,                #Toda vez que a função for chamada será composta pelas mesmas imagens.\n",
        "                                                                    image_size=image_size,     #Configura o formato das imagens.\n",
        "                                                                    batch_size=1)              #Número de amostras processadas antes do modelo ser atualizado."
      ],
      "metadata": {
        "colab": {
          "base_uri": "https://localhost:8080/"
        },
        "id": "BHIDozoxCqki",
        "outputId": "80480777-52c1-4a97-9e98-314fa176a8da"
      },
      "execution_count": 58,
      "outputs": [
        {
          "output_type": "stream",
          "name": "stdout",
          "text": [
            "Found 601 files belonging to 4 classes.\n",
            "Using 481 files for training.\n"
          ]
        }
      ]
    },
    {
      "cell_type": "code",
      "source": [
        "#Mostra o nome das classes que temos no nosso treinamento\n",
        "\n",
        "train_dataset.class_names"
      ],
      "metadata": {
        "colab": {
          "base_uri": "https://localhost:8080/"
        },
        "id": "XmmCwjL1FWm1",
        "outputId": "e474b1c3-def6-48ca-d07d-7ee66ba06b97"
      },
      "execution_count": 59,
      "outputs": [
        {
          "output_type": "execute_result",
          "data": {
            "text/plain": [
              "['1_normal', '2_cataract', '2_glaucoma', '3_retina_disease']"
            ]
          },
          "metadata": {},
          "execution_count": 59
        }
      ]
    },
    {
      "cell_type": "code",
      "source": [
        "#Criando uma variavel com os nomes das classes do nosso dataset\n",
        "\n",
        "classes = train_dataset.class_names\n",
        "classes"
      ],
      "metadata": {
        "colab": {
          "base_uri": "https://localhost:8080/"
        },
        "id": "hBSJ21aSFr7K",
        "outputId": "c630a920-e51a-49b7-8d04-34b9fcf6a52e"
      },
      "execution_count": 60,
      "outputs": [
        {
          "output_type": "execute_result",
          "data": {
            "text/plain": [
              "['1_normal', '2_cataract', '2_glaucoma', '3_retina_disease']"
            ]
          },
          "metadata": {},
          "execution_count": 60
        }
      ]
    },
    {
      "cell_type": "code",
      "source": [
        " #A função da cardinality retorna o número de elementos em uma lista, no caso irá retorno o número de arquivos usados no treinameno (train_dataset).\n",
        "\n",
        "training_size = train_dataset.cardinality().numpy()\n",
        "training_size"
      ],
      "metadata": {
        "colab": {
          "base_uri": "https://localhost:8080/"
        },
        "id": "ftzcCd8FGAZc",
        "outputId": "acfcc462-110b-4130-8c71-a732cb6fe2e4"
      },
      "execution_count": 61,
      "outputs": [
        {
          "output_type": "execute_result",
          "data": {
            "text/plain": [
              "481"
            ]
          },
          "metadata": {},
          "execution_count": 61
        }
      ]
    },
    {
      "cell_type": "code",
      "source": [
        "#Organizando o dataset em 52 lotes, onde cada lote terá (840/16 = 52,5) 16 imagens.\n",
        "\n",
        "BATCH_SIZE = 16 #Significa que existem 16 instâncias de treinamento em cada lote.\n"
      ],
      "metadata": {
        "id": "h_gLIlALGbNL"
      },
      "execution_count": 62,
      "outputs": []
    },
    {
      "cell_type": "code",
      "source": [
        "train_dataset = train_dataset.unbatch().batch(BATCH_SIZE) #Atualizando o batch_size porque inicialmente começamos com batch_size =1\n",
        "train_dataset"
      ],
      "metadata": {
        "colab": {
          "base_uri": "https://localhost:8080/"
        },
        "id": "Ki3giSx0GlYz",
        "outputId": "ff314d3e-d0db-4a0b-d8f2-1595d80d3f96"
      },
      "execution_count": 63,
      "outputs": [
        {
          "output_type": "execute_result",
          "data": {
            "text/plain": [
              "<_BatchDataset element_spec=(TensorSpec(shape=(None, 260, 260, 3), dtype=tf.float32, name=None), TensorSpec(shape=(None, 4), dtype=tf.float32, name=None))>"
            ]
          },
          "metadata": {},
          "execution_count": 63
        }
      ]
    },
    {
      "cell_type": "code",
      "source": [
        "840/16\n"
      ],
      "metadata": {
        "colab": {
          "base_uri": "https://localhost:8080/"
        },
        "id": "uUzbRQoCHjD7",
        "outputId": "94731464-4c0b-4063-861f-4521ee04d651"
      },
      "execution_count": 64,
      "outputs": [
        {
          "output_type": "execute_result",
          "data": {
            "text/plain": [
              "52.5"
            ]
          },
          "metadata": {},
          "execution_count": 64
        }
      ]
    },
    {
      "cell_type": "code",
      "source": [
        "# https://www.tensorflow.org/api_docs/python/tf/repeat\n",
        "# https://stackoverflow.com/questions/53514495/what-does-batch-repeat-and-shuffle-do-with-tensorflow-dataset\n",
        "\n",
        "train_dataset = train_dataset.repeat()"
      ],
      "metadata": {
        "id": "SNIDsQJlH5yy"
      },
      "execution_count": 65,
      "outputs": []
    },
    {
      "cell_type": "code",
      "source": [
        "#Image augmentation: https://www.tensorflow.org/tutorials/images/data_augmentation\n",
        "#from multiprocessing.process import parent_process\n",
        "\n",
        "normalization_layer = tf.keras.layers.Rescaling(1. /255)            #Normalization = transformação de dados que alinha os valores dos dados a uma escala comum. Rescaling = reduzindo a escala (pixels) das imagens de 0-255 para 0-1.\n",
        "pre_processing = tf.keras.Sequential([normalization_layer])         #Sequential = irá criar a estrutura da rede neural, que será passado uma sequencia de camadas por isso usaremos sequential.\n",
        "pre_processing.add(tf.keras.layers.RandomRotation(40))              #Irá girar algumas imagens aleatório em 40° e adicionar no pré-processamento, pois pode ser que as imagens separadas para o treinamento não sejam o suficienteentão será necessário \"criar\" mais imagens para o mesmo.\n",
        "pre_processing.add(tf.keras.layers.RandomTranslation(0, 0.2))       #O segundo parametro é a largura, irá deslocar as imagens aleatóriamente em 20% na horizontal.\n",
        "pre_processing.add(tf.keras.layers.RandomTranslation(0.2, 0))       #O primeiro parametro é a altura, irá deslocar as imagens aleatóriamente em 20% na vertical.\n",
        "pre_processing.add(tf.keras.layers.RandomZoom(0.2, 0.2))            #Adicionando imagens aleatórias com o zoom aumentando em 20% e com o zoom reduzido em 20%.\n",
        "pre_processing.add(tf.keras.layers.RandomFlip(mode = 'horizontal')) #Gira as imagens horizontalmente."
      ],
      "metadata": {
        "id": "RNOszHEMITTK"
      },
      "execution_count": 66,
      "outputs": []
    },
    {
      "cell_type": "code",
      "source": [
        "#MAP em Python é uma função que funciona como um iterador para retornar um resultado após aplicar uma função a cada item de um iterável (tupla, listas, etc.). É usado quando\n",
        "#você deseja aplicar uma única função de transformação a todos os elementos iteráveis. O iterável e a função são passados como argumentos para o mapa em Python.\n",
        "\n",
        "#As funções LAMBDA são semelhantes às funções definidas pelo usuário, mas sem nome. Eles são comumente chamados de funções anônimas. As funções lambda são eficientes sempre que\n",
        "#você deseja criar uma função que contenha apenas expressões simples – ou seja, expressões que geralmente são uma única linha de uma instrução.\n",
        "\n",
        "train_dataset = train_dataset.map(lambda images, labels: (pre_processing(images), labels))    #Irá mandar as imagens para o pre_processing.\n",
        "train_dataset"
      ],
      "metadata": {
        "colab": {
          "base_uri": "https://localhost:8080/"
        },
        "id": "b08JoMZwKQ-4",
        "outputId": "2e013817-7954-4cbe-c569-690621719ca0"
      },
      "execution_count": 67,
      "outputs": [
        {
          "output_type": "execute_result",
          "data": {
            "text/plain": [
              "<_MapDataset element_spec=(TensorSpec(shape=(None, 260, 260, 3), dtype=tf.float32, name=None), TensorSpec(shape=(None, 4), dtype=tf.float32, name=None))>"
            ]
          },
          "metadata": {},
          "execution_count": 67
        }
      ]
    },
    {
      "cell_type": "code",
      "source": [
        "test_dataset = tf.keras.preprocessing.image_dataset_from_directory(data_directory,\n",
        "                                                                   validation_split= .20,\n",
        "                                                                   subset ='validation',          #Agora o nome do subconjunto será validation, que usaremos para o teste.\n",
        "                                                                   label_mode ='categorical',\n",
        "                                                                   seed = 123,\n",
        "                                                                   image_size = image_size,\n",
        "                                                                   batch_size = 1)"
      ],
      "metadata": {
        "id": "KzoWG6q2LnLh",
        "colab": {
          "base_uri": "https://localhost:8080/"
        },
        "outputId": "0ec20445-e957-4717-8b62-4458e80d2103"
      },
      "execution_count": 68,
      "outputs": [
        {
          "output_type": "stream",
          "name": "stdout",
          "text": [
            "Found 601 files belonging to 4 classes.\n",
            "Using 120 files for validation.\n"
          ]
        }
      ]
    },
    {
      "cell_type": "code",
      "source": [
        "test_size = test_dataset.cardinality().numpy()    #Extrai a quantidade de imagens que será utilizada para o teste\n",
        "test_size                                         #Mostra a quantidade de imagens que iremos utilizar para o teste"
      ],
      "metadata": {
        "colab": {
          "base_uri": "https://localhost:8080/"
        },
        "id": "X0lPQpzVMxMx",
        "outputId": "96ec0a0b-856d-4242-df85-3d3fd43b0bed"
      },
      "execution_count": 69,
      "outputs": [
        {
          "output_type": "execute_result",
          "data": {
            "text/plain": [
              "120"
            ]
          },
          "metadata": {},
          "execution_count": 69
        }
      ]
    },
    {
      "cell_type": "code",
      "source": [
        "#Será necessário alterar o conjunto de dados para o mesmo formado utilizado no treinamento.\n",
        "\n",
        "test_dataset = test_dataset.unbatch().batch(BATCH_SIZE)\n",
        "test_dataset = test_dataset.map(lambda images, labels: (pre_processing(images), labels))"
      ],
      "metadata": {
        "id": "V-advWyENUxD"
      },
      "execution_count": 70,
      "outputs": []
    },
    {
      "cell_type": "code",
      "source": [
        "model = tf.keras.Sequential([                                                              #Uma rede neural é composta por uma sequencia de camadas.\n",
        "                              tf.keras.layers.InputLayer(input_shape= image_size + (3,)),  #Entrada da imagens, o número 3 é devido a imagen ser colorida RGB\n",
        "                              hub.KerasLayer(model_path, trainable = False),               #Fazer o download do modelo, \"trainable = False\" isso significa que quando treinarmos a rede neural, não vamos treinar esses pesos que já estão armazenado no modelo do qual faremos o download.\n",
        "                              tf.keras.layers.Dropout(rate = 0.2),                         #Dropout: https://jmlr.org/papers/volume15/srivastava14a/srivastava14a.pdf\n",
        "                              tf.keras.layers.Dense(len(classes))                          #O quantidade de neurônios de sáida deverá ser a mesma quntidade de de classes\n",
        "])"
      ],
      "metadata": {
        "id": "UwnRGQnHaE1W"
      },
      "execution_count": 71,
      "outputs": []
    },
    {
      "cell_type": "code",
      "source": [
        "(None, ) + image_size + (3, )"
      ],
      "metadata": {
        "colab": {
          "base_uri": "https://localhost:8080/"
        },
        "id": "NH7WmQ-Hc8Yb",
        "outputId": "68a65004-7bd4-4f3c-bc30-e69929906e57"
      },
      "execution_count": 72,
      "outputs": [
        {
          "output_type": "execute_result",
          "data": {
            "text/plain": [
              "(None, 260, 260, 3)"
            ]
          },
          "metadata": {},
          "execution_count": 72
        }
      ]
    },
    {
      "cell_type": "code",
      "source": [
        "model.build((None, )+ image_size + (3,))  #O primeiro parametro siginifica a quantidade de imagens que será enviada para o modelo, por isso começa \"vazia\".\n",
        "model.summary()"
      ],
      "metadata": {
        "colab": {
          "base_uri": "https://localhost:8080/"
        },
        "id": "jHclCDWIbQpj",
        "outputId": "6446f9a7-c0da-4cd0-c887-9d3f931d0e4b"
      },
      "execution_count": 73,
      "outputs": [
        {
          "output_type": "stream",
          "name": "stdout",
          "text": [
            "Model: \"sequential_3\"\n",
            "_________________________________________________________________\n",
            " Layer (type)                Output Shape              Param #   \n",
            "=================================================================\n",
            " keras_layer_1 (KerasLayer)  (None, 1408)              8769374   \n",
            "                                                                 \n",
            " dropout_1 (Dropout)         (None, 1408)              0         \n",
            "                                                                 \n",
            " dense_1 (Dense)             (None, 4)                 5636      \n",
            "                                                                 \n",
            "=================================================================\n",
            "Total params: 8775010 (33.47 MB)\n",
            "Trainable params: 5636 (22.02 KB)\n",
            "Non-trainable params: 8769374 (33.45 MB)\n",
            "_________________________________________________________________\n"
          ]
        }
      ]
    },
    {
      "cell_type": "code",
      "source": [
        "#Adam = O algoritmo Adaptive Movement Estimation, ou Adam, para abreviar, é uma extensão da descida gradiente e um sucessor natural de técnicas como AdaGrad e RMSProp que adapta\n",
        "#automaticamente uma taxa de aprendizagem para cada variável de entrada para a função objetivo e suaviza ainda mais o processo de pesquisa usando um exponencialmente.\n",
        "\n",
        "model.compile(optimizer='adam', loss=tf.keras.losses.CategoricalCrossentropy(from_logits=True), metrics = 'accuracy')"
      ],
      "metadata": {
        "id": "UslZiLBhcQJz"
      },
      "execution_count": 74,
      "outputs": []
    },
    {
      "cell_type": "code",
      "source": [
        "steps_per_epoch = training_size // BATCH_SIZE\n",
        "validation_steps = test_size // BATCH_SIZE\n",
        "print(steps_per_epoch, validation_steps)"
      ],
      "metadata": {
        "colab": {
          "base_uri": "https://localhost:8080/"
        },
        "id": "bOaUfPmMfszz",
        "outputId": "6d29c80f-9b63-4afd-9937-f7ef010339bc"
      },
      "execution_count": 75,
      "outputs": [
        {
          "output_type": "stream",
          "name": "stdout",
          "text": [
            "30 7\n"
          ]
        }
      ]
    },
    {
      "cell_type": "code",
      "source": [
        "#\"model.fir\" a rede neural começará a treinar, os pesos serão ajustados e vamos enviar o treino.\n",
        "#Epochs = Uma época é quando todos os dados de treinamento são usados ​​de uma vez e é definida como o número total de iterações de todos os dados de treinamento em um ciclo para treinar o modelo de aprendizado de máquina\n",
        "\n",
        "hist = model.fit(train_dataset, epochs= 15, steps_per_epoch = steps_per_epoch,\n",
        "                 validation_data = test_dataset, validation_steps = validation_steps).history"
      ],
      "metadata": {
        "colab": {
          "base_uri": "https://localhost:8080/"
        },
        "id": "Dz19yiGQgcLF",
        "outputId": "5b76d2c4-1ec1-4a19-af63-9b6da6aa9308"
      },
      "execution_count": 76,
      "outputs": [
        {
          "output_type": "stream",
          "name": "stdout",
          "text": [
            "Epoch 1/15\n",
            "30/30 [==============================] - 153s 5s/step - loss: 1.7585 - accuracy: 0.3854 - val_loss: 1.1961 - val_accuracy: 0.4821\n",
            "Epoch 2/15\n",
            "30/30 [==============================] - 146s 5s/step - loss: 1.3242 - accuracy: 0.4882 - val_loss: 1.0682 - val_accuracy: 0.5446\n",
            "Epoch 3/15\n",
            "30/30 [==============================] - 148s 5s/step - loss: 1.2264 - accuracy: 0.5527 - val_loss: 1.0808 - val_accuracy: 0.5179\n",
            "Epoch 4/15\n",
            "30/30 [==============================] - 143s 5s/step - loss: 1.2662 - accuracy: 0.5011 - val_loss: 1.0488 - val_accuracy: 0.5536\n",
            "Epoch 5/15\n",
            "30/30 [==============================] - 144s 5s/step - loss: 1.2120 - accuracy: 0.5355 - val_loss: 1.0410 - val_accuracy: 0.6250\n",
            "Epoch 6/15\n",
            "30/30 [==============================] - 146s 5s/step - loss: 1.2281 - accuracy: 0.5419 - val_loss: 1.0026 - val_accuracy: 0.5625\n",
            "Epoch 7/15\n",
            "30/30 [==============================] - 144s 5s/step - loss: 1.1692 - accuracy: 0.5312 - val_loss: 0.9626 - val_accuracy: 0.6071\n",
            "Epoch 8/15\n",
            "30/30 [==============================] - 143s 5s/step - loss: 1.1879 - accuracy: 0.5226 - val_loss: 1.0108 - val_accuracy: 0.5804\n",
            "Epoch 9/15\n",
            "30/30 [==============================] - 128s 4s/step - loss: 1.1019 - accuracy: 0.5613 - val_loss: 0.8910 - val_accuracy: 0.6339\n",
            "Epoch 10/15\n",
            "30/30 [==============================] - 149s 5s/step - loss: 1.0790 - accuracy: 0.5720 - val_loss: 0.8805 - val_accuracy: 0.6607\n",
            "Epoch 11/15\n",
            "30/30 [==============================] - 126s 4s/step - loss: 1.0450 - accuracy: 0.5871 - val_loss: 0.9163 - val_accuracy: 0.6161\n",
            "Epoch 12/15\n",
            "30/30 [==============================] - 144s 5s/step - loss: 1.0345 - accuracy: 0.5978 - val_loss: 0.9652 - val_accuracy: 0.6429\n",
            "Epoch 13/15\n",
            "30/30 [==============================] - 127s 4s/step - loss: 1.0766 - accuracy: 0.6043 - val_loss: 1.1800 - val_accuracy: 0.5893\n",
            "Epoch 14/15\n",
            "30/30 [==============================] - 149s 5s/step - loss: 1.0959 - accuracy: 0.5591 - val_loss: 0.9983 - val_accuracy: 0.5714\n",
            "Epoch 15/15\n",
            "30/30 [==============================] - 143s 5s/step - loss: 1.0031 - accuracy: 0.5914 - val_loss: 1.1688 - val_accuracy: 0.6161\n"
          ]
        }
      ]
    },
    {
      "cell_type": "code",
      "source": [
        "plt.figure()                                                #O gráfico é interessante pois assim você consegue saber por quantas épocas será necessário treinar o modelo.\n",
        "plt.ylabel('Loss (training and validation)')\n",
        "plt.xlabel('Steps')\n",
        "plt.plot(hist['loss'], label = 'training')\n",
        "plt.plot(hist['val_loss'], label = 'testing')\n",
        "plt.legend();"
      ],
      "metadata": {
        "colab": {
          "base_uri": "https://localhost:8080/",
          "height": 454
        },
        "id": "RHyK4C7vllt-",
        "outputId": "c9c6cd48-1b3f-448d-d605-4ea3033f3d8d"
      },
      "execution_count": 77,
      "outputs": [
        {
          "output_type": "display_data",
          "data": {
            "text/plain": [
              "<Figure size 640x480 with 1 Axes>"
            ],
            "image/png": "[encoded data removed]"
          },
          "metadata": {}
        }
      ]
    },
    {
      "cell_type": "code",
      "source": [
        "plt.figure()\n",
        "plt.ylabel('Accuracy (training and validation)')\n",
        "plt.xlabel('Steps')\n",
        "plt.plot(hist['accuracy'], label = 'training')\n",
        "plt.plot(hist['val_accuracy'], label = 'testing')\n",
        "plt.legend();"
      ],
      "metadata": {
        "colab": {
          "base_uri": "https://localhost:8080/",
          "height": 449
        },
        "id": "I3I4V3ipnj5N",
        "outputId": "7cd5dfa9-40d0-4e36-f0a4-ae5977cf6b1d"
      },
      "execution_count": 78,
      "outputs": [
        {
          "output_type": "display_data",
          "data": {
            "text/plain": [
              "<Figure size 640x480 with 1 Axes>"
            ],
            "image/png": "[encoded data removed]"
          },
          "metadata": {}
        }
      ]
    },
    {
      "cell_type": "code",
      "source": [
        "#Criando duas variáveis, x e y: x = será o pixels da imagens e y = será o rotulo/etiqueta.\n",
        "#Precisamos usar a função \"Next\" para obter a próxima imagem.\n",
        "#iter é um parâmetro da função, é o iterador sobre o qual a iteração deve ser realizada.\n",
        "#O segundo paramêtro da função \"test_dataset\" será o valor padrão a ser impresso se chegarmos ao final do iterador.\n",
        "\n",
        "x, y = next(iter(test_dataset))\n"
      ],
      "metadata": {
        "id": "I4t4QJB4xpH2"
      },
      "execution_count": 79,
      "outputs": []
    },
    {
      "cell_type": "code",
      "source": [
        "#As informações abaixo são referente aos pixels das imagens\n",
        "\n",
        "x"
      ],
      "metadata": {
        "id": "FDrL2oegyJ0k",
        "outputId": "3db340ad-7b06-4480-d190-4c99e553f188",
        "colab": {
          "base_uri": "https://localhost:8080/"
        }
      },
      "execution_count": 81,
      "outputs": [
        {
          "output_type": "execute_result",
          "data": {
            "text/plain": [
              "<tf.Tensor: shape=(16, 260, 260, 3), dtype=float32, numpy=\n",
              "array([[[[2.21175840e-03, 1.10543543e-03, 1.26755843e-03],\n",
              "         [9.70077119e-04, 8.86103805e-07, 3.22729931e-04],\n",
              "         [1.70882046e-03, 9.87787917e-06, 9.24614258e-04],\n",
              "         ...,\n",
              "         [5.24454057e-01, 4.27054942e-01, 2.12729990e-01],\n",
              "         [5.27063012e-01, 4.25830394e-01, 2.12691441e-01],\n",
              "         [5.22508442e-01, 4.21270788e-01, 2.06143647e-01]],\n",
              "\n",
              "        [[2.69684615e-03, 7.58251175e-04, 2.03145668e-03],\n",
              "         [2.50821398e-03, 4.57104898e-06, 1.21851685e-03],\n",
              "         [2.84659374e-03, 1.26624855e-05, 1.56075228e-03],\n",
              "         ...,\n",
              "         [5.29540062e-01, 4.32466090e-01, 2.12783098e-01],\n",
              "         [5.29907405e-01, 4.28152800e-01, 2.10023597e-01],\n",
              "         [5.28823495e-01, 4.25505936e-01, 2.05762565e-01]],\n",
              "\n",
              "        [[2.96528987e-03, 6.50320726e-04, 2.47773668e-03],\n",
              "         [1.87872816e-03, 9.18002333e-05, 1.05811795e-03],\n",
              "         [2.99840327e-03, 1.86240242e-04, 1.62859983e-03],\n",
              "         ...,\n",
              "         [5.31622171e-01, 4.33673203e-01, 2.14485332e-01],\n",
              "         [5.34165204e-01, 4.33595717e-01, 2.09919780e-01],\n",
              "         [5.35907328e-01, 4.33373153e-01, 2.07465649e-01]],\n",
              "\n",
              "        ...,\n",
              "\n",
              "        [[1.03653111e-02, 3.79894627e-05, 3.98999266e-03],\n",
              "         [1.19685773e-02, 4.72819047e-05, 4.18931805e-03],\n",
              "         [1.11349905e-02, 0.00000000e+00, 3.95084359e-03],\n",
              "         ...,\n",
              "         [9.32648429e-04, 5.10003201e-06, 4.45653277e-04],\n",
              "         [1.95943471e-03, 4.71588392e-05, 1.09706842e-03],\n",
              "         [5.92756271e-03, 2.15650361e-04, 2.89667631e-03]],\n",
              "\n",
              "        [[9.30635631e-03, 4.00153949e-04, 3.99354147e-03],\n",
              "         [1.11534148e-02, 3.97624099e-04, 4.20159800e-03],\n",
              "         [1.01298727e-02, 0.00000000e+00, 3.95664014e-03],\n",
              "         ...,\n",
              "         [1.14773144e-03, 4.42845048e-05, 5.34975377e-04],\n",
              "         [2.27750884e-03, 4.08497581e-04, 1.29715982e-03],\n",
              "         [7.23727327e-03, 6.92737231e-04, 3.16782878e-03]],\n",
              "\n",
              "        [[7.97953270e-03, 8.83701607e-04, 3.92395305e-03],\n",
              "         [8.31352733e-03, 4.86748642e-04, 3.93128116e-03],\n",
              "         [8.86108167e-03, 0.00000000e+00, 3.92156886e-03],\n",
              "         ...,\n",
              "         [9.21763538e-04, 1.99104121e-04, 3.87006847e-04],\n",
              "         [1.45193189e-03, 5.53124468e-04, 7.51182029e-04],\n",
              "         [3.67033947e-03, 8.57336330e-04, 1.58225861e-03]]],\n",
              "\n",
              "\n",
              "       [[[9.32676718e-04, 4.78423579e-04, 4.73776658e-04],\n",
              "         [1.21926959e-03, 9.44743399e-04, 9.44743399e-04],\n",
              "         [1.01497187e-03, 6.12327247e-04, 6.09014765e-04],\n",
              "         ...,\n",
              "         [1.39120931e-03, 1.38581451e-03, 1.39164715e-03],\n",
              "         [1.59575301e-03, 1.59499887e-03, 1.59575301e-03],\n",
              "         [1.30880740e-03, 1.30154309e-03, 1.30942161e-03]],\n",
              "\n",
              "        [[5.38610795e-04, 3.28384223e-04, 3.23331216e-04],\n",
              "         [8.50157230e-04, 6.70889858e-04, 6.70889858e-04],\n",
              "         [6.28071313e-04, 4.26734681e-04, 4.23132675e-04],\n",
              "         ...,\n",
              "         [3.67312634e-04, 3.50447866e-04, 3.67312634e-04],\n",
              "         [4.79245617e-04, 4.78628470e-04, 4.79245617e-04],\n",
              "         [3.22219596e-04, 2.98809377e-04, 3.22219596e-04]],\n",
              "\n",
              "        [[2.62786867e-04, 7.51330284e-04, 5.91406482e-04],\n",
              "         [4.62987635e-04, 4.37343697e-04, 4.37343697e-04],\n",
              "         [3.20274499e-04, 6.61169062e-04, 5.47167321e-04],\n",
              "         ...,\n",
              "         [1.16760342e-03, 1.15828158e-03, 1.16760342e-03],\n",
              "         [1.31226541e-03, 1.31218007e-03, 1.31226541e-03],\n",
              "         [1.10932509e-03, 1.09628250e-03, 1.10932509e-03]],\n",
              "\n",
              "        ...,\n",
              "\n",
              "        [[2.88044917e-04, 3.27318616e-04, 3.21469270e-04],\n",
              "         [3.58486141e-04, 3.97839991e-04, 3.98105185e-04],\n",
              "         [3.08272138e-04, 3.47568828e-04, 3.43475258e-04],\n",
              "         ...,\n",
              "         [8.26751813e-04, 1.20235444e-03, 9.11798212e-04],\n",
              "         [5.41381887e-04, 7.65468751e-04, 5.48254349e-04],\n",
              "         [9.41715320e-04, 1.37835718e-03, 1.05825462e-03]],\n",
              "\n",
              "        [[7.92002364e-04, 9.11276089e-04, 8.82691122e-04],\n",
              "         [9.76345385e-04, 9.87193082e-04, 9.88651067e-04],\n",
              "         [8.44936352e-04, 9.33075673e-04, 9.13117547e-04],\n",
              "         ...,\n",
              "         [8.68414587e-04, 1.58250995e-03, 1.09145464e-03],\n",
              "         [6.97981101e-04, 1.05314062e-03, 7.14766094e-04],\n",
              "         [9.37075121e-04, 1.79577048e-03, 1.24320667e-03]],\n",
              "\n",
              "        [[6.69753645e-04, 8.03954550e-04, 7.73504609e-04],\n",
              "         [5.24953823e-04, 5.55164297e-04, 5.56496554e-04],\n",
              "         [6.28174399e-04, 7.32514425e-04, 7.11190747e-04],\n",
              "         ...,\n",
              "         [1.02704461e-03, 1.19728630e-03, 1.10139383e-03],\n",
              "         [1.01479003e-03, 1.08435797e-03, 1.02111860e-03],\n",
              "         [1.03198155e-03, 1.24278036e-03, 1.13373343e-03]]],\n",
              "\n",
              "\n",
              "       [[[6.43414911e-04, 6.11336669e-04, 6.52680988e-04],\n",
              "         [9.15080309e-04, 8.66306422e-04, 9.20791877e-04],\n",
              "         [3.60267470e-04, 3.60267470e-04, 3.60267470e-04],\n",
              "         ...,\n",
              "         [6.34579104e-04, 6.34579104e-04, 6.34579104e-04],\n",
              "         [9.28281050e-04, 9.28281050e-04, 9.28281050e-04],\n",
              "         [1.12294429e-03, 8.92568729e-04, 1.01078139e-03]],\n",
              "\n",
              "        [[8.54265818e-04, 6.61971862e-04, 7.69991078e-04],\n",
              "         [1.79827178e-03, 1.64520519e-03, 1.79016136e-03],\n",
              "         [9.45768668e-04, 9.40874161e-04, 9.45768668e-04],\n",
              "         ...,\n",
              "         [8.46798474e-04, 8.46798474e-04, 8.46798474e-04],\n",
              "         [1.05674588e-03, 1.05674588e-03, 1.05674588e-03],\n",
              "         [7.58539420e-04, 6.55006617e-04, 7.47590209e-04]],\n",
              "\n",
              "        [[1.01348280e-03, 8.69242474e-04, 8.09216581e-04],\n",
              "         [1.44621439e-03, 1.35470321e-03, 1.40399486e-03],\n",
              "         [1.47650589e-03, 1.47415814e-03, 1.47650589e-03],\n",
              "         ...,\n",
              "         [3.26954818e-04, 3.64503969e-04, 3.44574306e-04],\n",
              "         [2.84732843e-04, 6.44183136e-04, 4.53400688e-04],\n",
              "         [5.10378508e-04, 1.02388533e-03, 7.54372799e-04]],\n",
              "\n",
              "        ...,\n",
              "\n",
              "        [[1.28349435e-04, 1.60660129e-03, 4.34983987e-04],\n",
              "         [3.57753830e-04, 2.75525567e-03, 1.12095696e-03],\n",
              "         [7.25306920e-04, 1.71156018e-03, 1.15749857e-03],\n",
              "         ...,\n",
              "         [5.41472051e-04, 9.22966632e-04, 9.22966632e-04],\n",
              "         [1.31877314e-03, 1.41675863e-03, 1.38404372e-03],\n",
              "         [1.59948424e-03, 1.79754372e-03, 1.69712433e-03]],\n",
              "\n",
              "        [[2.52414029e-04, 1.02218916e-03, 3.71371600e-04],\n",
              "         [1.07373111e-03, 2.08942452e-03, 1.42594101e-03],\n",
              "         [1.33116927e-03, 1.84779079e-03, 1.55712035e-03],\n",
              "         ...,\n",
              "         [4.38572490e-04, 5.31533326e-04, 5.31533326e-04],\n",
              "         [3.94566276e-04, 9.41915729e-04, 8.07530829e-04],\n",
              "         [9.37748584e-04, 2.05281563e-03, 1.62025460e-03]],\n",
              "\n",
              "        [[5.02442883e-04, 1.42504903e-03, 7.80119153e-04],\n",
              "         [5.66922710e-04, 7.50352920e-04, 6.73271017e-04],\n",
              "         [6.26127003e-04, 7.10993772e-04, 6.53036288e-04],\n",
              "         ...,\n",
              "         [1.21748145e-03, 1.28773984e-03, 1.28773984e-03],\n",
              "         [1.97843925e-04, 1.04515755e-03, 1.00194593e-03],\n",
              "         [2.83522764e-04, 1.32983446e-03, 1.19953300e-03]]],\n",
              "\n",
              "\n",
              "       ...,\n",
              "\n",
              "\n",
              "       [[[9.45788808e-04, 1.61712221e-03, 1.61712221e-03],\n",
              "         [1.07344706e-03, 1.52218668e-03, 1.52218668e-03],\n",
              "         [7.87692668e-04, 8.40957393e-04, 8.40957393e-04],\n",
              "         ...,\n",
              "         [5.54414451e-01, 3.55520427e-01, 2.44499564e-01],\n",
              "         [5.48731565e-01, 3.55813980e-01, 2.44339556e-01],\n",
              "         [5.50857782e-01, 3.57010424e-01, 2.43456900e-01]],\n",
              "\n",
              "        [[5.67661191e-04, 1.39148813e-03, 1.39148813e-03],\n",
              "         [5.24786767e-04, 9.55462805e-04, 9.55462805e-04],\n",
              "         [4.28591418e-04, 5.55248756e-04, 4.75783687e-04],\n",
              "         ...,\n",
              "         [5.54660559e-01, 3.54456365e-01, 2.43582800e-01],\n",
              "         [5.48051596e-01, 3.54864299e-01, 2.44520664e-01],\n",
              "         [5.49940348e-01, 3.56884897e-01, 2.43863285e-01]],\n",
              "\n",
              "        [[3.08959017e-04, 9.02049418e-04, 9.02049418e-04],\n",
              "         [4.78437170e-04, 7.09987828e-04, 6.97759853e-04],\n",
              "         [5.01806382e-04, 8.14180821e-04, 5.22033020e-04],\n",
              "         ...,\n",
              "         [5.52337885e-01, 3.55663925e-01, 2.42233515e-01],\n",
              "         [5.47222316e-01, 3.55767667e-01, 2.44326144e-01],\n",
              "         [5.48709273e-01, 3.57084215e-01, 2.43829861e-01]],\n",
              "\n",
              "        ...,\n",
              "\n",
              "        [[5.55336475e-04, 8.33343191e-04, 5.68386633e-04],\n",
              "         [1.06838928e-03, 9.01443942e-04, 8.34518112e-04],\n",
              "         [1.46190380e-03, 1.55017700e-03, 1.45445694e-03],\n",
              "         ...,\n",
              "         [3.83032748e-04, 5.26159070e-04, 4.16179100e-04],\n",
              "         [2.18867091e-04, 4.55763540e-04, 2.68046919e-04],\n",
              "         [1.78047922e-04, 2.49090954e-04, 3.07239359e-04]],\n",
              "\n",
              "        [[6.19276543e-04, 7.80754606e-04, 6.30072551e-04],\n",
              "         [1.42642809e-03, 8.43187096e-04, 8.23807437e-04],\n",
              "         [1.87976914e-03, 1.26707496e-03, 1.26685563e-03],\n",
              "         ...,\n",
              "         [1.51407009e-03, 1.53560261e-03, 1.42105483e-03],\n",
              "         [7.53580884e-04, 7.10176653e-04, 5.96630969e-04],\n",
              "         [2.41498841e-04, 1.64172016e-04, 1.97025758e-04]],\n",
              "\n",
              "        [[5.50377881e-04, 5.97676728e-04, 5.53540129e-04],\n",
              "         [1.08420488e-03, 5.25167969e-04, 5.14662941e-04],\n",
              "         [1.36777840e-03, 9.26900248e-04, 8.96034297e-04],\n",
              "         ...,\n",
              "         [1.93145045e-03, 1.93047686e-03, 1.76596048e-03],\n",
              "         [1.04993209e-03, 9.50676680e-04, 7.92161911e-04],\n",
              "         [2.65687122e-04, 1.50657812e-04, 1.36994015e-04]]],\n",
              "\n",
              "\n",
              "       [[[1.17388703e-02, 0.00000000e+00, 3.89573211e-03],\n",
              "         [1.12370662e-02, 2.20875251e-07, 3.39414878e-03],\n",
              "         [1.17392782e-02, 3.03593813e-04, 4.19973349e-03],\n",
              "         ...,\n",
              "         [1.05803534e-02, 2.56826286e-04, 3.04020895e-03],\n",
              "         [1.10486038e-02, 1.17307226e-03, 4.72778175e-03],\n",
              "         [1.17519014e-02, 4.28888452e-04, 4.34475299e-03]],\n",
              "\n",
              "        [[1.17592998e-02, 0.00000000e+00, 3.91616207e-03],\n",
              "         [1.16538685e-02, 7.70869146e-09, 3.81073775e-03],\n",
              "         [1.17539661e-02, 1.05728586e-05, 3.92140076e-03],\n",
              "         ...,\n",
              "         [7.58793438e-03, 1.18792072e-04, 1.52739941e-03],\n",
              "         [1.07595827e-02, 1.44760904e-03, 5.12916455e-03],\n",
              "         [1.17475586e-02, 4.41065204e-04, 4.36018035e-03]],\n",
              "\n",
              "        [[1.17647070e-02, 0.00000000e+00, 3.92156886e-03],\n",
              "         [1.17647070e-02, 0.00000000e+00, 3.92156886e-03],\n",
              "         [1.17647070e-02, 0.00000000e+00, 3.92156886e-03],\n",
              "         ...,\n",
              "         [4.55447845e-03, 6.10814968e-05, 1.39082817e-03],\n",
              "         [9.76083800e-03, 1.20352488e-03, 4.44819732e-03],\n",
              "         [1.11075304e-02, 1.65657970e-04, 3.43324500e-03]],\n",
              "\n",
              "        ...,\n",
              "\n",
              "        [[9.69313874e-07, 9.69313874e-07, 9.69313874e-07],\n",
              "         [1.71351770e-04, 1.71351770e-04, 1.71351770e-04],\n",
              "         [2.79195537e-03, 2.79195537e-03, 2.79195537e-03],\n",
              "         ...,\n",
              "         [1.97427534e-03, 1.62364612e-03, 1.74051838e-03],\n",
              "         [8.40506423e-03, 6.89767709e-04, 3.17089935e-03],\n",
              "         [8.22316110e-03, 4.61355317e-04, 1.70753151e-03]],\n",
              "\n",
              "        [[6.70797541e-04, 6.70797541e-04, 6.70797541e-04],\n",
              "         [0.00000000e+00, 0.00000000e+00, 0.00000000e+00],\n",
              "         [0.00000000e+00, 0.00000000e+00, 0.00000000e+00],\n",
              "         ...,\n",
              "         [7.38612609e-04, 4.39074065e-04, 5.36067120e-04],\n",
              "         [6.86145294e-03, 1.69680963e-04, 2.33699428e-03],\n",
              "         [8.81801173e-03, 6.66039356e-04, 3.31798801e-03]],\n",
              "\n",
              "        [[1.92204444e-03, 1.92204444e-03, 1.92204444e-03],\n",
              "         [2.29968933e-08, 2.29968933e-08, 2.29968933e-08],\n",
              "         [0.00000000e+00, 0.00000000e+00, 0.00000000e+00],\n",
              "         ...,\n",
              "         [1.16507255e-03, 8.99335661e-04, 9.81942052e-04],\n",
              "         [4.69358172e-03, 8.58980929e-05, 1.51922647e-03],\n",
              "         [7.28225475e-03, 1.63893017e-03, 3.42435460e-03]]],\n",
              "\n",
              "\n",
              "       [[[6.07565569e-04, 6.10014482e-04, 6.09508483e-04],\n",
              "         [1.48571446e-03, 1.48936489e-03, 1.48936489e-03],\n",
              "         [1.90852676e-03, 1.90982560e-03, 1.90982560e-03],\n",
              "         ...,\n",
              "         [3.01304273e-04, 4.17823117e-04, 3.01773165e-04],\n",
              "         [7.93103129e-04, 1.16357044e-03, 8.31236423e-04],\n",
              "         [4.88247082e-04, 1.03718450e-03, 7.73529289e-04]],\n",
              "\n",
              "        [[7.74016255e-04, 8.19046341e-04, 8.15531006e-04],\n",
              "         [1.78459426e-03, 1.88727467e-03, 1.87913305e-03],\n",
              "         [1.36852241e-03, 1.39794266e-03, 1.39385229e-03],\n",
              "         ...,\n",
              "         [1.96428417e-04, 4.80895542e-04, 3.71452334e-04],\n",
              "         [8.03745235e-04, 1.46331277e-03, 9.59293917e-04],\n",
              "         [9.38764773e-04, 2.04124395e-03, 1.40108122e-03]],\n",
              "\n",
              "        [[1.84689299e-04, 5.24724310e-04, 4.22647689e-04],\n",
              "         [4.22414771e-04, 1.20118039e-03, 9.66706895e-04],\n",
              "         [3.05136200e-04, 5.28149598e-04, 4.57545626e-04],\n",
              "         ...,\n",
              "         [1.29137043e-04, 1.05484808e-03, 8.40926543e-04],\n",
              "         [1.04089698e-03, 1.72204897e-03, 1.31600292e-03],\n",
              "         [1.65882823e-03, 2.65259342e-03, 1.99063821e-03]],\n",
              "\n",
              "        ...,\n",
              "\n",
              "        [[9.89967957e-04, 1.04825886e-03, 9.89986351e-04],\n",
              "         [2.34856713e-03, 2.49310560e-03, 2.34960555e-03],\n",
              "         [2.62306118e-03, 2.84755998e-03, 2.62876321e-03],\n",
              "         ...,\n",
              "         [1.34790526e-03, 1.57828105e-03, 1.35111506e-03],\n",
              "         [6.84671453e-04, 2.80121318e-03, 7.29441817e-04],\n",
              "         [2.74948135e-04, 1.27475662e-03, 3.54831136e-04]],\n",
              "\n",
              "        [[7.80752744e-04, 8.31352081e-04, 7.80779403e-04],\n",
              "         [1.94881589e-03, 2.07951223e-03, 1.95024186e-03],\n",
              "         [2.82644713e-03, 3.05309449e-03, 2.83399015e-03],\n",
              "         ...,\n",
              "         [1.54544110e-03, 1.66446343e-03, 1.54892891e-03],\n",
              "         [5.34584222e-04, 1.95768685e-03, 5.68117888e-04],\n",
              "         [3.62069928e-04, 1.03352207e-03, 4.13353264e-04]],\n",
              "\n",
              "        [[5.86762209e-04, 5.86926937e-04, 5.86801441e-04],\n",
              "         [1.28285820e-03, 1.29137514e-03, 1.28488918e-03],\n",
              "         [1.69678382e-03, 1.74070208e-03, 1.70727214e-03],\n",
              "         ...,\n",
              "         [3.56612203e-04, 3.64172622e-04, 3.57182726e-04],\n",
              "         [9.15362732e-04, 1.09440775e-03, 9.22400272e-04],\n",
              "         [1.09977997e-03, 1.36928982e-03, 1.29189063e-03]]]],\n",
              "      dtype=float32)>"
            ]
          },
          "metadata": {},
          "execution_count": 81
        }
      ]
    },
    {
      "cell_type": "code",
      "source": [
        "#Em cada lote tem 16 imagens, de 260x260 pixels coloridas(RGB).\n",
        "\n",
        "x.shape"
      ],
      "metadata": {
        "id": "jDlT6hPMx4jv",
        "outputId": "fbab57a3-32f5-4a21-b18f-6fa6cbee4776",
        "colab": {
          "base_uri": "https://localhost:8080/"
        }
      },
      "execution_count": 82,
      "outputs": [
        {
          "output_type": "execute_result",
          "data": {
            "text/plain": [
              "TensorShape([16, 260, 260, 3])"
            ]
          },
          "metadata": {},
          "execution_count": 82
        }
      ]
    },
    {
      "cell_type": "code",
      "source": [
        "#as linhas são referente as imagens no lote e as colunas são referente as classes.\n",
        "\n",
        "y"
      ],
      "metadata": {
        "id": "OZdnCjnvyNIu",
        "outputId": "969c8790-63b6-4476-85dd-9c8ce90a4fa3",
        "colab": {
          "base_uri": "https://localhost:8080/"
        }
      },
      "execution_count": 83,
      "outputs": [
        {
          "output_type": "execute_result",
          "data": {
            "text/plain": [
              "<tf.Tensor: shape=(16, 4), dtype=float32, numpy=\n",
              "array([[0., 1., 0., 0.],\n",
              "       [1., 0., 0., 0.],\n",
              "       [0., 0., 1., 0.],\n",
              "       [0., 0., 1., 0.],\n",
              "       [0., 1., 0., 0.],\n",
              "       [0., 1., 0., 0.],\n",
              "       [0., 1., 0., 0.],\n",
              "       [0., 0., 0., 1.],\n",
              "       [0., 1., 0., 0.],\n",
              "       [0., 1., 0., 0.],\n",
              "       [0., 0., 1., 0.],\n",
              "       [0., 1., 0., 0.],\n",
              "       [0., 0., 1., 0.],\n",
              "       [0., 1., 0., 0.],\n",
              "       [1., 0., 0., 0.],\n",
              "       [0., 1., 0., 0.]], dtype=float32)>"
            ]
          },
          "metadata": {},
          "execution_count": 83
        }
      ]
    },
    {
      "cell_type": "code",
      "source": [
        "#Em cada lote tem 16 imagens com duas classes possíevis.\n",
        "\n",
        "y.shape"
      ],
      "metadata": {
        "id": "lw3HTGfpyBKr",
        "outputId": "ce980e05-9703-473c-af2f-f668446f0b56",
        "colab": {
          "base_uri": "https://localhost:8080/"
        }
      },
      "execution_count": 84,
      "outputs": [
        {
          "output_type": "execute_result",
          "data": {
            "text/plain": [
              "TensorShape([16, 4])"
            ]
          },
          "metadata": {},
          "execution_count": 84
        }
      ]
    },
    {
      "cell_type": "code",
      "source": [
        "#Para classificar a imagem, o 1° parametro é a possição da imagem, 2° e 3° são os pixels e o 4° é referente ao canal de cores.\n",
        "\n",
        "image = x[3, :, :, :]\n",
        "image"
      ],
      "metadata": {
        "id": "_56kvDTuySeZ",
        "outputId": "2899c7af-aac7-4114-adbc-2316039bacef",
        "colab": {
          "base_uri": "https://localhost:8080/"
        }
      },
      "execution_count": 85,
      "outputs": [
        {
          "output_type": "execute_result",
          "data": {
            "text/plain": [
              "<tf.Tensor: shape=(260, 260, 3), dtype=float32, numpy=\n",
              "array([[[3.13899473e-05, 2.09675477e-07, 2.87794010e-05],\n",
              "        [8.82776367e-05, 2.71028455e-07, 8.63716414e-05],\n",
              "        [1.10012465e-04, 0.00000000e+00, 1.09236047e-04],\n",
              "        ...,\n",
              "        [7.92637933e-03, 6.91297057e-04, 3.92156886e-03],\n",
              "        [7.42135104e-03, 2.03340617e-03, 3.92156886e-03],\n",
              "        [7.12474436e-03, 1.85606675e-03, 3.92156886e-03]],\n",
              "\n",
              "       [[9.60314792e-05, 0.00000000e+00, 3.54344484e-05],\n",
              "        [1.45578713e-04, 0.00000000e+00, 6.34715034e-05],\n",
              "        [8.89949151e-05, 0.00000000e+00, 5.28482778e-05],\n",
              "        ...,\n",
              "        [8.21850076e-03, 1.05143792e-03, 3.90678411e-03],\n",
              "        [7.64509477e-03, 1.84381520e-03, 3.91074177e-03],\n",
              "        [7.11619062e-03, 1.63156562e-03, 3.91903659e-03]],\n",
              "\n",
              "       [[6.18337479e-04, 1.06167114e-07, 1.97309098e-04],\n",
              "        [7.94132648e-04, 0.00000000e+00, 2.72766571e-04],\n",
              "        [2.96426646e-04, 0.00000000e+00, 1.32896341e-04],\n",
              "        ...,\n",
              "        [8.68551247e-03, 8.83236120e-04, 3.83379590e-03],\n",
              "        [8.52550752e-03, 9.21018247e-04, 3.85715440e-03],\n",
              "        [8.25999118e-03, 6.32977986e-04, 3.90648609e-03]],\n",
              "\n",
              "       ...,\n",
              "\n",
              "       [[3.90266581e-03, 4.56773007e-04, 2.38451967e-03],\n",
              "        [2.88353162e-03, 2.81057699e-04, 1.89295434e-03],\n",
              "        [1.94156298e-03, 1.31140230e-04, 1.23813341e-03],\n",
              "        ...,\n",
              "        [7.38754345e-04, 1.17726209e-04, 3.15495592e-04],\n",
              "        [1.64013682e-03, 1.24432670e-04, 7.78919086e-04],\n",
              "        [1.64818554e-03, 1.97417132e-04, 7.27157691e-04]],\n",
              "\n",
              "       [[2.22838344e-03, 3.26510984e-04, 1.31638302e-03],\n",
              "        [1.94194005e-03, 4.72682063e-04, 1.30962930e-03],\n",
              "        [2.29200954e-03, 2.56282219e-04, 1.36874826e-03],\n",
              "        ...,\n",
              "        [2.76334787e-04, 2.04820157e-04, 2.33338476e-04],\n",
              "        [6.44217769e-04, 1.13160349e-04, 2.74315884e-04],\n",
              "        [1.47596549e-03, 1.51782413e-04, 4.77921596e-04]],\n",
              "\n",
              "       [[6.93083275e-04, 3.39191698e-04, 4.29865177e-04],\n",
              "        [8.64565489e-04, 5.67581272e-04, 7.70813785e-04],\n",
              "        [1.33907085e-03, 3.66800639e-04, 9.60793928e-04],\n",
              "        ...,\n",
              "        [7.56636844e-04, 4.60272568e-04, 6.14361139e-04],\n",
              "        [1.87625666e-03, 5.83877903e-04, 1.15664140e-03],\n",
              "        [2.57459749e-03, 3.14105302e-04, 1.30127883e-03]]], dtype=float32)>"
            ]
          },
          "metadata": {},
          "execution_count": 85
        }
      ]
    },
    {
      "cell_type": "code",
      "source": [
        "y_true = y[3]  #Selecionando a imagem que está na posição 3\n",
        "y_true"
      ],
      "metadata": {
        "id": "v-CpvYDhgW0w",
        "outputId": "62dad971-1c07-4f16-8abd-40a63f57a185",
        "colab": {
          "base_uri": "https://localhost:8080/"
        }
      },
      "execution_count": 86,
      "outputs": [
        {
          "output_type": "execute_result",
          "data": {
            "text/plain": [
              "<tf.Tensor: shape=(4,), dtype=float32, numpy=array([0., 0., 1., 0.], dtype=float32)>"
            ]
          },
          "metadata": {},
          "execution_count": 86
        }
      ]
    },
    {
      "cell_type": "code",
      "source": [
        "y_true = np.argmax(y[3]) #np.argmax irá retonar a posição do maior valor no conjunto de array.\n",
        "y_true"
      ],
      "metadata": {
        "id": "C6Ph6aIby1fM",
        "outputId": "36cb870e-6c7f-4d71-bb9f-6357e07d4199",
        "colab": {
          "base_uri": "https://localhost:8080/"
        }
      },
      "execution_count": 87,
      "outputs": [
        {
          "output_type": "execute_result",
          "data": {
            "text/plain": [
              "2"
            ]
          },
          "metadata": {},
          "execution_count": 87
        }
      ]
    },
    {
      "cell_type": "code",
      "source": [
        "classes[2] #a classe referente a posição 2 é o Glaucoma."
      ],
      "metadata": {
        "id": "lkZZmS-7y9Xk",
        "outputId": "566d5ed5-d1a7-4829-ff48-e7714c178831",
        "colab": {
          "base_uri": "https://localhost:8080/",
          "height": 36
        }
      },
      "execution_count": 88,
      "outputs": [
        {
          "output_type": "execute_result",
          "data": {
            "text/plain": [
              "'2_glaucoma'"
            ],
            "application/vnd.google.colaboratory.intrinsic+json": {
              "type": "string"
            }
          },
          "metadata": {},
          "execution_count": 88
        }
      ]
    },
    {
      "cell_type": "code",
      "source": [
        "plt.imshow(image)\n",
        "plt.axis('off');"
      ],
      "metadata": {
        "id": "WHjoB4D6zA_N",
        "outputId": "4d2943c7-2f91-4c47-cb34-4e558dcff596",
        "colab": {
          "base_uri": "https://localhost:8080/",
          "height": 406
        }
      },
      "execution_count": 89,
      "outputs": [
        {
          "output_type": "display_data",
          "data": {
            "text/plain": [
              "<Figure size 640x480 with 1 Axes>"
            ],
            "image/png": "[encoded data removed]"
          },
          "metadata": {}
        }
      ]
    },
    {
      "cell_type": "code",
      "source": [
        "image.shape"
      ],
      "metadata": {
        "id": "NLJKNhMpzP68",
        "outputId": "65706438-86af-4641-905c-414314cad8e9",
        "colab": {
          "base_uri": "https://localhost:8080/"
        }
      },
      "execution_count": 90,
      "outputs": [
        {
          "output_type": "execute_result",
          "data": {
            "text/plain": [
              "TensorShape([260, 260, 3])"
            ]
          },
          "metadata": {},
          "execution_count": 90
        }
      ]
    },
    {
      "cell_type": "code",
      "source": [
        "image = np.expand_dims(image, axis = 0) #Para enviar para a rede neural, precisamos converter esse formato para o formato em lote.\n",
        "image.shape"
      ],
      "metadata": {
        "id": "SHzI37nIzUXF",
        "outputId": "56aa2e77-ea9f-46a9-8d33-3981ffd08d0a",
        "colab": {
          "base_uri": "https://localhost:8080/"
        }
      },
      "execution_count": 91,
      "outputs": [
        {
          "output_type": "execute_result",
          "data": {
            "text/plain": [
              "(1, 260, 260, 3)"
            ]
          },
          "metadata": {},
          "execution_count": 91
        }
      ]
    },
    {
      "cell_type": "code",
      "source": [
        "prediction = model.predict(image)\n",
        "prediction"
      ],
      "metadata": {
        "id": "3poymBoxziQ8",
        "outputId": "c4e7c1b6-3f18-48e9-be6f-43f80892bf8a",
        "colab": {
          "base_uri": "https://localhost:8080/"
        }
      },
      "execution_count": null,
      "outputs": [
        {
          "output_type": "stream",
          "name": "stdout",
          "text": [
            "1/1 [==============================] - 1s 1s/step\n"
          ]
        },
        {
          "output_type": "execute_result",
          "data": {
            "text/plain": [
              "array([[ 0.72005826, -1.2352341 ]], dtype=float32)"
            ]
          },
          "metadata": {},
          "execution_count": 47
        }
      ]
    },
    {
      "cell_type": "code",
      "source": [
        "prediction = np.argmax(prediction)\n",
        "prediction"
      ],
      "metadata": {
        "id": "hNHEbWqqzres",
        "outputId": "fc7afe46-ad3c-438d-81a5-de5a60de9116",
        "colab": {
          "base_uri": "https://localhost:8080/"
        }
      },
      "execution_count": null,
      "outputs": [
        {
          "output_type": "execute_result",
          "data": {
            "text/plain": [
              "0"
            ]
          },
          "metadata": {},
          "execution_count": 48
        }
      ]
    },
    {
      "cell_type": "code",
      "source": [],
      "metadata": {
        "id": "mjsEPr-n0NcE"
      },
      "execution_count": null,
      "outputs": []
    },
    {
      "cell_type": "code",
      "source": [],
      "metadata": {
        "id": "7kAzh2zGz8MV"
      },
      "execution_count": null,
      "outputs": []
    },
    {
      "cell_type": "markdown",
      "source": [],
      "metadata": {
        "id": "P9vhCU7DzPRd"
      }
    },
    {
      "cell_type": "markdown",
      "source": [],
      "metadata": {
        "id": "KqvYuQ_gx4bD"
      }
    }
  ]
}