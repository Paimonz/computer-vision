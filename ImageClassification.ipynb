{
  "nbformat": 4,
  "nbformat_minor": 0,
  "metadata": {
    "colab": {
      "provenance": [],
      "name": "ImageClassification.ipynb",
      "mount_file_id": "https://gist.github.com/Paimonz/e29d3da25dfb283e976eaa159a4a2d18#file-c-pia-de-imageclassification-ipynb",
      "authorship_tag": "ABX9TyOolYKOfMC4hGgjW0j5nG7R",
      "include_colab_link": true
    },
    "kernelspec": {
      "name": "python3",
      "display_name": "Python 3"
    },
    "language_info": {
      "name": "python"
    }
  },
  "cells": [
    {
      "cell_type": "markdown",
      "metadata": {
        "id": "view-in-github",
        "colab_type": "text"
      },
      "source": [
        "<a href=\"https://colab.research.google.com/github/Paimonz/computer-vision/blob/main/ImageClassification.ipynb\" target=\"_parent\"><img src=\"https://colab.research.google.com/assets/colab-badge.svg\" alt=\"Open In Colab\"/></a>"
      ]
    },
    {
      "cell_type": "code",
      "execution_count": 1,
      "metadata": {
        "colab": {
          "base_uri": "https://localhost:8080/"
        },
        "id": "oacAu5x0TNXX",
        "outputId": "486fe8d7-84a0-4ccb-a1db-e1b670c17b6c"
      },
      "outputs": [
        {
          "output_type": "stream",
          "name": "stdout",
          "text": [
            "TensorFlow version: 2.12.0\n",
            "TensorFlow Hub version: 0.14.0\n"
          ]
        }
      ],
      "source": [
        "import pathlib\n",
        "import matplotlib.pyplot as plt\n",
        "import numpy as np\n",
        "import tensorflow as tf\n",
        "import tensorflow_hub as hub\n",
        "print('TensorFlow version:', tf.__version__)\n",
        "print('TensorFlow Hub version:', hub.__version__)"
      ]
    },
    {
      "cell_type": "code",
      "source": [
        "model_name = 'efficientnetv2-b2-21k'"
      ],
      "metadata": {
        "id": "b9Wyt3T9WTL-"
      },
      "execution_count": 2,
      "outputs": []
    },
    {
      "cell_type": "code",
      "source": [
        "models_path = {\n",
        "    \"efficientnetv2-b2-21k\": \"https://tfhub.dev/google/imagenet/efficientnet_v2_imagenet21k_b2/feature_vector/2\",\n",
        "}"
      ],
      "metadata": {
        "id": "rrx5IQ5tWicE"
      },
      "execution_count": 3,
      "outputs": []
    },
    {
      "cell_type": "code",
      "source": [
        "models_pixels = {\n",
        "    \"efficientnetv2-b2-21k\": 260\n",
        "}"
      ],
      "metadata": {
        "id": "GS2YK1ZBYZUW"
      },
      "execution_count": 4,
      "outputs": []
    },
    {
      "cell_type": "code",
      "source": [
        "model_path = models_path.get(model_name)\n",
        "model_path\n"
      ],
      "metadata": {
        "colab": {
          "base_uri": "https://localhost:8080/",
          "height": 36
        },
        "id": "JkLdZBgWZG_d",
        "outputId": "49823739-c661-4771-f30b-5270b66bcfe0"
      },
      "execution_count": 5,
      "outputs": [
        {
          "output_type": "execute_result",
          "data": {
            "text/plain": [
              "'https://tfhub.dev/google/imagenet/efficientnet_v2_imagenet21k_b2/feature_vector/2'"
            ],
            "application/vnd.google.colaboratory.intrinsic+json": {
              "type": "string"
            }
          },
          "metadata": {},
          "execution_count": 5
        }
      ]
    },
    {
      "cell_type": "code",
      "source": [
        "pixels = models_pixels.get(model_name)\n",
        "pixels"
      ],
      "metadata": {
        "colab": {
          "base_uri": "https://localhost:8080/"
        },
        "id": "tn_U-L3-aFqc",
        "outputId": "2447f4fb-0aae-48b5-b1a4-b0461832210d"
      },
      "execution_count": 6,
      "outputs": [
        {
          "output_type": "execute_result",
          "data": {
            "text/plain": [
              "260"
            ]
          },
          "metadata": {},
          "execution_count": 6
        }
      ]
    },
    {
      "cell_type": "code",
      "source": [
        "image_size = (pixels, pixels)\n",
        "image_size"
      ],
      "metadata": {
        "colab": {
          "base_uri": "https://localhost:8080/"
        },
        "id": "CfLw9ro5aAOd",
        "outputId": "1606750a-f20b-4532-f6b7-149344d17f93"
      },
      "execution_count": 7,
      "outputs": [
        {
          "output_type": "execute_result",
          "data": {
            "text/plain": [
              "(260, 260)"
            ]
          },
          "metadata": {},
          "execution_count": 7
        }
      ]
    },
    {
      "cell_type": "code",
      "source": [
        "print('Model: ', model_name)\n",
        "print('Path: ', model_path)\n",
        "print('Imagem size: ', image_size)"
      ],
      "metadata": {
        "colab": {
          "base_uri": "https://localhost:8080/"
        },
        "id": "9H5a9r2nbwTE",
        "outputId": "11d19c50-f2ed-40de-c6e0-38324b00f449"
      },
      "execution_count": 8,
      "outputs": [
        {
          "output_type": "stream",
          "name": "stdout",
          "text": [
            "Model:  efficientnetv2-b2-21k\n",
            "Path:  https://tfhub.dev/google/imagenet/efficientnet_v2_imagenet21k_b2/feature_vector/2\n",
            "Imagem size:  (260, 260)\n"
          ]
        }
      ]
    },
    {
      "cell_type": "code",
      "source": [
        "from keras.preprocessing.image import ImageDataGenerator"
      ],
      "metadata": {
        "id": "xpGy9_6RCB_D"
      },
      "execution_count": 9,
      "outputs": []
    },
    {
      "cell_type": "code",
      "source": [
        "flow_from_directory = \"/content/drive/MyDrive/Colab Notebooks/dataset\"\n",
        "data_directory = flow_from_directory\n",
        "print(data_directory)"
      ],
      "metadata": {
        "colab": {
          "base_uri": "https://localhost:8080/"
        },
        "id": "CjJbAW3o_lFT",
        "outputId": "b940c4d2-cf5c-4226-9886-088570316cf7"
      },
      "execution_count": 10,
      "outputs": [
        {
          "output_type": "stream",
          "name": "stdout",
          "text": [
            "/content/drive/MyDrive/Colab Notebooks/dataset\n"
          ]
        }
      ]
    },
    {
      "cell_type": "code",
      "source": [
        "train_dataset = tf.keras.preprocessing.image_dataset_from_directory(data_directory,\n",
        "                                                                    validation_split= .20,\n",
        "                                                                    subset = 'training',\n",
        "                                                                    label_mode='categorical',\n",
        "                                                                    seed = 123,\n",
        "                                                                    image_size=image_size,\n",
        "                                                                    batch_size=1)"
      ],
      "metadata": {
        "colab": {
          "base_uri": "https://localhost:8080/"
        },
        "id": "BHIDozoxCqki",
        "outputId": "cc3c889f-0d6a-4431-e0bd-717504deb39b"
      },
      "execution_count": 11,
      "outputs": [
        {
          "output_type": "stream",
          "name": "stdout",
          "text": [
            "Found 1050 files belonging to 2 classes.\n",
            "Using 840 files for training.\n"
          ]
        }
      ]
    },
    {
      "cell_type": "code",
      "source": [
        "train_dataset.class_names"
      ],
      "metadata": {
        "colab": {
          "base_uri": "https://localhost:8080/"
        },
        "id": "XmmCwjL1FWm1",
        "outputId": "acda7fa9-325d-45e0-e361-635748556ffd"
      },
      "execution_count": 12,
      "outputs": [
        {
          "output_type": "execute_result",
          "data": {
            "text/plain": [
              "['cataract', 'normal']"
            ]
          },
          "metadata": {},
          "execution_count": 12
        }
      ]
    },
    {
      "cell_type": "code",
      "source": [
        "classes = train_dataset.class_names\n",
        "classes"
      ],
      "metadata": {
        "colab": {
          "base_uri": "https://localhost:8080/"
        },
        "id": "hBSJ21aSFr7K",
        "outputId": "407cb223-5acc-470e-bc4c-5d4f162a90ca"
      },
      "execution_count": 13,
      "outputs": [
        {
          "output_type": "execute_result",
          "data": {
            "text/plain": [
              "['cataract', 'normal']"
            ]
          },
          "metadata": {},
          "execution_count": 13
        }
      ]
    },
    {
      "cell_type": "code",
      "source": [
        "training_size = train_dataset.cardinality().numpy()\n",
        "training_size"
      ],
      "metadata": {
        "colab": {
          "base_uri": "https://localhost:8080/"
        },
        "id": "ftzcCd8FGAZc",
        "outputId": "8a4d5329-df4a-4c41-a9e9-084426b9e8e6"
      },
      "execution_count": 14,
      "outputs": [
        {
          "output_type": "execute_result",
          "data": {
            "text/plain": [
              "840"
            ]
          },
          "metadata": {},
          "execution_count": 14
        }
      ]
    },
    {
      "cell_type": "code",
      "source": [
        "BATCH_SIZE = 16\n"
      ],
      "metadata": {
        "id": "h_gLIlALGbNL"
      },
      "execution_count": 15,
      "outputs": []
    },
    {
      "cell_type": "code",
      "source": [
        "train_dataset = train_dataset.unbatch().batch(BATCH_SIZE)\n",
        "train_dataset"
      ],
      "metadata": {
        "colab": {
          "base_uri": "https://localhost:8080/"
        },
        "id": "Ki3giSx0GlYz",
        "outputId": "da6f69ff-8e39-45d9-994f-e6ec3d413041"
      },
      "execution_count": 16,
      "outputs": [
        {
          "output_type": "execute_result",
          "data": {
            "text/plain": [
              "<_BatchDataset element_spec=(TensorSpec(shape=(None, 260, 260, 3), dtype=tf.float32, name=None), TensorSpec(shape=(None, 2), dtype=tf.float32, name=None))>"
            ]
          },
          "metadata": {},
          "execution_count": 16
        }
      ]
    },
    {
      "cell_type": "code",
      "source": [
        "840/16\n"
      ],
      "metadata": {
        "colab": {
          "base_uri": "https://localhost:8080/"
        },
        "id": "uUzbRQoCHjD7",
        "outputId": "2e8a51d8-cd40-4a7a-a130-5993ab51d96b"
      },
      "execution_count": 17,
      "outputs": [
        {
          "output_type": "execute_result",
          "data": {
            "text/plain": [
              "52.5"
            ]
          },
          "metadata": {},
          "execution_count": 17
        }
      ]
    },
    {
      "cell_type": "code",
      "source": [
        "train_dataset = train_dataset.repeat()"
      ],
      "metadata": {
        "id": "SNIDsQJlH5yy"
      },
      "execution_count": 18,
      "outputs": []
    },
    {
      "cell_type": "code",
      "source": [
        "from multiprocessing.process import parent_process\n",
        "normalization_layer = tf.keras.layers.Rescaling(1. /255)\n",
        "pre_processing = tf.keras.Sequential([normalization_layer])\n",
        "pre_processing.add(tf.keras.layers.RandomRotation(40))\n",
        "pre_processing.add(tf.keras.layers.RandomTranslation(0, 0.2))\n",
        "pre_processing.add(tf.keras.layers.RandomTranslation(0.2, 0))\n",
        "pre_processing.add(tf.keras.layers.RandomZoom(0.2, 0.2))\n",
        "pre_processing.add(tf.keras.layers.RandomFlip(mode = 'horizontal'))"
      ],
      "metadata": {
        "id": "RNOszHEMITTK"
      },
      "execution_count": 19,
      "outputs": []
    },
    {
      "cell_type": "code",
      "source": [
        "train_dataset = train_dataset.map(lambda images, labels: (pre_processing(images), labels))\n",
        "train_dataset"
      ],
      "metadata": {
        "colab": {
          "base_uri": "https://localhost:8080/"
        },
        "id": "b08JoMZwKQ-4",
        "outputId": "77f8c206-c450-41fb-cddf-898647fc28cd"
      },
      "execution_count": 20,
      "outputs": [
        {
          "output_type": "execute_result",
          "data": {
            "text/plain": [
              "<_MapDataset element_spec=(TensorSpec(shape=(None, 260, 260, 3), dtype=tf.float32, name=None), TensorSpec(shape=(None, 2), dtype=tf.float32, name=None))>"
            ]
          },
          "metadata": {},
          "execution_count": 20
        }
      ]
    },
    {
      "cell_type": "code",
      "source": [
        "test_dataset = tf.keras.preprocessing.image_dataset_from_directory(data_directory,\n",
        "                                                                   validation_split= .20,\n",
        "                                                                   subset ='validation',\n",
        "                                                                   label_mode ='categorical',\n",
        "                                                                   seed = 123,\n",
        "                                                                   image_size = image_size,\n",
        "                                                                   batch_size = 1)"
      ],
      "metadata": {
        "colab": {
          "base_uri": "https://localhost:8080/"
        },
        "id": "KzoWG6q2LnLh",
        "outputId": "c92e8a4f-797a-4550-a7ae-a21a0509c0b3"
      },
      "execution_count": 21,
      "outputs": [
        {
          "output_type": "stream",
          "name": "stdout",
          "text": [
            "Found 1050 files belonging to 2 classes.\n",
            "Using 210 files for validation.\n"
          ]
        }
      ]
    },
    {
      "cell_type": "code",
      "source": [
        "test_size = test_dataset.cardinality().numpy()\n",
        "test_size"
      ],
      "metadata": {
        "colab": {
          "base_uri": "https://localhost:8080/"
        },
        "id": "X0lPQpzVMxMx",
        "outputId": "a8d887cf-c684-4b23-a614-580432ebec3f"
      },
      "execution_count": 22,
      "outputs": [
        {
          "output_type": "execute_result",
          "data": {
            "text/plain": [
              "210"
            ]
          },
          "metadata": {},
          "execution_count": 22
        }
      ]
    },
    {
      "cell_type": "code",
      "source": [
        "test_dataset = test_dataset.unbatch().batch(BATCH_SIZE)\n",
        "test_dataset = test_dataset.map(lambda images, labels: (pre_processing(images), labels))"
      ],
      "metadata": {
        "id": "V-advWyENUxD"
      },
      "execution_count": 23,
      "outputs": []
    },
    {
      "cell_type": "code",
      "source": [
        "model = tf.keras.Sequential([\n",
        "                              tf.keras.layers.InputLayer(input_shape= image_size + (3,)),\n",
        "                              hub.KerasLayer(model_path, trainable = False),\n",
        "                              tf.keras.layers.Dropout(rate = 0.2),\n",
        "                              tf.keras.layers.Dense(len(classes))\n",
        "])"
      ],
      "metadata": {
        "id": "UwnRGQnHaE1W"
      },
      "execution_count": 26,
      "outputs": []
    },
    {
      "cell_type": "code",
      "source": [
        "(None, ) + image_size + (3, )"
      ],
      "metadata": {
        "colab": {
          "base_uri": "https://localhost:8080/"
        },
        "id": "NH7WmQ-Hc8Yb",
        "outputId": "4102bc83-f639-478d-df46-0f8ff3ba3c72"
      },
      "execution_count": 24,
      "outputs": [
        {
          "output_type": "execute_result",
          "data": {
            "text/plain": [
              "(None, 260, 260, 3)"
            ]
          },
          "metadata": {},
          "execution_count": 24
        }
      ]
    },
    {
      "cell_type": "code",
      "source": [
        "model.build((None, )+ image_size + (3,))\n",
        "model.summary()"
      ],
      "metadata": {
        "colab": {
          "base_uri": "https://localhost:8080/"
        },
        "id": "jHclCDWIbQpj",
        "outputId": "aa2712e8-6791-48e1-8e3c-98f42a5ac0d3"
      },
      "execution_count": 27,
      "outputs": [
        {
          "output_type": "stream",
          "name": "stdout",
          "text": [
            "Model: \"sequential_1\"\n",
            "_________________________________________________________________\n",
            " Layer (type)                Output Shape              Param #   \n",
            "=================================================================\n",
            " keras_layer (KerasLayer)    (None, 1408)              8769374   \n",
            "                                                                 \n",
            " dropout (Dropout)           (None, 1408)              0         \n",
            "                                                                 \n",
            " dense (Dense)               (None, 2)                 2818      \n",
            "                                                                 \n",
            "=================================================================\n",
            "Total params: 8,772,192\n",
            "Trainable params: 2,818\n",
            "Non-trainable params: 8,769,374\n",
            "_________________________________________________________________\n"
          ]
        }
      ]
    },
    {
      "cell_type": "code",
      "source": [
        "model.compile(optimizer='adam', loss=tf.keras.losses.CategoricalCrossentropy(from_logits=True), metrics = 'accuracy')"
      ],
      "metadata": {
        "id": "UslZiLBhcQJz"
      },
      "execution_count": 28,
      "outputs": []
    },
    {
      "cell_type": "code",
      "source": [
        "steps_per_epoch = training_size // BATCH_SIZE\n",
        "validation_steps = test_size // BATCH_SIZE\n",
        "print(steps_per_epoch, validation_steps)"
      ],
      "metadata": {
        "colab": {
          "base_uri": "https://localhost:8080/"
        },
        "id": "bOaUfPmMfszz",
        "outputId": "6331ef88-d13b-42af-f681-b9c473282fd8"
      },
      "execution_count": 29,
      "outputs": [
        {
          "output_type": "stream",
          "name": "stdout",
          "text": [
            "52 13\n"
          ]
        }
      ]
    },
    {
      "cell_type": "code",
      "source": [
        "hist = model.fit(train_dataset, epochs= 10, steps_per_epoch = steps_per_epoch,\n",
        "                 validation_data = test_dataset, validation_steps = validation_steps).history"
      ],
      "metadata": {
        "colab": {
          "base_uri": "https://localhost:8080/"
        },
        "id": "Dz19yiGQgcLF",
        "outputId": "b1e4736f-a739-407d-aa3f-58983a1e3e11"
      },
      "execution_count": 30,
      "outputs": [
        {
          "output_type": "stream",
          "name": "stdout",
          "text": [
            "Epoch 1/10\n",
            "52/52 [==============================] - 336s 6s/step - loss: 0.5574 - accuracy: 0.8125 - val_loss: 0.1343 - val_accuracy: 0.9519\n",
            "Epoch 2/10\n",
            "52/52 [==============================] - 152s 3s/step - loss: 0.1954 - accuracy: 0.9150 - val_loss: 0.0986 - val_accuracy: 0.9519\n",
            "Epoch 3/10\n",
            "52/52 [==============================] - 153s 3s/step - loss: 0.1792 - accuracy: 0.9308 - val_loss: 0.0955 - val_accuracy: 0.9615\n",
            "Epoch 4/10\n",
            "52/52 [==============================] - 140s 3s/step - loss: 0.1531 - accuracy: 0.9466 - val_loss: 0.0991 - val_accuracy: 0.9519\n",
            "Epoch 5/10\n",
            "52/52 [==============================] - 152s 3s/step - loss: 0.1299 - accuracy: 0.9490 - val_loss: 0.0973 - val_accuracy: 0.9663\n",
            "Epoch 6/10\n",
            "52/52 [==============================] - 153s 3s/step - loss: 0.1239 - accuracy: 0.9478 - val_loss: 0.0872 - val_accuracy: 0.9663\n",
            "Epoch 7/10\n",
            "52/52 [==============================] - 141s 3s/step - loss: 0.1384 - accuracy: 0.9490 - val_loss: 0.0937 - val_accuracy: 0.9663\n",
            "Epoch 8/10\n",
            "52/52 [==============================] - 152s 3s/step - loss: 0.1153 - accuracy: 0.9575 - val_loss: 0.0793 - val_accuracy: 0.9808\n",
            "Epoch 9/10\n",
            "52/52 [==============================] - 153s 3s/step - loss: 0.1173 - accuracy: 0.9648 - val_loss: 0.0728 - val_accuracy: 0.9663\n",
            "Epoch 10/10\n",
            "52/52 [==============================] - 158s 3s/step - loss: 0.0969 - accuracy: 0.9587 - val_loss: 0.0704 - val_accuracy: 0.9712\n"
          ]
        }
      ]
    },
    {
      "cell_type": "code",
      "source": [
        "plt.figure()\n",
        "plt.ylabel('Loss (training and validation)')\n",
        "plt.xlabel('Steps')\n",
        "plt.plot(hist['loss'], label = 'training')\n",
        "plt.plot(hist['val_loss'], label = 'testing')\n",
        "plt.legend();"
      ],
      "metadata": {
        "colab": {
          "base_uri": "https://localhost:8080/",
          "height": 449
        },
        "id": "RHyK4C7vllt-",
        "outputId": "1752dd69-e19a-4f8a-d01d-a6f9a19baa48"
      },
      "execution_count": 31,
      "outputs": [
        {
          "output_type": "display_data",
          "data": {
            "text/plain": [
              "<Figure size 640x480 with 1 Axes>"
            ],
            "image/png": "[encoded data removed]"
          },
          "metadata": {}
        }
      ]
    },
    {
      "cell_type": "code",
      "source": [
        "plt.figure()\n",
        "plt.ylabel('Accuracy (training and validation)')\n",
        "plt.xlabel('Steps')\n",
        "plt.plot(hist['accuracy'], label = 'training')\n",
        "plt.plot(hist['val_accuracy'], label = 'testing')\n",
        "plt.legend();"
      ],
      "metadata": {
        "colab": {
          "base_uri": "https://localhost:8080/",
          "height": 449
        },
        "id": "I3I4V3ipnj5N",
        "outputId": "210bcaed-0a54-4fd4-fccc-2514f627347d"
      },
      "execution_count": 32,
      "outputs": [
        {
          "output_type": "display_data",
          "data": {
            "text/plain": [
              "<Figure size 640x480 with 1 Axes>"
            ],
            "image/png": "[encoded data removed]"
          },
          "metadata": {}
        }
      ]
    },
    {
      "cell_type": "code",
      "source": [
        "x, y = next(iter(test_dataset))\n"
      ],
      "metadata": {
        "id": "I4t4QJB4xpH2"
      },
      "execution_count": 36,
      "outputs": []
    },
    {
      "cell_type": "code",
      "source": [
        "x"
      ],
      "metadata": {
        "id": "FDrL2oegyJ0k",
        "outputId": "1f500b3c-d82b-450f-bcb7-31f788e32320",
        "colab": {
          "base_uri": "https://localhost:8080/"
        }
      },
      "execution_count": 41,
      "outputs": [
        {
          "output_type": "execute_result",
          "data": {
            "text/plain": [
              "<tf.Tensor: shape=(16, 260, 260, 3), dtype=float32, numpy=\n",
              "array([[[[1.88633765e-03, 1.77837280e-03, 4.88267950e-04],\n",
              "         [1.07919788e-02, 7.45651126e-03, 3.66012170e-03],\n",
              "         [5.65968677e-02, 3.83785516e-02, 2.81220470e-02],\n",
              "         ...,\n",
              "         [5.38248897e-01, 3.67423296e-01, 2.72856355e-01],\n",
              "         [5.33671141e-01, 3.65247011e-01, 2.71604180e-01],\n",
              "         [5.44226050e-01, 3.71786237e-01, 2.78873533e-01]],\n",
              "\n",
              "        [[2.75459752e-04, 1.90174836e-03, 1.39707327e-03],\n",
              "         [4.06368403e-03, 4.77927877e-03, 1.63582654e-03],\n",
              "         [3.02532762e-02, 2.23806500e-02, 1.46881994e-02],\n",
              "         ...,\n",
              "         [6.02643192e-01, 3.96802425e-01, 2.91699290e-01],\n",
              "         [6.03517890e-01, 4.02813137e-01, 2.96443284e-01],\n",
              "         [6.02387547e-01, 4.02119577e-01, 2.96619087e-01]],\n",
              "\n",
              "        [[4.27036775e-06, 1.94178498e-03, 2.52354145e-03],\n",
              "         [1.72292965e-03, 3.78716341e-03, 1.06081215e-03],\n",
              "         [1.84690990e-02, 1.52835231e-02, 8.38361308e-03],\n",
              "         ...,\n",
              "         [6.03656471e-01, 3.83184552e-01, 2.84218997e-01],\n",
              "         [6.07518494e-01, 3.94058794e-01, 2.90038139e-01],\n",
              "         [6.05411708e-01, 3.95815223e-01, 2.88844734e-01]],\n",
              "\n",
              "        ...,\n",
              "\n",
              "        [[0.00000000e+00, 3.15089535e-04, 0.00000000e+00],\n",
              "         [0.00000000e+00, 0.00000000e+00, 0.00000000e+00],\n",
              "         [0.00000000e+00, 4.22232233e-06, 0.00000000e+00],\n",
              "         ...,\n",
              "         [0.00000000e+00, 1.76338290e-07, 0.00000000e+00],\n",
              "         [0.00000000e+00, 2.29242160e-05, 0.00000000e+00],\n",
              "         [0.00000000e+00, 3.97207259e-05, 0.00000000e+00]],\n",
              "\n",
              "        [[0.00000000e+00, 1.62497716e-04, 0.00000000e+00],\n",
              "         [0.00000000e+00, 0.00000000e+00, 0.00000000e+00],\n",
              "         [0.00000000e+00, 4.74550994e-08, 0.00000000e+00],\n",
              "         ...,\n",
              "         [5.00790918e-07, 6.59293573e-06, 8.64735512e-07],\n",
              "         [4.49572156e-07, 4.26155137e-04, 1.23986028e-04],\n",
              "         [1.35810495e-07, 9.14874952e-04, 1.31839683e-04]],\n",
              "\n",
              "        [[0.00000000e+00, 2.10319486e-05, 0.00000000e+00],\n",
              "         [0.00000000e+00, 0.00000000e+00, 0.00000000e+00],\n",
              "         [0.00000000e+00, 0.00000000e+00, 0.00000000e+00],\n",
              "         ...,\n",
              "         [5.11723745e-04, 1.81108699e-05, 2.54861108e-04],\n",
              "         [4.12297290e-04, 6.11640397e-04, 1.20378891e-03],\n",
              "         [1.20811543e-04, 2.18795566e-03, 1.19284110e-03]]],\n",
              "\n",
              "\n",
              "       [[[0.00000000e+00, 0.00000000e+00, 0.00000000e+00],\n",
              "         [0.00000000e+00, 0.00000000e+00, 0.00000000e+00],\n",
              "         [0.00000000e+00, 0.00000000e+00, 0.00000000e+00],\n",
              "         ...,\n",
              "         [1.39426009e-03, 8.35673127e-04, 2.40383524e-04],\n",
              "         [1.31900760e-03, 1.46459544e-03, 2.72765792e-05],\n",
              "         [1.14825461e-03, 2.07355223e-03, 4.52508772e-04]],\n",
              "\n",
              "        [[0.00000000e+00, 1.41204071e-08, 0.00000000e+00],\n",
              "         [0.00000000e+00, 0.00000000e+00, 0.00000000e+00],\n",
              "         [0.00000000e+00, 0.00000000e+00, 0.00000000e+00],\n",
              "         ...,\n",
              "         [2.67110172e-05, 1.95501745e-03, 3.70912836e-04],\n",
              "         [6.91362875e-05, 2.60263006e-03, 8.59236170e-05],\n",
              "         [2.25084601e-04, 2.59589101e-03, 7.17924908e-04]],\n",
              "\n",
              "        [[0.00000000e+00, 9.08939546e-06, 0.00000000e+00],\n",
              "         [0.00000000e+00, 0.00000000e+00, 0.00000000e+00],\n",
              "         [0.00000000e+00, 0.00000000e+00, 0.00000000e+00],\n",
              "         ...,\n",
              "         [0.00000000e+00, 8.74359685e-04, 8.82820023e-05],\n",
              "         [8.77976127e-05, 1.04378315e-03, 4.54876972e-05],\n",
              "         [3.49748472e-04, 8.77874147e-04, 2.60059314e-04]],\n",
              "\n",
              "        ...,\n",
              "\n",
              "        [[2.29334552e-02, 2.17265114e-02, 1.49866268e-02],\n",
              "         [7.88876414e-02, 7.11091384e-02, 5.24948165e-02],\n",
              "         [1.66756302e-01, 1.49168506e-01, 1.12931624e-01],\n",
              "         ...,\n",
              "         [3.35925817e-01, 2.30228439e-01, 1.38846770e-01],\n",
              "         [3.38807106e-01, 2.27966338e-01, 1.40013024e-01],\n",
              "         [3.43560010e-01, 2.27427393e-01, 1.40601873e-01]],\n",
              "\n",
              "        [[7.18598813e-02, 6.44188970e-02, 5.15659675e-02],\n",
              "         [1.55478522e-01, 1.39469534e-01, 1.09834969e-01],\n",
              "         [2.44137138e-01, 2.19875306e-01, 1.70335695e-01],\n",
              "         ...,\n",
              "         [3.38825375e-01, 2.31111288e-01, 1.37733221e-01],\n",
              "         [3.42117727e-01, 2.29750961e-01, 1.38677642e-01],\n",
              "         [3.47212315e-01, 2.29798645e-01, 1.40263498e-01]],\n",
              "\n",
              "        [[1.77774444e-01, 1.63868561e-01, 1.32714659e-01],\n",
              "         [2.53595471e-01, 2.30417326e-01, 1.81410059e-01],\n",
              "         [2.87302285e-01, 2.58609354e-01, 1.96463048e-01],\n",
              "         ...,\n",
              "         [3.43727589e-01, 2.33931109e-01, 1.39281020e-01],\n",
              "         [3.46928984e-01, 2.33599439e-01, 1.39682919e-01],\n",
              "         [3.49935740e-01, 2.32874691e-01, 1.39688820e-01]]],\n",
              "\n",
              "\n",
              "       [[[3.56410503e-01, 2.85822272e-01, 2.07390904e-01],\n",
              "         [3.57667923e-01, 2.87079751e-01, 2.08648294e-01],\n",
              "         [3.59246284e-01, 2.88658082e-01, 2.10226700e-01],\n",
              "         ...,\n",
              "         [6.73159491e-03, 7.75800273e-03, 2.56329705e-03],\n",
              "         [1.87316239e-02, 1.19411405e-02, 2.60410202e-03],\n",
              "         [2.54038125e-02, 7.10891653e-03, 1.22499524e-03]],\n",
              "\n",
              "        [[3.55449855e-01, 2.84861565e-01, 2.06430212e-01],\n",
              "         [3.56596291e-01, 2.86008030e-01, 2.07576707e-01],\n",
              "         [3.57888907e-01, 2.87300646e-01, 2.08869293e-01],\n",
              "         ...,\n",
              "         [9.88384825e-04, 4.33108211e-03, 5.19277342e-03],\n",
              "         [4.90994751e-03, 3.84124601e-03, 2.01202440e-03],\n",
              "         [1.15643926e-02, 2.62337341e-03, 6.14826684e-04]],\n",
              "\n",
              "        [[3.53978217e-01, 2.83389926e-01, 2.04958558e-01],\n",
              "         [3.55557472e-01, 2.84969211e-01, 2.06537828e-01],\n",
              "         [3.56771469e-01, 2.86183238e-01, 2.07751870e-01],\n",
              "         ...,\n",
              "         [6.21646817e-04, 7.86090642e-03, 1.30150244e-02],\n",
              "         [1.09896099e-03, 5.73713752e-03, 7.92595092e-03],\n",
              "         [3.75154149e-03, 2.60873511e-03, 2.91269133e-03]],\n",
              "\n",
              "        ...,\n",
              "\n",
              "        [[3.69533867e-01, 2.61732846e-01, 2.12998837e-01],\n",
              "         [2.79882580e-01, 1.94424421e-01, 1.57411218e-01],\n",
              "         [1.59714878e-01, 9.16175321e-02, 6.48197085e-02],\n",
              "         ...,\n",
              "         [5.76786280e-01, 4.46430385e-01, 3.57854009e-01],\n",
              "         [5.72636247e-01, 4.45281684e-01, 3.55618954e-01],\n",
              "         [5.70548415e-01, 4.43922460e-01, 3.53099853e-01]],\n",
              "\n",
              "        [[2.80778497e-01, 1.81586459e-01, 1.41892940e-01],\n",
              "         [1.56601131e-01, 8.07794631e-02, 5.49030714e-02],\n",
              "         [9.53765064e-02, 3.48457880e-02, 1.88793205e-02],\n",
              "         ...,\n",
              "         [5.80919206e-01, 4.46884513e-01, 3.59517068e-01],\n",
              "         [5.76362133e-01, 4.45777565e-01, 3.56795728e-01],\n",
              "         [5.73383093e-01, 4.44293320e-01, 3.52538943e-01]],\n",
              "\n",
              "        [[1.60701796e-01, 6.56970441e-02, 3.61260995e-02],\n",
              "         [9.45068523e-02, 2.28950009e-02, 1.10318158e-02],\n",
              "         [6.94991276e-02, 9.63360257e-03, 2.71224137e-03],\n",
              "         ...,\n",
              "         [5.83320975e-01, 4.46907699e-01, 3.60239595e-01],\n",
              "         [5.80340981e-01, 4.46252555e-01, 3.56603831e-01],\n",
              "         [5.77564180e-01, 4.45029497e-01, 3.51730078e-01]]],\n",
              "\n",
              "\n",
              "       ...,\n",
              "\n",
              "\n",
              "       [[[0.00000000e+00, 0.00000000e+00, 0.00000000e+00],\n",
              "         [0.00000000e+00, 0.00000000e+00, 0.00000000e+00],\n",
              "         [0.00000000e+00, 0.00000000e+00, 0.00000000e+00],\n",
              "         ...,\n",
              "         [0.00000000e+00, 0.00000000e+00, 0.00000000e+00],\n",
              "         [0.00000000e+00, 0.00000000e+00, 0.00000000e+00],\n",
              "         [0.00000000e+00, 0.00000000e+00, 0.00000000e+00]],\n",
              "\n",
              "        [[0.00000000e+00, 0.00000000e+00, 0.00000000e+00],\n",
              "         [0.00000000e+00, 0.00000000e+00, 0.00000000e+00],\n",
              "         [0.00000000e+00, 0.00000000e+00, 0.00000000e+00],\n",
              "         ...,\n",
              "         [0.00000000e+00, 0.00000000e+00, 0.00000000e+00],\n",
              "         [0.00000000e+00, 0.00000000e+00, 0.00000000e+00],\n",
              "         [0.00000000e+00, 0.00000000e+00, 0.00000000e+00]],\n",
              "\n",
              "        [[0.00000000e+00, 0.00000000e+00, 0.00000000e+00],\n",
              "         [0.00000000e+00, 0.00000000e+00, 0.00000000e+00],\n",
              "         [0.00000000e+00, 0.00000000e+00, 0.00000000e+00],\n",
              "         ...,\n",
              "         [0.00000000e+00, 0.00000000e+00, 0.00000000e+00],\n",
              "         [0.00000000e+00, 0.00000000e+00, 0.00000000e+00],\n",
              "         [0.00000000e+00, 0.00000000e+00, 0.00000000e+00]],\n",
              "\n",
              "        ...,\n",
              "\n",
              "        [[0.00000000e+00, 0.00000000e+00, 0.00000000e+00],\n",
              "         [0.00000000e+00, 0.00000000e+00, 0.00000000e+00],\n",
              "         [0.00000000e+00, 0.00000000e+00, 0.00000000e+00],\n",
              "         ...,\n",
              "         [0.00000000e+00, 0.00000000e+00, 0.00000000e+00],\n",
              "         [0.00000000e+00, 0.00000000e+00, 0.00000000e+00],\n",
              "         [0.00000000e+00, 0.00000000e+00, 0.00000000e+00]],\n",
              "\n",
              "        [[0.00000000e+00, 0.00000000e+00, 0.00000000e+00],\n",
              "         [0.00000000e+00, 0.00000000e+00, 0.00000000e+00],\n",
              "         [0.00000000e+00, 0.00000000e+00, 0.00000000e+00],\n",
              "         ...,\n",
              "         [0.00000000e+00, 0.00000000e+00, 0.00000000e+00],\n",
              "         [0.00000000e+00, 0.00000000e+00, 0.00000000e+00],\n",
              "         [0.00000000e+00, 0.00000000e+00, 0.00000000e+00]],\n",
              "\n",
              "        [[0.00000000e+00, 0.00000000e+00, 0.00000000e+00],\n",
              "         [0.00000000e+00, 0.00000000e+00, 0.00000000e+00],\n",
              "         [0.00000000e+00, 0.00000000e+00, 0.00000000e+00],\n",
              "         ...,\n",
              "         [0.00000000e+00, 0.00000000e+00, 0.00000000e+00],\n",
              "         [0.00000000e+00, 0.00000000e+00, 0.00000000e+00],\n",
              "         [0.00000000e+00, 0.00000000e+00, 0.00000000e+00]]],\n",
              "\n",
              "\n",
              "       [[[6.59596324e-01, 3.61193091e-01, 1.24486990e-01],\n",
              "         [6.64599776e-01, 3.60666394e-01, 1.23140663e-01],\n",
              "         [6.64343715e-01, 3.56936336e-01, 1.19515479e-01],\n",
              "         ...,\n",
              "         [6.39932930e-01, 2.87074059e-01, 7.44110942e-02],\n",
              "         [6.42603040e-01, 2.90818512e-01, 6.26306087e-02],\n",
              "         [6.44222736e-01, 2.93592632e-01, 5.77470213e-02]],\n",
              "\n",
              "        [[6.75934255e-01, 3.76909733e-01, 1.35183990e-01],\n",
              "         [6.80618763e-01, 3.76298249e-01, 1.33825377e-01],\n",
              "         [6.75566316e-01, 3.69114906e-01, 1.26779422e-01],\n",
              "         ...,\n",
              "         [6.34794831e-01, 2.86552966e-01, 6.92296177e-02],\n",
              "         [6.35601938e-01, 2.88636863e-01, 5.81224933e-02],\n",
              "         [6.40162885e-01, 2.94156045e-01, 6.11576587e-02]],\n",
              "\n",
              "        [[6.59606934e-01, 3.61092985e-01, 1.24459386e-01],\n",
              "         [6.65151596e-01, 3.61079037e-01, 1.23823807e-01],\n",
              "         [6.64430499e-01, 3.57211471e-01, 1.19770020e-01],\n",
              "         ...,\n",
              "         [6.39052868e-01, 2.86135226e-01, 7.36747906e-02],\n",
              "         [6.42286301e-01, 2.90425509e-01, 6.25212193e-02],\n",
              "         [6.44296169e-01, 2.93463707e-01, 5.80455810e-02]],\n",
              "\n",
              "        ...,\n",
              "\n",
              "        [[6.67279005e-01, 4.01116431e-01, 1.88261449e-01],\n",
              "         [6.63730264e-01, 3.94038886e-01, 1.78399190e-01],\n",
              "         [6.71175182e-01, 3.95217746e-01, 1.76122829e-01],\n",
              "         ...,\n",
              "         [6.68484390e-01, 2.98352212e-01, 9.37218517e-02],\n",
              "         [6.60961688e-01, 2.90791869e-01, 9.38004702e-02],\n",
              "         [6.64807677e-01, 2.97004521e-01, 1.03912458e-01]],\n",
              "\n",
              "        [[6.53320193e-01, 4.00413752e-01, 1.81459785e-01],\n",
              "         [6.56679928e-01, 3.96634221e-01, 1.79518878e-01],\n",
              "         [6.71033859e-01, 4.02160347e-01, 1.85669094e-01],\n",
              "         ...,\n",
              "         [7.00107932e-01, 3.32590938e-01, 1.09218068e-01],\n",
              "         [6.79945350e-01, 3.09687406e-01, 1.05207555e-01],\n",
              "         [6.70247674e-01, 2.97492772e-01, 1.10110879e-01]],\n",
              "\n",
              "        [[6.54515624e-01, 4.05007154e-01, 1.85912833e-01],\n",
              "         [6.59943104e-01, 4.03190136e-01, 1.87079117e-01],\n",
              "         [6.61286771e-01, 3.98476511e-01, 1.84253708e-01],\n",
              "         ...,\n",
              "         [7.06291914e-01, 3.51546377e-01, 1.16922811e-01],\n",
              "         [7.01202035e-01, 3.43981594e-01, 1.23165838e-01],\n",
              "         [6.84427738e-01, 3.21091413e-01, 1.20277211e-01]]],\n",
              "\n",
              "\n",
              "       [[[0.00000000e+00, 0.00000000e+00, 0.00000000e+00],\n",
              "         [0.00000000e+00, 0.00000000e+00, 0.00000000e+00],\n",
              "         [0.00000000e+00, 0.00000000e+00, 0.00000000e+00],\n",
              "         ...,\n",
              "         [6.31630778e-01, 4.45844978e-01, 3.01993251e-01],\n",
              "         [6.29626870e-01, 4.45314884e-01, 3.00963461e-01],\n",
              "         [6.31297708e-01, 4.45756882e-01, 3.01822066e-01]],\n",
              "\n",
              "        [[0.00000000e+00, 0.00000000e+00, 0.00000000e+00],\n",
              "         [0.00000000e+00, 0.00000000e+00, 0.00000000e+00],\n",
              "         [0.00000000e+00, 0.00000000e+00, 0.00000000e+00],\n",
              "         ...,\n",
              "         [6.27488852e-01, 4.44002688e-01, 3.02913725e-01],\n",
              "         [6.25150979e-01, 4.43048120e-01, 3.01388979e-01],\n",
              "         [6.27100289e-01, 4.43844050e-01, 3.02660316e-01]],\n",
              "\n",
              "        [[0.00000000e+00, 0.00000000e+00, 0.00000000e+00],\n",
              "         [0.00000000e+00, 0.00000000e+00, 0.00000000e+00],\n",
              "         [0.00000000e+00, 0.00000000e+00, 0.00000000e+00],\n",
              "         ...,\n",
              "         [6.24408960e-01, 4.44499493e-01, 3.05690050e-01],\n",
              "         [6.22656643e-01, 4.44055706e-01, 3.03685158e-01],\n",
              "         [6.24117732e-01, 4.44425732e-01, 3.05356830e-01]],\n",
              "\n",
              "        ...,\n",
              "\n",
              "        [[6.93044305e-01, 5.20094514e-01, 3.38358462e-01],\n",
              "         [6.93728387e-01, 5.21225929e-01, 3.38893652e-01],\n",
              "         [6.92907929e-01, 5.19869030e-01, 3.38251829e-01],\n",
              "         ...,\n",
              "         [0.00000000e+00, 1.10840972e-03, 2.38562541e-04],\n",
              "         [0.00000000e+00, 4.03491955e-04, 1.52724569e-05],\n",
              "         [0.00000000e+00, 9.91251436e-04, 2.01451403e-04]],\n",
              "\n",
              "        [[6.90204859e-01, 5.18338919e-01, 3.38220805e-01],\n",
              "         [6.88851237e-01, 5.17646849e-01, 3.37449163e-01],\n",
              "         [6.90474570e-01, 5.18476844e-01, 3.38374585e-01],\n",
              "         ...,\n",
              "         [0.00000000e+00, 6.09777693e-04, 0.00000000e+00],\n",
              "         [0.00000000e+00, 2.31200305e-04, 0.00000000e+00],\n",
              "         [0.00000000e+00, 5.46857598e-04, 0.00000000e+00]],\n",
              "\n",
              "        [[6.87282503e-01, 5.20171225e-01, 3.42683434e-01],\n",
              "         [6.83532476e-01, 5.18112063e-01, 3.41160864e-01],\n",
              "         [6.88029766e-01, 5.20581543e-01, 3.42986882e-01],\n",
              "         ...,\n",
              "         [0.00000000e+00, 1.61643533e-04, 0.00000000e+00],\n",
              "         [0.00000000e+00, 6.35059332e-05, 0.00000000e+00],\n",
              "         [0.00000000e+00, 1.45332917e-04, 0.00000000e+00]]]],\n",
              "      dtype=float32)>"
            ]
          },
          "metadata": {},
          "execution_count": 41
        }
      ]
    },
    {
      "cell_type": "code",
      "source": [
        "x.shape"
      ],
      "metadata": {
        "id": "jDlT6hPMx4jv",
        "outputId": "d35dcc23-f2bf-483d-b068-2b8828fc6f20",
        "colab": {
          "base_uri": "https://localhost:8080/"
        }
      },
      "execution_count": 38,
      "outputs": [
        {
          "output_type": "execute_result",
          "data": {
            "text/plain": [
              "TensorShape([16, 260, 260, 3])"
            ]
          },
          "metadata": {},
          "execution_count": 38
        }
      ]
    },
    {
      "cell_type": "code",
      "source": [
        "y"
      ],
      "metadata": {
        "id": "OZdnCjnvyNIu",
        "outputId": "d7271e93-0f59-4539-a2db-f7047c21d91b",
        "colab": {
          "base_uri": "https://localhost:8080/"
        }
      },
      "execution_count": 42,
      "outputs": [
        {
          "output_type": "execute_result",
          "data": {
            "text/plain": [
              "<tf.Tensor: shape=(16, 2), dtype=float32, numpy=\n",
              "array([[0., 1.],\n",
              "       [0., 1.],\n",
              "       [1., 0.],\n",
              "       [0., 1.],\n",
              "       [0., 1.],\n",
              "       [0., 1.],\n",
              "       [0., 1.],\n",
              "       [0., 1.],\n",
              "       [0., 1.],\n",
              "       [0., 1.],\n",
              "       [0., 1.],\n",
              "       [0., 1.],\n",
              "       [0., 1.],\n",
              "       [0., 1.],\n",
              "       [0., 1.],\n",
              "       [0., 1.]], dtype=float32)>"
            ]
          },
          "metadata": {},
          "execution_count": 42
        }
      ]
    },
    {
      "cell_type": "code",
      "source": [
        "y.shape"
      ],
      "metadata": {
        "id": "lw3HTGfpyBKr",
        "outputId": "b330309a-b2b7-46e1-d24b-d58061af96fa",
        "colab": {
          "base_uri": "https://localhost:8080/"
        }
      },
      "execution_count": 40,
      "outputs": [
        {
          "output_type": "execute_result",
          "data": {
            "text/plain": [
              "TensorShape([16, 2])"
            ]
          },
          "metadata": {},
          "execution_count": 40
        }
      ]
    },
    {
      "cell_type": "code",
      "source": [
        "image = x[0, :, :, :]\n",
        "image"
      ],
      "metadata": {
        "id": "_56kvDTuySeZ",
        "outputId": "b31ee203-909b-475f-8f67-1853bec725e4",
        "colab": {
          "base_uri": "https://localhost:8080/"
        }
      },
      "execution_count": 46,
      "outputs": [
        {
          "output_type": "execute_result",
          "data": {
            "text/plain": [
              "<tf.Tensor: shape=(260, 260, 3), dtype=float32, numpy=\n",
              "array([[[1.8863376e-03, 1.7783728e-03, 4.8826795e-04],\n",
              "        [1.0791979e-02, 7.4565113e-03, 3.6601217e-03],\n",
              "        [5.6596868e-02, 3.8378552e-02, 2.8122047e-02],\n",
              "        ...,\n",
              "        [5.3824890e-01, 3.6742330e-01, 2.7285635e-01],\n",
              "        [5.3367114e-01, 3.6524701e-01, 2.7160418e-01],\n",
              "        [5.4422605e-01, 3.7178624e-01, 2.7887353e-01]],\n",
              "\n",
              "       [[2.7545975e-04, 1.9017484e-03, 1.3970733e-03],\n",
              "        [4.0636840e-03, 4.7792788e-03, 1.6358265e-03],\n",
              "        [3.0253276e-02, 2.2380650e-02, 1.4688199e-02],\n",
              "        ...,\n",
              "        [6.0264319e-01, 3.9680243e-01, 2.9169929e-01],\n",
              "        [6.0351789e-01, 4.0281314e-01, 2.9644328e-01],\n",
              "        [6.0238755e-01, 4.0211958e-01, 2.9661909e-01]],\n",
              "\n",
              "       [[4.2703678e-06, 1.9417850e-03, 2.5235415e-03],\n",
              "        [1.7229296e-03, 3.7871634e-03, 1.0608122e-03],\n",
              "        [1.8469099e-02, 1.5283523e-02, 8.3836131e-03],\n",
              "        ...,\n",
              "        [6.0365647e-01, 3.8318455e-01, 2.8421900e-01],\n",
              "        [6.0751849e-01, 3.9405879e-01, 2.9003814e-01],\n",
              "        [6.0541171e-01, 3.9581522e-01, 2.8884473e-01]],\n",
              "\n",
              "       ...,\n",
              "\n",
              "       [[0.0000000e+00, 3.1508954e-04, 0.0000000e+00],\n",
              "        [0.0000000e+00, 0.0000000e+00, 0.0000000e+00],\n",
              "        [0.0000000e+00, 4.2223223e-06, 0.0000000e+00],\n",
              "        ...,\n",
              "        [0.0000000e+00, 1.7633829e-07, 0.0000000e+00],\n",
              "        [0.0000000e+00, 2.2924216e-05, 0.0000000e+00],\n",
              "        [0.0000000e+00, 3.9720726e-05, 0.0000000e+00]],\n",
              "\n",
              "       [[0.0000000e+00, 1.6249772e-04, 0.0000000e+00],\n",
              "        [0.0000000e+00, 0.0000000e+00, 0.0000000e+00],\n",
              "        [0.0000000e+00, 4.7455099e-08, 0.0000000e+00],\n",
              "        ...,\n",
              "        [5.0079092e-07, 6.5929357e-06, 8.6473551e-07],\n",
              "        [4.4957216e-07, 4.2615514e-04, 1.2398603e-04],\n",
              "        [1.3581050e-07, 9.1487495e-04, 1.3183968e-04]],\n",
              "\n",
              "       [[0.0000000e+00, 2.1031949e-05, 0.0000000e+00],\n",
              "        [0.0000000e+00, 0.0000000e+00, 0.0000000e+00],\n",
              "        [0.0000000e+00, 0.0000000e+00, 0.0000000e+00],\n",
              "        ...,\n",
              "        [5.1172375e-04, 1.8110870e-05, 2.5486111e-04],\n",
              "        [4.1229729e-04, 6.1164040e-04, 1.2037889e-03],\n",
              "        [1.2081154e-04, 2.1879557e-03, 1.1928411e-03]]], dtype=float32)>"
            ]
          },
          "metadata": {},
          "execution_count": 46
        }
      ]
    },
    {
      "cell_type": "code",
      "source": [
        "y_true = np.argmax(y[0])\n",
        "y_true"
      ],
      "metadata": {
        "id": "C6Ph6aIby1fM",
        "outputId": "7699a7be-7021-4341-8c4f-ee2e8b263da8",
        "colab": {
          "base_uri": "https://localhost:8080/"
        }
      },
      "execution_count": 47,
      "outputs": [
        {
          "output_type": "execute_result",
          "data": {
            "text/plain": [
              "1"
            ]
          },
          "metadata": {},
          "execution_count": 47
        }
      ]
    },
    {
      "cell_type": "code",
      "source": [
        "classes[1]"
      ],
      "metadata": {
        "id": "lkZZmS-7y9Xk",
        "outputId": "cfca8655-7121-442d-9193-1e3556aeeb04",
        "colab": {
          "base_uri": "https://localhost:8080/",
          "height": 36
        }
      },
      "execution_count": 48,
      "outputs": [
        {
          "output_type": "execute_result",
          "data": {
            "text/plain": [
              "'normal'"
            ],
            "application/vnd.google.colaboratory.intrinsic+json": {
              "type": "string"
            }
          },
          "metadata": {},
          "execution_count": 48
        }
      ]
    },
    {
      "cell_type": "code",
      "source": [
        "plt.imshow(image)\n",
        "plt.axis('off');"
      ],
      "metadata": {
        "id": "WHjoB4D6zA_N",
        "outputId": "1c204c32-b487-45b5-bd5c-b295818486ec",
        "colab": {
          "base_uri": "https://localhost:8080/",
          "height": 406
        }
      },
      "execution_count": 51,
      "outputs": [
        {
          "output_type": "display_data",
          "data": {
            "text/plain": [
              "<Figure size 640x480 with 1 Axes>"
            ],
            "image/png": "[encoded data removed]"
          },
          "metadata": {}
        }
      ]
    },
    {
      "cell_type": "code",
      "source": [
        "image.shape"
      ],
      "metadata": {
        "id": "NLJKNhMpzP68",
        "outputId": "43cca329-d796-4a05-d572-3278fe2e0003",
        "colab": {
          "base_uri": "https://localhost:8080/"
        }
      },
      "execution_count": 52,
      "outputs": [
        {
          "output_type": "execute_result",
          "data": {
            "text/plain": [
              "TensorShape([260, 260, 3])"
            ]
          },
          "metadata": {},
          "execution_count": 52
        }
      ]
    },
    {
      "cell_type": "code",
      "source": [
        "image = np.expand_dims(image, axis = 0)\n",
        "image.shape"
      ],
      "metadata": {
        "id": "SHzI37nIzUXF",
        "outputId": "7ca59ec0-8b62-4b58-8f53-86dec0a665b3",
        "colab": {
          "base_uri": "https://localhost:8080/"
        }
      },
      "execution_count": 53,
      "outputs": [
        {
          "output_type": "execute_result",
          "data": {
            "text/plain": [
              "(1, 260, 260, 3)"
            ]
          },
          "metadata": {},
          "execution_count": 53
        }
      ]
    },
    {
      "cell_type": "code",
      "source": [
        "prediction = model.predict(image)\n",
        "prediction"
      ],
      "metadata": {
        "id": "3poymBoxziQ8",
        "outputId": "c178a214-f0e8-4d61-db09-9ef33d35aec2",
        "colab": {
          "base_uri": "https://localhost:8080/"
        }
      },
      "execution_count": 54,
      "outputs": [
        {
          "output_type": "stream",
          "name": "stdout",
          "text": [
            "1/1 [==============================] - 3s 3s/step\n"
          ]
        },
        {
          "output_type": "execute_result",
          "data": {
            "text/plain": [
              "array([[-3.6178818,  3.1566858]], dtype=float32)"
            ]
          },
          "metadata": {},
          "execution_count": 54
        }
      ]
    },
    {
      "cell_type": "code",
      "source": [
        "prediction = np.argmax(prediction)\n",
        "prediction"
      ],
      "metadata": {
        "id": "hNHEbWqqzres",
        "outputId": "fa373214-4287-4917-cd28-7e499aa8a482",
        "colab": {
          "base_uri": "https://localhost:8080/"
        }
      },
      "execution_count": 55,
      "outputs": [
        {
          "output_type": "execute_result",
          "data": {
            "text/plain": [
              "1"
            ]
          },
          "metadata": {},
          "execution_count": 55
        }
      ]
    },
    {
      "cell_type": "code",
      "source": [],
      "metadata": {
        "id": "mjsEPr-n0NcE"
      },
      "execution_count": null,
      "outputs": []
    },
    {
      "cell_type": "code",
      "source": [],
      "metadata": {
        "id": "7kAzh2zGz8MV"
      },
      "execution_count": null,
      "outputs": []
    },
    {
      "cell_type": "markdown",
      "source": [],
      "metadata": {
        "id": "P9vhCU7DzPRd"
      }
    },
    {
      "cell_type": "markdown",
      "source": [],
      "metadata": {
        "id": "KqvYuQ_gx4bD"
      }
    }
  ]
}