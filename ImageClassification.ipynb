{
  "nbformat": 4,
  "nbformat_minor": 0,
  "metadata": {
    "colab": {
      "provenance": [],
      "name": "ImageClassification.ipynb",
      "mount_file_id": "https://github.com/Paimonz/computer-vision/blob/main/ImageClassification.ipynb",
      "authorship_tag": "ABX9TyPCiBCXn0LxSK1TKnp0Q5L9",
      "include_colab_link": true
    },
    "kernelspec": {
      "name": "python3",
      "display_name": "Python 3"
    },
    "language_info": {
      "name": "python"
    }
  },
  "cells": [
    {
      "cell_type": "markdown",
      "metadata": {
        "id": "view-in-github",
        "colab_type": "text"
      },
      "source": [
        "<a href=\"https://colab.research.google.com/github/Paimonz/computer-vision/blob/main/ImageClassification.ipynb\" target=\"_parent\"><img src=\"https://colab.research.google.com/assets/colab-badge.svg\" alt=\"Open In Colab\"/></a>"
      ]
    },
    {
      "cell_type": "code",
      "execution_count": 2,
      "metadata": {
        "colab": {
          "base_uri": "https://localhost:8080/"
        },
        "id": "oacAu5x0TNXX",
        "outputId": "e1b834d8-6cbd-4d96-82b9-344f5debf74c"
      },
      "outputs": [
        {
          "output_type": "stream",
          "name": "stdout",
          "text": [
            "TensorFlow version: 2.13.0\n",
            "TensorFlow Hub version: 0.14.0\n"
          ]
        }
      ],
      "source": [
        "                                                           #Saiba mais em:\n",
        "\n",
        "import matplotlib.pyplot as plt                            #https://matplotlib.org/3.5.3/api/_as_gen/matplotlib.pyplot.html\n",
        "import numpy as np                                         #https://numpy.org/doc/\n",
        "import tensorflow as tf                                    #https://www.tensorflow.org/api_docs/python/tf\n",
        "import tensorflow_hub as hub                               #https://www.tensorflow.org/hub?hl=pt-br\n",
        "from keras.preprocessing.image import ImageDataGenerator   #https://www.tensorflow.org/api_docs/python/tf/keras/preprocessing/image/ImageDataGenerator\n",
        "\n",
        "print('TensorFlow version:', tf.__version__)               #Verifica a versão do TensorFlow.\n",
        "print('TensorFlow Hub version:', hub.__version__)          #Verifica a versão do TensorFlow Hub."
      ]
    },
    {
      "cell_type": "code",
      "source": [
        "#O TensorFlow Hub tem vários modelos de classificação, você pode verificar outros modelos em:\n",
        "#https://tfhub.dev/s?module-type=image-feature-vector&tf-version=tf2&q=efficientnet\n",
        "#Usei o modelo efficientnetv2-b2-21k pois acredito ser mais adequato para os tipos de imagens que tenho.\n",
        "\n",
        "model_name = 'efficientnetv2-b2-21k'"
      ],
      "metadata": {
        "id": "b9Wyt3T9WTL-"
      },
      "execution_count": 3,
      "outputs": []
    },
    {
      "cell_type": "code",
      "source": [
        "#Criando uma nova variavel, armazenado o caminho do modelo.\n",
        "#O primeiro parametro é o nome do modelo e o segundo é o link para donwload do modelo.\n",
        "\n",
        "models_path = {\n",
        "    \"efficientnetv2-b2-21k\": \"https://tfhub.dev/google/imagenet/efficientnet_v2_imagenet21k_b2/feature_vector/2\",\n",
        "}"
      ],
      "metadata": {
        "id": "rrx5IQ5tWicE"
      },
      "execution_count": 4,
      "outputs": []
    },
    {
      "cell_type": "code",
      "source": [
        "#Criando nova variavel para a dimensões das imagens, pois cada modelo trabalha com uma dimensão expecifica.\n",
        "#Para trabalhar com o modelo escolhido as imagens tem que ser igual ou inferior as dimensões 260x260.\n",
        "\n",
        "models_pixels = {\n",
        "    \"efficientnetv2-b2-21k\": 260\n",
        "}"
      ],
      "metadata": {
        "id": "GS2YK1ZBYZUW"
      },
      "execution_count": 5,
      "outputs": []
    },
    {
      "cell_type": "code",
      "source": [
        "#Armezenando o caminho do modelo através do nome do nomdelo.\n",
        "\n",
        "model_path = models_path.get(model_name)\n",
        "model_path"
      ],
      "metadata": {
        "colab": {
          "base_uri": "https://localhost:8080/",
          "height": 36
        },
        "id": "JkLdZBgWZG_d",
        "outputId": "7445a9bc-acca-403a-82fd-b9cb7f5aff65"
      },
      "execution_count": 6,
      "outputs": [
        {
          "output_type": "execute_result",
          "data": {
            "text/plain": [
              "'https://tfhub.dev/google/imagenet/efficientnet_v2_imagenet21k_b2/feature_vector/2'"
            ],
            "application/vnd.google.colaboratory.intrinsic+json": {
              "type": "string"
            }
          },
          "metadata": {},
          "execution_count": 6
        }
      ]
    },
    {
      "cell_type": "code",
      "source": [
        "#Armazenando as dimensões/pixels do modelo atravéz do nome do modelo.\n",
        "\n",
        "pixels = models_pixels.get(model_name)\n",
        "pixels"
      ],
      "metadata": {
        "colab": {
          "base_uri": "https://localhost:8080/"
        },
        "id": "tn_U-L3-aFqc",
        "outputId": "692d6db9-bfa4-4901-f843-98fed83b32c7"
      },
      "execution_count": 7,
      "outputs": [
        {
          "output_type": "execute_result",
          "data": {
            "text/plain": [
              "260"
            ]
          },
          "metadata": {},
          "execution_count": 7
        }
      ]
    },
    {
      "cell_type": "code",
      "source": [
        "#Criando o formato das imagens.\n",
        "\n",
        "image_size = (pixels, pixels)\n",
        "image_size"
      ],
      "metadata": {
        "colab": {
          "base_uri": "https://localhost:8080/"
        },
        "id": "CfLw9ro5aAOd",
        "outputId": "22d1bee1-8b9d-418e-b6d4-fe5b4661684d"
      },
      "execution_count": 8,
      "outputs": [
        {
          "output_type": "execute_result",
          "data": {
            "text/plain": [
              "(260, 260)"
            ]
          },
          "metadata": {},
          "execution_count": 8
        }
      ]
    },
    {
      "cell_type": "code",
      "source": [
        "print('Model: ', model_name)          #Para mostrar com qual modelo estamos trabalhando.\n",
        "print('Path: ', model_path)           #Mostrando o caminho/link onde é possível encontrar o modelo.\n",
        "print('Imagem size: ', image_size)    #Revelando o formato das imagens que serão trabalhadas no projeto."
      ],
      "metadata": {
        "colab": {
          "base_uri": "https://localhost:8080/"
        },
        "id": "9H5a9r2nbwTE",
        "outputId": "b12a1ce5-b232-4056-866e-6e07018aae1f"
      },
      "execution_count": 9,
      "outputs": [
        {
          "output_type": "stream",
          "name": "stdout",
          "text": [
            "Model:  efficientnetv2-b2-21k\n",
            "Path:  https://tfhub.dev/google/imagenet/efficientnet_v2_imagenet21k_b2/feature_vector/2\n",
            "Imagem size:  (260, 260)\n"
          ]
        }
      ]
    },
    {
      "cell_type": "code",
      "source": [
        "#O dataset foi criado/configurado e armazenado no google driver, para seguir esse modelo vc precisará criar o seu próprio dataset e montar o seu driver.\n",
        "#Saiba mais em: https://saturncloud.io/blog/how-to-import-files-from-google-drive-to-colab/\n",
        "#Você pode encontrar as imagens utilizadas nesse projeto em: https://www.kaggle.com/datasets/gunavenkatdoddi/eye-diseases-classification\n",
        "\n",
        "flow_from_directory = \"/content/drive/MyDrive/Colab Notebooks/dataset\" #método da classe ImageDataGenerator que permite ler imagens de um grande array numpy e pastas contendo imagens.\n",
        "data_directory = flow_from_directory                                   #Armazena o caminho do flow_from_directory em data_directory.\n",
        "print(data_directory)                                                  #Mostra o caminho do data_directory."
      ],
      "metadata": {
        "colab": {
          "base_uri": "https://localhost:8080/"
        },
        "id": "CjJbAW3o_lFT",
        "outputId": "d34ed500-053c-48c4-cb66-00b94ab490c0"
      },
      "execution_count": 10,
      "outputs": [
        {
          "output_type": "stream",
          "name": "stdout",
          "text": [
            "/content/drive/MyDrive/Colab Notebooks/dataset\n"
          ]
        }
      ]
    },
    {
      "cell_type": "code",
      "source": [
        "train_dataset = tf.keras.preprocessing.image_dataset_from_directory(data_directory,            #Pegando as imagens que estão no data_directory para o treino\n",
        "                                                                    validation_split= .20,     #Usaremos 20% do dataset para validação.\n",
        "                                                                    subset = 'training',       #Significa que essa parte do conjunto de dados é o treinamento.\n",
        "                                                                    label_mode='categorical',  #Etiqueta do nosso modelo será por categoria, Catarata ou Normal.\n",
        "                                                                    seed = 123,                #Toda vez que a função for chamada será composta pelas mesmas imagens.\n",
        "                                                                    image_size=image_size,     #Configura o formato das imagens.\n",
        "                                                                    batch_size=1)              #Número de amostras processadas antes do modelo ser atualizado."
      ],
      "metadata": {
        "colab": {
          "base_uri": "https://localhost:8080/"
        },
        "id": "BHIDozoxCqki",
        "outputId": "ca223971-386b-4662-c9e6-ef727bf476c3"
      },
      "execution_count": 11,
      "outputs": [
        {
          "output_type": "stream",
          "name": "stdout",
          "text": [
            "Found 1050 files belonging to 2 classes.\n",
            "Using 840 files for training.\n"
          ]
        }
      ]
    },
    {
      "cell_type": "code",
      "source": [
        "#Mostra o nome das classes que temos no nosso treinamento\n",
        "\n",
        "train_dataset.class_names"
      ],
      "metadata": {
        "colab": {
          "base_uri": "https://localhost:8080/"
        },
        "id": "XmmCwjL1FWm1",
        "outputId": "ec3378ac-80e2-4eeb-be13-bccc1ec42ca6"
      },
      "execution_count": 12,
      "outputs": [
        {
          "output_type": "execute_result",
          "data": {
            "text/plain": [
              "['cataract', 'normal']"
            ]
          },
          "metadata": {},
          "execution_count": 12
        }
      ]
    },
    {
      "cell_type": "code",
      "source": [
        "#Criando uma variavel com os nomes das classes do nosso dataset\n",
        "\n",
        "classes = train_dataset.class_names\n",
        "classes"
      ],
      "metadata": {
        "colab": {
          "base_uri": "https://localhost:8080/"
        },
        "id": "hBSJ21aSFr7K",
        "outputId": "819125ac-df17-41d1-c9f6-6bfc3fa85389"
      },
      "execution_count": 13,
      "outputs": [
        {
          "output_type": "execute_result",
          "data": {
            "text/plain": [
              "['cataract', 'normal']"
            ]
          },
          "metadata": {},
          "execution_count": 13
        }
      ]
    },
    {
      "cell_type": "code",
      "source": [
        " #A função da cardinality retorna o número de elementos em uma lista, no caso irá retorno o número de arquivos usados no treinameno (train_dataset).\n",
        "\n",
        "training_size = train_dataset.cardinality().numpy()\n",
        "training_size"
      ],
      "metadata": {
        "colab": {
          "base_uri": "https://localhost:8080/"
        },
        "id": "ftzcCd8FGAZc",
        "outputId": "ead3b982-8741-40ca-debf-5035749de26d"
      },
      "execution_count": 14,
      "outputs": [
        {
          "output_type": "execute_result",
          "data": {
            "text/plain": [
              "840"
            ]
          },
          "metadata": {},
          "execution_count": 14
        }
      ]
    },
    {
      "cell_type": "code",
      "source": [
        "#Organizando o dataset em 52 lotes, onde cada lote terá (840/16 = 52,5) 16 imagens.\n",
        "\n",
        "BATCH_SIZE = 16 #Significa que existem 16 instâncias de treinamento em cada lote.\n"
      ],
      "metadata": {
        "id": "h_gLIlALGbNL"
      },
      "execution_count": 15,
      "outputs": []
    },
    {
      "cell_type": "code",
      "source": [
        "train_dataset = train_dataset.unbatch().batch(BATCH_SIZE) #Atualizando o batch_size porque inicialmente começamos com batch_size =1\n",
        "train_dataset"
      ],
      "metadata": {
        "colab": {
          "base_uri": "https://localhost:8080/"
        },
        "id": "Ki3giSx0GlYz",
        "outputId": "81afc709-bee1-4f99-a9d4-ee09119da026"
      },
      "execution_count": 16,
      "outputs": [
        {
          "output_type": "execute_result",
          "data": {
            "text/plain": [
              "<_BatchDataset element_spec=(TensorSpec(shape=(None, 260, 260, 3), dtype=tf.float32, name=None), TensorSpec(shape=(None, 2), dtype=tf.float32, name=None))>"
            ]
          },
          "metadata": {},
          "execution_count": 16
        }
      ]
    },
    {
      "cell_type": "code",
      "source": [
        "840/16\n"
      ],
      "metadata": {
        "colab": {
          "base_uri": "https://localhost:8080/"
        },
        "id": "uUzbRQoCHjD7",
        "outputId": "c9271750-a06d-4feb-b648-e610b653ae79"
      },
      "execution_count": 17,
      "outputs": [
        {
          "output_type": "execute_result",
          "data": {
            "text/plain": [
              "52.5"
            ]
          },
          "metadata": {},
          "execution_count": 17
        }
      ]
    },
    {
      "cell_type": "code",
      "source": [
        "# https://www.tensorflow.org/api_docs/python/tf/repeat\n",
        "# https://stackoverflow.com/questions/53514495/what-does-batch-repeat-and-shuffle-do-with-tensorflow-dataset\n",
        "\n",
        "train_dataset = train_dataset.repeat()"
      ],
      "metadata": {
        "id": "SNIDsQJlH5yy"
      },
      "execution_count": 18,
      "outputs": []
    },
    {
      "cell_type": "code",
      "source": [
        "#Image augmentation: https://www.tensorflow.org/tutorials/images/data_augmentation\n",
        "#from multiprocessing.process import parent_process\n",
        "\n",
        "normalization_layer = tf.keras.layers.Rescaling(1. /255)            #Normalization = transformação de dados que alinha os valores dos dados a uma escala comum. Rescaling = reduzindo a escala (pixels) das imagens de 0-255 para 0-1.\n",
        "pre_processing = tf.keras.Sequential([normalization_layer])         #Sequential = irá criar a estrutura da rede neural, que será passado uma sequencia de camadas por isso usaremos sequential.\n",
        "pre_processing.add(tf.keras.layers.RandomRotation(40))              #Irá girar algumas imagens aleatório em 40° e adicionar no pré-processamento, pois pode ser que as imagens separadas para o treinamento não sejam o suficienteentão será necessário \"criar\" mais imagens para o mesmo.\n",
        "pre_processing.add(tf.keras.layers.RandomTranslation(0, 0.2))       #O segundo parametro é a largura, irá deslocar as imagens aleatóriamente em 20% na horizontal.\n",
        "pre_processing.add(tf.keras.layers.RandomTranslation(0.2, 0))       #O primeiro parametro é a altura, irá deslocar as imagens aleatóriamente em 20% na vertical.\n",
        "pre_processing.add(tf.keras.layers.RandomZoom(0.2, 0.2))            #Adicionando imagens aleatórias com o zoom aumentando em 20% e com o zoom reduzido em 20%.\n",
        "pre_processing.add(tf.keras.layers.RandomFlip(mode = 'horizontal')) #Gira as imagens horizontalmente."
      ],
      "metadata": {
        "id": "RNOszHEMITTK"
      },
      "execution_count": 19,
      "outputs": []
    },
    {
      "cell_type": "code",
      "source": [
        "#MAP em Python é uma função que funciona como um iterador para retornar um resultado após aplicar uma função a cada item de um iterável (tupla, listas, etc.). É usado quando\n",
        "#você deseja aplicar uma única função de transformação a todos os elementos iteráveis. O iterável e a função são passados como argumentos para o mapa em Python.\n",
        "\n",
        "#As funções LAMBDA são semelhantes às funções definidas pelo usuário, mas sem nome. Eles são comumente chamados de funções anônimas. As funções lambda são eficientes sempre que\n",
        "#você deseja criar uma função que contenha apenas expressões simples – ou seja, expressões que geralmente são uma única linha de uma instrução.\n",
        "\n",
        "train_dataset = train_dataset.map(lambda images, labels: (pre_processing(images), labels))    #Irá mandar as imagens para o pre_processing.\n",
        "train_dataset"
      ],
      "metadata": {
        "colab": {
          "base_uri": "https://localhost:8080/"
        },
        "id": "b08JoMZwKQ-4",
        "outputId": "19907e32-8a9e-476b-84c7-ba8aa7697a65"
      },
      "execution_count": 20,
      "outputs": [
        {
          "output_type": "execute_result",
          "data": {
            "text/plain": [
              "<_MapDataset element_spec=(TensorSpec(shape=(None, 260, 260, 3), dtype=tf.float32, name=None), TensorSpec(shape=(None, 2), dtype=tf.float32, name=None))>"
            ]
          },
          "metadata": {},
          "execution_count": 20
        }
      ]
    },
    {
      "cell_type": "code",
      "source": [
        "test_dataset = tf.keras.preprocessing.image_dataset_from_directory(data_directory,\n",
        "                                                                   validation_split= .20,\n",
        "                                                                   subset ='validation',          #Agora o nome do subconjunto será validation, que usaremos para o teste.\n",
        "                                                                   label_mode ='categorical',\n",
        "                                                                   seed = 123,\n",
        "                                                                   image_size = image_size,\n",
        "                                                                   batch_size = 1)"
      ],
      "metadata": {
        "id": "KzoWG6q2LnLh",
        "colab": {
          "base_uri": "https://localhost:8080/"
        },
        "outputId": "2fe0dad9-a7ff-4a30-ab68-7a19168e5043"
      },
      "execution_count": 21,
      "outputs": [
        {
          "output_type": "stream",
          "name": "stdout",
          "text": [
            "Found 1050 files belonging to 2 classes.\n",
            "Using 210 files for validation.\n"
          ]
        }
      ]
    },
    {
      "cell_type": "code",
      "source": [
        "test_size = test_dataset.cardinality().numpy()    #Extrai a quantidade de imagens que será utilizada para o teste\n",
        "test_size                                         #Mostra a quantidade de imagens que iremos utilizar para o teste"
      ],
      "metadata": {
        "colab": {
          "base_uri": "https://localhost:8080/"
        },
        "id": "X0lPQpzVMxMx",
        "outputId": "f871047e-bc70-4677-ca43-65de74d7c94c"
      },
      "execution_count": 22,
      "outputs": [
        {
          "output_type": "execute_result",
          "data": {
            "text/plain": [
              "210"
            ]
          },
          "metadata": {},
          "execution_count": 22
        }
      ]
    },
    {
      "cell_type": "code",
      "source": [
        "#Será necessário alterar o conjunto de dados para o mesmo formado utilizado no treinamento.\n",
        "\n",
        "test_dataset = test_dataset.unbatch().batch(BATCH_SIZE)\n",
        "test_dataset = test_dataset.map(lambda images, labels: (pre_processing(images), labels))"
      ],
      "metadata": {
        "id": "V-advWyENUxD"
      },
      "execution_count": 23,
      "outputs": []
    },
    {
      "cell_type": "code",
      "source": [
        "model = tf.keras.Sequential([                                                              #Uma rede neural é composta por uma sequencia de camadas.\n",
        "                              tf.keras.layers.InputLayer(input_shape= image_size + (3,)),  #Entrada da imagens, o número 3 é devido a imagen ser colorida RGB\n",
        "                              hub.KerasLayer(model_path, trainable = False),               #Fazer o download do modelo, \"trainable = False\" isso significa que quando treinarmos a rede neural, não vamos treinar esses pesos que já estão armazenado no modelo do qual faremos o download.\n",
        "                              tf.keras.layers.Dropout(rate = 0.2),                         #Dropout: https://jmlr.org/papers/volume15/srivastava14a/srivastava14a.pdf\n",
        "                              tf.keras.layers.Dense(len(classes))                          #O quantidade de neurônios de sáida deverá ser a mesma quntidade de de classes\n",
        "])"
      ],
      "metadata": {
        "id": "UwnRGQnHaE1W"
      },
      "execution_count": 24,
      "outputs": []
    },
    {
      "cell_type": "code",
      "source": [
        "(None, ) + image_size + (3, )"
      ],
      "metadata": {
        "colab": {
          "base_uri": "https://localhost:8080/"
        },
        "id": "NH7WmQ-Hc8Yb",
        "outputId": "2277177d-54ad-41b8-bf37-61a31015b72d"
      },
      "execution_count": 25,
      "outputs": [
        {
          "output_type": "execute_result",
          "data": {
            "text/plain": [
              "(None, 260, 260, 3)"
            ]
          },
          "metadata": {},
          "execution_count": 25
        }
      ]
    },
    {
      "cell_type": "code",
      "source": [
        "model.build((None, )+ image_size + (3,))  #O primeiro parametro siginifica a quantidade de imagens que será enviada para o modelo, por isso começa \"vazia\".\n",
        "model.summary()"
      ],
      "metadata": {
        "colab": {
          "base_uri": "https://localhost:8080/"
        },
        "id": "jHclCDWIbQpj",
        "outputId": "82868a3d-c85b-49a5-f5a2-231585be7cf0"
      },
      "execution_count": 26,
      "outputs": [
        {
          "output_type": "stream",
          "name": "stdout",
          "text": [
            "Model: \"sequential_1\"\n",
            "_________________________________________________________________\n",
            " Layer (type)                Output Shape              Param #   \n",
            "=================================================================\n",
            " keras_layer (KerasLayer)    (None, 1408)              8769374   \n",
            "                                                                 \n",
            " dropout (Dropout)           (None, 1408)              0         \n",
            "                                                                 \n",
            " dense (Dense)               (None, 2)                 2818      \n",
            "                                                                 \n",
            "=================================================================\n",
            "Total params: 8772192 (33.46 MB)\n",
            "Trainable params: 2818 (11.01 KB)\n",
            "Non-trainable params: 8769374 (33.45 MB)\n",
            "_________________________________________________________________\n"
          ]
        }
      ]
    },
    {
      "cell_type": "code",
      "source": [
        "#Adam = O algoritmo Adaptive Movement Estimation, ou Adam, para abreviar, é uma extensão da descida gradiente e um sucessor natural de técnicas como AdaGrad e RMSProp que adapta\n",
        "#automaticamente uma taxa de aprendizagem para cada variável de entrada para a função objetivo e suaviza ainda mais o processo de pesquisa usando um exponencialmente.\n",
        "\n",
        "model.compile(optimizer='adam', loss=tf.keras.losses.CategoricalCrossentropy(from_logits=True), metrics = 'accuracy')"
      ],
      "metadata": {
        "id": "UslZiLBhcQJz"
      },
      "execution_count": 27,
      "outputs": []
    },
    {
      "cell_type": "code",
      "source": [
        "steps_per_epoch = training_size // BATCH_SIZE\n",
        "validation_steps = test_size // BATCH_SIZE\n",
        "print(steps_per_epoch, validation_steps)"
      ],
      "metadata": {
        "colab": {
          "base_uri": "https://localhost:8080/"
        },
        "id": "bOaUfPmMfszz",
        "outputId": "03e38e14-13cd-4497-ad2d-77f28fbcbfcd"
      },
      "execution_count": 28,
      "outputs": [
        {
          "output_type": "stream",
          "name": "stdout",
          "text": [
            "52 13\n"
          ]
        }
      ]
    },
    {
      "cell_type": "code",
      "source": [
        "#\"model.fir\" a rede neural começará a treinar, os pesos serão ajustados e vamos enviar o treino.\n",
        "#Epochs = Uma época é quando todos os dados de treinamento são usados ​​de uma vez e é definida como o número total de iterações de todos os dados de treinamento em um ciclo para treinar o modelo de aprendizado de máquina\n",
        "\n",
        "hist = model.fit(train_dataset, epochs= 15, steps_per_epoch = steps_per_epoch,\n",
        "                 validation_data = test_dataset, validation_steps = validation_steps).history"
      ],
      "metadata": {
        "colab": {
          "base_uri": "https://localhost:8080/"
        },
        "id": "Dz19yiGQgcLF",
        "outputId": "591b182f-97d3-4e1b-c98d-063f297646fc"
      },
      "execution_count": 29,
      "outputs": [
        {
          "output_type": "stream",
          "name": "stdout",
          "text": [
            "Epoch 1/15\n",
            "52/52 [==============================] - 187s 3s/step - loss: 0.4516 - accuracy: 0.8389 - val_loss: 0.1919 - val_accuracy: 0.9279\n",
            "Epoch 2/15\n",
            "52/52 [==============================] - 169s 3s/step - loss: 0.2252 - accuracy: 0.9078 - val_loss: 0.1191 - val_accuracy: 0.9663\n",
            "Epoch 3/15\n",
            "52/52 [==============================] - 170s 3s/step - loss: 0.1701 - accuracy: 0.9320 - val_loss: 0.1147 - val_accuracy: 0.9519\n",
            "Epoch 4/15\n",
            "52/52 [==============================] - 158s 3s/step - loss: 0.1391 - accuracy: 0.9393 - val_loss: 0.1028 - val_accuracy: 0.9663\n",
            "Epoch 5/15\n",
            "52/52 [==============================] - 160s 3s/step - loss: 0.1400 - accuracy: 0.9405 - val_loss: 0.1014 - val_accuracy: 0.9663\n",
            "Epoch 6/15\n",
            "52/52 [==============================] - 168s 3s/step - loss: 0.1127 - accuracy: 0.9539 - val_loss: 0.1113 - val_accuracy: 0.9567\n",
            "Epoch 7/15\n",
            "52/52 [==============================] - 164s 3s/step - loss: 0.0967 - accuracy: 0.9539 - val_loss: 0.1048 - val_accuracy: 0.9615\n",
            "Epoch 8/15\n",
            "52/52 [==============================] - 167s 3s/step - loss: 0.1108 - accuracy: 0.9527 - val_loss: 0.0957 - val_accuracy: 0.9567\n",
            "Epoch 9/15\n",
            "52/52 [==============================] - 164s 3s/step - loss: 0.1061 - accuracy: 0.9636 - val_loss: 0.0799 - val_accuracy: 0.9760\n",
            "Epoch 10/15\n",
            "52/52 [==============================] - 164s 3s/step - loss: 0.1121 - accuracy: 0.9612 - val_loss: 0.0762 - val_accuracy: 0.9712\n",
            "Epoch 11/15\n",
            "52/52 [==============================] - 157s 3s/step - loss: 0.0746 - accuracy: 0.9684 - val_loss: 0.1246 - val_accuracy: 0.9615\n",
            "Epoch 12/15\n",
            "52/52 [==============================] - 164s 3s/step - loss: 0.0798 - accuracy: 0.9733 - val_loss: 0.0628 - val_accuracy: 0.9712\n",
            "Epoch 13/15\n",
            "52/52 [==============================] - 161s 3s/step - loss: 0.1052 - accuracy: 0.9587 - val_loss: 0.0582 - val_accuracy: 0.9808\n",
            "Epoch 14/15\n",
            "52/52 [==============================] - 162s 3s/step - loss: 0.0841 - accuracy: 0.9697 - val_loss: 0.0590 - val_accuracy: 0.9904\n",
            "Epoch 15/15\n",
            "52/52 [==============================] - 162s 3s/step - loss: 0.0998 - accuracy: 0.9648 - val_loss: 0.0684 - val_accuracy: 0.9663\n"
          ]
        }
      ]
    },
    {
      "cell_type": "code",
      "source": [
        "plt.figure()                                                #O gráfico é interessante pois assim você consegue saber por quantas épocas será necessário treinar o modelo.\n",
        "plt.ylabel('Loss (training and validation)')\n",
        "plt.xlabel('Steps')\n",
        "plt.plot(hist['loss'], label = 'training')\n",
        "plt.plot(hist['val_loss'], label = 'testing')\n",
        "plt.legend();"
      ],
      "metadata": {
        "colab": {
          "base_uri": "https://localhost:8080/",
          "height": 449
        },
        "id": "RHyK4C7vllt-",
        "outputId": "29ff7f42-9df8-4f86-8a5f-d2c5eb943f7b"
      },
      "execution_count": 30,
      "outputs": [
        {
          "output_type": "display_data",
          "data": {
            "text/plain": [
              "<Figure size 640x480 with 1 Axes>"
            ],
            "image/png": "[encoded data removed]"
          },
          "metadata": {}
        }
      ]
    },
    {
      "cell_type": "code",
      "source": [
        "'''from google.colab import drive\n",
        "drive.mount('/content/drive')'''"
      ],
      "metadata": {
        "id": "pM53DfGYlclk"
      },
      "execution_count": null,
      "outputs": []
    },
    {
      "cell_type": "code",
      "source": [
        "plt.figure()\n",
        "plt.ylabel('Accuracy (training and validation)')\n",
        "plt.xlabel('Steps')\n",
        "plt.plot(hist['accuracy'], label = 'training')\n",
        "plt.plot(hist['val_accuracy'], label = 'testing')\n",
        "plt.legend();"
      ],
      "metadata": {
        "colab": {
          "base_uri": "https://localhost:8080/",
          "height": 449
        },
        "id": "I3I4V3ipnj5N",
        "outputId": "163fef88-16f0-4784-cbe9-913f327c9821"
      },
      "execution_count": 31,
      "outputs": [
        {
          "output_type": "display_data",
          "data": {
            "text/plain": [
              "<Figure size 640x480 with 1 Axes>"
            ],
            "image/png": "[encoded data removed]"
          },
          "metadata": {}
        }
      ]
    },
    {
      "cell_type": "code",
      "source": [
        "#Criando duas variáveis, x e y: x = será o pixels da imagens e y = será o rotulo/etiqueta.\n",
        "#Precisamos usar a função \"Next\" para obter a próxima imagem.\n",
        "#iter é um parâmetro da função, é o iterador sobre o qual a iteração deve ser realizada.\n",
        "#O segundo paramêtro da função \"test_dataset\" será o valor padrão a ser impresso se chegarmos ao final do iterador.\n",
        "\n",
        "x, y = next(iter(test_dataset))\n"
      ],
      "metadata": {
        "id": "I4t4QJB4xpH2"
      },
      "execution_count": 34,
      "outputs": []
    },
    {
      "cell_type": "code",
      "source": [
        "#As informações abaixo são referente aos pixels das imagens\n",
        "\n",
        "x"
      ],
      "metadata": {
        "id": "FDrL2oegyJ0k",
        "outputId": "5019249c-3d82-44c8-8e94-5ab4ae705902",
        "colab": {
          "base_uri": "https://localhost:8080/"
        }
      },
      "execution_count": 35,
      "outputs": [
        {
          "output_type": "execute_result",
          "data": {
            "text/plain": [
              "<tf.Tensor: shape=(16, 260, 260, 3), dtype=float32, numpy=\n",
              "array([[[[0.0000000e+00, 0.0000000e+00, 0.0000000e+00],\n",
              "         [0.0000000e+00, 0.0000000e+00, 0.0000000e+00],\n",
              "         [0.0000000e+00, 0.0000000e+00, 0.0000000e+00],\n",
              "         ...,\n",
              "         [0.0000000e+00, 0.0000000e+00, 0.0000000e+00],\n",
              "         [0.0000000e+00, 0.0000000e+00, 0.0000000e+00],\n",
              "         [0.0000000e+00, 0.0000000e+00, 0.0000000e+00]],\n",
              "\n",
              "        [[0.0000000e+00, 0.0000000e+00, 0.0000000e+00],\n",
              "         [0.0000000e+00, 0.0000000e+00, 0.0000000e+00],\n",
              "         [0.0000000e+00, 0.0000000e+00, 0.0000000e+00],\n",
              "         ...,\n",
              "         [0.0000000e+00, 0.0000000e+00, 0.0000000e+00],\n",
              "         [0.0000000e+00, 0.0000000e+00, 0.0000000e+00],\n",
              "         [0.0000000e+00, 0.0000000e+00, 0.0000000e+00]],\n",
              "\n",
              "        [[0.0000000e+00, 0.0000000e+00, 0.0000000e+00],\n",
              "         [0.0000000e+00, 0.0000000e+00, 0.0000000e+00],\n",
              "         [0.0000000e+00, 0.0000000e+00, 0.0000000e+00],\n",
              "         ...,\n",
              "         [0.0000000e+00, 0.0000000e+00, 0.0000000e+00],\n",
              "         [0.0000000e+00, 1.3443237e-04, 0.0000000e+00],\n",
              "         [0.0000000e+00, 4.5160778e-04, 0.0000000e+00]],\n",
              "\n",
              "        ...,\n",
              "\n",
              "        [[0.0000000e+00, 0.0000000e+00, 0.0000000e+00],\n",
              "         [0.0000000e+00, 0.0000000e+00, 0.0000000e+00],\n",
              "         [0.0000000e+00, 0.0000000e+00, 0.0000000e+00],\n",
              "         ...,\n",
              "         [3.1812637e-04, 3.1928974e-04, 1.2375279e-03],\n",
              "         [8.5968885e-04, 5.6882616e-04, 6.2389736e-04],\n",
              "         [8.0650375e-04, 5.6217646e-04, 6.0447300e-04]],\n",
              "\n",
              "        [[0.0000000e+00, 0.0000000e+00, 0.0000000e+00],\n",
              "         [0.0000000e+00, 0.0000000e+00, 0.0000000e+00],\n",
              "         [0.0000000e+00, 0.0000000e+00, 0.0000000e+00],\n",
              "         ...,\n",
              "         [5.9564813e-05, 2.0955882e-05, 2.2302564e-04],\n",
              "         [1.8140757e-04, 3.1762615e-05, 4.0620533e-05],\n",
              "         [1.5259632e-04, 3.4977144e-05, 0.0000000e+00]],\n",
              "\n",
              "        [[0.0000000e+00, 0.0000000e+00, 0.0000000e+00],\n",
              "         [0.0000000e+00, 0.0000000e+00, 0.0000000e+00],\n",
              "         [0.0000000e+00, 0.0000000e+00, 0.0000000e+00],\n",
              "         ...,\n",
              "         [0.0000000e+00, 0.0000000e+00, 0.0000000e+00],\n",
              "         [0.0000000e+00, 0.0000000e+00, 0.0000000e+00],\n",
              "         [0.0000000e+00, 0.0000000e+00, 3.2707743e-05]]],\n",
              "\n",
              "\n",
              "       [[[3.2166907e-01, 3.6603642e-01, 3.0078456e-01],\n",
              "         [3.1827164e-01, 3.6380559e-01, 2.9690847e-01],\n",
              "         [3.1468886e-01, 3.6113358e-01, 2.9300651e-01],\n",
              "         ...,\n",
              "         [0.0000000e+00, 0.0000000e+00, 0.0000000e+00],\n",
              "         [0.0000000e+00, 0.0000000e+00, 0.0000000e+00],\n",
              "         [0.0000000e+00, 0.0000000e+00, 0.0000000e+00]],\n",
              "\n",
              "        [[3.2431811e-01, 3.6463672e-01, 2.9836613e-01],\n",
              "         [3.2155949e-01, 3.6331016e-01, 2.9644370e-01],\n",
              "         [3.1736428e-01, 3.6021638e-01, 2.9300788e-01],\n",
              "         ...,\n",
              "         [0.0000000e+00, 0.0000000e+00, 0.0000000e+00],\n",
              "         [0.0000000e+00, 0.0000000e+00, 0.0000000e+00],\n",
              "         [0.0000000e+00, 0.0000000e+00, 0.0000000e+00]],\n",
              "\n",
              "        [[3.2788301e-01, 3.6326289e-01, 2.9474443e-01],\n",
              "         [3.2564420e-01, 3.6220145e-01, 2.9368287e-01],\n",
              "         [3.2048374e-01, 3.5899562e-01, 2.9150996e-01],\n",
              "         ...,\n",
              "         [0.0000000e+00, 0.0000000e+00, 0.0000000e+00],\n",
              "         [0.0000000e+00, 0.0000000e+00, 0.0000000e+00],\n",
              "         [0.0000000e+00, 0.0000000e+00, 0.0000000e+00]],\n",
              "\n",
              "        ...,\n",
              "\n",
              "        [[4.0530804e-01, 2.4519567e-01, 1.4725390e-01],\n",
              "         [4.0615651e-01, 2.4199052e-01, 1.4299673e-01],\n",
              "         [4.0501010e-01, 2.3722163e-01, 1.4046255e-01],\n",
              "         ...,\n",
              "         [3.5992366e-01, 2.4493748e-01, 1.4453951e-01],\n",
              "         [3.5287285e-01, 2.4090280e-01, 1.4319792e-01],\n",
              "         [3.4791097e-01, 2.3968749e-01, 1.4357188e-01]],\n",
              "\n",
              "        [[4.0303910e-01, 2.3858967e-01, 1.4126906e-01],\n",
              "         [4.0442163e-01, 2.3533559e-01, 1.3910967e-01],\n",
              "         [4.0277284e-01, 2.3101315e-01, 1.3754137e-01],\n",
              "         ...,\n",
              "         [3.5862488e-01, 2.4672669e-01, 1.4634134e-01],\n",
              "         [3.5192436e-01, 2.4287078e-01, 1.4519116e-01],\n",
              "         [3.4724286e-01, 2.4162632e-01, 1.4491151e-01]],\n",
              "\n",
              "        [[4.0575504e-01, 2.3740555e-01, 1.3851355e-01],\n",
              "         [4.0713787e-01, 2.3330832e-01, 1.3810278e-01],\n",
              "         [4.0248057e-01, 2.2801007e-01, 1.3599187e-01],\n",
              "         ...,\n",
              "         [3.5722747e-01, 2.4932161e-01, 1.4889657e-01],\n",
              "         [3.5127681e-01, 2.4528602e-01, 1.4774518e-01],\n",
              "         [3.4779215e-01, 2.4362439e-01, 1.4659423e-01]]],\n",
              "\n",
              "\n",
              "       [[[5.8100688e-01, 3.6469418e-01, 2.3259580e-01],\n",
              "         [5.6631929e-01, 3.5949597e-01, 2.3160045e-01],\n",
              "         [5.4898995e-01, 3.4756440e-01, 2.3178767e-01],\n",
              "         ...,\n",
              "         [5.1450032e-01, 3.8352844e-01, 2.6136762e-01],\n",
              "         [5.0911653e-01, 3.7793911e-01, 2.5306579e-01],\n",
              "         [5.0713295e-01, 3.7540236e-01, 2.5078127e-01]],\n",
              "\n",
              "        [[5.8439416e-01, 3.6951050e-01, 2.3562847e-01],\n",
              "         [5.6927353e-01, 3.6265305e-01, 2.3375310e-01],\n",
              "         [5.5079913e-01, 3.4916791e-01, 2.2947256e-01],\n",
              "         ...,\n",
              "         [5.1558602e-01, 3.8559109e-01, 2.5847495e-01],\n",
              "         [5.1033056e-01, 3.8065091e-01, 2.5629979e-01],\n",
              "         [5.0845045e-01, 3.7972316e-01, 2.5566003e-01]],\n",
              "\n",
              "        [[5.8537000e-01, 3.7362170e-01, 2.4087912e-01],\n",
              "         [5.7135034e-01, 3.6647123e-01, 2.3907410e-01],\n",
              "         [5.5615753e-01, 3.5549456e-01, 2.3442985e-01],\n",
              "         ...,\n",
              "         [5.1783532e-01, 3.8613623e-01, 2.5760600e-01],\n",
              "         [5.1626742e-01, 3.8595706e-01, 2.6247442e-01],\n",
              "         [5.1478827e-01, 3.8649961e-01, 2.6307061e-01]],\n",
              "\n",
              "        ...,\n",
              "\n",
              "        [[4.9120352e-01, 3.3522990e-01, 1.9196783e-01],\n",
              "         [4.8841688e-01, 3.3794340e-01, 1.9943309e-01],\n",
              "         [4.8119593e-01, 3.3722168e-01, 2.1026504e-01],\n",
              "         ...,\n",
              "         [5.5720323e-01, 3.8328388e-01, 2.1573383e-01],\n",
              "         [5.5820686e-01, 3.8613722e-01, 2.0962712e-01],\n",
              "         [5.6490409e-01, 3.8550100e-01, 2.1531406e-01]],\n",
              "\n",
              "        [[4.8836157e-01, 3.3398584e-01, 1.9239403e-01],\n",
              "         [4.8537010e-01, 3.3343670e-01, 1.9801514e-01],\n",
              "         [4.8055616e-01, 3.3539373e-01, 2.1133770e-01],\n",
              "         ...,\n",
              "         [5.5428022e-01, 3.8110483e-01, 2.2197737e-01],\n",
              "         [5.5390853e-01, 3.8331169e-01, 2.1804756e-01],\n",
              "         [5.5836004e-01, 3.8066328e-01, 2.1920243e-01]],\n",
              "\n",
              "        [[4.8573986e-01, 3.3374867e-01, 1.9288841e-01],\n",
              "         [4.8448521e-01, 3.3256429e-01, 1.9578063e-01],\n",
              "         [4.8109034e-01, 3.3294940e-01, 2.0741911e-01],\n",
              "         ...,\n",
              "         [5.5177641e-01, 3.8198823e-01, 2.2555608e-01],\n",
              "         [5.4890049e-01, 3.8188413e-01, 2.2255546e-01],\n",
              "         [5.4985106e-01, 3.7723458e-01, 2.1833633e-01]]],\n",
              "\n",
              "\n",
              "       ...,\n",
              "\n",
              "\n",
              "       [[[0.0000000e+00, 0.0000000e+00, 0.0000000e+00],\n",
              "         [0.0000000e+00, 0.0000000e+00, 0.0000000e+00],\n",
              "         [0.0000000e+00, 0.0000000e+00, 0.0000000e+00],\n",
              "         ...,\n",
              "         [0.0000000e+00, 0.0000000e+00, 0.0000000e+00],\n",
              "         [0.0000000e+00, 0.0000000e+00, 0.0000000e+00],\n",
              "         [0.0000000e+00, 0.0000000e+00, 0.0000000e+00]],\n",
              "\n",
              "        [[0.0000000e+00, 0.0000000e+00, 0.0000000e+00],\n",
              "         [0.0000000e+00, 0.0000000e+00, 0.0000000e+00],\n",
              "         [0.0000000e+00, 0.0000000e+00, 0.0000000e+00],\n",
              "         ...,\n",
              "         [0.0000000e+00, 0.0000000e+00, 0.0000000e+00],\n",
              "         [0.0000000e+00, 0.0000000e+00, 0.0000000e+00],\n",
              "         [0.0000000e+00, 0.0000000e+00, 0.0000000e+00]],\n",
              "\n",
              "        [[0.0000000e+00, 0.0000000e+00, 0.0000000e+00],\n",
              "         [0.0000000e+00, 0.0000000e+00, 0.0000000e+00],\n",
              "         [0.0000000e+00, 0.0000000e+00, 0.0000000e+00],\n",
              "         ...,\n",
              "         [0.0000000e+00, 0.0000000e+00, 0.0000000e+00],\n",
              "         [0.0000000e+00, 0.0000000e+00, 0.0000000e+00],\n",
              "         [0.0000000e+00, 0.0000000e+00, 0.0000000e+00]],\n",
              "\n",
              "        ...,\n",
              "\n",
              "        [[7.6266756e-06, 7.6266756e-06, 7.6266756e-06],\n",
              "         [0.0000000e+00, 0.0000000e+00, 0.0000000e+00],\n",
              "         [6.1741780e-08, 6.1741780e-08, 6.1741780e-08],\n",
              "         ...,\n",
              "         [0.0000000e+00, 0.0000000e+00, 0.0000000e+00],\n",
              "         [0.0000000e+00, 0.0000000e+00, 0.0000000e+00],\n",
              "         [0.0000000e+00, 0.0000000e+00, 0.0000000e+00]],\n",
              "\n",
              "        [[5.8870408e-04, 5.8870408e-04, 5.8870408e-04],\n",
              "         [0.0000000e+00, 0.0000000e+00, 0.0000000e+00],\n",
              "         [6.2099730e-06, 6.2099730e-06, 6.2099730e-06],\n",
              "         ...,\n",
              "         [0.0000000e+00, 0.0000000e+00, 0.0000000e+00],\n",
              "         [0.0000000e+00, 0.0000000e+00, 0.0000000e+00],\n",
              "         [0.0000000e+00, 0.0000000e+00, 0.0000000e+00]],\n",
              "\n",
              "        [[5.0776568e-04, 5.0776568e-04, 5.0776568e-04],\n",
              "         [0.0000000e+00, 0.0000000e+00, 0.0000000e+00],\n",
              "         [1.1390131e-04, 1.1390131e-04, 1.1390131e-04],\n",
              "         ...,\n",
              "         [0.0000000e+00, 0.0000000e+00, 0.0000000e+00],\n",
              "         [0.0000000e+00, 0.0000000e+00, 0.0000000e+00],\n",
              "         [0.0000000e+00, 0.0000000e+00, 0.0000000e+00]]],\n",
              "\n",
              "\n",
              "       [[[3.5887289e-01, 1.9778554e-01, 6.8235323e-02],\n",
              "         [3.5621896e-01, 1.9314656e-01, 6.7947656e-02],\n",
              "         [3.5185045e-01, 1.9017272e-01, 6.8524204e-02],\n",
              "         ...,\n",
              "         [2.4860993e-01, 1.2887767e-01, 6.0490754e-02],\n",
              "         [2.4455725e-01, 1.2674440e-01, 5.9921563e-02],\n",
              "         [2.4200571e-01, 1.2632643e-01, 6.1613813e-02]],\n",
              "\n",
              "        [[3.5749674e-01, 1.9720575e-01, 6.9689237e-02],\n",
              "         [3.5551000e-01, 1.9354287e-01, 6.7984633e-02],\n",
              "         [3.5549009e-01, 1.9204049e-01, 6.7287669e-02],\n",
              "         ...,\n",
              "         [2.4935165e-01, 1.2755151e-01, 5.9868474e-02],\n",
              "         [2.4761413e-01, 1.2728187e-01, 5.8835380e-02],\n",
              "         [2.4628273e-01, 1.2803589e-01, 6.0791213e-02]],\n",
              "\n",
              "        [[3.5652936e-01, 1.9612016e-01, 6.8183891e-02],\n",
              "         [3.5467920e-01, 1.9413751e-01, 6.7629755e-02],\n",
              "         [3.5423523e-01, 1.9243272e-01, 6.6930480e-02],\n",
              "         ...,\n",
              "         [2.4787416e-01, 1.2425902e-01, 5.9973478e-02],\n",
              "         [2.4862219e-01, 1.2631480e-01, 5.9078805e-02],\n",
              "         [2.4908364e-01, 1.2838706e-01, 5.9834629e-02]],\n",
              "\n",
              "        ...,\n",
              "\n",
              "        [[3.4347406e-01, 1.7092505e-01, 6.5042697e-02],\n",
              "         [3.4479260e-01, 1.7224358e-01, 6.6361226e-02],\n",
              "         [3.4559762e-01, 1.7425543e-01, 6.7970820e-02],\n",
              "         ...,\n",
              "         [3.1172383e-01, 1.3187672e-01, 4.8211742e-02],\n",
              "         [3.1034550e-01, 1.3304776e-01, 4.9506377e-02],\n",
              "         [3.0720654e-01, 1.3177779e-01, 4.9909204e-02]],\n",
              "\n",
              "        [[3.4223947e-01, 1.6968912e-01, 6.3807428e-02],\n",
              "         [3.4427989e-01, 1.7173086e-01, 6.5848500e-02],\n",
              "         [3.4741950e-01, 1.7487049e-01, 6.8988129e-02],\n",
              "         ...,\n",
              "         [3.1599849e-01, 1.3334888e-01, 4.6678830e-02],\n",
              "         [3.1429723e-01, 1.3469420e-01, 4.7936231e-02],\n",
              "         [3.0971250e-01, 1.3220610e-01, 4.6228193e-02]],\n",
              "\n",
              "        [[3.4407318e-01, 1.7131385e-01, 6.5536626e-02],\n",
              "         [3.4468397e-01, 1.7205030e-01, 6.6171780e-02],\n",
              "         [3.4759510e-01, 1.7504390e-01, 6.9074526e-02],\n",
              "         ...,\n",
              "         [3.2248148e-01, 1.3652408e-01, 4.8491355e-02],\n",
              "         [3.2177535e-01, 1.3881046e-01, 4.9832843e-02],\n",
              "         [3.1639710e-01, 1.3634045e-01, 4.7051497e-02]]],\n",
              "\n",
              "\n",
              "       [[[5.0981647e-01, 2.6459375e-01, 9.3422934e-02],\n",
              "         [5.1543021e-01, 2.6530790e-01, 9.3260899e-02],\n",
              "         [5.2582890e-01, 2.7248427e-01, 9.4878912e-02],\n",
              "         ...,\n",
              "         [0.0000000e+00, 0.0000000e+00, 0.0000000e+00],\n",
              "         [0.0000000e+00, 0.0000000e+00, 0.0000000e+00],\n",
              "         [0.0000000e+00, 0.0000000e+00, 0.0000000e+00]],\n",
              "\n",
              "        [[5.2105910e-01, 2.6463693e-01, 9.5586397e-02],\n",
              "         [5.2579355e-01, 2.6615864e-01, 9.8272674e-02],\n",
              "         [5.3014725e-01, 2.6974133e-01, 9.7686760e-02],\n",
              "         ...,\n",
              "         [0.0000000e+00, 0.0000000e+00, 0.0000000e+00],\n",
              "         [0.0000000e+00, 0.0000000e+00, 0.0000000e+00],\n",
              "         [0.0000000e+00, 0.0000000e+00, 0.0000000e+00]],\n",
              "\n",
              "        [[5.3024387e-01, 2.6502928e-01, 9.8037124e-02],\n",
              "         [5.3100216e-01, 2.6593181e-01, 9.9910036e-02],\n",
              "         [5.2592218e-01, 2.6381043e-01, 9.4288796e-02],\n",
              "         ...,\n",
              "         [0.0000000e+00, 0.0000000e+00, 0.0000000e+00],\n",
              "         [0.0000000e+00, 0.0000000e+00, 0.0000000e+00],\n",
              "         [0.0000000e+00, 0.0000000e+00, 0.0000000e+00]],\n",
              "\n",
              "        ...,\n",
              "\n",
              "        [[0.0000000e+00, 0.0000000e+00, 0.0000000e+00],\n",
              "         [0.0000000e+00, 0.0000000e+00, 0.0000000e+00],\n",
              "         [0.0000000e+00, 0.0000000e+00, 0.0000000e+00],\n",
              "         ...,\n",
              "         [0.0000000e+00, 0.0000000e+00, 0.0000000e+00],\n",
              "         [0.0000000e+00, 0.0000000e+00, 0.0000000e+00],\n",
              "         [0.0000000e+00, 0.0000000e+00, 0.0000000e+00]],\n",
              "\n",
              "        [[0.0000000e+00, 0.0000000e+00, 0.0000000e+00],\n",
              "         [0.0000000e+00, 0.0000000e+00, 0.0000000e+00],\n",
              "         [0.0000000e+00, 0.0000000e+00, 0.0000000e+00],\n",
              "         ...,\n",
              "         [0.0000000e+00, 0.0000000e+00, 0.0000000e+00],\n",
              "         [0.0000000e+00, 0.0000000e+00, 0.0000000e+00],\n",
              "         [0.0000000e+00, 0.0000000e+00, 0.0000000e+00]],\n",
              "\n",
              "        [[0.0000000e+00, 0.0000000e+00, 0.0000000e+00],\n",
              "         [0.0000000e+00, 0.0000000e+00, 0.0000000e+00],\n",
              "         [0.0000000e+00, 0.0000000e+00, 0.0000000e+00],\n",
              "         ...,\n",
              "         [0.0000000e+00, 0.0000000e+00, 0.0000000e+00],\n",
              "         [0.0000000e+00, 0.0000000e+00, 0.0000000e+00],\n",
              "         [0.0000000e+00, 0.0000000e+00, 0.0000000e+00]]]], dtype=float32)>"
            ]
          },
          "metadata": {},
          "execution_count": 35
        }
      ]
    },
    {
      "cell_type": "code",
      "source": [
        "#Em cada lote tem 16 imagens, de 260x260 pixels coloridas(RGB).\n",
        "\n",
        "x.shape"
      ],
      "metadata": {
        "id": "jDlT6hPMx4jv",
        "outputId": "70a9b333-4e3f-4b07-d997-0dcb877d4356",
        "colab": {
          "base_uri": "https://localhost:8080/"
        }
      },
      "execution_count": 36,
      "outputs": [
        {
          "output_type": "execute_result",
          "data": {
            "text/plain": [
              "TensorShape([16, 260, 260, 3])"
            ]
          },
          "metadata": {},
          "execution_count": 36
        }
      ]
    },
    {
      "cell_type": "code",
      "source": [
        "#as linhas são referente as imagens no lote e as colunas são referente as classes.\n",
        "\n",
        "y"
      ],
      "metadata": {
        "id": "OZdnCjnvyNIu",
        "outputId": "8e669a4d-99f9-4075-9689-d26baa994c30",
        "colab": {
          "base_uri": "https://localhost:8080/"
        }
      },
      "execution_count": 37,
      "outputs": [
        {
          "output_type": "execute_result",
          "data": {
            "text/plain": [
              "<tf.Tensor: shape=(16, 2), dtype=float32, numpy=\n",
              "array([[0., 1.],\n",
              "       [0., 1.],\n",
              "       [0., 1.],\n",
              "       [1., 0.],\n",
              "       [0., 1.],\n",
              "       [0., 1.],\n",
              "       [0., 1.],\n",
              "       [0., 1.],\n",
              "       [0., 1.],\n",
              "       [0., 1.],\n",
              "       [0., 1.],\n",
              "       [0., 1.],\n",
              "       [0., 1.],\n",
              "       [0., 1.],\n",
              "       [0., 1.],\n",
              "       [0., 1.]], dtype=float32)>"
            ]
          },
          "metadata": {},
          "execution_count": 37
        }
      ]
    },
    {
      "cell_type": "code",
      "source": [
        "#Em cada lote tem 16 imagens com duas classes possíevis.\n",
        "\n",
        "y.shape"
      ],
      "metadata": {
        "id": "lw3HTGfpyBKr",
        "outputId": "84a7794a-8831-49b1-fb61-e919a63d91f4",
        "colab": {
          "base_uri": "https://localhost:8080/"
        }
      },
      "execution_count": 38,
      "outputs": [
        {
          "output_type": "execute_result",
          "data": {
            "text/plain": [
              "TensorShape([16, 2])"
            ]
          },
          "metadata": {},
          "execution_count": 38
        }
      ]
    },
    {
      "cell_type": "code",
      "source": [
        "#Para classificar a imagem, o 1° parametro é a possição da imagem, 2° e 3° são os pixels e o 4° é referente ao canal de cores.\n",
        "\n",
        "image = x[9, :, :, :]\n",
        "image"
      ],
      "metadata": {
        "id": "_56kvDTuySeZ",
        "outputId": "6af5e57c-fff1-4645-a103-a134561197c9",
        "colab": {
          "base_uri": "https://localhost:8080/"
        }
      },
      "execution_count": null,
      "outputs": [
        {
          "output_type": "execute_result",
          "data": {
            "text/plain": [
              "<tf.Tensor: shape=(260, 260, 3), dtype=float32, numpy=\n",
              "array([[[4.0320942e-01, 2.9901755e-01, 2.0280662e-01],\n",
              "        [4.0296665e-01, 2.9736376e-01, 2.0123589e-01],\n",
              "        [4.0193817e-01, 2.9609936e-01, 1.9999819e-01],\n",
              "        ...,\n",
              "        [4.1027793e-01, 3.2400337e-01, 2.3959878e-01],\n",
              "        [4.1266251e-01, 3.2638797e-01, 2.4293122e-01],\n",
              "        [4.1331431e-01, 3.2703978e-01, 2.4419689e-01]],\n",
              "\n",
              "       [[4.0435362e-01, 3.0060104e-01, 2.0347330e-01],\n",
              "        [4.0470523e-01, 3.0110607e-01, 2.0388798e-01],\n",
              "        [4.0333474e-01, 3.0065334e-01, 2.0297441e-01],\n",
              "        ...,\n",
              "        [4.1332120e-01, 3.2704666e-01, 2.3903920e-01],\n",
              "        [4.1494960e-01, 3.2867506e-01, 2.4199714e-01],\n",
              "        [4.1557232e-01, 3.2929775e-01, 2.4393535e-01]],\n",
              "\n",
              "       [[4.0469170e-01, 3.0368981e-01, 2.0517114e-01],\n",
              "        [4.0585616e-01, 3.0467385e-01, 2.0624541e-01],\n",
              "        [4.0494925e-01, 3.0464756e-01, 2.0577878e-01],\n",
              "        ...,\n",
              "        [4.1527861e-01, 3.2900417e-01, 2.3889938e-01],\n",
              "        [4.1519403e-01, 3.2891953e-01, 2.3917052e-01],\n",
              "        [4.1513029e-01, 3.2885578e-01, 2.3991251e-01]],\n",
              "\n",
              "       ...,\n",
              "\n",
              "       [[0.0000000e+00, 0.0000000e+00, 0.0000000e+00],\n",
              "        [0.0000000e+00, 0.0000000e+00, 0.0000000e+00],\n",
              "        [0.0000000e+00, 6.3163964e-07, 0.0000000e+00],\n",
              "        ...,\n",
              "        [5.2776694e-01, 3.1348786e-01, 2.5780603e-01],\n",
              "        [5.3549033e-01, 3.1390134e-01, 2.6839688e-01],\n",
              "        [5.4661280e-01, 3.1559134e-01, 2.7831531e-01]],\n",
              "\n",
              "       [[0.0000000e+00, 0.0000000e+00, 0.0000000e+00],\n",
              "        [0.0000000e+00, 0.0000000e+00, 0.0000000e+00],\n",
              "        [0.0000000e+00, 0.0000000e+00, 0.0000000e+00],\n",
              "        ...,\n",
              "        [5.2204138e-01, 3.1471610e-01, 2.5696355e-01],\n",
              "        [5.3001595e-01, 3.1572813e-01, 2.6739436e-01],\n",
              "        [5.3921533e-01, 3.1548285e-01, 2.7578634e-01]],\n",
              "\n",
              "       [[0.0000000e+00, 0.0000000e+00, 0.0000000e+00],\n",
              "        [0.0000000e+00, 0.0000000e+00, 0.0000000e+00],\n",
              "        [0.0000000e+00, 0.0000000e+00, 0.0000000e+00],\n",
              "        ...,\n",
              "        [5.2076304e-01, 3.1648785e-01, 2.5316477e-01],\n",
              "        [5.3085381e-01, 3.2162151e-01, 2.6657882e-01],\n",
              "        [5.4042649e-01, 3.2328510e-01, 2.7771330e-01]]], dtype=float32)>"
            ]
          },
          "metadata": {},
          "execution_count": 38
        }
      ]
    },
    {
      "cell_type": "code",
      "source": [
        "y_true = y[9]  #Selecionando a imagem que está na posição 9\n",
        "y_true"
      ],
      "metadata": {
        "id": "v-CpvYDhgW0w",
        "outputId": "2bf516ff-8055-4fed-a55d-4bac2c86d902",
        "colab": {
          "base_uri": "https://localhost:8080/"
        }
      },
      "execution_count": 40,
      "outputs": [
        {
          "output_type": "execute_result",
          "data": {
            "text/plain": [
              "<tf.Tensor: shape=(2,), dtype=float32, numpy=array([0., 1.], dtype=float32)>"
            ]
          },
          "metadata": {},
          "execution_count": 40
        }
      ]
    },
    {
      "cell_type": "code",
      "source": [
        "y_true = np.argmax(y[9]) #Argmax irá retonar o valor máximo no conjunto de array\n",
        "y_true"
      ],
      "metadata": {
        "id": "C6Ph6aIby1fM",
        "outputId": "27db019c-dca7-44fc-a1c2-7c12764bbf63",
        "colab": {
          "base_uri": "https://localhost:8080/"
        }
      },
      "execution_count": 41,
      "outputs": [
        {
          "output_type": "execute_result",
          "data": {
            "text/plain": [
              "1"
            ]
          },
          "metadata": {},
          "execution_count": 41
        }
      ]
    },
    {
      "cell_type": "code",
      "source": [
        "classes[1]"
      ],
      "metadata": {
        "id": "lkZZmS-7y9Xk",
        "outputId": "48d551b8-c36b-4cd6-c19f-5c989d5b2842",
        "colab": {
          "base_uri": "https://localhost:8080/",
          "height": 36
        }
      },
      "execution_count": 42,
      "outputs": [
        {
          "output_type": "execute_result",
          "data": {
            "text/plain": [
              "'normal'"
            ],
            "application/vnd.google.colaboratory.intrinsic+json": {
              "type": "string"
            }
          },
          "metadata": {},
          "execution_count": 42
        }
      ]
    },
    {
      "cell_type": "code",
      "source": [
        "plt.imshow(image)\n",
        "plt.axis('off');"
      ],
      "metadata": {
        "id": "WHjoB4D6zA_N",
        "outputId": "d50ec88a-38f7-4786-efc1-f552df261456",
        "colab": {
          "base_uri": "https://localhost:8080/",
          "height": 406
        }
      },
      "execution_count": null,
      "outputs": [
        {
          "output_type": "display_data",
          "data": {
            "text/plain": [
              "<Figure size 640x480 with 1 Axes>"
            ],
            "image/png": "[encoded data removed]"
          },
          "metadata": {}
        }
      ]
    },
    {
      "cell_type": "code",
      "source": [
        "image.shape"
      ],
      "metadata": {
        "id": "NLJKNhMpzP68",
        "outputId": "56aea18b-5620-4629-9b65-e7575d99e872",
        "colab": {
          "base_uri": "https://localhost:8080/"
        }
      },
      "execution_count": null,
      "outputs": [
        {
          "output_type": "execute_result",
          "data": {
            "text/plain": [
              "TensorShape([260, 260, 3])"
            ]
          },
          "metadata": {},
          "execution_count": 45
        }
      ]
    },
    {
      "cell_type": "code",
      "source": [
        "image = np.expand_dims(image, axis = 0)\n",
        "image.shape"
      ],
      "metadata": {
        "id": "SHzI37nIzUXF",
        "outputId": "dea8c3d1-54d6-4c43-f460-690cc45a4de5",
        "colab": {
          "base_uri": "https://localhost:8080/"
        }
      },
      "execution_count": null,
      "outputs": [
        {
          "output_type": "execute_result",
          "data": {
            "text/plain": [
              "(1, 260, 260, 3)"
            ]
          },
          "metadata": {},
          "execution_count": 46
        }
      ]
    },
    {
      "cell_type": "code",
      "source": [
        "prediction = model.predict(image)\n",
        "prediction"
      ],
      "metadata": {
        "id": "3poymBoxziQ8",
        "outputId": "c4e7c1b6-3f18-48e9-be6f-43f80892bf8a",
        "colab": {
          "base_uri": "https://localhost:8080/"
        }
      },
      "execution_count": null,
      "outputs": [
        {
          "output_type": "stream",
          "name": "stdout",
          "text": [
            "1/1 [==============================] - 1s 1s/step\n"
          ]
        },
        {
          "output_type": "execute_result",
          "data": {
            "text/plain": [
              "array([[ 0.72005826, -1.2352341 ]], dtype=float32)"
            ]
          },
          "metadata": {},
          "execution_count": 47
        }
      ]
    },
    {
      "cell_type": "code",
      "source": [
        "prediction = np.argmax(prediction)\n",
        "prediction"
      ],
      "metadata": {
        "id": "hNHEbWqqzres",
        "outputId": "fc7afe46-ad3c-438d-81a5-de5a60de9116",
        "colab": {
          "base_uri": "https://localhost:8080/"
        }
      },
      "execution_count": null,
      "outputs": [
        {
          "output_type": "execute_result",
          "data": {
            "text/plain": [
              "0"
            ]
          },
          "metadata": {},
          "execution_count": 48
        }
      ]
    },
    {
      "cell_type": "code",
      "source": [],
      "metadata": {
        "id": "mjsEPr-n0NcE"
      },
      "execution_count": null,
      "outputs": []
    },
    {
      "cell_type": "code",
      "source": [],
      "metadata": {
        "id": "7kAzh2zGz8MV"
      },
      "execution_count": null,
      "outputs": []
    },
    {
      "cell_type": "markdown",
      "source": [],
      "metadata": {
        "id": "P9vhCU7DzPRd"
      }
    },
    {
      "cell_type": "markdown",
      "source": [],
      "metadata": {
        "id": "KqvYuQ_gx4bD"
      }
    }
  ]
}