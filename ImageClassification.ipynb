{
  "nbformat": 4,
  "nbformat_minor": 0,
  "metadata": {
    "colab": {
      "provenance": [],
      "name": "ImageClassification.ipynb",
      "mount_file_id": "https://github.com/Paimonz/computer-vision/blob/main/ImageClassification.ipynb",
      "authorship_tag": "ABX9TyPibaN8qhquRKDD59I9baMy",
      "include_colab_link": true
    },
    "kernelspec": {
      "name": "python3",
      "display_name": "Python 3"
    },
    "language_info": {
      "name": "python"
    }
  },
  "cells": [
    {
      "cell_type": "markdown",
      "metadata": {
        "id": "view-in-github",
        "colab_type": "text"
      },
      "source": [
        "<a href=\"https://colab.research.google.com/github/Paimonz/computer-vision/blob/main/ImageClassification.ipynb\" target=\"_parent\"><img src=\"https://colab.research.google.com/assets/colab-badge.svg\" alt=\"Open In Colab\"/></a>"
      ]
    },
    {
      "cell_type": "code",
      "execution_count": 3,
      "metadata": {
        "colab": {
          "base_uri": "https://localhost:8080/"
        },
        "id": "oacAu5x0TNXX",
        "outputId": "e493efd8-7f29-4f6e-bb42-89243893d71f"
      },
      "outputs": [
        {
          "output_type": "stream",
          "name": "stdout",
          "text": [
            "TensorFlow version: 2.13.0\n",
            "TensorFlow Hub version: 0.14.0\n"
          ]
        }
      ],
      "source": [
        "                                                           #Saiba mais em:\n",
        "\n",
        "import matplotlib.pyplot as plt                            #https://matplotlib.org/3.5.3/api/_as_gen/matplotlib.pyplot.html\n",
        "import numpy as np                                         #https://numpy.org/doc/\n",
        "import tensorflow as tf                                    #https://www.tensorflow.org/api_docs/python/tf\n",
        "import tensorflow_hub as hub                               #https://www.tensorflow.org/hub?hl=pt-br\n",
        "from keras.preprocessing.image import ImageDataGenerator   #https://www.tensorflow.org/api_docs/python/tf/keras/preprocessing/image/ImageDataGenerator\n",
        "\n",
        "print('TensorFlow version:', tf.__version__)               #Verifica a versão do TensorFlow.\n",
        "print('TensorFlow Hub version:', hub.__version__)          #Verifica a versão do TensorFlow Hub."
      ]
    },
    {
      "cell_type": "code",
      "source": [
        "#O TensorFlow Hub tem vários modelos de classificação, você pode verificar outros modelos em:\n",
        "#https://tfhub.dev/s?module-type=image-feature-vector&tf-version=tf2&q=efficientnet\n",
        "#Usei o modelo efficientnetv2-b2-21k pois acredito ser mais adequato para os tipos de imagens que tenho.\n",
        "\n",
        "model_name = 'efficientnetv2-b2-21k'"
      ],
      "metadata": {
        "id": "b9Wyt3T9WTL-"
      },
      "execution_count": 4,
      "outputs": []
    },
    {
      "cell_type": "code",
      "source": [
        "#Criando uma nova variavel, armazenado o caminho do modelo.\n",
        "#O primeiro parametro é o nome do modelo e o segundo é o link para donwload do modelo.\n",
        "\n",
        "models_path = {\n",
        "    \"efficientnetv2-b2-21k\": \"https://tfhub.dev/google/imagenet/efficientnet_v2_imagenet21k_b2/feature_vector/2\",\n",
        "}"
      ],
      "metadata": {
        "id": "rrx5IQ5tWicE"
      },
      "execution_count": 5,
      "outputs": []
    },
    {
      "cell_type": "code",
      "source": [
        "#Criando nova variavel para a dimensões das imagens, pois cada modelo trabalha com uma dimensão expecifica.\n",
        "#Para trabalhar com o modelo escolhido as imagens tem que ser igual ou inferior as dimensões 260x260.\n",
        "\n",
        "models_pixels = {\n",
        "    \"efficientnetv2-b2-21k\": 260\n",
        "}"
      ],
      "metadata": {
        "id": "GS2YK1ZBYZUW"
      },
      "execution_count": 6,
      "outputs": []
    },
    {
      "cell_type": "code",
      "source": [
        "#Armezenando o caminho do modelo através do nome do nomdelo.\n",
        "\n",
        "model_path = models_path.get(model_name)\n",
        "model_path"
      ],
      "metadata": {
        "colab": {
          "base_uri": "https://localhost:8080/",
          "height": 36
        },
        "id": "JkLdZBgWZG_d",
        "outputId": "8a6821cf-2fc6-4e63-8f11-17add796c0d0"
      },
      "execution_count": 7,
      "outputs": [
        {
          "output_type": "execute_result",
          "data": {
            "text/plain": [
              "'https://tfhub.dev/google/imagenet/efficientnet_v2_imagenet21k_b2/feature_vector/2'"
            ],
            "application/vnd.google.colaboratory.intrinsic+json": {
              "type": "string"
            }
          },
          "metadata": {},
          "execution_count": 7
        }
      ]
    },
    {
      "cell_type": "code",
      "source": [
        "#Armazenando as dimensões/pixels do modelo atravéz do nome do modelo.\n",
        "\n",
        "pixels = models_pixels.get(model_name)\n",
        "pixels"
      ],
      "metadata": {
        "colab": {
          "base_uri": "https://localhost:8080/"
        },
        "id": "tn_U-L3-aFqc",
        "outputId": "b52e52a3-9440-4df9-874d-37291e2cad70"
      },
      "execution_count": 8,
      "outputs": [
        {
          "output_type": "execute_result",
          "data": {
            "text/plain": [
              "260"
            ]
          },
          "metadata": {},
          "execution_count": 8
        }
      ]
    },
    {
      "cell_type": "code",
      "source": [
        "#Criando o formato das imagens.\n",
        "\n",
        "image_size = (pixels, pixels)\n",
        "image_size"
      ],
      "metadata": {
        "colab": {
          "base_uri": "https://localhost:8080/"
        },
        "id": "CfLw9ro5aAOd",
        "outputId": "24006ad5-6ae4-428d-8560-cd5b00f44547"
      },
      "execution_count": 9,
      "outputs": [
        {
          "output_type": "execute_result",
          "data": {
            "text/plain": [
              "(260, 260)"
            ]
          },
          "metadata": {},
          "execution_count": 9
        }
      ]
    },
    {
      "cell_type": "code",
      "source": [
        "print('Model: ', model_name)          #Para mostrar com qual modelo estamos trabalhando.\n",
        "print('Path: ', model_path)           #Mostrando o caminho/link onde é possível encontrar o modelo.\n",
        "print('Imagem size: ', image_size)    #Revelando o formato das imagens que serão trabalhadas no projeto."
      ],
      "metadata": {
        "colab": {
          "base_uri": "https://localhost:8080/"
        },
        "id": "9H5a9r2nbwTE",
        "outputId": "4f4a3aa8-f7b5-467c-fb22-68e5a069bac2"
      },
      "execution_count": 10,
      "outputs": [
        {
          "output_type": "stream",
          "name": "stdout",
          "text": [
            "Model:  efficientnetv2-b2-21k\n",
            "Path:  https://tfhub.dev/google/imagenet/efficientnet_v2_imagenet21k_b2/feature_vector/2\n",
            "Imagem size:  (260, 260)\n"
          ]
        }
      ]
    },
    {
      "cell_type": "code",
      "source": [
        "#O dataset foi criado/configurado e armazenado no google driver, para seguir esse modelo vc precisará criar o seu próprio dataset e montar o seu driver.\n",
        "#Saiba mais em: https://saturncloud.io/blog/how-to-import-files-from-google-drive-to-colab/\n",
        "#Você pode encontrar as imagens utilizadas nesse projeto em: https://www.kaggle.com/datasets/gunavenkatdoddi/eye-diseases-classification\n",
        "\n",
        "flow_from_directory = \"/content/drive/MyDrive/Colab Notebooks/dataset\" #método da classe ImageDataGenerator que permite ler imagens de um grande array numpy e pastas contendo imagens.\n",
        "data_directory = flow_from_directory                                   #Armazena o caminho do flow_from_directory em data_directory.\n",
        "print(data_directory)                                                  #Mostra o caminho do data_directory."
      ],
      "metadata": {
        "colab": {
          "base_uri": "https://localhost:8080/"
        },
        "id": "CjJbAW3o_lFT",
        "outputId": "41e46b30-040b-41d9-b863-660e7413514e"
      },
      "execution_count": 11,
      "outputs": [
        {
          "output_type": "stream",
          "name": "stdout",
          "text": [
            "/content/drive/MyDrive/Colab Notebooks/dataset\n"
          ]
        }
      ]
    },
    {
      "cell_type": "code",
      "source": [
        "train_dataset = tf.keras.preprocessing.image_dataset_from_directory(data_directory,            #Pegando as imagens que estão no data_directory para o treino\n",
        "                                                                    validation_split= .20,     #Usaremos 20% do dataset para validação.\n",
        "                                                                    subset = 'training',       #Significa que essa parte do conjunto de dados é o treinamento.\n",
        "                                                                    label_mode='categorical',  #Etiqueta do nosso modelo será por categoria, Catarata ou Normal.\n",
        "                                                                    seed = 123,                #Toda vez que a função for chamada será composta pelas mesmas imagens.\n",
        "                                                                    image_size=image_size,     #Configura o formato das imagens.\n",
        "                                                                    batch_size=1)              #Número de amostras processadas antes do modelo ser atualizado."
      ],
      "metadata": {
        "colab": {
          "base_uri": "https://localhost:8080/"
        },
        "id": "BHIDozoxCqki",
        "outputId": "4f9baadb-3a02-49d4-c79e-858d28aeebbd"
      },
      "execution_count": 12,
      "outputs": [
        {
          "output_type": "stream",
          "name": "stdout",
          "text": [
            "Found 1050 files belonging to 2 classes.\n",
            "Using 840 files for training.\n"
          ]
        }
      ]
    },
    {
      "cell_type": "code",
      "source": [
        "#Mostra o nome das classes que temos no nosso treinamento\n",
        "\n",
        "train_dataset.class_names"
      ],
      "metadata": {
        "colab": {
          "base_uri": "https://localhost:8080/"
        },
        "id": "XmmCwjL1FWm1",
        "outputId": "866c61eb-37b2-4129-97ce-def70a0c6b17"
      },
      "execution_count": 13,
      "outputs": [
        {
          "output_type": "execute_result",
          "data": {
            "text/plain": [
              "['cataract', 'normal']"
            ]
          },
          "metadata": {},
          "execution_count": 13
        }
      ]
    },
    {
      "cell_type": "code",
      "source": [
        "#Criando uma variavel com os nomes das classes do nosso dataset\n",
        "\n",
        "classes = train_dataset.class_names\n",
        "classes"
      ],
      "metadata": {
        "colab": {
          "base_uri": "https://localhost:8080/"
        },
        "id": "hBSJ21aSFr7K",
        "outputId": "dac4563e-d2ec-484a-92d1-41b012d5c213"
      },
      "execution_count": 14,
      "outputs": [
        {
          "output_type": "execute_result",
          "data": {
            "text/plain": [
              "['cataract', 'normal']"
            ]
          },
          "metadata": {},
          "execution_count": 14
        }
      ]
    },
    {
      "cell_type": "code",
      "source": [
        " #A função da cardinality retorna o número de elementos em uma lista, no caso irá retorno o número de arquivos usados no treinameno (train_dataset).\n",
        "\n",
        "training_size = train_dataset.cardinality().numpy()\n",
        "training_size"
      ],
      "metadata": {
        "colab": {
          "base_uri": "https://localhost:8080/"
        },
        "id": "ftzcCd8FGAZc",
        "outputId": "50e86aab-f69a-4995-ef7e-6731d7edbfdf"
      },
      "execution_count": 15,
      "outputs": [
        {
          "output_type": "execute_result",
          "data": {
            "text/plain": [
              "840"
            ]
          },
          "metadata": {},
          "execution_count": 15
        }
      ]
    },
    {
      "cell_type": "code",
      "source": [
        "#Organizando o dataset em 52 lotes, onde cada lote terá (840/16 = 52,5) 16 imagens.\n",
        "\n",
        "BATCH_SIZE = 16 #Significa que existem 16 instâncias de treinamento em cada lote.\n"
      ],
      "metadata": {
        "id": "h_gLIlALGbNL"
      },
      "execution_count": 16,
      "outputs": []
    },
    {
      "cell_type": "code",
      "source": [
        "train_dataset = train_dataset.unbatch().batch(BATCH_SIZE) #Atualizando o batch_size porque inicialmente começamos com batch_size =1\n",
        "train_dataset"
      ],
      "metadata": {
        "colab": {
          "base_uri": "https://localhost:8080/"
        },
        "id": "Ki3giSx0GlYz",
        "outputId": "bdba7a91-71cb-4fb4-c2bc-d312d29979ff"
      },
      "execution_count": 17,
      "outputs": [
        {
          "output_type": "execute_result",
          "data": {
            "text/plain": [
              "<_BatchDataset element_spec=(TensorSpec(shape=(None, 260, 260, 3), dtype=tf.float32, name=None), TensorSpec(shape=(None, 2), dtype=tf.float32, name=None))>"
            ]
          },
          "metadata": {},
          "execution_count": 17
        }
      ]
    },
    {
      "cell_type": "code",
      "source": [
        "840/16\n"
      ],
      "metadata": {
        "colab": {
          "base_uri": "https://localhost:8080/"
        },
        "id": "uUzbRQoCHjD7",
        "outputId": "c5b8592b-a203-4802-9c27-1248e47bcebb"
      },
      "execution_count": 18,
      "outputs": [
        {
          "output_type": "execute_result",
          "data": {
            "text/plain": [
              "52.5"
            ]
          },
          "metadata": {},
          "execution_count": 18
        }
      ]
    },
    {
      "cell_type": "code",
      "source": [
        "# https://www.tensorflow.org/api_docs/python/tf/repeat\n",
        "# https://stackoverflow.com/questions/53514495/what-does-batch-repeat-and-shuffle-do-with-tensorflow-dataset\n",
        "\n",
        "train_dataset = train_dataset.repeat()"
      ],
      "metadata": {
        "id": "SNIDsQJlH5yy"
      },
      "execution_count": 19,
      "outputs": []
    },
    {
      "cell_type": "code",
      "source": [
        "#Image augmentation: https://www.tensorflow.org/tutorials/images/data_augmentation\n",
        "#from multiprocessing.process import parent_process\n",
        "\n",
        "normalization_layer = tf.keras.layers.Rescaling(1. /255)            #Normalization = transformação de dados que alinha os valores dos dados a uma escala comum. Rescaling = reduzindo a escala (pixels) das imagens de 0-255 para 0-1.\n",
        "pre_processing = tf.keras.Sequential([normalization_layer])         #Sequential = irá criar a estrutura da rede neural, que será passado uma sequencia de camadas por isso usaremos sequential.\n",
        "pre_processing.add(tf.keras.layers.RandomRotation(40))              #Irá girar algumas imagens aleatório em 40° e adicionar no pré-processamento, pois pode ser que as imagens separadas para o treinamento não sejam o suficienteentão será necessário \"criar\" mais imagens para o mesmo.\n",
        "pre_processing.add(tf.keras.layers.RandomTranslation(0, 0.2))       #O segundo parametro é a largura, irá deslocar as imagens aleatóriamente em 20% na horizontal.\n",
        "pre_processing.add(tf.keras.layers.RandomTranslation(0.2, 0))       #O primeiro parametro é a altura, irá deslocar as imagens aleatóriamente em 20% na vertical.\n",
        "pre_processing.add(tf.keras.layers.RandomZoom(0.2, 0.2))            #Adicionando imagens aleatórias com o zoom aumentando em 20% e com o zoom reduzido em 20%.\n",
        "pre_processing.add(tf.keras.layers.RandomFlip(mode = 'horizontal')) #Gira as imagens horizontalmente."
      ],
      "metadata": {
        "id": "RNOszHEMITTK"
      },
      "execution_count": 20,
      "outputs": []
    },
    {
      "cell_type": "code",
      "source": [
        "#MAP em Python é uma função que funciona como um iterador para retornar um resultado após aplicar uma função a cada item de um iterável (tupla, listas, etc.). É usado quando\n",
        "#você deseja aplicar uma única função de transformação a todos os elementos iteráveis. O iterável e a função são passados como argumentos para o mapa em Python.\n",
        "\n",
        "#As funções LAMBDA são semelhantes às funções definidas pelo usuário, mas sem nome. Eles são comumente chamados de funções anônimas. As funções lambda são eficientes sempre que\n",
        "#você deseja criar uma função que contenha apenas expressões simples – ou seja, expressões que geralmente são uma única linha de uma instrução.\n",
        "\n",
        "train_dataset = train_dataset.map(lambda images, labels: (pre_processing(images), labels))    #Irá mandar as imagens para o pre_processing.\n",
        "train_dataset"
      ],
      "metadata": {
        "colab": {
          "base_uri": "https://localhost:8080/"
        },
        "id": "b08JoMZwKQ-4",
        "outputId": "bf7f3f95-953a-4324-b01c-89f180b6d40c"
      },
      "execution_count": 21,
      "outputs": [
        {
          "output_type": "execute_result",
          "data": {
            "text/plain": [
              "<_MapDataset element_spec=(TensorSpec(shape=(None, 260, 260, 3), dtype=tf.float32, name=None), TensorSpec(shape=(None, 2), dtype=tf.float32, name=None))>"
            ]
          },
          "metadata": {},
          "execution_count": 21
        }
      ]
    },
    {
      "cell_type": "code",
      "source": [
        "test_dataset = tf.keras.preprocessing.image_dataset_from_directory(data_directory,\n",
        "                                                                   validation_split= .20,\n",
        "                                                                   subset ='validation',          #Agora o nome do subconjunto será validation, que usaremos para o teste.\n",
        "                                                                   label_mode ='categorical',\n",
        "                                                                   seed = 123,\n",
        "                                                                   image_size = image_size,\n",
        "                                                                   batch_size = 1)"
      ],
      "metadata": {
        "id": "KzoWG6q2LnLh",
        "colab": {
          "base_uri": "https://localhost:8080/"
        },
        "outputId": "c229da20-0ec4-4367-c3d4-6404210fa344"
      },
      "execution_count": 22,
      "outputs": [
        {
          "output_type": "stream",
          "name": "stdout",
          "text": [
            "Found 1050 files belonging to 2 classes.\n",
            "Using 210 files for validation.\n"
          ]
        }
      ]
    },
    {
      "cell_type": "code",
      "source": [
        "test_size = test_dataset.cardinality().numpy()    #Extrai a quantidade de imagens que será utilizada para o teste\n",
        "test_size                                         #Mostra a quantidade de imagens que iremos utilizar para o teste"
      ],
      "metadata": {
        "colab": {
          "base_uri": "https://localhost:8080/"
        },
        "id": "X0lPQpzVMxMx",
        "outputId": "99cf3729-6bf2-4a88-c74f-52fcd30c8f74"
      },
      "execution_count": 23,
      "outputs": [
        {
          "output_type": "execute_result",
          "data": {
            "text/plain": [
              "210"
            ]
          },
          "metadata": {},
          "execution_count": 23
        }
      ]
    },
    {
      "cell_type": "code",
      "source": [
        "#Será necessário alterar o conjunto de dados para o mesmo formado utilizado no treinamento.\n",
        "\n",
        "test_dataset = test_dataset.unbatch().batch(BATCH_SIZE)\n",
        "test_dataset = test_dataset.map(lambda images, labels: (pre_processing(images), labels))"
      ],
      "metadata": {
        "id": "V-advWyENUxD"
      },
      "execution_count": 24,
      "outputs": []
    },
    {
      "cell_type": "code",
      "source": [
        "model = tf.keras.Sequential([                                                              #Uma rede neural é composta por uma sequencia de camadas.\n",
        "                              tf.keras.layers.InputLayer(input_shape= image_size + (3,)),  #Entrada da imagens, o número 3 é devido a imagen ser colorida RGB\n",
        "                              hub.KerasLayer(model_path, trainable = False),               #Fazer o download do modelo, \"trainable = False\" isso significa que quando treinarmos a rede neural, não vamos treinar esses pesos que já estão armazenado no modelo do qual faremos o download.\n",
        "                              tf.keras.layers.Dropout(rate = 0.2),                         #Dropout: https://jmlr.org/papers/volume15/srivastava14a/srivastava14a.pdf\n",
        "                              tf.keras.layers.Dense(len(classes))                          #O quantidade de neurônios de sáida deverá ser a mesma quntidade de de classes\n",
        "])"
      ],
      "metadata": {
        "id": "UwnRGQnHaE1W"
      },
      "execution_count": 25,
      "outputs": []
    },
    {
      "cell_type": "code",
      "source": [
        "(None, ) + image_size + (3, )"
      ],
      "metadata": {
        "colab": {
          "base_uri": "https://localhost:8080/"
        },
        "id": "NH7WmQ-Hc8Yb",
        "outputId": "212465f4-f6de-44e6-d11d-9fae58e26e33"
      },
      "execution_count": 26,
      "outputs": [
        {
          "output_type": "execute_result",
          "data": {
            "text/plain": [
              "(None, 260, 260, 3)"
            ]
          },
          "metadata": {},
          "execution_count": 26
        }
      ]
    },
    {
      "cell_type": "code",
      "source": [
        "model.build((None, )+ image_size + (3,))  #O primeiro parametro siginifica a quantidade de imagens que será enviada para o modelo, por isso começa \"vazia\".\n",
        "model.summary()"
      ],
      "metadata": {
        "colab": {
          "base_uri": "https://localhost:8080/"
        },
        "id": "jHclCDWIbQpj",
        "outputId": "bc2b4586-b1b9-42af-ff4f-73d515545134"
      },
      "execution_count": 27,
      "outputs": [
        {
          "output_type": "stream",
          "name": "stdout",
          "text": [
            "Model: \"sequential_1\"\n",
            "_________________________________________________________________\n",
            " Layer (type)                Output Shape              Param #   \n",
            "=================================================================\n",
            " keras_layer (KerasLayer)    (None, 1408)              8769374   \n",
            "                                                                 \n",
            " dropout (Dropout)           (None, 1408)              0         \n",
            "                                                                 \n",
            " dense (Dense)               (None, 2)                 2818      \n",
            "                                                                 \n",
            "=================================================================\n",
            "Total params: 8772192 (33.46 MB)\n",
            "Trainable params: 2818 (11.01 KB)\n",
            "Non-trainable params: 8769374 (33.45 MB)\n",
            "_________________________________________________________________\n"
          ]
        }
      ]
    },
    {
      "cell_type": "code",
      "source": [
        "#Adam = O algoritmo Adaptive Movement Estimation, ou Adam, para abreviar, é uma extensão da descida gradiente e um sucessor natural de técnicas como AdaGrad e RMSProp que adapta\n",
        "#automaticamente uma taxa de aprendizagem para cada variável de entrada para a função objetivo e suaviza ainda mais o processo de pesquisa usando um exponencialmente.\n",
        "\n",
        "model.compile(optimizer='adam', loss=tf.keras.losses.CategoricalCrossentropy(from_logits=True), metrics = 'accuracy')"
      ],
      "metadata": {
        "id": "UslZiLBhcQJz"
      },
      "execution_count": 28,
      "outputs": []
    },
    {
      "cell_type": "code",
      "source": [
        "steps_per_epoch = training_size // BATCH_SIZE\n",
        "validation_steps = test_size // BATCH_SIZE\n",
        "print(steps_per_epoch, validation_steps)"
      ],
      "metadata": {
        "colab": {
          "base_uri": "https://localhost:8080/"
        },
        "id": "bOaUfPmMfszz",
        "outputId": "e159526b-0924-469c-bda1-7daa32bd9668"
      },
      "execution_count": 29,
      "outputs": [
        {
          "output_type": "stream",
          "name": "stdout",
          "text": [
            "52 13\n"
          ]
        }
      ]
    },
    {
      "cell_type": "code",
      "source": [
        "#\"model.fir\" a rede neural começará a treinar, os pesos serão ajustados e vamos enviar o treino.\n",
        "#Epochs = Uma época é quando todos os dados de treinamento são usados ​​de uma vez e é definida como o número total de iterações de todos os dados de treinamento em um ciclo para treinar o modelo de aprendizado de máquina\n",
        "\n",
        "hist = model.fit(train_dataset, epochs= 15, steps_per_epoch = steps_per_epoch,\n",
        "                 validation_data = test_dataset, validation_steps = validation_steps).history"
      ],
      "metadata": {
        "colab": {
          "base_uri": "https://localhost:8080/"
        },
        "id": "Dz19yiGQgcLF",
        "outputId": "cfc4af70-5ae6-460d-c756-7f5a751bc934"
      },
      "execution_count": 30,
      "outputs": [
        {
          "output_type": "stream",
          "name": "stdout",
          "text": [
            "Epoch 1/15\n",
            "52/52 [==============================] - 192s 3s/step - loss: 0.3732 - accuracy: 0.8546 - val_loss: 0.1400 - val_accuracy: 0.9519\n",
            "Epoch 2/15\n",
            "52/52 [==============================] - 168s 3s/step - loss: 0.2063 - accuracy: 0.9114 - val_loss: 0.1106 - val_accuracy: 0.9519\n",
            "Epoch 3/15\n",
            "52/52 [==============================] - 168s 3s/step - loss: 0.1627 - accuracy: 0.9393 - val_loss: 0.1045 - val_accuracy: 0.9712\n",
            "Epoch 4/15\n",
            "52/52 [==============================] - 164s 3s/step - loss: 0.1063 - accuracy: 0.9539 - val_loss: 0.1236 - val_accuracy: 0.9615\n",
            "Epoch 5/15\n",
            "52/52 [==============================] - 154s 3s/step - loss: 0.1357 - accuracy: 0.9405 - val_loss: 0.1032 - val_accuracy: 0.9567\n",
            "Epoch 6/15\n",
            "52/52 [==============================] - 164s 3s/step - loss: 0.1341 - accuracy: 0.9551 - val_loss: 0.0742 - val_accuracy: 0.9712\n",
            "Epoch 7/15\n",
            "52/52 [==============================] - 153s 3s/step - loss: 0.1161 - accuracy: 0.9551 - val_loss: 0.0857 - val_accuracy: 0.9712\n",
            "Epoch 8/15\n",
            "52/52 [==============================] - 164s 3s/step - loss: 0.1300 - accuracy: 0.9490 - val_loss: 0.0899 - val_accuracy: 0.9760\n",
            "Epoch 9/15\n",
            "52/52 [==============================] - 165s 3s/step - loss: 0.0752 - accuracy: 0.9709 - val_loss: 0.1079 - val_accuracy: 0.9663\n",
            "Epoch 10/15\n",
            "52/52 [==============================] - 164s 3s/step - loss: 0.0870 - accuracy: 0.9697 - val_loss: 0.0748 - val_accuracy: 0.9760\n",
            "Epoch 11/15\n",
            "52/52 [==============================] - 164s 3s/step - loss: 0.0942 - accuracy: 0.9624 - val_loss: 0.0752 - val_accuracy: 0.9712\n",
            "Epoch 12/15\n",
            "52/52 [==============================] - 164s 3s/step - loss: 0.1005 - accuracy: 0.9672 - val_loss: 0.0653 - val_accuracy: 0.9760\n",
            "Epoch 13/15\n",
            "52/52 [==============================] - 174s 3s/step - loss: 0.0613 - accuracy: 0.9745 - val_loss: 0.0714 - val_accuracy: 0.9808\n",
            "Epoch 14/15\n",
            "52/52 [==============================] - 163s 3s/step - loss: 0.1036 - accuracy: 0.9575 - val_loss: 0.0550 - val_accuracy: 0.9760\n",
            "Epoch 15/15\n",
            "52/52 [==============================] - 155s 3s/step - loss: 0.0886 - accuracy: 0.9684 - val_loss: 0.0541 - val_accuracy: 0.9808\n"
          ]
        }
      ]
    },
    {
      "cell_type": "code",
      "source": [
        "plt.figure()                                                #O gráfico é interessanto pois assim você consegue saber por quantas épocas você irá treinar o modelo.\n",
        "plt.ylabel('Loss (training and validation)')\n",
        "plt.xlabel('Steps')\n",
        "plt.plot(hist['loss'], label = 'training')\n",
        "plt.plot(hist['val_loss'], label = 'testing')\n",
        "plt.legend();"
      ],
      "metadata": {
        "colab": {
          "base_uri": "https://localhost:8080/",
          "height": 449
        },
        "id": "RHyK4C7vllt-",
        "outputId": "91886ee0-6daa-4405-f309-bfbdd9a6e73f"
      },
      "execution_count": 31,
      "outputs": [
        {
          "output_type": "display_data",
          "data": {
            "text/plain": [
              "<Figure size 640x480 with 1 Axes>"
            ],
            "image/png": "[encoded data removed]"
          },
          "metadata": {}
        }
      ]
    },
    {
      "cell_type": "code",
      "source": [
        "from google.colab import drive\n",
        "drive.mount('/content/drive')"
      ],
      "metadata": {
        "id": "pM53DfGYlclk"
      },
      "execution_count": null,
      "outputs": []
    },
    {
      "cell_type": "code",
      "source": [
        "plt.figure()\n",
        "plt.ylabel('Accuracy (training and validation)')\n",
        "plt.xlabel('Steps')\n",
        "plt.plot(hist['accuracy'], label = 'training')\n",
        "plt.plot(hist['val_accuracy'], label = 'testing')\n",
        "plt.legend();"
      ],
      "metadata": {
        "colab": {
          "base_uri": "https://localhost:8080/",
          "height": 449
        },
        "id": "I3I4V3ipnj5N",
        "outputId": "f7d0af71-cab6-4737-aad6-8e5d71188565"
      },
      "execution_count": 33,
      "outputs": [
        {
          "output_type": "display_data",
          "data": {
            "text/plain": [
              "<Figure size 640x480 with 1 Axes>"
            ],
            "image/png": "[encoded data removed]"
          },
          "metadata": {}
        }
      ]
    },
    {
      "cell_type": "code",
      "source": [
        "#Criando duas variáveis, x e y: x = será o pixels da imagens e y = será o rotulo/etiqueta.\n",
        "#Precisamos usar a função \"Next\" para obter a próxima imagem.\n",
        "#iter é um parâmetro da função, é o iterador sobre o qual a iteração deve ser realizada.\n",
        "#O segundo paramêtro da função \"test_dataset\" será o valor padrão a ser impresso se chegarmos ao final do iterador.\n",
        "\n",
        "x, y = next(iter(test_dataset))\n"
      ],
      "metadata": {
        "id": "I4t4QJB4xpH2"
      },
      "execution_count": 34,
      "outputs": []
    },
    {
      "cell_type": "code",
      "source": [
        "#As informações abaixo são referente aos pixels das imagens\n",
        "\n",
        "x"
      ],
      "metadata": {
        "id": "FDrL2oegyJ0k",
        "outputId": "d56e1234-f3c5-4e67-957e-0ee0f72bfa0e",
        "colab": {
          "base_uri": "https://localhost:8080/"
        }
      },
      "execution_count": 35,
      "outputs": [
        {
          "output_type": "execute_result",
          "data": {
            "text/plain": [
              "<tf.Tensor: shape=(16, 260, 260, 3), dtype=float32, numpy=\n",
              "array([[[[3.95232081e-01, 2.63923466e-01, 1.85232490e-01],\n",
              "         [3.97799373e-01, 2.62473911e-01, 1.83891296e-01],\n",
              "         [3.98068726e-01, 2.60796905e-01, 1.80939615e-01],\n",
              "         ...,\n",
              "         [0.00000000e+00, 0.00000000e+00, 0.00000000e+00],\n",
              "         [0.00000000e+00, 0.00000000e+00, 0.00000000e+00],\n",
              "         [0.00000000e+00, 0.00000000e+00, 0.00000000e+00]],\n",
              "\n",
              "        [[3.96485567e-01, 2.62157500e-01, 1.84473112e-01],\n",
              "         [4.00268257e-01, 2.63511539e-01, 1.83984667e-01],\n",
              "         [4.02593166e-01, 2.65330732e-01, 1.83021814e-01],\n",
              "         ...,\n",
              "         [0.00000000e+00, 0.00000000e+00, 0.00000000e+00],\n",
              "         [0.00000000e+00, 0.00000000e+00, 0.00000000e+00],\n",
              "         [0.00000000e+00, 0.00000000e+00, 0.00000000e+00]],\n",
              "\n",
              "        [[3.96664977e-01, 2.60584176e-01, 1.83723927e-01],\n",
              "         [4.00391936e-01, 2.63030827e-01, 1.83069617e-01],\n",
              "         [4.03578252e-01, 2.66238391e-01, 1.82525516e-01],\n",
              "         ...,\n",
              "         [0.00000000e+00, 0.00000000e+00, 0.00000000e+00],\n",
              "         [0.00000000e+00, 0.00000000e+00, 0.00000000e+00],\n",
              "         [0.00000000e+00, 0.00000000e+00, 0.00000000e+00]],\n",
              "\n",
              "        ...,\n",
              "\n",
              "        [[4.88545805e-01, 3.61058533e-01, 2.63017207e-01],\n",
              "         [4.57519829e-01, 3.39053273e-01, 2.47587189e-01],\n",
              "         [4.11527246e-01, 3.06637466e-01, 2.29595765e-01],\n",
              "         ...,\n",
              "         [6.08004808e-01, 4.33822155e-01, 2.69622654e-01],\n",
              "         [6.10204339e-01, 4.35420692e-01, 2.70940870e-01],\n",
              "         [6.17477357e-01, 4.39928323e-01, 2.74860024e-01]],\n",
              "\n",
              "        [[5.14088631e-01, 3.76210690e-01, 2.64743090e-01],\n",
              "         [5.05919337e-01, 3.70253891e-01, 2.62369841e-01],\n",
              "         [4.93518561e-01, 3.63084495e-01, 2.63786614e-01],\n",
              "         ...,\n",
              "         [6.09561741e-01, 4.37590808e-01, 2.71287233e-01],\n",
              "         [6.11867011e-01, 4.38977718e-01, 2.72605717e-01],\n",
              "         [6.19067371e-01, 4.42152619e-01, 2.75708377e-01]],\n",
              "\n",
              "        [[5.11712909e-01, 3.72792304e-01, 2.58755267e-01],\n",
              "         [5.11417866e-01, 3.71904641e-01, 2.59747058e-01],\n",
              "         [5.15294313e-01, 3.74547213e-01, 2.65393257e-01],\n",
              "         ...,\n",
              "         [6.10012591e-01, 4.39790368e-01, 2.72589505e-01],\n",
              "         [6.12161875e-01, 4.41143960e-01, 2.73192316e-01],\n",
              "         [6.20267749e-01, 4.44623679e-01, 2.75813401e-01]]],\n",
              "\n",
              "\n",
              "       [[[3.16583137e-05, 2.32799212e-03, 4.64316654e-05],\n",
              "         [4.21903067e-04, 3.45748221e-03, 6.87505162e-05],\n",
              "         [3.97618045e-04, 3.85929318e-03, 9.44965170e-04],\n",
              "         ...,\n",
              "         [0.00000000e+00, 0.00000000e+00, 0.00000000e+00],\n",
              "         [0.00000000e+00, 0.00000000e+00, 0.00000000e+00],\n",
              "         [0.00000000e+00, 0.00000000e+00, 0.00000000e+00]],\n",
              "\n",
              "        [[8.95768899e-05, 2.78626755e-03, 3.74845549e-05],\n",
              "         [1.05256657e-03, 3.38999298e-03, 1.84083445e-04],\n",
              "         [1.02512224e-03, 3.34589370e-03, 2.26181117e-03],\n",
              "         ...,\n",
              "         [0.00000000e+00, 0.00000000e+00, 0.00000000e+00],\n",
              "         [0.00000000e+00, 0.00000000e+00, 0.00000000e+00],\n",
              "         [0.00000000e+00, 0.00000000e+00, 0.00000000e+00]],\n",
              "\n",
              "        [[5.65111477e-05, 2.52463808e-03, 4.25924627e-05],\n",
              "         [6.92520523e-04, 3.42852250e-03, 1.18239826e-04],\n",
              "         [6.66879816e-04, 3.63899395e-03, 1.51002314e-03],\n",
              "         ...,\n",
              "         [0.00000000e+00, 0.00000000e+00, 0.00000000e+00],\n",
              "         [0.00000000e+00, 0.00000000e+00, 0.00000000e+00],\n",
              "         [0.00000000e+00, 0.00000000e+00, 0.00000000e+00]],\n",
              "\n",
              "        ...,\n",
              "\n",
              "        [[1.20961246e-07, 2.06262502e-03, 1.47713930e-04],\n",
              "         [9.02458851e-05, 2.85548298e-03, 5.86772512e-04],\n",
              "         [8.88845592e-04, 3.07353935e-03, 9.79009201e-04],\n",
              "         ...,\n",
              "         [0.00000000e+00, 0.00000000e+00, 0.00000000e+00],\n",
              "         [0.00000000e+00, 0.00000000e+00, 0.00000000e+00],\n",
              "         [0.00000000e+00, 0.00000000e+00, 0.00000000e+00]],\n",
              "\n",
              "        [[0.00000000e+00, 1.30186754e-03, 4.25645849e-05],\n",
              "         [5.24181075e-07, 2.36992771e-03, 1.64310011e-04],\n",
              "         [8.06869357e-05, 2.83397129e-03, 2.46064359e-04],\n",
              "         ...,\n",
              "         [0.00000000e+00, 0.00000000e+00, 0.00000000e+00],\n",
              "         [0.00000000e+00, 0.00000000e+00, 0.00000000e+00],\n",
              "         [0.00000000e+00, 0.00000000e+00, 0.00000000e+00]],\n",
              "\n",
              "        [[2.11872845e-07, 2.63439212e-03, 2.26741671e-04],\n",
              "         [1.57678573e-04, 3.22041498e-03, 9.04285291e-04],\n",
              "         [1.49623840e-03, 3.25359311e-03, 1.52987312e-03],\n",
              "         ...,\n",
              "         [0.00000000e+00, 0.00000000e+00, 0.00000000e+00],\n",
              "         [0.00000000e+00, 0.00000000e+00, 0.00000000e+00],\n",
              "         [0.00000000e+00, 0.00000000e+00, 0.00000000e+00]]],\n",
              "\n",
              "\n",
              "       [[[0.00000000e+00, 0.00000000e+00, 0.00000000e+00],\n",
              "         [0.00000000e+00, 0.00000000e+00, 0.00000000e+00],\n",
              "         [0.00000000e+00, 0.00000000e+00, 0.00000000e+00],\n",
              "         ...,\n",
              "         [0.00000000e+00, 0.00000000e+00, 0.00000000e+00],\n",
              "         [0.00000000e+00, 0.00000000e+00, 0.00000000e+00],\n",
              "         [0.00000000e+00, 0.00000000e+00, 0.00000000e+00]],\n",
              "\n",
              "        [[0.00000000e+00, 0.00000000e+00, 0.00000000e+00],\n",
              "         [0.00000000e+00, 0.00000000e+00, 0.00000000e+00],\n",
              "         [0.00000000e+00, 0.00000000e+00, 0.00000000e+00],\n",
              "         ...,\n",
              "         [0.00000000e+00, 0.00000000e+00, 0.00000000e+00],\n",
              "         [0.00000000e+00, 0.00000000e+00, 0.00000000e+00],\n",
              "         [0.00000000e+00, 0.00000000e+00, 0.00000000e+00]],\n",
              "\n",
              "        [[0.00000000e+00, 0.00000000e+00, 0.00000000e+00],\n",
              "         [0.00000000e+00, 0.00000000e+00, 0.00000000e+00],\n",
              "         [0.00000000e+00, 0.00000000e+00, 0.00000000e+00],\n",
              "         ...,\n",
              "         [0.00000000e+00, 0.00000000e+00, 0.00000000e+00],\n",
              "         [0.00000000e+00, 0.00000000e+00, 0.00000000e+00],\n",
              "         [0.00000000e+00, 0.00000000e+00, 0.00000000e+00]],\n",
              "\n",
              "        ...,\n",
              "\n",
              "        [[3.66585387e-04, 1.60956290e-03, 3.67572793e-04],\n",
              "         [1.03156979e-03, 1.37351523e-03, 2.42904946e-03],\n",
              "         [5.40779810e-03, 3.93063854e-03, 5.72623219e-03],\n",
              "         ...,\n",
              "         [0.00000000e+00, 0.00000000e+00, 0.00000000e+00],\n",
              "         [0.00000000e+00, 0.00000000e+00, 0.00000000e+00],\n",
              "         [0.00000000e+00, 0.00000000e+00, 0.00000000e+00]],\n",
              "\n",
              "        [[2.19001318e-04, 1.33078801e-03, 2.77115789e-04],\n",
              "         [3.68198933e-04, 6.24924549e-04, 1.93275185e-03],\n",
              "         [7.75435125e-04, 1.08165550e-03, 4.88819554e-03],\n",
              "         ...,\n",
              "         [0.00000000e+00, 0.00000000e+00, 0.00000000e+00],\n",
              "         [0.00000000e+00, 0.00000000e+00, 0.00000000e+00],\n",
              "         [0.00000000e+00, 0.00000000e+00, 0.00000000e+00]],\n",
              "\n",
              "        [[2.79834087e-04, 1.75381673e-03, 1.80896022e-04],\n",
              "         [5.09912148e-04, 8.37277039e-04, 1.46688940e-03],\n",
              "         [3.08239367e-04, 9.26286681e-04, 4.76820301e-03],\n",
              "         ...,\n",
              "         [0.00000000e+00, 0.00000000e+00, 0.00000000e+00],\n",
              "         [0.00000000e+00, 0.00000000e+00, 0.00000000e+00],\n",
              "         [0.00000000e+00, 0.00000000e+00, 0.00000000e+00]]],\n",
              "\n",
              "\n",
              "       ...,\n",
              "\n",
              "\n",
              "       [[[8.53251277e-06, 1.72366199e-04, 9.00928397e-04],\n",
              "         [1.17695796e-04, 2.05719727e-04, 1.87554955e-03],\n",
              "         [2.88009178e-04, 1.70760992e-04, 9.25592787e-04],\n",
              "         ...,\n",
              "         [4.94916050e-04, 2.24721502e-03, 2.37680576e-03],\n",
              "         [4.28264355e-03, 4.80739214e-03, 7.15635391e-03],\n",
              "         [4.93513010e-02, 4.21130136e-02, 3.67019251e-02]],\n",
              "\n",
              "        [[1.28620195e-06, 2.16562985e-05, 1.75362016e-04],\n",
              "         [1.69505365e-05, 3.18187704e-05, 3.63627390e-04],\n",
              "         [3.38825121e-05, 2.94942674e-05, 1.73727778e-04],\n",
              "         ...,\n",
              "         [3.27986432e-04, 2.32155807e-03, 7.01703771e-04],\n",
              "         [4.93642467e-04, 3.00731673e-03, 2.59821117e-03],\n",
              "         [7.12175760e-03, 6.40395936e-03, 7.30946381e-03]],\n",
              "\n",
              "        [[0.00000000e+00, 5.06862250e-07, 6.68021903e-06],\n",
              "         [0.00000000e+00, 6.18101467e-07, 8.14630312e-06],\n",
              "         [0.00000000e+00, 2.94279545e-07, 0.00000000e+00],\n",
              "         ...,\n",
              "         [1.17062370e-03, 1.85451959e-03, 9.46463435e-04],\n",
              "         [2.62879272e-04, 2.56522046e-03, 6.13501121e-04],\n",
              "         [4.03123529e-04, 2.03431887e-03, 9.41697625e-04]],\n",
              "\n",
              "        ...,\n",
              "\n",
              "        [[0.00000000e+00, 0.00000000e+00, 0.00000000e+00],\n",
              "         [0.00000000e+00, 0.00000000e+00, 0.00000000e+00],\n",
              "         [0.00000000e+00, 0.00000000e+00, 0.00000000e+00],\n",
              "         ...,\n",
              "         [0.00000000e+00, 0.00000000e+00, 0.00000000e+00],\n",
              "         [0.00000000e+00, 0.00000000e+00, 0.00000000e+00],\n",
              "         [0.00000000e+00, 0.00000000e+00, 0.00000000e+00]],\n",
              "\n",
              "        [[0.00000000e+00, 0.00000000e+00, 0.00000000e+00],\n",
              "         [0.00000000e+00, 0.00000000e+00, 0.00000000e+00],\n",
              "         [0.00000000e+00, 0.00000000e+00, 0.00000000e+00],\n",
              "         ...,\n",
              "         [0.00000000e+00, 0.00000000e+00, 0.00000000e+00],\n",
              "         [0.00000000e+00, 0.00000000e+00, 0.00000000e+00],\n",
              "         [0.00000000e+00, 0.00000000e+00, 0.00000000e+00]],\n",
              "\n",
              "        [[0.00000000e+00, 0.00000000e+00, 0.00000000e+00],\n",
              "         [0.00000000e+00, 0.00000000e+00, 0.00000000e+00],\n",
              "         [0.00000000e+00, 0.00000000e+00, 0.00000000e+00],\n",
              "         ...,\n",
              "         [0.00000000e+00, 0.00000000e+00, 0.00000000e+00],\n",
              "         [0.00000000e+00, 0.00000000e+00, 0.00000000e+00],\n",
              "         [0.00000000e+00, 0.00000000e+00, 0.00000000e+00]]],\n",
              "\n",
              "\n",
              "       [[[5.68924665e-01, 3.29162121e-01, 1.18137151e-01],\n",
              "         [5.63260317e-01, 3.22334409e-01, 1.11679807e-01],\n",
              "         [5.67094684e-01, 3.22978526e-01, 1.12541214e-01],\n",
              "         ...,\n",
              "         [6.54685050e-02, 2.46434305e-02, 1.30627546e-02],\n",
              "         [8.36567134e-02, 3.26911509e-02, 1.61105525e-02],\n",
              "         [2.09846407e-01, 1.01620227e-01, 4.55545038e-02]],\n",
              "\n",
              "        [[5.65877199e-01, 3.25489879e-01, 1.15210839e-01],\n",
              "         [5.59229493e-01, 3.15194011e-01, 1.07046038e-01],\n",
              "         [5.64173400e-01, 3.16306859e-01, 1.07701041e-01],\n",
              "         ...,\n",
              "         [7.69689530e-02, 3.42742801e-02, 1.88040268e-02],\n",
              "         [1.85156599e-01, 8.92212465e-02, 4.29947078e-02],\n",
              "         [3.49406540e-01, 1.76347166e-01, 6.77490383e-02]],\n",
              "\n",
              "        [[5.57666183e-01, 3.20754647e-01, 1.11063749e-01],\n",
              "         [5.56550324e-01, 3.14090133e-01, 1.09107271e-01],\n",
              "         [5.59490621e-01, 3.11939061e-01, 1.07132122e-01],\n",
              "         ...,\n",
              "         [1.73013553e-01, 9.49623138e-02, 5.03675044e-02],\n",
              "         [3.36369872e-01, 1.80005118e-01, 7.56317303e-02],\n",
              "         [4.82532591e-01, 2.53588319e-01, 7.83660710e-02]],\n",
              "\n",
              "        ...,\n",
              "\n",
              "        [[5.20536482e-01, 3.65910739e-01, 2.21651971e-01],\n",
              "         [2.59219319e-01, 1.79988116e-01, 1.11254573e-01],\n",
              "         [8.33677948e-02, 5.39295301e-02, 3.65598164e-02],\n",
              "         ...,\n",
              "         [6.03701055e-01, 2.99927175e-01, 7.34798759e-02],\n",
              "         [5.83945692e-01, 2.92542249e-01, 7.02044293e-02],\n",
              "         [5.62879860e-01, 2.85266876e-01, 7.14655891e-02]],\n",
              "\n",
              "        [[3.21386307e-01, 2.25027829e-01, 1.45507321e-01],\n",
              "         [1.05052486e-01, 6.99817687e-02, 4.48745750e-02],\n",
              "         [2.17476971e-02, 1.20024588e-02, 1.00752367e-02],\n",
              "         ...,\n",
              "         [5.90464294e-01, 2.88105696e-01, 7.27466866e-02],\n",
              "         [5.76350152e-01, 2.86676317e-01, 7.37508163e-02],\n",
              "         [5.58710515e-01, 2.83207089e-01, 7.42813945e-02]],\n",
              "\n",
              "        [[1.69097275e-01, 1.20352954e-01, 8.63226950e-02],\n",
              "         [3.57416458e-02, 2.33649686e-02, 1.55513883e-02],\n",
              "         [8.25731643e-03, 2.91702896e-03, 2.59188190e-03],\n",
              "         ...,\n",
              "         [5.79381943e-01, 2.82092601e-01, 7.44351000e-02],\n",
              "         [5.66199064e-01, 2.79023856e-01, 7.06451982e-02],\n",
              "         [5.50207138e-01, 2.75358945e-01, 6.86529279e-02]]],\n",
              "\n",
              "\n",
              "       [[[4.55474764e-01, 3.10994506e-01, 2.31913626e-01],\n",
              "         [4.62098718e-01, 3.09637785e-01, 2.31273115e-01],\n",
              "         [4.66403961e-01, 3.08246732e-01, 2.32876718e-01],\n",
              "         ...,\n",
              "         [6.19393587e-01, 3.28726470e-01, 1.84732705e-01],\n",
              "         [6.05570674e-01, 3.24950755e-01, 1.83049560e-01],\n",
              "         [6.04566813e-01, 3.27856541e-01, 1.86581701e-01]],\n",
              "\n",
              "        [[4.55379784e-01, 3.07159662e-01, 2.28219002e-01],\n",
              "         [4.60419774e-01, 3.06049466e-01, 2.30635196e-01],\n",
              "         [4.64138567e-01, 3.04919511e-01, 2.31850401e-01],\n",
              "         ...,\n",
              "         [6.17886662e-01, 3.27958614e-01, 1.85259789e-01],\n",
              "         [6.10306382e-01, 3.30526322e-01, 1.88907504e-01],\n",
              "         [6.08441532e-01, 3.32358420e-01, 1.93089098e-01]],\n",
              "\n",
              "        [[4.58096027e-01, 3.06815326e-01, 2.31066406e-01],\n",
              "         [4.64665443e-01, 3.05843323e-01, 2.33814269e-01],\n",
              "         [4.69649881e-01, 3.05269122e-01, 2.33464196e-01],\n",
              "         ...,\n",
              "         [6.17435932e-01, 3.34586143e-01, 1.91981256e-01],\n",
              "         [6.13036931e-01, 3.37597728e-01, 1.99675053e-01],\n",
              "         [6.07744336e-01, 3.33333164e-01, 2.02027231e-01]],\n",
              "\n",
              "        ...,\n",
              "\n",
              "        [[4.29441243e-01, 3.12241852e-01, 2.70526409e-01],\n",
              "         [4.01410043e-01, 2.87861943e-01, 2.49858409e-01],\n",
              "         [3.89643967e-01, 2.76621997e-01, 2.37028569e-01],\n",
              "         ...,\n",
              "         [5.75503826e-01, 3.78303170e-01, 3.05779815e-01],\n",
              "         [5.85672677e-01, 3.88834596e-01, 3.17359328e-01],\n",
              "         [5.79562902e-01, 3.83059710e-01, 3.16528320e-01]],\n",
              "\n",
              "        [[4.42561388e-01, 3.21174979e-01, 2.73810089e-01],\n",
              "         [4.17720854e-01, 3.00152391e-01, 2.57067412e-01],\n",
              "         [3.94979000e-01, 2.78741300e-01, 2.36085057e-01],\n",
              "         ...,\n",
              "         [5.84720850e-01, 3.85927409e-01, 3.17065090e-01],\n",
              "         [5.86302042e-01, 3.90387654e-01, 3.22125018e-01],\n",
              "         [5.57582438e-01, 3.72577608e-01, 3.07892680e-01]],\n",
              "\n",
              "        [[4.52294946e-01, 3.26512665e-01, 2.73865163e-01],\n",
              "         [4.33839440e-01, 3.10463190e-01, 2.63072640e-01],\n",
              "         [4.07261550e-01, 2.85005242e-01, 2.40239695e-01],\n",
              "         ...,\n",
              "         [5.81879973e-01, 3.84014904e-01, 3.17724407e-01],\n",
              "         [5.56515574e-01, 3.74874473e-01, 3.10056627e-01],\n",
              "         [4.59504485e-01, 3.13594162e-01, 2.58890837e-01]]]],\n",
              "      dtype=float32)>"
            ]
          },
          "metadata": {},
          "execution_count": 35
        }
      ]
    },
    {
      "cell_type": "code",
      "source": [
        "#Em cada lote tem 16 imagens, de 260x260 pixels coloridas(RGB).\n",
        "\n",
        "x.shape"
      ],
      "metadata": {
        "id": "jDlT6hPMx4jv",
        "outputId": "4a83a7c6-452a-41bf-fa12-4fe2fc0e5ad7",
        "colab": {
          "base_uri": "https://localhost:8080/"
        }
      },
      "execution_count": 36,
      "outputs": [
        {
          "output_type": "execute_result",
          "data": {
            "text/plain": [
              "TensorShape([16, 260, 260, 3])"
            ]
          },
          "metadata": {},
          "execution_count": 36
        }
      ]
    },
    {
      "cell_type": "code",
      "source": [
        "#as linhas são referente as imagens no lote e as colunas são referente as classes.\n",
        "\n",
        "y"
      ],
      "metadata": {
        "id": "OZdnCjnvyNIu",
        "outputId": "53d4873a-c26c-40ef-d5f1-9a357a709204",
        "colab": {
          "base_uri": "https://localhost:8080/"
        }
      },
      "execution_count": 37,
      "outputs": [
        {
          "output_type": "execute_result",
          "data": {
            "text/plain": [
              "<tf.Tensor: shape=(16, 2), dtype=float32, numpy=\n",
              "array([[0., 1.],\n",
              "       [0., 1.],\n",
              "       [0., 1.],\n",
              "       [0., 1.],\n",
              "       [0., 1.],\n",
              "       [0., 1.],\n",
              "       [0., 1.],\n",
              "       [0., 1.],\n",
              "       [0., 1.],\n",
              "       [1., 0.],\n",
              "       [0., 1.],\n",
              "       [0., 1.],\n",
              "       [0., 1.],\n",
              "       [0., 1.],\n",
              "       [0., 1.],\n",
              "       [0., 1.]], dtype=float32)>"
            ]
          },
          "metadata": {},
          "execution_count": 37
        }
      ]
    },
    {
      "cell_type": "code",
      "source": [
        "#Em cada lote tem 16 imagens com duas classes possíevis.\n",
        "\n",
        "y.shape"
      ],
      "metadata": {
        "id": "lw3HTGfpyBKr",
        "outputId": "d16781a8-ea0d-4578-f279-274f760e5829",
        "colab": {
          "base_uri": "https://localhost:8080/"
        }
      },
      "execution_count": null,
      "outputs": [
        {
          "output_type": "execute_result",
          "data": {
            "text/plain": [
              "TensorShape([16, 2])"
            ]
          },
          "metadata": {},
          "execution_count": 40
        }
      ]
    },
    {
      "cell_type": "code",
      "source": [
        "#Para classificar a imagem, o 1° parametro é a possição da imagem, 2° e 3° são os pixels e o 4° é referente ao canal de cores.\n",
        "\n",
        "image = x[9, :, :, :]\n",
        "image"
      ],
      "metadata": {
        "id": "_56kvDTuySeZ",
        "outputId": "6af5e57c-fff1-4645-a103-a134561197c9",
        "colab": {
          "base_uri": "https://localhost:8080/"
        }
      },
      "execution_count": 38,
      "outputs": [
        {
          "output_type": "execute_result",
          "data": {
            "text/plain": [
              "<tf.Tensor: shape=(260, 260, 3), dtype=float32, numpy=\n",
              "array([[[4.0320942e-01, 2.9901755e-01, 2.0280662e-01],\n",
              "        [4.0296665e-01, 2.9736376e-01, 2.0123589e-01],\n",
              "        [4.0193817e-01, 2.9609936e-01, 1.9999819e-01],\n",
              "        ...,\n",
              "        [4.1027793e-01, 3.2400337e-01, 2.3959878e-01],\n",
              "        [4.1266251e-01, 3.2638797e-01, 2.4293122e-01],\n",
              "        [4.1331431e-01, 3.2703978e-01, 2.4419689e-01]],\n",
              "\n",
              "       [[4.0435362e-01, 3.0060104e-01, 2.0347330e-01],\n",
              "        [4.0470523e-01, 3.0110607e-01, 2.0388798e-01],\n",
              "        [4.0333474e-01, 3.0065334e-01, 2.0297441e-01],\n",
              "        ...,\n",
              "        [4.1332120e-01, 3.2704666e-01, 2.3903920e-01],\n",
              "        [4.1494960e-01, 3.2867506e-01, 2.4199714e-01],\n",
              "        [4.1557232e-01, 3.2929775e-01, 2.4393535e-01]],\n",
              "\n",
              "       [[4.0469170e-01, 3.0368981e-01, 2.0517114e-01],\n",
              "        [4.0585616e-01, 3.0467385e-01, 2.0624541e-01],\n",
              "        [4.0494925e-01, 3.0464756e-01, 2.0577878e-01],\n",
              "        ...,\n",
              "        [4.1527861e-01, 3.2900417e-01, 2.3889938e-01],\n",
              "        [4.1519403e-01, 3.2891953e-01, 2.3917052e-01],\n",
              "        [4.1513029e-01, 3.2885578e-01, 2.3991251e-01]],\n",
              "\n",
              "       ...,\n",
              "\n",
              "       [[0.0000000e+00, 0.0000000e+00, 0.0000000e+00],\n",
              "        [0.0000000e+00, 0.0000000e+00, 0.0000000e+00],\n",
              "        [0.0000000e+00, 6.3163964e-07, 0.0000000e+00],\n",
              "        ...,\n",
              "        [5.2776694e-01, 3.1348786e-01, 2.5780603e-01],\n",
              "        [5.3549033e-01, 3.1390134e-01, 2.6839688e-01],\n",
              "        [5.4661280e-01, 3.1559134e-01, 2.7831531e-01]],\n",
              "\n",
              "       [[0.0000000e+00, 0.0000000e+00, 0.0000000e+00],\n",
              "        [0.0000000e+00, 0.0000000e+00, 0.0000000e+00],\n",
              "        [0.0000000e+00, 0.0000000e+00, 0.0000000e+00],\n",
              "        ...,\n",
              "        [5.2204138e-01, 3.1471610e-01, 2.5696355e-01],\n",
              "        [5.3001595e-01, 3.1572813e-01, 2.6739436e-01],\n",
              "        [5.3921533e-01, 3.1548285e-01, 2.7578634e-01]],\n",
              "\n",
              "       [[0.0000000e+00, 0.0000000e+00, 0.0000000e+00],\n",
              "        [0.0000000e+00, 0.0000000e+00, 0.0000000e+00],\n",
              "        [0.0000000e+00, 0.0000000e+00, 0.0000000e+00],\n",
              "        ...,\n",
              "        [5.2076304e-01, 3.1648785e-01, 2.5316477e-01],\n",
              "        [5.3085381e-01, 3.2162151e-01, 2.6657882e-01],\n",
              "        [5.4042649e-01, 3.2328510e-01, 2.7771330e-01]]], dtype=float32)>"
            ]
          },
          "metadata": {},
          "execution_count": 38
        }
      ]
    },
    {
      "cell_type": "code",
      "source": [
        "y_true = np.argmax(y[9])\n",
        "y_true"
      ],
      "metadata": {
        "id": "C6Ph6aIby1fM",
        "outputId": "f97e0a52-38dd-420f-aa7d-89977bd981b2",
        "colab": {
          "base_uri": "https://localhost:8080/"
        }
      },
      "execution_count": 41,
      "outputs": [
        {
          "output_type": "execute_result",
          "data": {
            "text/plain": [
              "0"
            ]
          },
          "metadata": {},
          "execution_count": 41
        }
      ]
    },
    {
      "cell_type": "code",
      "source": [
        "classes[0]"
      ],
      "metadata": {
        "id": "lkZZmS-7y9Xk",
        "outputId": "db34e9cb-87bd-4f9e-8e0f-1a8bba6f528a",
        "colab": {
          "base_uri": "https://localhost:8080/",
          "height": 36
        }
      },
      "execution_count": 43,
      "outputs": [
        {
          "output_type": "execute_result",
          "data": {
            "text/plain": [
              "'cataract'"
            ],
            "application/vnd.google.colaboratory.intrinsic+json": {
              "type": "string"
            }
          },
          "metadata": {},
          "execution_count": 43
        }
      ]
    },
    {
      "cell_type": "code",
      "source": [
        "plt.imshow(image)\n",
        "plt.axis('off');"
      ],
      "metadata": {
        "id": "WHjoB4D6zA_N",
        "outputId": "d50ec88a-38f7-4786-efc1-f552df261456",
        "colab": {
          "base_uri": "https://localhost:8080/",
          "height": 406
        }
      },
      "execution_count": 44,
      "outputs": [
        {
          "output_type": "display_data",
          "data": {
            "text/plain": [
              "<Figure size 640x480 with 1 Axes>"
            ],
            "image/png": "[encoded data removed]"
          },
          "metadata": {}
        }
      ]
    },
    {
      "cell_type": "code",
      "source": [
        "image.shape"
      ],
      "metadata": {
        "id": "NLJKNhMpzP68",
        "outputId": "56aea18b-5620-4629-9b65-e7575d99e872",
        "colab": {
          "base_uri": "https://localhost:8080/"
        }
      },
      "execution_count": 45,
      "outputs": [
        {
          "output_type": "execute_result",
          "data": {
            "text/plain": [
              "TensorShape([260, 260, 3])"
            ]
          },
          "metadata": {},
          "execution_count": 45
        }
      ]
    },
    {
      "cell_type": "code",
      "source": [
        "image = np.expand_dims(image, axis = 0)\n",
        "image.shape"
      ],
      "metadata": {
        "id": "SHzI37nIzUXF",
        "outputId": "dea8c3d1-54d6-4c43-f460-690cc45a4de5",
        "colab": {
          "base_uri": "https://localhost:8080/"
        }
      },
      "execution_count": 46,
      "outputs": [
        {
          "output_type": "execute_result",
          "data": {
            "text/plain": [
              "(1, 260, 260, 3)"
            ]
          },
          "metadata": {},
          "execution_count": 46
        }
      ]
    },
    {
      "cell_type": "code",
      "source": [
        "prediction = model.predict(image)\n",
        "prediction"
      ],
      "metadata": {
        "id": "3poymBoxziQ8",
        "outputId": "c4e7c1b6-3f18-48e9-be6f-43f80892bf8a",
        "colab": {
          "base_uri": "https://localhost:8080/"
        }
      },
      "execution_count": 47,
      "outputs": [
        {
          "output_type": "stream",
          "name": "stdout",
          "text": [
            "1/1 [==============================] - 1s 1s/step\n"
          ]
        },
        {
          "output_type": "execute_result",
          "data": {
            "text/plain": [
              "array([[ 0.72005826, -1.2352341 ]], dtype=float32)"
            ]
          },
          "metadata": {},
          "execution_count": 47
        }
      ]
    },
    {
      "cell_type": "code",
      "source": [
        "prediction = np.argmax(prediction)\n",
        "prediction"
      ],
      "metadata": {
        "id": "hNHEbWqqzres",
        "outputId": "fc7afe46-ad3c-438d-81a5-de5a60de9116",
        "colab": {
          "base_uri": "https://localhost:8080/"
        }
      },
      "execution_count": 48,
      "outputs": [
        {
          "output_type": "execute_result",
          "data": {
            "text/plain": [
              "0"
            ]
          },
          "metadata": {},
          "execution_count": 48
        }
      ]
    },
    {
      "cell_type": "code",
      "source": [],
      "metadata": {
        "id": "mjsEPr-n0NcE"
      },
      "execution_count": null,
      "outputs": []
    },
    {
      "cell_type": "code",
      "source": [],
      "metadata": {
        "id": "7kAzh2zGz8MV"
      },
      "execution_count": null,
      "outputs": []
    },
    {
      "cell_type": "markdown",
      "source": [],
      "metadata": {
        "id": "P9vhCU7DzPRd"
      }
    },
    {
      "cell_type": "markdown",
      "source": [],
      "metadata": {
        "id": "KqvYuQ_gx4bD"
      }
    }
  ]
}