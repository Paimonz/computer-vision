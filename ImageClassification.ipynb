{
  "nbformat": 4,
  "nbformat_minor": 0,
  "metadata": {
    "colab": {
      "provenance": [],
      "name": "ImageClassification.ipynb",
      "mount_file_id": "https://github.com/Paimonz/computer-vision/blob/main/ImageClassification.ipynb",
      "authorship_tag": "ABX9TyOUB4mDBd7hqZHHJ9EU08Q5",
      "include_colab_link": true
    },
    "kernelspec": {
      "name": "python3",
      "display_name": "Python 3"
    },
    "language_info": {
      "name": "python"
    }
  },
  "cells": [
    {
      "cell_type": "markdown",
      "metadata": {
        "id": "view-in-github",
        "colab_type": "text"
      },
      "source": [
        "<a href=\"https://colab.research.google.com/github/Paimonz/computer-vision/blob/main/ImageClassification.ipynb\" target=\"_parent\"><img src=\"https://colab.research.google.com/assets/colab-badge.svg\" alt=\"Open In Colab\"/></a>"
      ]
    },
    {
      "cell_type": "code",
      "execution_count": 2,
      "metadata": {
        "colab": {
          "base_uri": "https://localhost:8080/"
        },
        "id": "oacAu5x0TNXX",
        "outputId": "a3848c70-d9ca-498d-993e-2bad305aed22"
      },
      "outputs": [
        {
          "output_type": "stream",
          "name": "stdout",
          "text": [
            "TensorFlow version: 2.13.0\n",
            "TensorFlow Hub version: 0.14.0\n"
          ]
        }
      ],
      "source": [
        "                                                           #Saiba mais em:\n",
        "\n",
        "import matplotlib.pyplot as plt                            #https://matplotlib.org/3.5.3/api/_as_gen/matplotlib.pyplot.html\n",
        "import numpy as np                                         #https://numpy.org/doc/\n",
        "import tensorflow as tf                                    #https://www.tensorflow.org/api_docs/python/tf\n",
        "import tensorflow_hub as hub                               #https://www.tensorflow.org/hub?hl=pt-br\n",
        "from keras.preprocessing.image import ImageDataGenerator   #https://www.tensorflow.org/api_docs/python/tf/keras/preprocessing/image/ImageDataGenerator\n",
        "\n",
        "print('TensorFlow version:', tf.__version__)               #Verifica a versão do TensorFlow.\n",
        "print('TensorFlow Hub version:', hub.__version__)          #Verifica a versão do TensorFlow Hub."
      ]
    },
    {
      "cell_type": "code",
      "source": [
        "#O TensorFlow Hub tem vários modelos de classificação, você pode verificar outros modelos em:\n",
        "#https://tfhub.dev/s?module-type=image-feature-vector&tf-version=tf2&q=efficientnet\n",
        "#Usei o modelo efficientnetv2-b2-21k pois acredito ser mais adequato para os tipos de imagens que tenho.\n",
        "\n",
        "model_name = 'efficientnetv2-b2-21k'"
      ],
      "metadata": {
        "id": "b9Wyt3T9WTL-"
      },
      "execution_count": 3,
      "outputs": []
    },
    {
      "cell_type": "code",
      "source": [
        "#Criando uma nova variavel, armazenado o caminho do modelo.\n",
        "#O primeiro parametro é o nome do modelo e o segundo é o link para donwload do modelo.\n",
        "\n",
        "models_path = {\n",
        "    \"efficientnetv2-b2-21k\": \"https://tfhub.dev/google/imagenet/efficientnet_v2_imagenet21k_b2/feature_vector/2\",\n",
        "}"
      ],
      "metadata": {
        "id": "rrx5IQ5tWicE"
      },
      "execution_count": 4,
      "outputs": []
    },
    {
      "cell_type": "code",
      "source": [
        "#Criando nova variavel para a dimensões das imagens, pois cada modelo trabalha com uma dimensão expecifica.\n",
        "#Para trabalhar com o modelo escolhido as imagens tem que ser igual ou inferior as dimensões 260x260.\n",
        "\n",
        "models_pixels = {\n",
        "    \"efficientnetv2-b2-21k\": 260\n",
        "}"
      ],
      "metadata": {
        "id": "GS2YK1ZBYZUW"
      },
      "execution_count": 5,
      "outputs": []
    },
    {
      "cell_type": "code",
      "source": [
        "#Armezenando o caminho do modelo através do nome do nomdelo.\n",
        "\n",
        "model_path = models_path.get(model_name)\n",
        "model_path"
      ],
      "metadata": {
        "colab": {
          "base_uri": "https://localhost:8080/",
          "height": 36
        },
        "id": "JkLdZBgWZG_d",
        "outputId": "d4d575fc-6c91-4cb8-9f51-034025972265"
      },
      "execution_count": 6,
      "outputs": [
        {
          "output_type": "execute_result",
          "data": {
            "text/plain": [
              "'https://tfhub.dev/google/imagenet/efficientnet_v2_imagenet21k_b2/feature_vector/2'"
            ],
            "application/vnd.google.colaboratory.intrinsic+json": {
              "type": "string"
            }
          },
          "metadata": {},
          "execution_count": 6
        }
      ]
    },
    {
      "cell_type": "code",
      "source": [
        "#Armazenando as dimensões/pixels do modelo atravéz do nome do modelo.\n",
        "\n",
        "pixels = models_pixels.get(model_name)\n",
        "pixels"
      ],
      "metadata": {
        "colab": {
          "base_uri": "https://localhost:8080/"
        },
        "id": "tn_U-L3-aFqc",
        "outputId": "a4dfa512-19c0-44bb-8fb5-63b7600d6ef4"
      },
      "execution_count": 7,
      "outputs": [
        {
          "output_type": "execute_result",
          "data": {
            "text/plain": [
              "260"
            ]
          },
          "metadata": {},
          "execution_count": 7
        }
      ]
    },
    {
      "cell_type": "code",
      "source": [
        "#Criando o formato das imagens.\n",
        "\n",
        "image_size = (pixels, pixels)\n",
        "image_size"
      ],
      "metadata": {
        "colab": {
          "base_uri": "https://localhost:8080/"
        },
        "id": "CfLw9ro5aAOd",
        "outputId": "5da0dc63-d14e-45c2-a151-65e6da39b1c3"
      },
      "execution_count": 8,
      "outputs": [
        {
          "output_type": "execute_result",
          "data": {
            "text/plain": [
              "(260, 260)"
            ]
          },
          "metadata": {},
          "execution_count": 8
        }
      ]
    },
    {
      "cell_type": "code",
      "source": [
        "print('Model: ', model_name)          #Para mostrar com qual modelo estamos trabalhando.\n",
        "print('Path: ', model_path)           #Mostrando o caminho/link onde é possível encontrar o modelo.\n",
        "print('Imagem size: ', image_size)    #Revelando o formato das imagens que serão trabalhadas no projeto."
      ],
      "metadata": {
        "colab": {
          "base_uri": "https://localhost:8080/"
        },
        "id": "9H5a9r2nbwTE",
        "outputId": "2101bd9a-8ed5-41e6-a4f9-4da9fb4a9da7"
      },
      "execution_count": 9,
      "outputs": [
        {
          "output_type": "stream",
          "name": "stdout",
          "text": [
            "Model:  efficientnetv2-b2-21k\n",
            "Path:  https://tfhub.dev/google/imagenet/efficientnet_v2_imagenet21k_b2/feature_vector/2\n",
            "Imagem size:  (260, 260)\n"
          ]
        }
      ]
    },
    {
      "cell_type": "code",
      "source": [
        "#O dataset foi criado/configurado e armazenado no google driver, para seguir esse modelo vc precisará criar o seu próprio dataset e montar o seu driver.\n",
        "#Saiba mais em: https://saturncloud.io/blog/how-to-import-files-from-google-drive-to-colab/\n",
        "#Você pode encontrar as imagens utilizadas nesse projeto em: https://www.kaggle.com/datasets/gunavenkatdoddi/eye-diseases-classification\n",
        "\n",
        "flow_from_directory = \"/content/drive/MyDrive/dataset1\" #método da classe ImageDataGenerator que permite ler imagens de um grande array numpy e pastas contendo imagens.\n",
        "data_directory = flow_from_directory                                   #Armazena o caminho do flow_from_directory em data_directory.\n",
        "print(data_directory)                                                  #Mostra o caminho do data_directory."
      ],
      "metadata": {
        "colab": {
          "base_uri": "https://localhost:8080/"
        },
        "id": "CjJbAW3o_lFT",
        "outputId": "a1434f29-d5dd-410e-9565-235194c33c4c"
      },
      "execution_count": 10,
      "outputs": [
        {
          "output_type": "stream",
          "name": "stdout",
          "text": [
            "/content/drive/MyDrive/dataset1\n"
          ]
        }
      ]
    },
    {
      "cell_type": "code",
      "source": [
        "train_dataset = tf.keras.preprocessing.image_dataset_from_directory(data_directory,            #Pegando as imagens que estão no data_directory para o treino\n",
        "                                                                    validation_split= .20,     #Usaremos 20% do dataset para validação.\n",
        "                                                                    subset = 'training',       #Significa que essa parte do conjunto de dados é o treinamento.\n",
        "                                                                    label_mode='categorical',  #Etiqueta do nosso modelo será por categoria, Catarata ou Normal.\n",
        "                                                                    seed = 123,                #Toda vez que a função for chamada será composta pelas mesmas imagens.\n",
        "                                                                    image_size=image_size,     #Configura o formato das imagens.\n",
        "                                                                    batch_size=1)              #Número de amostras processadas antes do modelo ser atualizado."
      ],
      "metadata": {
        "colab": {
          "base_uri": "https://localhost:8080/"
        },
        "id": "BHIDozoxCqki",
        "outputId": "0dbc0aef-1995-45ae-baee-73aa51664f16"
      },
      "execution_count": 11,
      "outputs": [
        {
          "output_type": "stream",
          "name": "stdout",
          "text": [
            "Found 601 files belonging to 4 classes.\n",
            "Using 481 files for training.\n"
          ]
        }
      ]
    },
    {
      "cell_type": "code",
      "source": [
        "#Mostra o nome das classes que temos no nosso treinamento\n",
        "\n",
        "train_dataset.class_names"
      ],
      "metadata": {
        "colab": {
          "base_uri": "https://localhost:8080/"
        },
        "id": "XmmCwjL1FWm1",
        "outputId": "002509e4-07b3-4668-9c29-44233585c3d5"
      },
      "execution_count": 12,
      "outputs": [
        {
          "output_type": "execute_result",
          "data": {
            "text/plain": [
              "['1_normal', '2_cataract', '2_glaucoma', '3_retina_disease']"
            ]
          },
          "metadata": {},
          "execution_count": 12
        }
      ]
    },
    {
      "cell_type": "code",
      "source": [
        "#Criando uma variavel com os nomes das classes do nosso dataset\n",
        "\n",
        "classes = train_dataset.class_names\n",
        "classes"
      ],
      "metadata": {
        "colab": {
          "base_uri": "https://localhost:8080/"
        },
        "id": "hBSJ21aSFr7K",
        "outputId": "e7700ba2-4274-483c-831c-f9daa7d9e840"
      },
      "execution_count": 13,
      "outputs": [
        {
          "output_type": "execute_result",
          "data": {
            "text/plain": [
              "['1_normal', '2_cataract', '2_glaucoma', '3_retina_disease']"
            ]
          },
          "metadata": {},
          "execution_count": 13
        }
      ]
    },
    {
      "cell_type": "code",
      "source": [
        " #A função da cardinality retorna o número de elementos em uma lista, no caso irá retorno o número de arquivos usados no treinameno (train_dataset).\n",
        "\n",
        "training_size = train_dataset.cardinality().numpy()\n",
        "training_size"
      ],
      "metadata": {
        "colab": {
          "base_uri": "https://localhost:8080/"
        },
        "id": "ftzcCd8FGAZc",
        "outputId": "58bd8634-430e-4e0e-a02b-7a6ed936c159"
      },
      "execution_count": 14,
      "outputs": [
        {
          "output_type": "execute_result",
          "data": {
            "text/plain": [
              "481"
            ]
          },
          "metadata": {},
          "execution_count": 14
        }
      ]
    },
    {
      "cell_type": "code",
      "source": [
        "#Organizando o dataset em 52 lotes, onde cada lote terá (840/16 = 52,5) 16 imagens.\n",
        "\n",
        "BATCH_SIZE = 16 #Significa que existem 16 instâncias de treinamento em cada lote.\n"
      ],
      "metadata": {
        "id": "h_gLIlALGbNL"
      },
      "execution_count": 15,
      "outputs": []
    },
    {
      "cell_type": "code",
      "source": [
        "train_dataset = train_dataset.unbatch().batch(BATCH_SIZE) #Atualizando o batch_size porque inicialmente começamos com batch_size =1\n",
        "train_dataset"
      ],
      "metadata": {
        "colab": {
          "base_uri": "https://localhost:8080/"
        },
        "id": "Ki3giSx0GlYz",
        "outputId": "0b4a24c0-386d-4c59-8ad2-62cea793430a"
      },
      "execution_count": 16,
      "outputs": [
        {
          "output_type": "execute_result",
          "data": {
            "text/plain": [
              "<_BatchDataset element_spec=(TensorSpec(shape=(None, 260, 260, 3), dtype=tf.float32, name=None), TensorSpec(shape=(None, 4), dtype=tf.float32, name=None))>"
            ]
          },
          "metadata": {},
          "execution_count": 16
        }
      ]
    },
    {
      "cell_type": "code",
      "source": [
        "840/16\n"
      ],
      "metadata": {
        "colab": {
          "base_uri": "https://localhost:8080/"
        },
        "id": "uUzbRQoCHjD7",
        "outputId": "81b9320e-ba15-46fd-fa63-3a38a10534e7"
      },
      "execution_count": 17,
      "outputs": [
        {
          "output_type": "execute_result",
          "data": {
            "text/plain": [
              "52.5"
            ]
          },
          "metadata": {},
          "execution_count": 17
        }
      ]
    },
    {
      "cell_type": "code",
      "source": [
        "# https://www.tensorflow.org/api_docs/python/tf/repeat\n",
        "# https://stackoverflow.com/questions/53514495/what-does-batch-repeat-and-shuffle-do-with-tensorflow-dataset\n",
        "\n",
        "train_dataset = train_dataset.repeat()"
      ],
      "metadata": {
        "id": "SNIDsQJlH5yy"
      },
      "execution_count": 18,
      "outputs": []
    },
    {
      "cell_type": "code",
      "source": [
        "#Image augmentation: https://www.tensorflow.org/tutorials/images/data_augmentation\n",
        "#from multiprocessing.process import parent_process\n",
        "\n",
        "normalization_layer = tf.keras.layers.Rescaling(1. /255)            #Normalization = transformação de dados que alinha os valores dos dados a uma escala comum. Rescaling = reduzindo a escala (pixels) das imagens de 0-255 para 0-1.\n",
        "pre_processing = tf.keras.Sequential([normalization_layer])         #Sequential = irá criar a estrutura da rede neural, que será passado uma sequencia de camadas por isso usaremos sequential.\n",
        "pre_processing.add(tf.keras.layers.RandomRotation(40))              #Irá girar algumas imagens aleatório em 40° e adicionar no pré-processamento, pois pode ser que as imagens separadas para o treinamento não sejam o suficienteentão será necessário \"criar\" mais imagens para o mesmo.\n",
        "pre_processing.add(tf.keras.layers.RandomTranslation(0, 0.2))       #O segundo parametro é a largura, irá deslocar as imagens aleatóriamente em 20% na horizontal.\n",
        "pre_processing.add(tf.keras.layers.RandomTranslation(0.2, 0))       #O primeiro parametro é a altura, irá deslocar as imagens aleatóriamente em 20% na vertical.\n",
        "pre_processing.add(tf.keras.layers.RandomZoom(0.2, 0.2))            #Adicionando imagens aleatórias com o zoom aumentando em 20% e com o zoom reduzido em 20%.\n",
        "pre_processing.add(tf.keras.layers.RandomFlip(mode = 'horizontal')) #Gira as imagens horizontalmente."
      ],
      "metadata": {
        "id": "RNOszHEMITTK"
      },
      "execution_count": 19,
      "outputs": []
    },
    {
      "cell_type": "code",
      "source": [
        "#MAP em Python é uma função que funciona como um iterador para retornar um resultado após aplicar uma função a cada item de um iterável (tupla, listas, etc.). É usado quando\n",
        "#você deseja aplicar uma única função de transformação a todos os elementos iteráveis. O iterável e a função são passados como argumentos para o mapa em Python.\n",
        "\n",
        "#As funções LAMBDA são semelhantes às funções definidas pelo usuário, mas sem nome. Eles são comumente chamados de funções anônimas. As funções lambda são eficientes sempre que\n",
        "#você deseja criar uma função que contenha apenas expressões simples – ou seja, expressões que geralmente são uma única linha de uma instrução.\n",
        "\n",
        "train_dataset = train_dataset.map(lambda images, labels: (pre_processing(images), labels))    #Irá mandar as imagens para o pre_processing.\n",
        "train_dataset"
      ],
      "metadata": {
        "colab": {
          "base_uri": "https://localhost:8080/"
        },
        "id": "b08JoMZwKQ-4",
        "outputId": "397c210a-459c-43fd-abef-97e79f309837"
      },
      "execution_count": 20,
      "outputs": [
        {
          "output_type": "execute_result",
          "data": {
            "text/plain": [
              "<_MapDataset element_spec=(TensorSpec(shape=(None, 260, 260, 3), dtype=tf.float32, name=None), TensorSpec(shape=(None, 4), dtype=tf.float32, name=None))>"
            ]
          },
          "metadata": {},
          "execution_count": 20
        }
      ]
    },
    {
      "cell_type": "code",
      "source": [
        "test_dataset = tf.keras.preprocessing.image_dataset_from_directory(data_directory,\n",
        "                                                                   validation_split= .20,\n",
        "                                                                   subset ='validation',          #Agora o nome do subconjunto será validation, que usaremos para o teste.\n",
        "                                                                   label_mode ='categorical',\n",
        "                                                                   seed = 123,\n",
        "                                                                   image_size = image_size,\n",
        "                                                                   batch_size = 1)"
      ],
      "metadata": {
        "id": "KzoWG6q2LnLh",
        "colab": {
          "base_uri": "https://localhost:8080/"
        },
        "outputId": "d1a8de05-1080-4504-a362-aa7372cb2a26"
      },
      "execution_count": 21,
      "outputs": [
        {
          "output_type": "stream",
          "name": "stdout",
          "text": [
            "Found 601 files belonging to 4 classes.\n",
            "Using 120 files for validation.\n"
          ]
        }
      ]
    },
    {
      "cell_type": "code",
      "source": [
        "test_size = test_dataset.cardinality().numpy()    #Extrai a quantidade de imagens que será utilizada para o teste\n",
        "test_size                                         #Mostra a quantidade de imagens que iremos utilizar para o teste"
      ],
      "metadata": {
        "colab": {
          "base_uri": "https://localhost:8080/"
        },
        "id": "X0lPQpzVMxMx",
        "outputId": "414bb968-4a6a-484f-9c3d-42725b72fda5"
      },
      "execution_count": 22,
      "outputs": [
        {
          "output_type": "execute_result",
          "data": {
            "text/plain": [
              "120"
            ]
          },
          "metadata": {},
          "execution_count": 22
        }
      ]
    },
    {
      "cell_type": "code",
      "source": [
        "#Será necessário alterar o conjunto de dados para o mesmo formado utilizado no treinamento.\n",
        "\n",
        "test_dataset = test_dataset.unbatch().batch(BATCH_SIZE)\n",
        "test_dataset = test_dataset.map(lambda images, labels: (pre_processing(images), labels))"
      ],
      "metadata": {
        "id": "V-advWyENUxD"
      },
      "execution_count": 23,
      "outputs": []
    },
    {
      "cell_type": "code",
      "source": [
        "model = tf.keras.Sequential([                                                              #Uma rede neural é composta por uma sequencia de camadas.\n",
        "                              tf.keras.layers.InputLayer(input_shape= image_size + (3,)),  #Entrada da imagens, o número 3 é devido a imagen ser colorida RGB\n",
        "                              hub.KerasLayer(model_path, trainable = False),               #Fazer o download do modelo, \"trainable = False\" isso significa que quando treinarmos a rede neural, não vamos treinar esses pesos que já estão armazenado no modelo do qual faremos o download.\n",
        "                              tf.keras.layers.Dropout(rate = 0.2),                         #Dropout: https://jmlr.org/papers/volume15/srivastava14a/srivastava14a.pdf\n",
        "                              tf.keras.layers.Dense(len(classes))                          #O quantidade de neurônios de sáida deverá ser a mesma quntidade de de classes\n",
        "])"
      ],
      "metadata": {
        "id": "UwnRGQnHaE1W"
      },
      "execution_count": 24,
      "outputs": []
    },
    {
      "cell_type": "code",
      "source": [
        "(None, ) + image_size + (3, )"
      ],
      "metadata": {
        "colab": {
          "base_uri": "https://localhost:8080/"
        },
        "id": "NH7WmQ-Hc8Yb",
        "outputId": "ff22f598-9c34-4589-f66b-0b47cf3baaba"
      },
      "execution_count": 25,
      "outputs": [
        {
          "output_type": "execute_result",
          "data": {
            "text/plain": [
              "(None, 260, 260, 3)"
            ]
          },
          "metadata": {},
          "execution_count": 25
        }
      ]
    },
    {
      "cell_type": "code",
      "source": [
        "model.build((None, )+ image_size + (3,))  #O primeiro parametro siginifica a quantidade de imagens que será enviada para o modelo, por isso começa \"vazia\".\n",
        "model.summary()"
      ],
      "metadata": {
        "colab": {
          "base_uri": "https://localhost:8080/"
        },
        "id": "jHclCDWIbQpj",
        "outputId": "863f594d-2171-4d93-afdf-ee3492650076"
      },
      "execution_count": 26,
      "outputs": [
        {
          "output_type": "stream",
          "name": "stdout",
          "text": [
            "Model: \"sequential_1\"\n",
            "_________________________________________________________________\n",
            " Layer (type)                Output Shape              Param #   \n",
            "=================================================================\n",
            " keras_layer (KerasLayer)    (None, 1408)              8769374   \n",
            "                                                                 \n",
            " dropout (Dropout)           (None, 1408)              0         \n",
            "                                                                 \n",
            " dense (Dense)               (None, 4)                 5636      \n",
            "                                                                 \n",
            "=================================================================\n",
            "Total params: 8775010 (33.47 MB)\n",
            "Trainable params: 5636 (22.02 KB)\n",
            "Non-trainable params: 8769374 (33.45 MB)\n",
            "_________________________________________________________________\n"
          ]
        }
      ]
    },
    {
      "cell_type": "code",
      "source": [
        "#Adam = O algoritmo Adaptive Movement Estimation, ou Adam, para abreviar, é uma extensão da descida gradiente e um sucessor natural de técnicas como AdaGrad e RMSProp que adapta\n",
        "#automaticamente uma taxa de aprendizagem para cada variável de entrada para a função objetivo e suaviza ainda mais o processo de pesquisa usando um exponencialmente.\n",
        "\n",
        "model.compile(optimizer='adam', loss=tf.keras.losses.CategoricalCrossentropy(from_logits=True), metrics = 'accuracy')"
      ],
      "metadata": {
        "id": "UslZiLBhcQJz"
      },
      "execution_count": 27,
      "outputs": []
    },
    {
      "cell_type": "code",
      "source": [
        "steps_per_epoch = training_size // BATCH_SIZE\n",
        "validation_steps = test_size // BATCH_SIZE\n",
        "print(steps_per_epoch, validation_steps)"
      ],
      "metadata": {
        "colab": {
          "base_uri": "https://localhost:8080/"
        },
        "id": "bOaUfPmMfszz",
        "outputId": "e4b0c3ce-adab-4949-cbdd-a9cc1c519e21"
      },
      "execution_count": 28,
      "outputs": [
        {
          "output_type": "stream",
          "name": "stdout",
          "text": [
            "30 7\n"
          ]
        }
      ]
    },
    {
      "cell_type": "code",
      "source": [
        "#\"model.fir\" a rede neural começará a treinar, os pesos serão ajustados e vamos enviar o treino.\n",
        "#Epochs = Uma época é quando todos os dados de treinamento são usados ​​de uma vez e é definida como o número total de iterações de todos os dados de treinamento em um ciclo para treinar o modelo de aprendizado de máquina\n",
        "\n",
        "hist = model.fit(train_dataset, epochs= 10, steps_per_epoch = steps_per_epoch,\n",
        "                 validation_data = test_dataset, validation_steps = validation_steps).history"
      ],
      "metadata": {
        "colab": {
          "base_uri": "https://localhost:8080/"
        },
        "id": "Dz19yiGQgcLF",
        "outputId": "2452edb3-6106-4e94-de4d-a298420faec8"
      },
      "execution_count": 29,
      "outputs": [
        {
          "output_type": "stream",
          "name": "stdout",
          "text": [
            "Epoch 1/10\n",
            "30/30 [==============================] - 199s 6s/step - loss: 1.7003 - accuracy: 0.4083 - val_loss: 1.2655 - val_accuracy: 0.4732\n",
            "Epoch 2/10\n",
            "30/30 [==============================] - 148s 5s/step - loss: 1.3408 - accuracy: 0.4925 - val_loss: 1.0918 - val_accuracy: 0.5714\n",
            "Epoch 3/10\n",
            "30/30 [==============================] - 143s 5s/step - loss: 1.4178 - accuracy: 0.5032 - val_loss: 1.1581 - val_accuracy: 0.5625\n",
            "Epoch 4/10\n",
            "30/30 [==============================] - 140s 5s/step - loss: 1.2233 - accuracy: 0.5140 - val_loss: 1.0360 - val_accuracy: 0.6071\n",
            "Epoch 5/10\n",
            "30/30 [==============================] - 144s 5s/step - loss: 1.1789 - accuracy: 0.5441 - val_loss: 1.0924 - val_accuracy: 0.5536\n",
            "Epoch 6/10\n",
            "30/30 [==============================] - 148s 5s/step - loss: 1.2905 - accuracy: 0.4946 - val_loss: 1.0931 - val_accuracy: 0.5804\n",
            "Epoch 7/10\n",
            "30/30 [==============================] - 127s 4s/step - loss: 1.2552 - accuracy: 0.5140 - val_loss: 0.9722 - val_accuracy: 0.5804\n",
            "Epoch 8/10\n",
            "30/30 [==============================] - 128s 4s/step - loss: 1.2137 - accuracy: 0.5462 - val_loss: 0.9313 - val_accuracy: 0.5536\n",
            "Epoch 9/10\n",
            "30/30 [==============================] - 127s 4s/step - loss: 1.1477 - accuracy: 0.5613 - val_loss: 0.9919 - val_accuracy: 0.6161\n",
            "Epoch 10/10\n",
            "30/30 [==============================] - 144s 5s/step - loss: 1.1245 - accuracy: 0.5505 - val_loss: 1.0269 - val_accuracy: 0.5982\n"
          ]
        }
      ]
    },
    {
      "cell_type": "code",
      "source": [
        "plt.figure()                                                #O gráfico é interessante pois assim você consegue saber por quantas épocas será necessário treinar o modelo.\n",
        "plt.ylabel('Loss (training and validation)')\n",
        "plt.xlabel('Steps')\n",
        "plt.plot(hist['loss'], label = 'training')\n",
        "plt.plot(hist['val_loss'], label = 'testing')\n",
        "plt.legend();"
      ],
      "metadata": {
        "colab": {
          "base_uri": "https://localhost:8080/",
          "height": 452
        },
        "id": "RHyK4C7vllt-",
        "outputId": "073d0866-e712-4d53-8998-8eea831e625e"
      },
      "execution_count": 31,
      "outputs": [
        {
          "output_type": "display_data",
          "data": {
            "text/plain": [
              "<Figure size 640x480 with 1 Axes>"
            ],
            "image/png": "[encoded data removed]"
          },
          "metadata": {}
        }
      ]
    },
    {
      "cell_type": "code",
      "source": [
        "'''from google.colab import drive\n",
        "drive.mount('/content/drive')'''"
      ],
      "metadata": {
        "id": "pM53DfGYlclk"
      },
      "execution_count": null,
      "outputs": []
    },
    {
      "cell_type": "code",
      "source": [
        "plt.figure()\n",
        "plt.ylabel('Accuracy (training and validation)')\n",
        "plt.xlabel('Steps')\n",
        "plt.plot(hist['accuracy'], label = 'training')\n",
        "plt.plot(hist['val_accuracy'], label = 'testing')\n",
        "plt.legend();"
      ],
      "metadata": {
        "colab": {
          "base_uri": "https://localhost:8080/",
          "height": 449
        },
        "id": "I3I4V3ipnj5N",
        "outputId": "f90976e8-0500-4fe0-ed07-2ece54b44cbc"
      },
      "execution_count": 32,
      "outputs": [
        {
          "output_type": "display_data",
          "data": {
            "text/plain": [
              "<Figure size 640x480 with 1 Axes>"
            ],
            "image/png": "[encoded data removed]"
          },
          "metadata": {}
        }
      ]
    },
    {
      "cell_type": "code",
      "source": [
        "#Criando duas variáveis, x e y: x = será o pixels da imagens e y = será o rotulo/etiqueta.\n",
        "#Precisamos usar a função \"Next\" para obter a próxima imagem.\n",
        "#iter é um parâmetro da função, é o iterador sobre o qual a iteração deve ser realizada.\n",
        "#O segundo paramêtro da função \"test_dataset\" será o valor padrão a ser impresso se chegarmos ao final do iterador.\n",
        "\n",
        "x, y = next(iter(test_dataset))\n"
      ],
      "metadata": {
        "id": "I4t4QJB4xpH2"
      },
      "execution_count": 33,
      "outputs": []
    },
    {
      "cell_type": "code",
      "source": [
        "#As informações abaixo são referente aos pixels das imagens\n",
        "\n",
        "x"
      ],
      "metadata": {
        "id": "FDrL2oegyJ0k",
        "outputId": "f7d4f504-47ef-4b87-a210-7688c35207b4",
        "colab": {
          "base_uri": "https://localhost:8080/"
        }
      },
      "execution_count": 34,
      "outputs": [
        {
          "output_type": "execute_result",
          "data": {
            "text/plain": [
              "<tf.Tensor: shape=(16, 260, 260, 3), dtype=float32, numpy=\n",
              "array([[[[9.94355534e-04, 4.69087507e-04, 1.00517576e-03],\n",
              "         [9.16963967e-04, 5.39575471e-04, 9.16963967e-04],\n",
              "         [8.73037730e-04, 8.40537017e-04, 9.32080788e-04],\n",
              "         ...,\n",
              "         [1.53034332e-03, 1.70301204e-03, 1.66295259e-03],\n",
              "         [1.34009786e-03, 1.34009786e-03, 1.34009786e-03],\n",
              "         [1.15667866e-03, 1.15667866e-03, 1.15667866e-03]],\n",
              "\n",
              "        [[4.52957524e-04, 3.49914015e-04, 4.77984489e-04],\n",
              "         [1.04309910e-03, 9.80364508e-04, 1.06620206e-03],\n",
              "         [9.39871941e-04, 9.43043968e-04, 9.62721882e-04],\n",
              "         ...,\n",
              "         [1.64348050e-03, 1.94200873e-03, 1.76301599e-03],\n",
              "         [1.08100369e-03, 1.08100369e-03, 1.08100369e-03],\n",
              "         [7.05460494e-04, 7.05460494e-04, 7.05460494e-04]],\n",
              "\n",
              "        [[2.02119554e-04, 8.92503944e-04, 4.89483180e-04],\n",
              "         [9.76560870e-04, 1.56414916e-03, 1.23960688e-03],\n",
              "         [1.09826645e-03, 1.31351978e-03, 1.19873497e-03],\n",
              "         ...,\n",
              "         [6.33108779e-04, 6.66325912e-04, 6.42097788e-04],\n",
              "         [7.12845358e-04, 7.16076698e-04, 7.08295964e-04],\n",
              "         [5.23366500e-04, 5.50524623e-04, 5.15078136e-04]],\n",
              "\n",
              "        ...,\n",
              "\n",
              "        [[9.66300606e-04, 9.52615519e-04, 9.70383990e-04],\n",
              "         [2.91723059e-04, 3.01380962e-04, 3.01380962e-04],\n",
              "         [1.56291615e-04, 1.64303361e-04, 1.64216239e-04],\n",
              "         ...,\n",
              "         [1.19672855e-04, 4.04645310e-04, 3.83824576e-04],\n",
              "         [7.51810730e-05, 2.36199980e-04, 2.21318449e-04],\n",
              "         [1.25186038e-04, 3.67012952e-04, 3.46414628e-04]],\n",
              "\n",
              "        [[7.86250457e-04, 7.98719469e-04, 8.13806662e-04],\n",
              "         [2.00714421e-04, 2.69912300e-04, 2.69912300e-04],\n",
              "         [2.16263390e-04, 2.80787470e-04, 2.74077000e-04],\n",
              "         ...,\n",
              "         [2.69699696e-04, 5.19306865e-04, 5.00102993e-04],\n",
              "         [2.48152995e-04, 4.32011700e-04, 4.15019313e-04],\n",
              "         [2.33795668e-04, 6.09652023e-04, 5.78173320e-04]],\n",
              "\n",
              "        [[5.06270910e-04, 5.33808721e-04, 5.33808721e-04],\n",
              "         [2.33705970e-04, 3.05068155e-04, 3.05068155e-04],\n",
              "         [8.14970117e-05, 1.93710352e-04, 1.43239376e-04],\n",
              "         ...,\n",
              "         [7.81155657e-04, 7.81155657e-04, 7.81155657e-04],\n",
              "         [8.87896807e-04, 8.87896807e-04, 8.87896807e-04],\n",
              "         [6.28756941e-04, 6.28756941e-04, 6.28756941e-04]]],\n",
              "\n",
              "\n",
              "       [[[7.88650010e-04, 1.09778345e-03, 1.18401076e-03],\n",
              "         [1.85048790e-04, 7.59007526e-04, 7.59007526e-04],\n",
              "         [1.71751555e-04, 1.71751555e-04, 1.71751555e-04],\n",
              "         ...,\n",
              "         [3.34899669e-04, 3.35022574e-04, 3.35022574e-04],\n",
              "         [1.22533320e-03, 1.22588535e-03, 1.22588535e-03],\n",
              "         [9.29317393e-05, 1.24589133e-04, 1.24589133e-04]],\n",
              "\n",
              "        [[1.20598859e-04, 4.40585369e-04, 4.08183376e-04],\n",
              "         [5.11979088e-05, 3.87894514e-04, 3.87894514e-04],\n",
              "         [3.16643680e-04, 3.16643680e-04, 3.16643680e-04],\n",
              "         ...,\n",
              "         [1.75978057e-04, 2.33679806e-04, 2.33679806e-04],\n",
              "         [8.79109139e-04, 1.21259806e-03, 1.21259806e-03],\n",
              "         [2.30328384e-04, 2.32054910e-04, 2.32054910e-04]],\n",
              "\n",
              "        [[9.54682473e-05, 1.87169077e-04, 1.78583286e-04],\n",
              "         [6.67839413e-05, 2.82693014e-04, 2.99089297e-04],\n",
              "         [8.52825702e-04, 4.36192553e-04, 9.10240458e-04],\n",
              "         ...,\n",
              "         [2.03428790e-04, 3.22630396e-04, 3.22630396e-04],\n",
              "         [4.04144113e-04, 1.29078457e-03, 1.29078457e-03],\n",
              "         [4.08214197e-04, 5.27347031e-04, 5.27347031e-04]],\n",
              "\n",
              "        ...,\n",
              "\n",
              "        [[5.06171782e-04, 7.29383901e-04, 5.24395728e-04],\n",
              "         [3.20057705e-04, 3.89732537e-04, 3.22586129e-04],\n",
              "         [6.03900058e-04, 5.97229111e-04, 5.97229111e-04],\n",
              "         ...,\n",
              "         [9.31516988e-04, 2.01922725e-03, 1.99578912e-03],\n",
              "         [1.44781324e-03, 1.77388964e-03, 1.72429357e-03],\n",
              "         [3.89586959e-04, 8.31327052e-04, 3.87821114e-04]],\n",
              "\n",
              "        [[6.34963741e-04, 1.40177587e-03, 8.15139967e-04],\n",
              "         [2.32613063e-04, 4.67795559e-04, 2.64261937e-04],\n",
              "         [5.78239793e-04, 5.71199402e-04, 5.71199402e-04],\n",
              "         ...,\n",
              "         [7.51958694e-04, 1.30960112e-03, 1.30203145e-03],\n",
              "         [9.33945354e-04, 1.04438094e-03, 1.02280604e-03],\n",
              "         [2.36329040e-04, 4.49289073e-04, 2.36329040e-04]],\n",
              "\n",
              "        [[1.71407312e-03, 2.44847080e-03, 2.11632368e-03],\n",
              "         [5.26796561e-04, 6.50408911e-04, 6.10161456e-04],\n",
              "         [4.91509039e-04, 4.19764780e-04, 4.89678467e-04],\n",
              "         ...,\n",
              "         [1.61400577e-03, 1.85073074e-03, 1.85073074e-03],\n",
              "         [1.08057843e-03, 1.08208356e-03, 1.08094257e-03],\n",
              "         [2.10763712e-04, 2.27659213e-04, 2.10763712e-04]]],\n",
              "\n",
              "\n",
              "       [[[6.28494192e-04, 7.02811871e-04, 6.84619474e-04],\n",
              "         [3.53502983e-04, 3.75707459e-04, 3.73177696e-04],\n",
              "         [1.57105198e-04, 1.55570553e-04, 1.40577598e-04],\n",
              "         ...,\n",
              "         [1.33281271e-03, 1.17129879e-03, 1.02471071e-03],\n",
              "         [8.77362443e-04, 7.83659052e-04, 7.08195905e-04],\n",
              "         [3.08964460e-04, 4.81006689e-04, 4.04108141e-04]],\n",
              "\n",
              "        [[1.21585722e-03, 1.61886064e-03, 1.59453950e-03],\n",
              "         [6.87065476e-04, 1.08618964e-03, 1.08618964e-03],\n",
              "         [2.79555592e-04, 4.42140154e-04, 4.46469232e-04],\n",
              "         ...,\n",
              "         [1.00812851e-03, 1.10324984e-03, 1.22500607e-03],\n",
              "         [8.96109676e-04, 1.02349825e-03, 1.19139801e-03],\n",
              "         [5.00396360e-04, 6.89250999e-04, 7.21415738e-04]],\n",
              "\n",
              "        [[7.96486624e-04, 2.04683957e-03, 2.01271614e-03],\n",
              "         [4.43320110e-04, 1.55561650e-03, 1.66625506e-03],\n",
              "         [2.78874475e-04, 6.90492103e-04, 8.12038896e-04],\n",
              "         ...,\n",
              "         [3.59143218e-04, 9.86919156e-04, 7.75301072e-04],\n",
              "         [2.89660122e-04, 9.32652038e-04, 7.59696937e-04],\n",
              "         [1.55933405e-04, 8.20284942e-04, 5.34412568e-04]],\n",
              "\n",
              "        ...,\n",
              "\n",
              "        [[3.10589939e-01, 2.32933372e-01, 1.10418960e-01],\n",
              "         [4.54697818e-01, 3.53716016e-01, 1.88374192e-01],\n",
              "         [5.23900032e-01, 4.15219545e-01, 2.43255854e-01],\n",
              "         ...,\n",
              "         [5.97005710e-04, 7.25092308e-04, 7.23096193e-04],\n",
              "         [5.99844207e-04, 7.40248943e-04, 7.35779642e-04],\n",
              "         [7.43031851e-04, 8.66001123e-04, 8.61466920e-04]],\n",
              "\n",
              "        [[4.44466710e-01, 3.46169412e-01, 1.90786600e-01],\n",
              "         [5.14457226e-01, 4.06226009e-01, 2.43852109e-01],\n",
              "         [5.39496779e-01, 4.28301215e-01, 2.70466924e-01],\n",
              "         ...,\n",
              "         [7.61572737e-04, 8.73922021e-04, 8.06690252e-04],\n",
              "         [5.07822610e-04, 6.01148698e-04, 5.50073572e-04],\n",
              "         [4.08893393e-04, 4.46534366e-04, 4.46376594e-04]],\n",
              "\n",
              "        [[5.14456034e-01, 4.08790469e-01, 2.47095153e-01],\n",
              "         [5.32554030e-01, 4.22879219e-01, 2.70854414e-01],\n",
              "         [5.38198113e-01, 4.25997198e-01, 2.77775705e-01],\n",
              "         ...,\n",
              "         [1.02728826e-03, 1.36429956e-03, 8.75855563e-04],\n",
              "         [1.08022999e-03, 1.06937089e-03, 7.45708472e-04],\n",
              "         [1.32329995e-03, 1.02644856e-03, 1.02644856e-03]]],\n",
              "\n",
              "\n",
              "       ...,\n",
              "\n",
              "\n",
              "       [[[6.99223399e-01, 5.91290116e-01, 2.78946459e-01],\n",
              "         [6.98793292e-01, 5.93020499e-01, 2.83047140e-01],\n",
              "         [7.01036334e-01, 5.95358372e-01, 2.85600185e-01],\n",
              "         ...,\n",
              "         [1.35431567e-03, 8.42989190e-04, 9.32927302e-04],\n",
              "         [2.59985146e-03, 1.34614925e-03, 1.41345651e-03],\n",
              "         [2.04577972e-03, 1.39089930e-03, 1.42134377e-03]],\n",
              "\n",
              "        [[6.98397636e-01, 5.98008156e-01, 2.82729030e-01],\n",
              "         [6.97239280e-01, 5.99087477e-01, 2.85278469e-01],\n",
              "         [6.99128747e-01, 5.99792600e-01, 2.88396895e-01],\n",
              "         ...,\n",
              "         [9.08674905e-04, 6.12599601e-04, 6.78879616e-04],\n",
              "         [1.53881474e-03, 6.70588517e-04, 7.62342825e-04],\n",
              "         [1.69634749e-03, 4.65277728e-04, 6.07713242e-04]],\n",
              "\n",
              "        [[6.97388649e-01, 6.03641987e-01, 2.85989225e-01],\n",
              "         [6.98158860e-01, 6.04251742e-01, 2.88235545e-01],\n",
              "         [6.99904799e-01, 6.03883564e-01, 2.91386127e-01],\n",
              "         ...,\n",
              "         [3.77814576e-04, 1.02968086e-04, 2.58357759e-04],\n",
              "         [2.68424366e-04, 1.15751565e-04, 1.53137778e-04],\n",
              "         [8.35412822e-04, 1.18025520e-04, 3.28646245e-04]],\n",
              "\n",
              "        ...,\n",
              "\n",
              "        [[2.41136877e-03, 5.48523909e-04, 1.14958349e-03],\n",
              "         [4.17783577e-03, 1.13193050e-03, 2.01924611e-03],\n",
              "         [3.69137945e-03, 1.29518320e-03, 2.10899347e-03],\n",
              "         ...,\n",
              "         [2.76314560e-02, 1.37720285e-02, 7.67506752e-03],\n",
              "         [1.77091569e-01, 1.37770563e-01, 5.71563765e-02],\n",
              "         [5.23582280e-01, 4.41086233e-01, 1.86000317e-01]],\n",
              "\n",
              "        [[1.24851137e-03, 2.76585954e-04, 7.43334473e-04],\n",
              "         [2.29320256e-03, 1.07007916e-03, 1.36129803e-03],\n",
              "         [1.67992176e-03, 8.60920700e-04, 1.00468972e-03],\n",
              "         ...,\n",
              "         [3.93156782e-02, 2.66550947e-02, 1.32276118e-02],\n",
              "         [2.34308273e-01, 1.88641697e-01, 8.19435120e-02],\n",
              "         [5.80645919e-01, 4.92299259e-01, 2.10594326e-01]],\n",
              "\n",
              "        [[1.99023541e-03, 3.34381300e-04, 1.20762817e-03],\n",
              "         [1.40505773e-03, 8.49192264e-04, 1.09065883e-03],\n",
              "         [7.55585672e-04, 4.30731685e-04, 4.92951309e-04],\n",
              "         ...,\n",
              "         [5.92126697e-02, 4.31636982e-02, 2.17887219e-02],\n",
              "         [3.01325887e-01, 2.52737463e-01, 1.13611393e-01],\n",
              "         [6.40185237e-01, 5.50268769e-01, 2.40270868e-01]]],\n",
              "\n",
              "\n",
              "       [[[2.22506979e-03, 2.12571677e-03, 2.12974870e-03],\n",
              "         [8.56234634e-04, 7.11794826e-04, 7.25126301e-04],\n",
              "         [8.41139001e-04, 7.70516461e-04, 7.80690287e-04],\n",
              "         ...,\n",
              "         [3.05543169e-02, 4.09730431e-03, 2.27021910e-02],\n",
              "         [2.36745905e-02, 2.65883864e-03, 7.81108811e-03],\n",
              "         [2.04204731e-02, 3.17736412e-03, 6.91927923e-03]],\n",
              "\n",
              "        [[3.10229603e-03, 9.10536270e-04, 9.99480020e-04],\n",
              "         [6.16550818e-03, 2.68120988e-04, 1.29071542e-03],\n",
              "         [4.06587543e-03, 1.39654294e-04, 1.06482778e-03],\n",
              "         ...,\n",
              "         [4.32236582e-01, 2.92891175e-01, 1.76103517e-01],\n",
              "         [3.40703398e-01, 2.29774788e-01, 1.35491014e-01],\n",
              "         [2.82867759e-01, 1.88013807e-01, 1.13663860e-01]],\n",
              "\n",
              "        [[8.80564185e-05, 2.00343638e-05, 2.27947639e-05],\n",
              "         [3.12504056e-03, 6.04343222e-06, 1.01298431e-03],\n",
              "         [3.73915769e-03, 9.01535968e-04, 1.83375785e-03],\n",
              "         ...,\n",
              "         [6.57803416e-01, 4.30754066e-01, 2.53324479e-01],\n",
              "         [6.42581940e-01, 4.35053170e-01, 2.45080784e-01],\n",
              "         [6.18202209e-01, 4.18833226e-01, 2.40114942e-01]],\n",
              "\n",
              "        ...,\n",
              "\n",
              "        [[1.18390350e-02, 8.54629707e-06, 3.92125500e-03],\n",
              "         [1.17670586e-02, 5.20109666e-07, 3.92169412e-03],\n",
              "         [1.17647229e-02, 5.07617282e-09, 3.92157119e-03],\n",
              "         ...,\n",
              "         [5.51325455e-03, 3.15198745e-03, 3.60918255e-03],\n",
              "         [7.77646620e-03, 2.51627038e-03, 3.79894371e-03],\n",
              "         [8.35649017e-03, 2.76214210e-03, 4.98593226e-03]],\n",
              "\n",
              "        [[1.75457615e-02, 1.99008198e-03, 4.62003425e-03],\n",
              "         [1.25415325e-02, 2.54906481e-04, 4.04422125e-03],\n",
              "         [1.17778424e-02, 6.45110822e-06, 3.92373139e-03],\n",
              "         ...,\n",
              "         [7.73072988e-03, 3.07081616e-03, 4.73213987e-03],\n",
              "         [4.32913098e-03, 2.86938949e-03, 3.00254091e-03],\n",
              "         [3.95333860e-03, 2.58364808e-03, 3.13689862e-03]],\n",
              "\n",
              "        [[6.72625303e-02, 2.80445069e-02, 1.84005648e-02],\n",
              "         [2.44958065e-02, 5.88290952e-03, 7.10777240e-03],\n",
              "         [1.29521880e-02, 8.14732630e-04, 4.15250659e-03],\n",
              "         ...,\n",
              "         [8.59529804e-03, 5.61618945e-04, 2.60942569e-03],\n",
              "         [4.22774442e-03, 5.15099731e-04, 1.01576175e-03],\n",
              "         [1.07645325e-03, 8.03512870e-04, 8.88424227e-04]]],\n",
              "\n",
              "\n",
              "       [[[1.53139140e-03, 1.52682292e-03, 1.53377024e-03],\n",
              "         [2.09138889e-04, 2.09153935e-04, 2.09138889e-04],\n",
              "         [8.75119935e-04, 8.76320875e-04, 8.75119935e-04],\n",
              "         ...,\n",
              "         [6.73965906e-06, 6.73965906e-06, 6.73965906e-06],\n",
              "         [1.57789356e-04, 1.57789356e-04, 1.57789356e-04],\n",
              "         [8.98726285e-04, 8.98725993e-04, 8.98725993e-04]],\n",
              "\n",
              "        [[1.39376672e-03, 1.27897318e-03, 1.39474205e-03],\n",
              "         [9.31593182e-04, 9.37455159e-04, 9.31593182e-04],\n",
              "         [1.15759543e-03, 1.49564364e-03, 1.15759543e-03],\n",
              "         ...,\n",
              "         [3.32178024e-05, 3.32178024e-05, 3.32178024e-05],\n",
              "         [8.12924482e-05, 8.12924482e-05, 8.12924482e-05],\n",
              "         [3.75314790e-04, 3.75216536e-04, 3.75216536e-04]],\n",
              "\n",
              "        [[9.38199926e-04, 8.60760803e-04, 9.38345736e-04],\n",
              "         [7.51570158e-04, 7.55788176e-04, 7.51570158e-04],\n",
              "         [7.02795223e-04, 9.45859356e-04, 7.02795223e-04],\n",
              "         ...,\n",
              "         [5.02634721e-05, 5.02634721e-05, 5.02634721e-05],\n",
              "         [1.42277728e-04, 1.42277728e-04, 1.42277728e-04],\n",
              "         [2.83773028e-04, 2.74985767e-04, 2.74985767e-04]],\n",
              "\n",
              "        ...,\n",
              "\n",
              "        [[1.57520012e-03, 1.85866142e-03, 1.57520012e-03],\n",
              "         [1.23861956e-03, 1.25915511e-03, 1.23739790e-03],\n",
              "         [1.19497313e-03, 1.12485909e-03, 1.12485909e-03],\n",
              "         ...,\n",
              "         [5.79532702e-04, 5.79631655e-04, 5.32065635e-04],\n",
              "         [1.20253477e-04, 1.27141597e-04, 1.21818906e-04],\n",
              "         [2.09292717e-04, 2.74643884e-04, 2.23822935e-04]],\n",
              "\n",
              "        [[1.28639012e-03, 1.43263233e-03, 1.28639012e-03],\n",
              "         [1.36486231e-03, 1.37505273e-03, 1.36337988e-03],\n",
              "         [1.81042508e-03, 1.72527763e-03, 1.72527763e-03],\n",
              "         ...,\n",
              "         [2.14773478e-04, 2.14773478e-04, 2.14773478e-04],\n",
              "         [7.39987227e-05, 7.43715354e-05, 7.43715354e-05],\n",
              "         [1.25355073e-04, 1.47570885e-04, 1.47570885e-04]],\n",
              "\n",
              "        [[7.06775929e-04, 7.06775929e-04, 7.06775929e-04],\n",
              "         [4.97209025e-04, 4.96693421e-04, 4.96693421e-04],\n",
              "         [1.24273496e-03, 1.21310307e-03, 1.21310307e-03],\n",
              "         ...,\n",
              "         [7.31439213e-05, 7.31970940e-05, 7.31439213e-05],\n",
              "         [4.64779616e-04, 4.68960818e-04, 4.68960818e-04],\n",
              "         [1.01951475e-03, 1.27055147e-03, 1.27055147e-03]]]],\n",
              "      dtype=float32)>"
            ]
          },
          "metadata": {},
          "execution_count": 34
        }
      ]
    },
    {
      "cell_type": "code",
      "source": [
        "#Em cada lote tem 16 imagens, de 260x260 pixels coloridas(RGB).\n",
        "\n",
        "x.shape"
      ],
      "metadata": {
        "id": "jDlT6hPMx4jv",
        "outputId": "acede43a-2bcf-4ea9-d285-6d3d13547410",
        "colab": {
          "base_uri": "https://localhost:8080/"
        }
      },
      "execution_count": 35,
      "outputs": [
        {
          "output_type": "execute_result",
          "data": {
            "text/plain": [
              "TensorShape([16, 260, 260, 3])"
            ]
          },
          "metadata": {},
          "execution_count": 35
        }
      ]
    },
    {
      "cell_type": "code",
      "source": [
        "#as linhas são referente as imagens no lote e as colunas são referente as classes.\n",
        "\n",
        "y"
      ],
      "metadata": {
        "id": "OZdnCjnvyNIu",
        "outputId": "bacafe09-db6f-4cae-a8ed-bcaac44b2b52",
        "colab": {
          "base_uri": "https://localhost:8080/"
        }
      },
      "execution_count": 36,
      "outputs": [
        {
          "output_type": "execute_result",
          "data": {
            "text/plain": [
              "<tf.Tensor: shape=(16, 4), dtype=float32, numpy=\n",
              "array([[0., 1., 0., 0.],\n",
              "       [0., 1., 0., 0.],\n",
              "       [0., 1., 0., 0.],\n",
              "       [0., 0., 1., 0.],\n",
              "       [0., 1., 0., 0.],\n",
              "       [0., 1., 0., 0.],\n",
              "       [0., 0., 0., 1.],\n",
              "       [0., 1., 0., 0.],\n",
              "       [0., 0., 0., 1.],\n",
              "       [0., 1., 0., 0.],\n",
              "       [0., 0., 1., 0.],\n",
              "       [1., 0., 0., 0.],\n",
              "       [0., 0., 1., 0.],\n",
              "       [0., 1., 0., 0.],\n",
              "       [1., 0., 0., 0.],\n",
              "       [0., 0., 1., 0.]], dtype=float32)>"
            ]
          },
          "metadata": {},
          "execution_count": 36
        }
      ]
    },
    {
      "cell_type": "code",
      "source": [
        "#Em cada lote tem 16 imagens com duas classes possíevis.\n",
        "\n",
        "y.shape"
      ],
      "metadata": {
        "id": "lw3HTGfpyBKr",
        "outputId": "84a7794a-8831-49b1-fb61-e919a63d91f4",
        "colab": {
          "base_uri": "https://localhost:8080/"
        }
      },
      "execution_count": null,
      "outputs": [
        {
          "output_type": "execute_result",
          "data": {
            "text/plain": [
              "TensorShape([16, 2])"
            ]
          },
          "metadata": {},
          "execution_count": 38
        }
      ]
    },
    {
      "cell_type": "code",
      "source": [
        "#Para classificar a imagem, o 1° parametro é a possição da imagem, 2° e 3° são os pixels e o 4° é referente ao canal de cores.\n",
        "\n",
        "image = x[3, :, :, :]\n",
        "image"
      ],
      "metadata": {
        "id": "_56kvDTuySeZ",
        "outputId": "5dc2910b-f814-4756-ec89-6233f51e02bf",
        "colab": {
          "base_uri": "https://localhost:8080/"
        }
      },
      "execution_count": 37,
      "outputs": [
        {
          "output_type": "execute_result",
          "data": {
            "text/plain": [
              "<tf.Tensor: shape=(260, 260, 3), dtype=float32, numpy=\n",
              "array([[[1.2966755e-04, 3.5405290e-05, 1.3330876e-04],\n",
              "        [0.0000000e+00, 1.0434752e-06, 4.3465556e-07],\n",
              "        [1.1469546e-04, 7.1682283e-05, 1.2455252e-04],\n",
              "        ...,\n",
              "        [1.1630279e-03, 1.4643677e-03, 1.3783972e-03],\n",
              "        [7.1348768e-04, 7.1352941e-04, 7.1352941e-04],\n",
              "        [1.9797664e-03, 1.9928718e-03, 1.9874056e-03]],\n",
              "\n",
              "       [[0.0000000e+00, 5.8749379e-06, 2.0254822e-06],\n",
              "        [5.3411622e-08, 1.6942098e-05, 1.4033476e-05],\n",
              "        [7.2493822e-05, 2.7845049e-04, 2.7195775e-04],\n",
              "        ...,\n",
              "        [9.8381226e-04, 1.2114623e-03, 1.1636395e-03],\n",
              "        [3.7977259e-04, 3.6351150e-04, 3.6278760e-04],\n",
              "        [1.8142625e-03, 1.8392161e-03, 1.8161836e-03]],\n",
              "\n",
              "       [[2.7146630e-06, 2.7146630e-06, 2.7146630e-06],\n",
              "        [2.4239660e-06, 5.6437540e-05, 5.0743467e-05],\n",
              "        [3.3552249e-05, 8.0067455e-04, 7.1030401e-04],\n",
              "        ...,\n",
              "        [5.5107486e-04, 8.4218476e-04, 8.4218476e-04],\n",
              "        [4.6695996e-04, 3.3832726e-04, 3.3639418e-04],\n",
              "        [1.2703865e-03, 1.3032702e-03, 1.2581827e-03]],\n",
              "\n",
              "       ...,\n",
              "\n",
              "       [[1.2830399e-04, 5.1152240e-04, 1.2830399e-04],\n",
              "        [1.0218892e-03, 1.3979829e-03, 1.0230675e-03],\n",
              "        [2.1466494e-03, 2.1574029e-03, 2.1615846e-03],\n",
              "        ...,\n",
              "        [7.1558752e-04, 1.1839459e-03, 8.2142220e-04],\n",
              "        [1.5300310e-03, 1.5972673e-03, 1.4867343e-03],\n",
              "        [8.8765426e-04, 1.0213604e-03, 9.9948992e-04]],\n",
              "\n",
              "       [[2.3116999e-04, 4.7774677e-04, 2.4030302e-04],\n",
              "        [9.7023771e-04, 1.2697316e-03, 1.1195276e-03],\n",
              "        [1.8069861e-03, 1.9165734e-03, 2.0963284e-03],\n",
              "        ...,\n",
              "        [4.4367200e-04, 1.1531669e-03, 6.8084756e-04],\n",
              "        [9.5833535e-04, 1.1370473e-03, 1.0166591e-03],\n",
              "        [7.3715259e-04, 6.8791048e-04, 6.8434770e-04]],\n",
              "\n",
              "       [[7.7336869e-04, 8.3963410e-04, 7.8683393e-04],\n",
              "        [9.6332887e-04, 1.1218784e-03, 1.1844990e-03],\n",
              "        [1.3575871e-03, 1.5654544e-03, 1.8126222e-03],\n",
              "        ...,\n",
              "        [6.7443831e-04, 1.1575464e-03, 8.4167335e-04],\n",
              "        [9.6069649e-04, 1.0643784e-03, 9.9085155e-04],\n",
              "        [5.5221142e-04, 4.4592223e-04, 4.4102455e-04]]], dtype=float32)>"
            ]
          },
          "metadata": {},
          "execution_count": 37
        }
      ]
    },
    {
      "cell_type": "code",
      "source": [
        "y_true = y[3]  #Selecionando a imagem que está na posição 3\n",
        "y_true"
      ],
      "metadata": {
        "id": "v-CpvYDhgW0w",
        "outputId": "d1477ace-835a-4190-e2e2-ac9e81a58835",
        "colab": {
          "base_uri": "https://localhost:8080/"
        }
      },
      "execution_count": 38,
      "outputs": [
        {
          "output_type": "execute_result",
          "data": {
            "text/plain": [
              "<tf.Tensor: shape=(4,), dtype=float32, numpy=array([0., 0., 1., 0.], dtype=float32)>"
            ]
          },
          "metadata": {},
          "execution_count": 38
        }
      ]
    },
    {
      "cell_type": "code",
      "source": [
        "y_true = np.argmax(y[3]) #np.argmax irá retonar a posição do maior valor no conjunto de array.\n",
        "y_true"
      ],
      "metadata": {
        "id": "C6Ph6aIby1fM",
        "outputId": "8260e339-74b5-40d9-d5a1-0eb0205bb35e",
        "colab": {
          "base_uri": "https://localhost:8080/"
        }
      },
      "execution_count": 39,
      "outputs": [
        {
          "output_type": "execute_result",
          "data": {
            "text/plain": [
              "2"
            ]
          },
          "metadata": {},
          "execution_count": 39
        }
      ]
    },
    {
      "cell_type": "code",
      "source": [
        "classes[2] #a classe referente a posição 2 é o Glaucoma."
      ],
      "metadata": {
        "id": "lkZZmS-7y9Xk",
        "outputId": "8ec0b56c-4dcb-48cb-e75d-75ec349a65df",
        "colab": {
          "base_uri": "https://localhost:8080/",
          "height": 36
        }
      },
      "execution_count": 40,
      "outputs": [
        {
          "output_type": "execute_result",
          "data": {
            "text/plain": [
              "'2_glaucoma'"
            ],
            "application/vnd.google.colaboratory.intrinsic+json": {
              "type": "string"
            }
          },
          "metadata": {},
          "execution_count": 40
        }
      ]
    },
    {
      "cell_type": "code",
      "source": [
        "plt.imshow(image)\n",
        "plt.axis('off');"
      ],
      "metadata": {
        "id": "WHjoB4D6zA_N",
        "outputId": "f1133bc3-a4c4-4620-d244-26083935ea09",
        "colab": {
          "base_uri": "https://localhost:8080/",
          "height": 200
        }
      },
      "execution_count": 1,
      "outputs": [
        {
          "output_type": "error",
          "ename": "NameError",
          "evalue": "ignored",
          "traceback": [
            "\u001b[0;31m---------------------------------------------------------------------------\u001b[0m",
            "\u001b[0;31mNameError\u001b[0m                                 Traceback (most recent call last)",
            "\u001b[0;32m<ipython-input-1-40f1ade15a5c>\u001b[0m in \u001b[0;36m<cell line: 1>\u001b[0;34m()\u001b[0m\n\u001b[0;32m----> 1\u001b[0;31m \u001b[0mplt\u001b[0m\u001b[0;34m.\u001b[0m\u001b[0mimshow\u001b[0m\u001b[0;34m(\u001b[0m\u001b[0mimage\u001b[0m\u001b[0;34m)\u001b[0m\u001b[0;34m\u001b[0m\u001b[0;34m\u001b[0m\u001b[0m\n\u001b[0m\u001b[1;32m      2\u001b[0m \u001b[0mplt\u001b[0m\u001b[0;34m.\u001b[0m\u001b[0maxis\u001b[0m\u001b[0;34m(\u001b[0m\u001b[0;34m'off'\u001b[0m\u001b[0;34m)\u001b[0m\u001b[0;34m;\u001b[0m\u001b[0;34m\u001b[0m\u001b[0;34m\u001b[0m\u001b[0m\n",
            "\u001b[0;31mNameError\u001b[0m: name 'plt' is not defined"
          ]
        }
      ]
    },
    {
      "cell_type": "code",
      "source": [
        "image.shape"
      ],
      "metadata": {
        "id": "NLJKNhMpzP68",
        "outputId": "0ef998c1-2684-4aea-fa5e-4605f67cd39d",
        "colab": {
          "base_uri": "https://localhost:8080/"
        }
      },
      "execution_count": 42,
      "outputs": [
        {
          "output_type": "execute_result",
          "data": {
            "text/plain": [
              "TensorShape([260, 260, 3])"
            ]
          },
          "metadata": {},
          "execution_count": 42
        }
      ]
    },
    {
      "cell_type": "code",
      "source": [
        "image = np.expand_dims(image, axis = 0)\n",
        "image.shape"
      ],
      "metadata": {
        "id": "SHzI37nIzUXF",
        "outputId": "0225d4d2-ce60-476f-d820-5f1143bd2d20",
        "colab": {
          "base_uri": "https://localhost:8080/"
        }
      },
      "execution_count": 43,
      "outputs": [
        {
          "output_type": "execute_result",
          "data": {
            "text/plain": [
              "(1, 260, 260, 3)"
            ]
          },
          "metadata": {},
          "execution_count": 43
        }
      ]
    },
    {
      "cell_type": "code",
      "source": [
        "prediction = model.predict(image)\n",
        "prediction"
      ],
      "metadata": {
        "id": "3poymBoxziQ8",
        "outputId": "c4e7c1b6-3f18-48e9-be6f-43f80892bf8a",
        "colab": {
          "base_uri": "https://localhost:8080/"
        }
      },
      "execution_count": null,
      "outputs": [
        {
          "output_type": "stream",
          "name": "stdout",
          "text": [
            "1/1 [==============================] - 1s 1s/step\n"
          ]
        },
        {
          "output_type": "execute_result",
          "data": {
            "text/plain": [
              "array([[ 0.72005826, -1.2352341 ]], dtype=float32)"
            ]
          },
          "metadata": {},
          "execution_count": 47
        }
      ]
    },
    {
      "cell_type": "code",
      "source": [
        "prediction = np.argmax(prediction)\n",
        "prediction"
      ],
      "metadata": {
        "id": "hNHEbWqqzres",
        "outputId": "fc7afe46-ad3c-438d-81a5-de5a60de9116",
        "colab": {
          "base_uri": "https://localhost:8080/"
        }
      },
      "execution_count": null,
      "outputs": [
        {
          "output_type": "execute_result",
          "data": {
            "text/plain": [
              "0"
            ]
          },
          "metadata": {},
          "execution_count": 48
        }
      ]
    },
    {
      "cell_type": "code",
      "source": [],
      "metadata": {
        "id": "mjsEPr-n0NcE"
      },
      "execution_count": null,
      "outputs": []
    },
    {
      "cell_type": "code",
      "source": [],
      "metadata": {
        "id": "7kAzh2zGz8MV"
      },
      "execution_count": null,
      "outputs": []
    },
    {
      "cell_type": "markdown",
      "source": [],
      "metadata": {
        "id": "P9vhCU7DzPRd"
      }
    },
    {
      "cell_type": "markdown",
      "source": [],
      "metadata": {
        "id": "KqvYuQ_gx4bD"
      }
    }
  ]
}