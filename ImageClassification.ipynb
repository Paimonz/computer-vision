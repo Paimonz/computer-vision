{
  "nbformat": 4,
  "nbformat_minor": 0,
  "metadata": {
    "colab": {
      "provenance": [],
      "name": "ImageClassification.ipynb",
      "mount_file_id": "https://github.com/Paimonz/computer-vision/blob/main/ImageClassification.ipynb",
      "authorship_tag": "ABX9TyNZ4eI52vxaaq7HJ5zS30m7",
      "include_colab_link": true
    },
    "kernelspec": {
      "name": "python3",
      "display_name": "Python 3"
    },
    "language_info": {
      "name": "python"
    }
  },
  "cells": [
    {
      "cell_type": "markdown",
      "metadata": {
        "id": "view-in-github",
        "colab_type": "text"
      },
      "source": [
        "<a href=\"https://colab.research.google.com/github/Paimonz/computer-vision/blob/main/ImageClassification.ipynb\" target=\"_parent\"><img src=\"https://colab.research.google.com/assets/colab-badge.svg\" alt=\"Open In Colab\"/></a>"
      ]
    },
    {
      "cell_type": "code",
      "execution_count": 98,
      "metadata": {
        "colab": {
          "base_uri": "https://localhost:8080/"
        },
        "id": "oacAu5x0TNXX",
        "outputId": "e7ed143f-d535-4b66-c56a-6352933459f4"
      },
      "outputs": [
        {
          "output_type": "stream",
          "name": "stdout",
          "text": [
            "TensorFlow version: 2.13.0\n",
            "TensorFlow Hub version: 0.14.0\n"
          ]
        }
      ],
      "source": [
        "                                                           #Saiba mais em:\n",
        "\n",
        "import matplotlib.pyplot as plt                            #https://matplotlib.org/3.5.3/api/_as_gen/matplotlib.pyplot.html\n",
        "import numpy as np                                         #https://numpy.org/doc/\n",
        "import tensorflow as tf                                    #https://www.tensorflow.org/api_docs/python/tf\n",
        "import tensorflow_hub as hub                               #https://www.tensorflow.org/hub?hl=pt-br\n",
        "from keras.preprocessing.image import ImageDataGenerator   #https://www.tensorflow.org/api_docs/python/tf/keras/preprocessing/image/ImageDataGenerator\n",
        "\n",
        "print('TensorFlow version:', tf.__version__)               #Verifica a versão do TensorFlow.\n",
        "print('TensorFlow Hub version:', hub.__version__)          #Verifica a versão do TensorFlow Hub."
      ]
    },
    {
      "cell_type": "code",
      "source": [
        "#O TensorFlow Hub tem vários modelos de classificação, você pode verificar outros modelos em:\n",
        "#https://tfhub.dev/s?module-type=image-feature-vector&tf-version=tf2&q=efficientnet\n",
        "#Usei o modelo efficientnetv2-b2-21k pois acredito ser mais adequato para os tipos de imagens que tenho.\n",
        "\n",
        "model_name = 'efficientnetv2-b2-21k'"
      ],
      "metadata": {
        "id": "b9Wyt3T9WTL-"
      },
      "execution_count": 99,
      "outputs": []
    },
    {
      "cell_type": "code",
      "source": [
        "#Criando uma nova variavel, armazenado o caminho do modelo.\n",
        "#O primeiro parametro é o nome do modelo e o segundo é o link para donwload do modelo.\n",
        "\n",
        "models_path = {\n",
        "    \"efficientnetv2-b2-21k\": \"https://tfhub.dev/google/imagenet/efficientnet_v2_imagenet21k_b2/feature_vector/2\",\n",
        "}"
      ],
      "metadata": {
        "id": "rrx5IQ5tWicE"
      },
      "execution_count": 100,
      "outputs": []
    },
    {
      "cell_type": "code",
      "source": [
        "#Criando nova variavel para a dimensões das imagens, pois cada modelo trabalha com uma dimensão expecifica.\n",
        "#Para trabalhar com o modelo escolhido as imagens tem que ser igual ou inferior as dimensões 260x260.\n",
        "\n",
        "models_pixels = {\n",
        "    \"efficientnetv2-b2-21k\": 260\n",
        "}"
      ],
      "metadata": {
        "id": "GS2YK1ZBYZUW"
      },
      "execution_count": 101,
      "outputs": []
    },
    {
      "cell_type": "code",
      "source": [
        "#Armezenando o caminho do modelo através do nome do nomdelo.\n",
        "\n",
        "model_path = models_path.get(model_name)\n",
        "model_path"
      ],
      "metadata": {
        "colab": {
          "base_uri": "https://localhost:8080/",
          "height": 36
        },
        "id": "JkLdZBgWZG_d",
        "outputId": "f4019b43-456a-4af3-c5b0-d17aec00fa89"
      },
      "execution_count": 102,
      "outputs": [
        {
          "output_type": "execute_result",
          "data": {
            "text/plain": [
              "'https://tfhub.dev/google/imagenet/efficientnet_v2_imagenet21k_b2/feature_vector/2'"
            ],
            "application/vnd.google.colaboratory.intrinsic+json": {
              "type": "string"
            }
          },
          "metadata": {},
          "execution_count": 102
        }
      ]
    },
    {
      "cell_type": "code",
      "source": [
        "#Armazenando as dimensões/pixels do modelo atravéz do nome do modelo.\n",
        "\n",
        "pixels = models_pixels.get(model_name)\n",
        "pixels"
      ],
      "metadata": {
        "colab": {
          "base_uri": "https://localhost:8080/"
        },
        "id": "tn_U-L3-aFqc",
        "outputId": "c1ade511-8dcc-492c-a7a6-a7d6e2d93e19"
      },
      "execution_count": 103,
      "outputs": [
        {
          "output_type": "execute_result",
          "data": {
            "text/plain": [
              "260"
            ]
          },
          "metadata": {},
          "execution_count": 103
        }
      ]
    },
    {
      "cell_type": "code",
      "source": [
        "#Criando o formato das imagens.\n",
        "\n",
        "image_size = (pixels, pixels)\n",
        "image_size"
      ],
      "metadata": {
        "colab": {
          "base_uri": "https://localhost:8080/"
        },
        "id": "CfLw9ro5aAOd",
        "outputId": "074d920d-73d3-45ba-ffcb-12f537712a10"
      },
      "execution_count": 104,
      "outputs": [
        {
          "output_type": "execute_result",
          "data": {
            "text/plain": [
              "(260, 260)"
            ]
          },
          "metadata": {},
          "execution_count": 104
        }
      ]
    },
    {
      "cell_type": "code",
      "source": [
        "print('Model: ', model_name)          #Para mostrar com qual modelo estamos trabalhando.\n",
        "print('Path: ', model_path)           #Mostrando o caminho/link onde é possível encontrar o modelo.\n",
        "print('Imagem size: ', image_size)    #Revelando o formato das imagens que serão trabalhadas no projeto."
      ],
      "metadata": {
        "colab": {
          "base_uri": "https://localhost:8080/"
        },
        "id": "9H5a9r2nbwTE",
        "outputId": "3a2e6c26-a48e-4c46-f27e-938e2c9e2f3c"
      },
      "execution_count": 105,
      "outputs": [
        {
          "output_type": "stream",
          "name": "stdout",
          "text": [
            "Model:  efficientnetv2-b2-21k\n",
            "Path:  https://tfhub.dev/google/imagenet/efficientnet_v2_imagenet21k_b2/feature_vector/2\n",
            "Imagem size:  (260, 260)\n"
          ]
        }
      ]
    },
    {
      "cell_type": "code",
      "source": [
        "#O dataset foi criado/configurado e armazenado no google driver, para seguir esse modelo vc precisará criar o seu próprio dataset e montar o seu driver.\n",
        "#Saiba mais em: https://saturncloud.io/blog/how-to-import-files-from-google-drive-to-colab/\n",
        "#Você pode encontrar as imagens utilizadas nesse projeto em: https://www.kaggle.com/datasets/gunavenkatdoddi/eye-diseases-classification\n",
        "\n",
        "flow_from_directory = \"/content/drive/MyDrive/dataset1\" #método da classe ImageDataGenerator que permite ler imagens de um grande array numpy e pastas contendo imagens.\n",
        "data_directory = flow_from_directory                                   #Armazena o caminho do flow_from_directory em data_directory.\n",
        "print(data_directory)                                                  #Mostra o caminho do data_directory."
      ],
      "metadata": {
        "colab": {
          "base_uri": "https://localhost:8080/"
        },
        "id": "CjJbAW3o_lFT",
        "outputId": "90ab5b05-a35f-4fcd-f427-349b2036e120"
      },
      "execution_count": 106,
      "outputs": [
        {
          "output_type": "stream",
          "name": "stdout",
          "text": [
            "/content/drive/MyDrive/dataset1\n"
          ]
        }
      ]
    },
    {
      "cell_type": "code",
      "source": [
        "train_dataset = tf.keras.preprocessing.image_dataset_from_directory(data_directory,            #Pegando as imagens que estão no data_directory para o treino\n",
        "                                                                    validation_split= .20,     #Usaremos 20% do dataset para validação.\n",
        "                                                                    subset = 'training',       #Significa que essa parte do conjunto de dados é o treinamento.\n",
        "                                                                    label_mode='categorical',  #Etiqueta do nosso modelo será por categoria, Catarata ou Normal.\n",
        "                                                                    seed = 123,                #Toda vez que a função for chamada será composta pelas mesmas imagens.\n",
        "                                                                    image_size=image_size,     #Configura o formato das imagens.\n",
        "                                                                    batch_size=1)              #Número de amostras processadas antes do modelo ser atualizado."
      ],
      "metadata": {
        "colab": {
          "base_uri": "https://localhost:8080/"
        },
        "id": "BHIDozoxCqki",
        "outputId": "06b9d47c-aa99-4378-f878-e2330fc194b7"
      },
      "execution_count": 107,
      "outputs": [
        {
          "output_type": "stream",
          "name": "stdout",
          "text": [
            "Found 601 files belonging to 4 classes.\n",
            "Using 481 files for training.\n"
          ]
        }
      ]
    },
    {
      "cell_type": "code",
      "source": [
        "#Mostra o nome das classes que temos no nosso treinamento\n",
        "\n",
        "train_dataset.class_names"
      ],
      "metadata": {
        "colab": {
          "base_uri": "https://localhost:8080/"
        },
        "id": "XmmCwjL1FWm1",
        "outputId": "88d4c1ed-30c9-4d47-ea6d-a23bfc0b1e7e"
      },
      "execution_count": 108,
      "outputs": [
        {
          "output_type": "execute_result",
          "data": {
            "text/plain": [
              "['1_normal', '2_cataract', '2_glaucoma', '3_retina_disease']"
            ]
          },
          "metadata": {},
          "execution_count": 108
        }
      ]
    },
    {
      "cell_type": "code",
      "source": [
        "#Criando uma variavel com os nomes das classes do nosso dataset\n",
        "\n",
        "classes = train_dataset.class_names\n",
        "classes"
      ],
      "metadata": {
        "colab": {
          "base_uri": "https://localhost:8080/"
        },
        "id": "hBSJ21aSFr7K",
        "outputId": "094f63c2-9607-463e-96c6-c672b791fd10"
      },
      "execution_count": 109,
      "outputs": [
        {
          "output_type": "execute_result",
          "data": {
            "text/plain": [
              "['1_normal', '2_cataract', '2_glaucoma', '3_retina_disease']"
            ]
          },
          "metadata": {},
          "execution_count": 109
        }
      ]
    },
    {
      "cell_type": "code",
      "source": [
        " #A função da cardinality retorna o número de elementos em uma lista, no caso irá retorno o número de arquivos usados no treinameno (train_dataset).\n",
        "\n",
        "training_size = train_dataset.cardinality().numpy()\n",
        "training_size"
      ],
      "metadata": {
        "colab": {
          "base_uri": "https://localhost:8080/"
        },
        "id": "ftzcCd8FGAZc",
        "outputId": "256f5d02-a985-4554-9028-03a4cc6d90b3"
      },
      "execution_count": 110,
      "outputs": [
        {
          "output_type": "execute_result",
          "data": {
            "text/plain": [
              "481"
            ]
          },
          "metadata": {},
          "execution_count": 110
        }
      ]
    },
    {
      "cell_type": "code",
      "source": [
        "#Organizando o dataset em 52 lotes, onde cada lote terá (840/16 = 52,5) 16 imagens.\n",
        "\n",
        "BATCH_SIZE = 16 #Significa que existem 16 instâncias de treinamento em cada lote.\n"
      ],
      "metadata": {
        "id": "h_gLIlALGbNL"
      },
      "execution_count": 111,
      "outputs": []
    },
    {
      "cell_type": "code",
      "source": [
        "train_dataset = train_dataset.unbatch().batch(BATCH_SIZE) #Atualizando o batch_size porque inicialmente começamos com batch_size =1\n",
        "train_dataset"
      ],
      "metadata": {
        "colab": {
          "base_uri": "https://localhost:8080/"
        },
        "id": "Ki3giSx0GlYz",
        "outputId": "9c371d9a-61ae-4984-b331-c774582ce740"
      },
      "execution_count": 112,
      "outputs": [
        {
          "output_type": "execute_result",
          "data": {
            "text/plain": [
              "<_BatchDataset element_spec=(TensorSpec(shape=(None, 260, 260, 3), dtype=tf.float32, name=None), TensorSpec(shape=(None, 4), dtype=tf.float32, name=None))>"
            ]
          },
          "metadata": {},
          "execution_count": 112
        }
      ]
    },
    {
      "cell_type": "code",
      "source": [
        "840/16\n"
      ],
      "metadata": {
        "colab": {
          "base_uri": "https://localhost:8080/"
        },
        "id": "uUzbRQoCHjD7",
        "outputId": "cb9a9de1-5d4a-4918-c2c2-6e45fd7227a0"
      },
      "execution_count": 113,
      "outputs": [
        {
          "output_type": "execute_result",
          "data": {
            "text/plain": [
              "52.5"
            ]
          },
          "metadata": {},
          "execution_count": 113
        }
      ]
    },
    {
      "cell_type": "code",
      "source": [
        "# https://www.tensorflow.org/api_docs/python/tf/repeat\n",
        "# https://stackoverflow.com/questions/53514495/what-does-batch-repeat-and-shuffle-do-with-tensorflow-dataset\n",
        "\n",
        "train_dataset = train_dataset.repeat()"
      ],
      "metadata": {
        "id": "SNIDsQJlH5yy"
      },
      "execution_count": 114,
      "outputs": []
    },
    {
      "cell_type": "code",
      "source": [
        "#Image augmentation: https://www.tensorflow.org/tutorials/images/data_augmentation\n",
        "#from multiprocessing.process import parent_process\n",
        "\n",
        "normalization_layer = tf.keras.layers.Rescaling(1. /255)            #Normalization = transformação de dados que alinha os valores dos dados a uma escala comum. Rescaling = reduzindo a escala (pixels) das imagens de 0-255 para 0-1.\n",
        "pre_processing = tf.keras.Sequential([normalization_layer])         #Sequential = irá criar a estrutura da rede neural, que será passado uma sequencia de camadas por isso usaremos sequential.\n",
        "pre_processing.add(tf.keras.layers.RandomRotation(40))              #Irá girar algumas imagens aleatório em 40° e adicionar no pré-processamento, pois pode ser que as imagens separadas para o treinamento não sejam o suficienteentão será necessário \"criar\" mais imagens para o mesmo.\n",
        "pre_processing.add(tf.keras.layers.RandomTranslation(0, 0.2))       #O segundo parametro é a largura, irá deslocar as imagens aleatóriamente em 20% na horizontal.\n",
        "pre_processing.add(tf.keras.layers.RandomTranslation(0.2, 0))       #O primeiro parametro é a altura, irá deslocar as imagens aleatóriamente em 20% na vertical.\n",
        "pre_processing.add(tf.keras.layers.RandomZoom(0.2, 0.2))            #Adicionando imagens aleatórias com o zoom aumentando em 20% e com o zoom reduzido em 20%.\n",
        "pre_processing.add(tf.keras.layers.RandomFlip(mode = 'horizontal')) #Gira as imagens horizontalmente."
      ],
      "metadata": {
        "id": "RNOszHEMITTK"
      },
      "execution_count": 115,
      "outputs": []
    },
    {
      "cell_type": "code",
      "source": [
        "#MAP em Python é uma função que funciona como um iterador para retornar um resultado após aplicar uma função a cada item de um iterável (tupla, listas, etc.). É usado quando\n",
        "#você deseja aplicar uma única função de transformação a todos os elementos iteráveis. O iterável e a função são passados como argumentos para o mapa em Python.\n",
        "\n",
        "#As funções LAMBDA são semelhantes às funções definidas pelo usuário, mas sem nome. Eles são comumente chamados de funções anônimas. As funções lambda são eficientes sempre que\n",
        "#você deseja criar uma função que contenha apenas expressões simples – ou seja, expressões que geralmente são uma única linha de uma instrução.\n",
        "\n",
        "train_dataset = train_dataset.map(lambda images, labels: (pre_processing(images), labels))    #Irá mandar as imagens para o pre_processing.\n",
        "train_dataset"
      ],
      "metadata": {
        "colab": {
          "base_uri": "https://localhost:8080/"
        },
        "id": "b08JoMZwKQ-4",
        "outputId": "41660f62-ad92-4b0c-9bf7-e35dfc6a57b1"
      },
      "execution_count": 116,
      "outputs": [
        {
          "output_type": "execute_result",
          "data": {
            "text/plain": [
              "<_MapDataset element_spec=(TensorSpec(shape=(None, 260, 260, 3), dtype=tf.float32, name=None), TensorSpec(shape=(None, 4), dtype=tf.float32, name=None))>"
            ]
          },
          "metadata": {},
          "execution_count": 116
        }
      ]
    },
    {
      "cell_type": "code",
      "source": [
        "test_dataset = tf.keras.preprocessing.image_dataset_from_directory(data_directory,\n",
        "                                                                   validation_split= .20,\n",
        "                                                                   subset ='validation',          #Agora o nome do subconjunto será validation, que usaremos para o teste.\n",
        "                                                                   label_mode ='categorical',\n",
        "                                                                   seed = 123,\n",
        "                                                                   image_size = image_size,\n",
        "                                                                   batch_size = 1)"
      ],
      "metadata": {
        "id": "KzoWG6q2LnLh",
        "colab": {
          "base_uri": "https://localhost:8080/"
        },
        "outputId": "ca9b7d83-3b14-4e5d-a195-1cc2d347740c"
      },
      "execution_count": 117,
      "outputs": [
        {
          "output_type": "stream",
          "name": "stdout",
          "text": [
            "Found 601 files belonging to 4 classes.\n",
            "Using 120 files for validation.\n"
          ]
        }
      ]
    },
    {
      "cell_type": "code",
      "source": [
        "test_size = test_dataset.cardinality().numpy()    #Extrai a quantidade de imagens que será utilizada para o teste\n",
        "test_size                                         #Mostra a quantidade de imagens que iremos utilizar para o teste"
      ],
      "metadata": {
        "colab": {
          "base_uri": "https://localhost:8080/"
        },
        "id": "X0lPQpzVMxMx",
        "outputId": "e9c1c5cf-5363-4ab1-b630-8189b6a2166f"
      },
      "execution_count": 118,
      "outputs": [
        {
          "output_type": "execute_result",
          "data": {
            "text/plain": [
              "120"
            ]
          },
          "metadata": {},
          "execution_count": 118
        }
      ]
    },
    {
      "cell_type": "code",
      "source": [
        "#Será necessário alterar o conjunto de dados para o mesmo formado utilizado no treinamento.\n",
        "\n",
        "test_dataset = test_dataset.unbatch().batch(BATCH_SIZE)\n",
        "test_dataset = test_dataset.map(lambda images, labels: (pre_processing(images), labels))"
      ],
      "metadata": {
        "id": "V-advWyENUxD"
      },
      "execution_count": 119,
      "outputs": []
    },
    {
      "cell_type": "code",
      "source": [
        "model = tf.keras.Sequential([                                                              #Uma rede neural é composta por uma sequencia de camadas.\n",
        "                              tf.keras.layers.InputLayer(input_shape= image_size + (3,)),  #Entrada da imagens, o número 3 é devido a imagen ser colorida RGB\n",
        "                              hub.KerasLayer(model_path, trainable = False),               #Fazer o download do modelo, \"trainable = False\" isso significa que quando treinarmos a rede neural, não vamos treinar esses pesos que já estão armazenado no modelo do qual faremos o download.\n",
        "                              tf.keras.layers.Dropout(rate = 0.2),                         #Dropout: https://jmlr.org/papers/volume15/srivastava14a/srivastava14a.pdf\n",
        "                              tf.keras.layers.Dense(len(classes))                          #O quantidade de neurônios de sáida deverá ser a mesma quntidade de de classes\n",
        "])"
      ],
      "metadata": {
        "id": "UwnRGQnHaE1W"
      },
      "execution_count": 120,
      "outputs": []
    },
    {
      "cell_type": "code",
      "source": [
        "(None, ) + image_size + (3, )"
      ],
      "metadata": {
        "colab": {
          "base_uri": "https://localhost:8080/"
        },
        "id": "NH7WmQ-Hc8Yb",
        "outputId": "5ead4f24-30d9-4163-a99c-df2569760e66"
      },
      "execution_count": 121,
      "outputs": [
        {
          "output_type": "execute_result",
          "data": {
            "text/plain": [
              "(None, 260, 260, 3)"
            ]
          },
          "metadata": {},
          "execution_count": 121
        }
      ]
    },
    {
      "cell_type": "code",
      "source": [
        "model.build((None, )+ image_size + (3,))  #O primeiro parametro siginifica a quantidade de imagens que será enviada para o modelo, por isso começa \"vazia\".\n",
        "model.summary()"
      ],
      "metadata": {
        "colab": {
          "base_uri": "https://localhost:8080/"
        },
        "id": "jHclCDWIbQpj",
        "outputId": "91b322b0-8728-4396-9f9d-1c0dc780a4cd"
      },
      "execution_count": 122,
      "outputs": [
        {
          "output_type": "stream",
          "name": "stdout",
          "text": [
            "Model: \"sequential_5\"\n",
            "_________________________________________________________________\n",
            " Layer (type)                Output Shape              Param #   \n",
            "=================================================================\n",
            " keras_layer_2 (KerasLayer)  (None, 1408)              8769374   \n",
            "                                                                 \n",
            " dropout_2 (Dropout)         (None, 1408)              0         \n",
            "                                                                 \n",
            " dense_2 (Dense)             (None, 4)                 5636      \n",
            "                                                                 \n",
            "=================================================================\n",
            "Total params: 8775010 (33.47 MB)\n",
            "Trainable params: 5636 (22.02 KB)\n",
            "Non-trainable params: 8769374 (33.45 MB)\n",
            "_________________________________________________________________\n"
          ]
        }
      ]
    },
    {
      "cell_type": "code",
      "source": [
        "#Adam = O algoritmo Adaptive Movement Estimation, ou Adam, para abreviar, é uma extensão da descida gradiente e um sucessor natural de técnicas como AdaGrad e RMSProp que adapta\n",
        "#automaticamente uma taxa de aprendizagem para cada variável de entrada para a função objetivo e suaviza ainda mais o processo de pesquisa usando um exponencialmente.\n",
        "\n",
        "model.compile(optimizer='adam', loss=tf.keras.losses.CategoricalCrossentropy(from_logits=True), metrics = 'accuracy')"
      ],
      "metadata": {
        "id": "UslZiLBhcQJz"
      },
      "execution_count": 123,
      "outputs": []
    },
    {
      "cell_type": "code",
      "source": [
        "steps_per_epoch = training_size // BATCH_SIZE\n",
        "validation_steps = test_size // BATCH_SIZE\n",
        "print(steps_per_epoch, validation_steps)"
      ],
      "metadata": {
        "colab": {
          "base_uri": "https://localhost:8080/"
        },
        "id": "bOaUfPmMfszz",
        "outputId": "42cbd520-866f-4486-e4dc-d6b87844c4b5"
      },
      "execution_count": 124,
      "outputs": [
        {
          "output_type": "stream",
          "name": "stdout",
          "text": [
            "30 7\n"
          ]
        }
      ]
    },
    {
      "cell_type": "code",
      "source": [
        "#\"model.fir\" a rede neural começará a treinar, os pesos serão ajustados e vamos enviar o treino.\n",
        "#Epochs = Uma época é quando todos os dados de treinamento são usados ​​de uma vez e é definida como o número total de iterações de todos os dados de treinamento em um ciclo para treinar o modelo de aprendizado de máquina\n",
        "\n",
        "hist = model.fit(train_dataset, epochs= 15, steps_per_epoch = steps_per_epoch,\n",
        "                 validation_data = test_dataset, validation_steps = validation_steps).history"
      ],
      "metadata": {
        "colab": {
          "base_uri": "https://localhost:8080/"
        },
        "id": "Dz19yiGQgcLF",
        "outputId": "0281ea3f-3319-4b2f-9202-118c80d1c84f"
      },
      "execution_count": 125,
      "outputs": [
        {
          "output_type": "stream",
          "name": "stdout",
          "text": [
            "Epoch 1/15\n",
            "30/30 [==============================] - 166s 5s/step - loss: 1.6667 - accuracy: 0.4042 - val_loss: 1.0683 - val_accuracy: 0.5804\n",
            "Epoch 2/15\n",
            "30/30 [==============================] - 130s 4s/step - loss: 1.3698 - accuracy: 0.4817 - val_loss: 1.0773 - val_accuracy: 0.5536\n",
            "Epoch 3/15\n",
            "30/30 [==============================] - 134s 4s/step - loss: 1.2626 - accuracy: 0.5032 - val_loss: 0.9634 - val_accuracy: 0.5714\n",
            "Epoch 4/15\n",
            "30/30 [==============================] - 143s 5s/step - loss: 1.2271 - accuracy: 0.5247 - val_loss: 0.9442 - val_accuracy: 0.5804\n",
            "Epoch 5/15\n",
            "30/30 [==============================] - 128s 4s/step - loss: 1.2282 - accuracy: 0.5419 - val_loss: 0.9219 - val_accuracy: 0.5714\n",
            "Epoch 6/15\n",
            "30/30 [==============================] - 135s 5s/step - loss: 1.1967 - accuracy: 0.5355 - val_loss: 0.8899 - val_accuracy: 0.6339\n",
            "Epoch 7/15\n",
            "30/30 [==============================] - 145s 5s/step - loss: 1.2295 - accuracy: 0.5140 - val_loss: 0.9765 - val_accuracy: 0.5982\n",
            "Epoch 8/15\n",
            "30/30 [==============================] - 127s 4s/step - loss: 1.1450 - accuracy: 0.5892 - val_loss: 0.9443 - val_accuracy: 0.6250\n",
            "Epoch 9/15\n",
            "30/30 [==============================] - 129s 4s/step - loss: 1.1202 - accuracy: 0.5720 - val_loss: 0.8617 - val_accuracy: 0.6161\n",
            "Epoch 10/15\n",
            "30/30 [==============================] - 148s 5s/step - loss: 1.1015 - accuracy: 0.5613 - val_loss: 0.9466 - val_accuracy: 0.5625\n",
            "Epoch 11/15\n",
            "30/30 [==============================] - 128s 4s/step - loss: 1.0716 - accuracy: 0.5785 - val_loss: 0.8871 - val_accuracy: 0.6071\n",
            "Epoch 12/15\n",
            "30/30 [==============================] - 129s 4s/step - loss: 1.1011 - accuracy: 0.5763 - val_loss: 0.9994 - val_accuracy: 0.6071\n",
            "Epoch 13/15\n",
            "30/30 [==============================] - 142s 5s/step - loss: 1.0603 - accuracy: 0.5828 - val_loss: 1.0991 - val_accuracy: 0.6161\n",
            "Epoch 14/15\n",
            "30/30 [==============================] - 130s 4s/step - loss: 0.9940 - accuracy: 0.5892 - val_loss: 0.9859 - val_accuracy: 0.6250\n",
            "Epoch 15/15\n",
            "30/30 [==============================] - 135s 5s/step - loss: 1.0609 - accuracy: 0.5763 - val_loss: 1.0501 - val_accuracy: 0.6339\n"
          ]
        }
      ]
    },
    {
      "cell_type": "code",
      "source": [
        "plt.figure()                                                #O gráfico é interessante pois assim você consegue saber por quantas épocas será necessário treinar o modelo.\n",
        "plt.ylabel('Loss (training and validation)')\n",
        "plt.xlabel('Steps')\n",
        "plt.plot(hist['loss'], label = 'training')\n",
        "plt.plot(hist['val_loss'], label = 'testing')\n",
        "plt.legend();"
      ],
      "metadata": {
        "colab": {
          "base_uri": "https://localhost:8080/",
          "height": 452
        },
        "id": "RHyK4C7vllt-",
        "outputId": "394d5f27-827d-471c-b41d-fed1dcf503fa"
      },
      "execution_count": 126,
      "outputs": [
        {
          "output_type": "display_data",
          "data": {
            "text/plain": [
              "<Figure size 640x480 with 1 Axes>"
            ],
            "image/png": "[encoded data removed]"
          },
          "metadata": {}
        }
      ]
    },
    {
      "cell_type": "code",
      "source": [
        "plt.figure()\n",
        "plt.ylabel('Accuracy (training and validation)')\n",
        "plt.xlabel('Steps')\n",
        "plt.plot(hist['accuracy'], label = 'training')\n",
        "plt.plot(hist['val_accuracy'], label = 'testing')\n",
        "plt.legend();"
      ],
      "metadata": {
        "colab": {
          "base_uri": "https://localhost:8080/",
          "height": 449
        },
        "id": "I3I4V3ipnj5N",
        "outputId": "5ee3be13-13c7-43a6-8f63-6734462ff64a"
      },
      "execution_count": 127,
      "outputs": [
        {
          "output_type": "display_data",
          "data": {
            "text/plain": [
              "<Figure size 640x480 with 1 Axes>"
            ],
            "image/png": "[encoded data removed]"
          },
          "metadata": {}
        }
      ]
    },
    {
      "cell_type": "code",
      "source": [
        "#Criando duas variáveis, x e y: x = será o pixels da imagens e y = será o rotulo/etiqueta.\n",
        "#Precisamos usar a função \"Next\" para obter a próxima imagem.\n",
        "#iter é um parâmetro da função, é o iterador sobre o qual a iteração deve ser realizada.\n",
        "#O segundo paramêtro da função \"test_dataset\" será o valor padrão a ser impresso se chegarmos ao final do iterador.\n",
        "\n",
        "x, y = next(iter(test_dataset))\n"
      ],
      "metadata": {
        "id": "I4t4QJB4xpH2"
      },
      "execution_count": 128,
      "outputs": []
    },
    {
      "cell_type": "code",
      "source": [
        "#As informações abaixo são referente aos pixels das imagens\n",
        "\n",
        "x"
      ],
      "metadata": {
        "id": "FDrL2oegyJ0k",
        "outputId": "d371b462-635c-406a-8d28-fc7e70a1e981",
        "colab": {
          "base_uri": "https://localhost:8080/"
        }
      },
      "execution_count": 129,
      "outputs": [
        {
          "output_type": "execute_result",
          "data": {
            "text/plain": [
              "<tf.Tensor: shape=(16, 260, 260, 3), dtype=float32, numpy=\n",
              "array([[[[4.45446819e-01, 3.42311591e-01, 1.19740166e-01],\n",
              "         [4.39559370e-01, 3.39511454e-01, 1.15061097e-01],\n",
              "         [4.38844502e-01, 3.39102179e-01, 1.14186704e-01],\n",
              "         ...,\n",
              "         [6.14299858e-03, 1.42597582e-03, 2.59739370e-03],\n",
              "         [6.38184696e-03, 1.40744448e-03, 2.75679142e-03],\n",
              "         [7.67471641e-03, 1.15283602e-03, 3.64077184e-03]],\n",
              "\n",
              "        [[3.30530107e-01, 2.47285828e-01, 8.79796743e-02],\n",
              "         [3.42121333e-01, 2.66584247e-01, 9.22718793e-02],\n",
              "         [3.44910055e-01, 2.70619571e-01, 9.32843909e-02],\n",
              "         ...,\n",
              "         [7.37260981e-03, 1.59082981e-03, 3.78312916e-03],\n",
              "         [7.51166465e-03, 1.47003785e-03, 3.80105898e-03],\n",
              "         [8.07948504e-03, 7.39726354e-04, 3.70995235e-03]],\n",
              "\n",
              "        [[9.99942645e-02, 5.76286837e-02, 2.17711050e-02],\n",
              "         [1.26958817e-01, 8.94929916e-02, 3.15955915e-02],\n",
              "         [1.32460967e-01, 9.59062278e-02, 3.37375775e-02],\n",
              "         ...,\n",
              "         [6.56315032e-03, 2.09010742e-03, 3.84707144e-03],\n",
              "         [6.98609697e-03, 1.85117102e-03, 3.85537697e-03],\n",
              "         [9.24564153e-03, 5.70505974e-04, 3.82489082e-03]],\n",
              "\n",
              "        ...,\n",
              "\n",
              "        [[3.57394293e-03, 1.68197358e-03, 1.67377887e-03],\n",
              "         [1.56521786e-03, 6.66019798e-04, 6.69287634e-04],\n",
              "         [1.19490433e-03, 4.88553895e-04, 4.93835076e-04],\n",
              "         ...,\n",
              "         [7.63138477e-03, 2.19642068e-03, 3.71792144e-03],\n",
              "         [7.69102061e-03, 2.07386236e-03, 3.71646835e-03],\n",
              "         [7.94488844e-03, 1.28532271e-03, 3.73927807e-03]],\n",
              "\n",
              "        [[1.88010233e-03, 1.40025083e-03, 1.40159659e-03],\n",
              "         [6.46946253e-04, 3.45500681e-04, 4.57503076e-04],\n",
              "         [4.22628393e-04, 1.38653792e-04, 2.69615033e-04],\n",
              "         ...,\n",
              "         [8.87506269e-03, 1.04157638e-03, 3.83714680e-03],\n",
              "         [8.75529461e-03, 9.87483189e-04, 3.83383478e-03],\n",
              "         [8.01958051e-03, 5.78089152e-04, 3.82819795e-03]],\n",
              "\n",
              "        [[6.11367286e-04, 1.48296996e-04, 1.95996501e-04],\n",
              "         [1.18225417e-03, 3.55948396e-05, 6.17315643e-04],\n",
              "         [1.31602352e-03, 1.47824721e-05, 6.87913271e-04],\n",
              "         ...,\n",
              "         [8.64624046e-03, 8.63796624e-04, 3.92156886e-03],\n",
              "         [8.64024833e-03, 8.39048182e-04, 3.91690945e-03],\n",
              "         [8.46241787e-03, 7.63336779e-04, 3.85572668e-03]]],\n",
              "\n",
              "\n",
              "       [[[4.34633781e-04, 9.92388814e-04, 9.36609867e-04],\n",
              "         [6.73532137e-04, 1.04501785e-03, 1.00786693e-03],\n",
              "         [1.27253437e-03, 1.09636551e-03, 1.24938751e-03],\n",
              "         ...,\n",
              "         [3.11884301e-04, 7.83600728e-04, 6.78951328e-04],\n",
              "         [3.78886762e-04, 1.25912204e-03, 8.79983476e-04],\n",
              "         [5.76388324e-04, 1.21766073e-03, 7.48040853e-04]],\n",
              "\n",
              "        [[2.42600741e-04, 1.04706618e-03, 9.66614694e-04],\n",
              "         [9.02651111e-04, 1.43937417e-03, 1.38569856e-03],\n",
              "         [1.67686399e-03, 1.60648127e-03, 1.70932896e-03],\n",
              "         ...,\n",
              "         [4.08025633e-04, 5.35173109e-04, 5.04080846e-04],\n",
              "         [1.08680036e-03, 1.26591651e-03, 1.20434421e-03],\n",
              "         [1.33959099e-03, 1.38348772e-03, 1.32888067e-03]],\n",
              "\n",
              "        [[3.26494919e-04, 4.59281902e-04, 4.46002377e-04],\n",
              "         [9.56655887e-04, 1.04531215e-03, 1.03644596e-03],\n",
              "         [1.87349226e-03, 1.87186198e-03, 1.88339944e-03],\n",
              "         ...,\n",
              "         [8.87942588e-05, 1.19088392e-04, 9.15405253e-05],\n",
              "         [2.26295786e-04, 2.31685757e-04, 2.26295786e-04],\n",
              "         [2.61467474e-04, 2.61467474e-04, 2.61467474e-04]],\n",
              "\n",
              "        ...,\n",
              "\n",
              "        [[7.30047585e-04, 1.41086127e-03, 1.35129469e-03],\n",
              "         [9.63966071e-04, 1.30760856e-03, 1.27223344e-03],\n",
              "         [5.87828516e-04, 1.06908102e-03, 9.71751753e-04],\n",
              "         ...,\n",
              "         [1.00006851e-04, 9.58486926e-04, 1.07159151e-03],\n",
              "         [8.98914805e-05, 5.57821186e-04, 4.24470083e-04],\n",
              "         [1.55058588e-04, 4.29178705e-04, 1.55058588e-04]],\n",
              "\n",
              "        [[4.69122606e-04, 1.84027886e-03, 1.72542431e-03],\n",
              "         [2.27393946e-04, 8.83674482e-04, 8.17840104e-04],\n",
              "         [2.27782642e-04, 7.68989266e-04, 6.60198741e-04],\n",
              "         ...,\n",
              "         [1.85980389e-04, 5.09060221e-04, 5.15470630e-04],\n",
              "         [8.31266443e-05, 6.80733530e-04, 1.98031106e-04],\n",
              "         [1.58963870e-04, 9.33666131e-04, 1.58963870e-04]],\n",
              "\n",
              "        [[9.77649237e-04, 9.73912305e-04, 9.77909542e-04],\n",
              "         [8.85998248e-04, 8.71962053e-04, 8.86477996e-04],\n",
              "         [7.81279290e-04, 7.67358113e-04, 7.81668583e-04],\n",
              "         ...,\n",
              "         [6.04166999e-04, 6.05983601e-04, 6.04166999e-04],\n",
              "         [6.98789430e-04, 7.68789614e-04, 6.98789430e-04],\n",
              "         [8.34635983e-04, 9.49050009e-04, 8.34635983e-04]]],\n",
              "\n",
              "\n",
              "       [[[8.88580049e-04, 1.54034444e-03, 1.54304667e-03],\n",
              "         [4.58137743e-04, 1.07382087e-03, 1.07805221e-03],\n",
              "         [5.39449800e-04, 7.63554650e-04, 6.80400175e-04],\n",
              "         ...,\n",
              "         [3.12320772e-04, 4.27534920e-04, 3.96388990e-04],\n",
              "         [6.52309565e-04, 8.96874291e-04, 8.88115261e-04],\n",
              "         [1.09476293e-03, 1.32649671e-03, 1.32634712e-03]],\n",
              "\n",
              "        [[1.17898313e-03, 1.80330116e-03, 1.83172082e-03],\n",
              "         [4.83652722e-04, 1.22315262e-03, 1.26765517e-03],\n",
              "         [2.33254978e-04, 5.75731334e-04, 5.92759403e-04],\n",
              "         ...,\n",
              "         [1.10638887e-03, 1.36126089e-03, 1.35841512e-03],\n",
              "         [1.21824385e-03, 1.91487081e-03, 1.91407057e-03],\n",
              "         [1.20812096e-03, 1.87402370e-03, 1.87401008e-03]],\n",
              "\n",
              "        [[9.55387659e-04, 1.66861748e-03, 1.78695295e-03],\n",
              "         [6.15321042e-04, 1.48943998e-03, 1.67320843e-03],\n",
              "         [5.88848314e-04, 1.00510928e-03, 1.10723765e-03],\n",
              "         ...,\n",
              "         [1.54179346e-03, 1.77833962e-03, 1.77833962e-03],\n",
              "         [1.65227382e-03, 2.32851156e-03, 2.30304617e-03],\n",
              "         [1.52269623e-03, 2.26016343e-03, 2.15450116e-03]],\n",
              "\n",
              "        ...,\n",
              "\n",
              "        [[1.65423623e-03, 1.89594016e-03, 1.89526728e-03],\n",
              "         [1.85835245e-03, 1.92319369e-03, 1.92228891e-03],\n",
              "         [2.11953558e-03, 2.05715047e-03, 2.05655303e-03],\n",
              "         ...,\n",
              "         [1.00477599e-03, 1.00477599e-03, 1.00477599e-03],\n",
              "         [4.85318131e-04, 4.85318131e-04, 4.85318131e-04],\n",
              "         [1.86477366e-04, 2.27385317e-04, 2.27385317e-04]],\n",
              "\n",
              "        [[1.62088126e-03, 1.91249244e-03, 1.91249244e-03],\n",
              "         [1.65633555e-03, 1.80806278e-03, 1.80756999e-03],\n",
              "         [1.62936491e-03, 1.74653821e-03, 1.74597919e-03],\n",
              "         ...,\n",
              "         [1.77047984e-03, 1.78350741e-03, 1.77047984e-03],\n",
              "         [1.09359913e-03, 1.09930756e-03, 1.09359913e-03],\n",
              "         [5.52160374e-04, 6.22111373e-04, 6.21399668e-04]],\n",
              "\n",
              "        [[1.44562591e-03, 1.66608545e-03, 1.66608545e-03],\n",
              "         [1.64536329e-03, 1.87955156e-03, 1.87415781e-03],\n",
              "         [1.49032229e-03, 1.97720225e-03, 1.97108346e-03],\n",
              "         ...,\n",
              "         [1.64417410e-03, 1.78675749e-03, 1.64417410e-03],\n",
              "         [1.29084848e-03, 1.35332602e-03, 1.29084848e-03],\n",
              "         [8.64393718e-04, 8.78766587e-04, 8.70977587e-04]]],\n",
              "\n",
              "\n",
              "       ...,\n",
              "\n",
              "\n",
              "       [[[2.46594893e-04, 1.38213625e-03, 2.46591691e-04],\n",
              "         [4.52789427e-05, 2.92860233e-04, 4.52489076e-05],\n",
              "         [4.27036497e-07, 6.19545608e-05, 3.28456338e-07],\n",
              "         ...,\n",
              "         [1.93638075e-03, 1.93638075e-03, 1.93638075e-03],\n",
              "         [8.07933859e-04, 8.07933859e-04, 8.07933859e-04],\n",
              "         [3.02630535e-04, 3.02630535e-04, 3.02630535e-04]],\n",
              "\n",
              "        [[1.08614782e-04, 2.62494112e-04, 1.08515764e-04],\n",
              "         [9.02302304e-07, 2.75887578e-04, 5.39799316e-09],\n",
              "         [1.20204695e-05, 4.46627470e-04, 9.14632983e-06],\n",
              "         ...,\n",
              "         [1.41131645e-03, 1.41143706e-03, 1.41138048e-03],\n",
              "         [1.61202205e-03, 1.61203661e-03, 1.61202974e-03],\n",
              "         [1.37979502e-03, 1.37979502e-03, 1.37979502e-03]],\n",
              "\n",
              "        [[6.13157463e-04, 7.92692590e-04, 6.12272939e-04],\n",
              "         [9.03052205e-06, 9.43291234e-04, 1.40774955e-06],\n",
              "         [9.24965352e-05, 1.50152668e-03, 6.89913722e-05],\n",
              "         ...,\n",
              "         [1.23588997e-03, 1.23917579e-03, 1.23763399e-03],\n",
              "         [1.25220534e-03, 1.25270616e-03, 1.25247124e-03],\n",
              "         [6.31058414e-04, 6.31058414e-04, 6.31058414e-04]],\n",
              "\n",
              "        ...,\n",
              "\n",
              "        [[6.39160862e-04, 8.03929928e-04, 1.08142570e-03],\n",
              "         [6.02127169e-04, 7.67647580e-04, 1.02885929e-03],\n",
              "         [6.42828585e-04, 6.18176011e-04, 5.85286121e-04],\n",
              "         ...,\n",
              "         [3.15516314e-04, 3.15833400e-04, 3.15589597e-04],\n",
              "         [1.11366110e-03, 1.11378054e-03, 1.11366110e-03],\n",
              "         [1.34669209e-03, 1.34669698e-03, 1.34669209e-03]],\n",
              "\n",
              "        [[4.25227889e-04, 7.00165576e-04, 9.86570609e-04],\n",
              "         [4.36846691e-04, 1.45780819e-03, 1.56812824e-03],\n",
              "         [9.34517448e-05, 1.98578555e-03, 8.62872927e-04],\n",
              "         ...,\n",
              "         [2.43788862e-04, 2.64533621e-04, 2.56211264e-04],\n",
              "         [4.41584474e-04, 4.45653743e-04, 4.41584474e-04],\n",
              "         [4.50929161e-04, 4.51086788e-04, 4.50929161e-04]],\n",
              "\n",
              "        [[8.52736703e-05, 4.92375169e-04, 7.25734222e-04],\n",
              "         [8.51467776e-05, 1.46379578e-03, 1.22819969e-03],\n",
              "         [1.56138354e-04, 1.97570049e-03, 8.11759848e-04],\n",
              "         ...,\n",
              "         [2.77927087e-04, 6.24728040e-04, 6.16673613e-04],\n",
              "         [6.60044781e-04, 6.63683692e-04, 6.60044781e-04],\n",
              "         [8.07846955e-04, 8.07611330e-04, 8.07761273e-04]]],\n",
              "\n",
              "\n",
              "       [[[6.95540744e-04, 6.95540744e-04, 6.95540744e-04],\n",
              "         [8.19988272e-05, 8.19988272e-05, 8.19988272e-05],\n",
              "         [4.66014217e-06, 4.66014217e-06, 4.66014217e-06],\n",
              "         ...,\n",
              "         [1.37759410e-02, 1.78100029e-03, 8.34619626e-03],\n",
              "         [1.23130241e-02, 6.79102843e-04, 5.89641556e-03],\n",
              "         [1.21787870e-02, 5.98103274e-04, 7.09315203e-03]],\n",
              "\n",
              "        [[1.28794301e-04, 1.28794301e-04, 1.28794301e-04],\n",
              "         [1.43239677e-05, 1.43239677e-05, 1.43239677e-05],\n",
              "         [8.14057046e-07, 8.14057046e-07, 8.14057046e-07],\n",
              "         ...,\n",
              "         [5.84334992e-02, 3.40566635e-02, 2.20055841e-02],\n",
              "         [4.25302684e-02, 2.05848720e-02, 1.77634731e-02],\n",
              "         [3.30113247e-02, 1.48448274e-02, 1.80625599e-02]],\n",
              "\n",
              "        [[3.21672337e-06, 3.21672337e-06, 3.21672337e-06],\n",
              "         [3.00092688e-06, 3.00092688e-06, 3.00092688e-06],\n",
              "         [1.97358222e-05, 1.97358222e-05, 1.97358222e-05],\n",
              "         ...,\n",
              "         [2.06607461e-01, 1.52049467e-01, 7.76157305e-02],\n",
              "         [1.70642212e-01, 1.18087023e-01, 6.85906261e-02],\n",
              "         [1.48574963e-01, 1.02025241e-01, 6.35181889e-02]],\n",
              "\n",
              "        ...,\n",
              "\n",
              "        [[1.17647070e-02, 0.00000000e+00, 3.92156886e-03],\n",
              "         [1.17647070e-02, 0.00000000e+00, 3.92156886e-03],\n",
              "         [1.17647070e-02, 0.00000000e+00, 3.92156886e-03],\n",
              "         ...,\n",
              "         [1.32748232e-06, 1.32748232e-06, 1.32748232e-06],\n",
              "         [1.30496092e-05, 1.30496092e-05, 1.30496092e-05],\n",
              "         [3.82866201e-05, 3.82866201e-05, 3.82866201e-05]],\n",
              "\n",
              "        [[1.17647070e-02, 0.00000000e+00, 3.92156886e-03],\n",
              "         [1.17647070e-02, 0.00000000e+00, 3.92156886e-03],\n",
              "         [1.17647070e-02, 0.00000000e+00, 3.92156886e-03],\n",
              "         ...,\n",
              "         [6.26172891e-07, 6.26172891e-07, 6.26172891e-07],\n",
              "         [7.07282015e-06, 7.07282015e-06, 7.07282015e-06],\n",
              "         [2.36712094e-05, 2.36712094e-05, 2.36712094e-05]],\n",
              "\n",
              "        [[1.17647070e-02, 0.00000000e+00, 3.92156886e-03],\n",
              "         [1.17647070e-02, 0.00000000e+00, 3.92156886e-03],\n",
              "         [1.17647070e-02, 0.00000000e+00, 3.92156886e-03],\n",
              "         ...,\n",
              "         [1.69606498e-08, 1.69606498e-08, 1.69606498e-08],\n",
              "         [1.91575879e-07, 1.91575879e-07, 1.91575879e-07],\n",
              "         [7.67733866e-07, 7.67733866e-07, 7.67733866e-07]]],\n",
              "\n",
              "\n",
              "       [[[2.15179811e-04, 2.50936428e-04, 2.45924632e-04],\n",
              "         [3.38037236e-04, 5.00970171e-04, 4.62364173e-04],\n",
              "         [5.63409936e-04, 1.26816961e-03, 1.02046819e-03],\n",
              "         ...,\n",
              "         [7.71607757e-01, 6.30910039e-01, 4.13509607e-01],\n",
              "         [7.73991704e-01, 6.29655838e-01, 4.11838651e-01],\n",
              "         [7.75742769e-01, 6.28469229e-01, 4.12007242e-01]],\n",
              "\n",
              "        [[5.94348588e-04, 9.90711153e-04, 9.49714042e-04],\n",
              "         [6.69972505e-04, 1.81642058e-03, 1.56327826e-03],\n",
              "         [2.88700045e-04, 1.86876452e-03, 1.44228397e-03],\n",
              "         ...,\n",
              "         [7.75380373e-01, 6.31046116e-01, 4.12585974e-01],\n",
              "         [7.77901590e-01, 6.31347895e-01, 4.11840081e-01],\n",
              "         [7.79591680e-01, 6.28946424e-01, 4.13646877e-01]],\n",
              "\n",
              "        [[6.03156863e-04, 1.16506766e-03, 1.12470123e-03],\n",
              "         [5.52557991e-04, 1.98061252e-03, 1.62358070e-03],\n",
              "         [4.27951862e-04, 2.37990986e-03, 1.79110724e-03],\n",
              "         ...,\n",
              "         [7.77011514e-01, 6.33274257e-01, 4.12565053e-01],\n",
              "         [7.81315446e-01, 6.33977771e-01, 4.14649189e-01],\n",
              "         [7.81090140e-01, 6.31142676e-01, 4.13223267e-01]],\n",
              "\n",
              "        ...,\n",
              "\n",
              "        [[3.34196072e-03, 3.31254397e-03, 2.74926890e-03],\n",
              "         [4.47868258e-02, 3.07521895e-02, 1.40247215e-02],\n",
              "         [3.00677210e-01, 2.31406614e-01, 1.11124299e-01],\n",
              "         ...,\n",
              "         [9.96803050e-04, 1.53350807e-03, 1.50324067e-03],\n",
              "         [6.17862213e-04, 8.27573938e-04, 7.35242153e-04],\n",
              "         [1.04013237e-03, 1.17081474e-03, 1.08264014e-03]],\n",
              "\n",
              "        [[1.51042081e-03, 1.77732285e-03, 1.73437234e-03],\n",
              "         [1.47130368e-02, 8.96804966e-03, 5.92478458e-03],\n",
              "         [1.86818734e-01, 1.37380630e-01, 5.70554808e-02],\n",
              "         ...,\n",
              "         [6.05765788e-04, 9.10920964e-04, 9.10920964e-04],\n",
              "         [4.31024033e-04, 4.81879688e-04, 4.81705181e-04],\n",
              "         [1.06698158e-03, 1.16943463e-03, 1.16500538e-03]],\n",
              "\n",
              "        [[1.64203194e-03, 2.39750068e-03, 2.08472298e-03],\n",
              "         [5.14577609e-03, 5.24025597e-03, 4.39817645e-03],\n",
              "         [8.59636962e-02, 6.47441447e-02, 2.80669648e-02],\n",
              "         ...,\n",
              "         [1.13340473e-04, 1.81712094e-04, 1.40428936e-04],\n",
              "         [1.11544068e-04, 1.98572001e-04, 1.91781146e-04],\n",
              "         [2.39460744e-04, 5.43922477e-04, 4.51921223e-04]]]],\n",
              "      dtype=float32)>"
            ]
          },
          "metadata": {},
          "execution_count": 129
        }
      ]
    },
    {
      "cell_type": "code",
      "source": [
        "#Em cada lote tem 16 imagens, de 260x260 pixels coloridas(RGB).\n",
        "\n",
        "x.shape"
      ],
      "metadata": {
        "id": "jDlT6hPMx4jv",
        "outputId": "d358c2d4-3f5a-45b1-cfbb-3a3839a2e7f0",
        "colab": {
          "base_uri": "https://localhost:8080/"
        }
      },
      "execution_count": 130,
      "outputs": [
        {
          "output_type": "execute_result",
          "data": {
            "text/plain": [
              "TensorShape([16, 260, 260, 3])"
            ]
          },
          "metadata": {},
          "execution_count": 130
        }
      ]
    },
    {
      "cell_type": "code",
      "source": [
        "#as linhas são referente as imagens no lote e as colunas são referente as classes.\n",
        "\n",
        "y"
      ],
      "metadata": {
        "id": "OZdnCjnvyNIu",
        "outputId": "ff4f9001-2898-4fe3-d373-5aa5b5d89876",
        "colab": {
          "base_uri": "https://localhost:8080/"
        }
      },
      "execution_count": 131,
      "outputs": [
        {
          "output_type": "execute_result",
          "data": {
            "text/plain": [
              "<tf.Tensor: shape=(16, 4), dtype=float32, numpy=\n",
              "array([[0., 1., 0., 0.],\n",
              "       [1., 0., 0., 0.],\n",
              "       [0., 0., 1., 0.],\n",
              "       [0., 0., 1., 0.],\n",
              "       [0., 1., 0., 0.],\n",
              "       [0., 1., 0., 0.],\n",
              "       [0., 1., 0., 0.],\n",
              "       [0., 0., 0., 1.],\n",
              "       [0., 1., 0., 0.],\n",
              "       [0., 1., 0., 0.],\n",
              "       [0., 0., 1., 0.],\n",
              "       [0., 1., 0., 0.],\n",
              "       [0., 0., 1., 0.],\n",
              "       [0., 1., 0., 0.],\n",
              "       [1., 0., 0., 0.],\n",
              "       [0., 1., 0., 0.]], dtype=float32)>"
            ]
          },
          "metadata": {},
          "execution_count": 131
        }
      ]
    },
    {
      "cell_type": "code",
      "source": [
        "#Em cada lote tem 16 imagens com duas classes possíevis.\n",
        "\n",
        "y.shape"
      ],
      "metadata": {
        "id": "lw3HTGfpyBKr",
        "outputId": "ee4481d5-39b2-4a82-9442-aceb62752499",
        "colab": {
          "base_uri": "https://localhost:8080/"
        }
      },
      "execution_count": 132,
      "outputs": [
        {
          "output_type": "execute_result",
          "data": {
            "text/plain": [
              "TensorShape([16, 4])"
            ]
          },
          "metadata": {},
          "execution_count": 132
        }
      ]
    },
    {
      "cell_type": "code",
      "source": [
        "#Para classificar a imagem, o 1° parametro é a possição da imagem, 2° e 3° são os pixels e o 4° é referente ao canal de cores.\n",
        "\n",
        "image = x[0, :, :, :]\n",
        "image"
      ],
      "metadata": {
        "id": "_56kvDTuySeZ",
        "outputId": "99f60445-ca93-46ae-fe60-9b63916c1a40",
        "colab": {
          "base_uri": "https://localhost:8080/"
        }
      },
      "execution_count": 133,
      "outputs": [
        {
          "output_type": "execute_result",
          "data": {
            "text/plain": [
              "<tf.Tensor: shape=(260, 260, 3), dtype=float32, numpy=\n",
              "array([[[4.45446819e-01, 3.42311591e-01, 1.19740166e-01],\n",
              "        [4.39559370e-01, 3.39511454e-01, 1.15061097e-01],\n",
              "        [4.38844502e-01, 3.39102179e-01, 1.14186704e-01],\n",
              "        ...,\n",
              "        [6.14299858e-03, 1.42597582e-03, 2.59739370e-03],\n",
              "        [6.38184696e-03, 1.40744448e-03, 2.75679142e-03],\n",
              "        [7.67471641e-03, 1.15283602e-03, 3.64077184e-03]],\n",
              "\n",
              "       [[3.30530107e-01, 2.47285828e-01, 8.79796743e-02],\n",
              "        [3.42121333e-01, 2.66584247e-01, 9.22718793e-02],\n",
              "        [3.44910055e-01, 2.70619571e-01, 9.32843909e-02],\n",
              "        ...,\n",
              "        [7.37260981e-03, 1.59082981e-03, 3.78312916e-03],\n",
              "        [7.51166465e-03, 1.47003785e-03, 3.80105898e-03],\n",
              "        [8.07948504e-03, 7.39726354e-04, 3.70995235e-03]],\n",
              "\n",
              "       [[9.99942645e-02, 5.76286837e-02, 2.17711050e-02],\n",
              "        [1.26958817e-01, 8.94929916e-02, 3.15955915e-02],\n",
              "        [1.32460967e-01, 9.59062278e-02, 3.37375775e-02],\n",
              "        ...,\n",
              "        [6.56315032e-03, 2.09010742e-03, 3.84707144e-03],\n",
              "        [6.98609697e-03, 1.85117102e-03, 3.85537697e-03],\n",
              "        [9.24564153e-03, 5.70505974e-04, 3.82489082e-03]],\n",
              "\n",
              "       ...,\n",
              "\n",
              "       [[3.57394293e-03, 1.68197358e-03, 1.67377887e-03],\n",
              "        [1.56521786e-03, 6.66019798e-04, 6.69287634e-04],\n",
              "        [1.19490433e-03, 4.88553895e-04, 4.93835076e-04],\n",
              "        ...,\n",
              "        [7.63138477e-03, 2.19642068e-03, 3.71792144e-03],\n",
              "        [7.69102061e-03, 2.07386236e-03, 3.71646835e-03],\n",
              "        [7.94488844e-03, 1.28532271e-03, 3.73927807e-03]],\n",
              "\n",
              "       [[1.88010233e-03, 1.40025083e-03, 1.40159659e-03],\n",
              "        [6.46946253e-04, 3.45500681e-04, 4.57503076e-04],\n",
              "        [4.22628393e-04, 1.38653792e-04, 2.69615033e-04],\n",
              "        ...,\n",
              "        [8.87506269e-03, 1.04157638e-03, 3.83714680e-03],\n",
              "        [8.75529461e-03, 9.87483189e-04, 3.83383478e-03],\n",
              "        [8.01958051e-03, 5.78089152e-04, 3.82819795e-03]],\n",
              "\n",
              "       [[6.11367286e-04, 1.48296996e-04, 1.95996501e-04],\n",
              "        [1.18225417e-03, 3.55948396e-05, 6.17315643e-04],\n",
              "        [1.31602352e-03, 1.47824721e-05, 6.87913271e-04],\n",
              "        ...,\n",
              "        [8.64624046e-03, 8.63796624e-04, 3.92156886e-03],\n",
              "        [8.64024833e-03, 8.39048182e-04, 3.91690945e-03],\n",
              "        [8.46241787e-03, 7.63336779e-04, 3.85572668e-03]]], dtype=float32)>"
            ]
          },
          "metadata": {},
          "execution_count": 133
        }
      ]
    },
    {
      "cell_type": "code",
      "source": [
        "y_true = y[0]  #Selecionando a imagem que está na posição 3\n",
        "y_true"
      ],
      "metadata": {
        "id": "v-CpvYDhgW0w",
        "outputId": "c7591713-456d-42d2-d5ce-01060af17e50",
        "colab": {
          "base_uri": "https://localhost:8080/"
        }
      },
      "execution_count": 134,
      "outputs": [
        {
          "output_type": "execute_result",
          "data": {
            "text/plain": [
              "<tf.Tensor: shape=(4,), dtype=float32, numpy=array([0., 1., 0., 0.], dtype=float32)>"
            ]
          },
          "metadata": {},
          "execution_count": 134
        }
      ]
    },
    {
      "cell_type": "code",
      "source": [
        "y_true = np.argmax(y[0]) #np.argmax irá retonar a posição do maior valor no conjunto de array.\n",
        "y_true"
      ],
      "metadata": {
        "id": "C6Ph6aIby1fM",
        "outputId": "83fa5101-1939-4e7d-87f8-ab215ac25d76",
        "colab": {
          "base_uri": "https://localhost:8080/"
        }
      },
      "execution_count": 135,
      "outputs": [
        {
          "output_type": "execute_result",
          "data": {
            "text/plain": [
              "1"
            ]
          },
          "metadata": {},
          "execution_count": 135
        }
      ]
    },
    {
      "cell_type": "code",
      "source": [
        "classes[1] #a classe referente a posição 2 é o Glaucoma."
      ],
      "metadata": {
        "id": "lkZZmS-7y9Xk",
        "outputId": "b2b7b9fe-a079-49e6-bd50-fe566c8b5909",
        "colab": {
          "base_uri": "https://localhost:8080/",
          "height": 36
        }
      },
      "execution_count": 136,
      "outputs": [
        {
          "output_type": "execute_result",
          "data": {
            "text/plain": [
              "'2_cataract'"
            ],
            "application/vnd.google.colaboratory.intrinsic+json": {
              "type": "string"
            }
          },
          "metadata": {},
          "execution_count": 136
        }
      ]
    },
    {
      "cell_type": "code",
      "source": [
        "plt.imshow(image)\n",
        "plt.axis('off');"
      ],
      "metadata": {
        "id": "WHjoB4D6zA_N",
        "outputId": "1d34a8d3-3970-4ab7-8dd0-1613de6469b2",
        "colab": {
          "base_uri": "https://localhost:8080/",
          "height": 406
        }
      },
      "execution_count": 137,
      "outputs": [
        {
          "output_type": "display_data",
          "data": {
            "text/plain": [
              "<Figure size 640x480 with 1 Axes>"
            ],
            "image/png": "[encoded data removed]"
          },
          "metadata": {}
        }
      ]
    },
    {
      "cell_type": "code",
      "source": [
        "image.shape #Formato da imagem 1° e 2° = dimensão da imagem e 3° canal de cores."
      ],
      "metadata": {
        "id": "NLJKNhMpzP68",
        "outputId": "c505295b-d801-40f6-caaf-570fc034cebe",
        "colab": {
          "base_uri": "https://localhost:8080/"
        }
      },
      "execution_count": 138,
      "outputs": [
        {
          "output_type": "execute_result",
          "data": {
            "text/plain": [
              "TensorShape([260, 260, 3])"
            ]
          },
          "metadata": {},
          "execution_count": 138
        }
      ]
    },
    {
      "cell_type": "code",
      "source": [
        "image = np.expand_dims(image, axis = 0) #Para enviar para a rede neural, precisamos converter esse formato para o formato em lote.\n",
        "image.shape"
      ],
      "metadata": {
        "id": "SHzI37nIzUXF",
        "outputId": "cf0d8035-435a-46de-a759-231288abe779",
        "colab": {
          "base_uri": "https://localhost:8080/"
        }
      },
      "execution_count": 139,
      "outputs": [
        {
          "output_type": "execute_result",
          "data": {
            "text/plain": [
              "(1, 260, 260, 3)"
            ]
          },
          "metadata": {},
          "execution_count": 139
        }
      ]
    },
    {
      "cell_type": "code",
      "source": [
        "prediction = model.predict(image)\n",
        "prediction"
      ],
      "metadata": {
        "id": "3poymBoxziQ8",
        "outputId": "691ca99b-f7f1-4f09-ac21-1341d13c3706",
        "colab": {
          "base_uri": "https://localhost:8080/"
        }
      },
      "execution_count": 140,
      "outputs": [
        {
          "output_type": "stream",
          "name": "stdout",
          "text": [
            "1/1 [==============================] - 2s 2s/step\n"
          ]
        },
        {
          "output_type": "execute_result",
          "data": {
            "text/plain": [
              "array([[-0.53678143,  1.4775592 , -2.8825345 , -0.97751606]],\n",
              "      dtype=float32)"
            ]
          },
          "metadata": {},
          "execution_count": 140
        }
      ]
    },
    {
      "cell_type": "code",
      "source": [
        "prediction = np.argmax(prediction) #Fazendo a classificação da imagem\n",
        "prediction"
      ],
      "metadata": {
        "id": "hNHEbWqqzres",
        "outputId": "d5a50585-4af2-46a3-f7b9-d4cdd9389d02",
        "colab": {
          "base_uri": "https://localhost:8080/"
        }
      },
      "execution_count": 141,
      "outputs": [
        {
          "output_type": "execute_result",
          "data": {
            "text/plain": [
              "1"
            ]
          },
          "metadata": {},
          "execution_count": 141
        }
      ]
    },
    {
      "cell_type": "code",
      "source": [
        "classes[1]"
      ],
      "metadata": {
        "colab": {
          "base_uri": "https://localhost:8080/",
          "height": 36
        },
        "id": "2C0-2xXRLSzD",
        "outputId": "fc3fc44e-074e-4115-acf7-a861b69662d8"
      },
      "execution_count": 142,
      "outputs": [
        {
          "output_type": "execute_result",
          "data": {
            "text/plain": [
              "'2_cataract'"
            ],
            "application/vnd.google.colaboratory.intrinsic+json": {
              "type": "string"
            }
          },
          "metadata": {},
          "execution_count": 142
        }
      ]
    },
    {
      "cell_type": "code",
      "source": [],
      "metadata": {
        "id": "mjsEPr-n0NcE"
      },
      "execution_count": null,
      "outputs": []
    },
    {
      "cell_type": "code",
      "source": [],
      "metadata": {
        "id": "7kAzh2zGz8MV"
      },
      "execution_count": null,
      "outputs": []
    },
    {
      "cell_type": "markdown",
      "source": [],
      "metadata": {
        "id": "P9vhCU7DzPRd"
      }
    },
    {
      "cell_type": "markdown",
      "source": [],
      "metadata": {
        "id": "KqvYuQ_gx4bD"
      }
    }
  ]
}